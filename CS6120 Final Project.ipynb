{
 "cells": [
  {
   "cell_type": "markdown",
   "source": [
    "# Group 32 Final Project\n",
    "\n",
    "* Group members:"
   ],
   "metadata": {
    "collapsed": false
   }
  },
  {
   "cell_type": "markdown",
   "source": [
    "### Preparation\n",
    "\n",
    "Load libraries and dataset."
   ],
   "metadata": {
    "collapsed": false
   }
  },
  {
   "cell_type": "code",
   "execution_count": 1,
   "outputs": [],
   "source": [
    "# Libraries\n",
    "import pandas as pd\n",
    "import numpy as np\n",
    "import re\n",
    "import nltk\n",
    "from nltk.corpus import stopwords\n",
    "from nltk.stem import PorterStemmer\n",
    "from nltk.tokenize import word_tokenize\n",
    "import warnings\n",
    "\n",
    "import matplotlib.pyplot as plt\n",
    "import seaborn as sns\n",
    "\n",
    "warnings.filterwarnings(\"ignore\")"
   ],
   "metadata": {
    "collapsed": false,
    "pycharm": {
     "name": "#%%\n"
    }
   }
  },
  {
   "cell_type": "code",
   "execution_count": 2,
   "outputs": [],
   "source": [
    "# Load data as Data Frame - unicode_escape\n",
    "df = pd.read_csv(\"News Sentiment Analysis for Stock Data by Company.csv\", encoding=\"latin-1\")"
   ],
   "metadata": {
    "collapsed": false,
    "pycharm": {
     "name": "#%%\n"
    }
   }
  },
  {
   "cell_type": "code",
   "execution_count": 2,
   "outputs": [],
   "source": [],
   "metadata": {
    "collapsed": false,
    "pycharm": {
     "name": "#%%\n"
    }
   }
  },
  {
   "cell_type": "markdown",
   "source": [
    "## Quick View of the Data Set\n",
    "\n",
    "Whether there is empty data in our data set."
   ],
   "metadata": {
    "collapsed": false
   }
  },
  {
   "cell_type": "code",
   "execution_count": 3,
   "outputs": [
    {
     "data": {
      "text/plain": "       Label Ticker                                           Headline\n0          0      A  @TotesTravel : Airline shares tumble as New Yo...\n1          1      A  @TotesTravel : American United call off Hong K...\n2          0      A  @TotesTravel : U.S. airline stocks hit highest...\n3          1      A  @TotesTravel : American Airlines reaches deal ...\n4          1      A  @TotesTravel : US airlines Treasury Department...\n...      ...    ...                                                ...\n15557      0    WMT  Walmart dumps e-cigarettes: Largest store in U...\n15558      0    WMT  Walmart makes a $16 billion bet on India's boo...\n15559      0    WMT  Walmart raises minimum age to buy tobacco to 2...\n15560      0    WMT  Walmart Took Over Chile In Only Three Years An...\n15561      2    WMT  Carla Cheney: Walmart Fired Me For Reporting D...\n\n[15562 rows x 3 columns]",
      "text/html": "<div>\n<style scoped>\n    .dataframe tbody tr th:only-of-type {\n        vertical-align: middle;\n    }\n\n    .dataframe tbody tr th {\n        vertical-align: top;\n    }\n\n    .dataframe thead th {\n        text-align: right;\n    }\n</style>\n<table border=\"1\" class=\"dataframe\">\n  <thead>\n    <tr style=\"text-align: right;\">\n      <th></th>\n      <th>Label</th>\n      <th>Ticker</th>\n      <th>Headline</th>\n    </tr>\n  </thead>\n  <tbody>\n    <tr>\n      <th>0</th>\n      <td>0</td>\n      <td>A</td>\n      <td>@TotesTravel : Airline shares tumble as New Yo...</td>\n    </tr>\n    <tr>\n      <th>1</th>\n      <td>1</td>\n      <td>A</td>\n      <td>@TotesTravel : American United call off Hong K...</td>\n    </tr>\n    <tr>\n      <th>2</th>\n      <td>0</td>\n      <td>A</td>\n      <td>@TotesTravel : U.S. airline stocks hit highest...</td>\n    </tr>\n    <tr>\n      <th>3</th>\n      <td>1</td>\n      <td>A</td>\n      <td>@TotesTravel : American Airlines reaches deal ...</td>\n    </tr>\n    <tr>\n      <th>4</th>\n      <td>1</td>\n      <td>A</td>\n      <td>@TotesTravel : US airlines Treasury Department...</td>\n    </tr>\n    <tr>\n      <th>...</th>\n      <td>...</td>\n      <td>...</td>\n      <td>...</td>\n    </tr>\n    <tr>\n      <th>15557</th>\n      <td>0</td>\n      <td>WMT</td>\n      <td>Walmart dumps e-cigarettes: Largest store in U...</td>\n    </tr>\n    <tr>\n      <th>15558</th>\n      <td>0</td>\n      <td>WMT</td>\n      <td>Walmart makes a $16 billion bet on India's boo...</td>\n    </tr>\n    <tr>\n      <th>15559</th>\n      <td>0</td>\n      <td>WMT</td>\n      <td>Walmart raises minimum age to buy tobacco to 2...</td>\n    </tr>\n    <tr>\n      <th>15560</th>\n      <td>0</td>\n      <td>WMT</td>\n      <td>Walmart Took Over Chile In Only Three Years An...</td>\n    </tr>\n    <tr>\n      <th>15561</th>\n      <td>2</td>\n      <td>WMT</td>\n      <td>Carla Cheney: Walmart Fired Me For Reporting D...</td>\n    </tr>\n  </tbody>\n</table>\n<p>15562 rows × 3 columns</p>\n</div>"
     },
     "execution_count": 3,
     "metadata": {},
     "output_type": "execute_result"
    }
   ],
   "source": [
    "df"
   ],
   "metadata": {
    "collapsed": false,
    "pycharm": {
     "name": "#%%\n"
    }
   }
  },
  {
   "cell_type": "code",
   "execution_count": 4,
   "outputs": [
    {
     "name": "stdout",
     "output_type": "stream",
     "text": [
      "The column Label has 0 empty data.\n",
      "The column Ticker has 0 empty data.\n",
      "The column Headline has 0 empty data.\n"
     ]
    }
   ],
   "source": [
    "for column in df:\n",
    "    print(\"The column\", column, \"has\", df[column].isnull().sum(), \"empty data.\")"
   ],
   "metadata": {
    "collapsed": false,
    "pycharm": {
     "name": "#%%\n"
    }
   }
  },
  {
   "cell_type": "code",
   "execution_count": 4,
   "outputs": [],
   "source": [],
   "metadata": {
    "collapsed": false,
    "pycharm": {
     "name": "#%%\n"
    }
   }
  },
  {
   "cell_type": "markdown",
   "source": [
    "## Quick Visualization\n",
    "\n",
    "* 0 -> The stock went down by market close the day the article was published (negative)\n",
    "* 1 -> The stock went up by market close the day the article was published (positive)\n",
    "* 2 -> The stock stayed the same by market close the day the article was published (neutral)"
   ],
   "metadata": {
    "collapsed": false
   }
  },
  {
   "cell_type": "code",
   "execution_count": 5,
   "outputs": [
    {
     "data": {
      "text/plain": "<Figure size 576x720 with 1 Axes>",
      "image/png": "[encoded data removed]"
     },
     "metadata": {
      "needs_background": "light"
     },
     "output_type": "display_data"
    }
   ],
   "source": [
    "plt.figure(figsize=(8, 10))\n",
    "sns.countplot(x=df['Label'])\n",
    "plt.title(\"Stock Labels Count\", fontsize=15)\n",
    "plt.show()"
   ],
   "metadata": {
    "collapsed": false,
    "pycharm": {
     "name": "#%%\n"
    }
   }
  },
  {
   "cell_type": "code",
   "execution_count": 5,
   "outputs": [],
   "source": [],
   "metadata": {
    "collapsed": false,
    "pycharm": {
     "name": "#%%\n"
    }
   }
  },
  {
   "cell_type": "markdown",
   "source": [
    "## Preprocess Headlines\n",
    "\n",
    "Clean Headlines. Remove links, punctuations, stopwords and many other words that don’t give a lot of meanings. Lowercase the headlines. Perform stemming operation so that similar words are reduced.\n",
    "\n",
    "Store the result in a list."
   ],
   "metadata": {
    "collapsed": false
   }
  },
  {
   "cell_type": "code",
   "execution_count": 56,
   "outputs": [],
   "source": [
    "def clean_headline(headline):\n",
    "    \"\"\"\n",
    "    Clean Headlines. Remove links, punctuations, stopwords and many other words that don’t give a lot of meanings. Lowercase the headlines. Perform stemming operation so that similar words are reduced.\n",
    "\n",
    "    Input:\n",
    "        headline: A string of the headline.\n",
    "    Output:\n",
    "        tokens: a list of words containing the processed headline.\n",
    "\n",
    "    \"\"\"\n",
    "\n",
    "    # remove links (use 'r' to represent raw strings)\n",
    "    headline = re.sub(r'(https?://)?(www\\.)?\\S*\\.\\S*\\s*', ' ', headline).strip()\n",
    "    # remove punctuations using regular expression, and convert letters to lowercase\n",
    "    headline = re.sub(r'[^\\w\\s]', '', headline).lower()\n",
    "    # tokenization\n",
    "    tokens = word_tokenize(headline)\n",
    "    # remove stopwords\n",
    "    sw = stopwords.words(\"english\")\n",
    "    tokens = [t for t in tokens if t not in sw]\n",
    "    # stemming\n",
    "    stemmer = PorterStemmer()\n",
    "    tokens = [stemmer.stem(t) for t in tokens]\n",
    "    # lemmatization\n",
    "    #wnl = nltk.WordNetLemmatizer()\n",
    "    #tokens = [wnl.lemmatize(t) for t in tokens]\n",
    "\n",
    "    return tokens"
   ],
   "metadata": {
    "collapsed": false,
    "pycharm": {
     "name": "#%%\n"
    }
   }
  },
  {
   "cell_type": "code",
   "execution_count": 58,
   "outputs": [],
   "source": [
    "# Use a list to store separate words of cleaned headlines\n",
    "cleaned_headlines = []\n",
    "\n",
    "# Add cleaned headlines to data frame as strings.\n",
    "for i in range(len(df)):\n",
    "    tokens = clean_headline(df.loc[i, \"Headline\"])\n",
    "    df.loc[i, 'Cleaned_Headline'] = \" \".join(tokens)\n",
    "    cleaned_headlines.append(tokens)"
   ],
   "metadata": {
    "collapsed": false,
    "pycharm": {
     "name": "#%%\n"
    }
   }
  },
  {
   "cell_type": "code",
   "execution_count": 59,
   "outputs": [
    {
     "data": {
      "text/plain": "       Label Ticker                                           Headline  \\\n0          0      A  @TotesTravel : Airline shares tumble as New Yo...   \n1          1      A  @TotesTravel : American United call off Hong K...   \n2          0      A  @TotesTravel : U.S. airline stocks hit highest...   \n3          1      A  @TotesTravel : American Airlines reaches deal ...   \n4          1      A  @TotesTravel : US airlines Treasury Department...   \n...      ...    ...                                                ...   \n15557      0    WMT  Walmart dumps e-cigarettes: Largest store in U...   \n15558      0    WMT  Walmart makes a $16 billion bet on India's boo...   \n15559      0    WMT  Walmart raises minimum age to buy tobacco to 2...   \n15560      0    WMT  Walmart Took Over Chile In Only Three Years An...   \n15561      2    WMT  Carla Cheney: Walmart Fired Me For Reporting D...   \n\n                                        Cleaned_Headline  \n0      totestravel airlin share tumbl new york impos ...  \n1      totestravel american unit call hong kong fligh...  \n2      totestravel airlin stock hit highest price sin...  \n3      totestravel american airlin reach deal boe 737...  \n4      totestravel us airlin treasuri depart reach ag...  \n...                                                  ...  \n15557  walmart dump ecigarett largest store us longer...  \n15558     walmart make 16 billion bet india boom economi  \n15559  walmart rais minimum age buy tobacco 21 pressu...  \n15560  walmart took chile three year countri terrifi ...  \n15561  carla cheney walmart fire report dog left hot ...  \n\n[15562 rows x 4 columns]",
      "text/html": "<div>\n<style scoped>\n    .dataframe tbody tr th:only-of-type {\n        vertical-align: middle;\n    }\n\n    .dataframe tbody tr th {\n        vertical-align: top;\n    }\n\n    .dataframe thead th {\n        text-align: right;\n    }\n</style>\n<table border=\"1\" class=\"dataframe\">\n  <thead>\n    <tr style=\"text-align: right;\">\n      <th></th>\n      <th>Label</th>\n      <th>Ticker</th>\n      <th>Headline</th>\n      <th>Cleaned_Headline</th>\n    </tr>\n  </thead>\n  <tbody>\n    <tr>\n      <th>0</th>\n      <td>0</td>\n      <td>A</td>\n      <td>@TotesTravel : Airline shares tumble as New Yo...</td>\n      <td>totestravel airlin share tumbl new york impos ...</td>\n    </tr>\n    <tr>\n      <th>1</th>\n      <td>1</td>\n      <td>A</td>\n      <td>@TotesTravel : American United call off Hong K...</td>\n      <td>totestravel american unit call hong kong fligh...</td>\n    </tr>\n    <tr>\n      <th>2</th>\n      <td>0</td>\n      <td>A</td>\n      <td>@TotesTravel : U.S. airline stocks hit highest...</td>\n      <td>totestravel airlin stock hit highest price sin...</td>\n    </tr>\n    <tr>\n      <th>3</th>\n      <td>1</td>\n      <td>A</td>\n      <td>@TotesTravel : American Airlines reaches deal ...</td>\n      <td>totestravel american airlin reach deal boe 737...</td>\n    </tr>\n    <tr>\n      <th>4</th>\n      <td>1</td>\n      <td>A</td>\n      <td>@TotesTravel : US airlines Treasury Department...</td>\n      <td>totestravel us airlin treasuri depart reach ag...</td>\n    </tr>\n    <tr>\n      <th>...</th>\n      <td>...</td>\n      <td>...</td>\n      <td>...</td>\n      <td>...</td>\n    </tr>\n    <tr>\n      <th>15557</th>\n      <td>0</td>\n      <td>WMT</td>\n      <td>Walmart dumps e-cigarettes: Largest store in U...</td>\n      <td>walmart dump ecigarett largest store us longer...</td>\n    </tr>\n    <tr>\n      <th>15558</th>\n      <td>0</td>\n      <td>WMT</td>\n      <td>Walmart makes a $16 billion bet on India's boo...</td>\n      <td>walmart make 16 billion bet india boom economi</td>\n    </tr>\n    <tr>\n      <th>15559</th>\n      <td>0</td>\n      <td>WMT</td>\n      <td>Walmart raises minimum age to buy tobacco to 2...</td>\n      <td>walmart rais minimum age buy tobacco 21 pressu...</td>\n    </tr>\n    <tr>\n      <th>15560</th>\n      <td>0</td>\n      <td>WMT</td>\n      <td>Walmart Took Over Chile In Only Three Years An...</td>\n      <td>walmart took chile three year countri terrifi ...</td>\n    </tr>\n    <tr>\n      <th>15561</th>\n      <td>2</td>\n      <td>WMT</td>\n      <td>Carla Cheney: Walmart Fired Me For Reporting D...</td>\n      <td>carla cheney walmart fire report dog left hot ...</td>\n    </tr>\n  </tbody>\n</table>\n<p>15562 rows × 4 columns</p>\n</div>"
     },
     "execution_count": 59,
     "metadata": {},
     "output_type": "execute_result"
    }
   ],
   "source": [
    "# Display the cleaned headlines\n",
    "df"
   ],
   "metadata": {
    "collapsed": false,
    "pycharm": {
     "name": "#%%\n"
    }
   }
  },
  {
   "cell_type": "code",
   "execution_count": null,
   "outputs": [],
   "source": [],
   "metadata": {
    "collapsed": false,
    "pycharm": {
     "name": "#%%\n"
    }
   }
  },
  {
   "cell_type": "markdown",
   "source": [
    "## Convert Word to Vector"
   ],
   "metadata": {
    "collapsed": false
   }
  },
  {
   "cell_type": "code",
   "execution_count": 9,
   "outputs": [],
   "source": [
    "import gensim\n",
    "from sklearn.model_selection import train_test_split"
   ],
   "metadata": {
    "collapsed": false,
    "pycharm": {
     "name": "#%%\n"
    }
   }
  },
  {
   "cell_type": "code",
   "execution_count": 10,
   "outputs": [],
   "source": [
    "# Train Word2Vec model\n",
    "word2vec_model = gensim.models.Word2Vec(cleaned_headlines, vector_size=200)\n",
    "# word2vec_model = gensim.models.Word2Vec(cleaned_headlines)"
   ],
   "metadata": {
    "collapsed": false,
    "pycharm": {
     "name": "#%%\n"
    }
   }
  },
  {
   "cell_type": "code",
   "execution_count": 11,
   "outputs": [
    {
     "data": {
      "text/plain": "array([-3.68495728e-03, -1.42711788e-01, -1.43880965e-02, -6.89845011e-02,\n        2.21842438e-01, -1.15926154e-01, -8.00349377e-03,  2.03734294e-01,\n        6.14172854e-02,  2.70389114e-02,  2.32552830e-03, -4.10661846e-02,\n       -1.51810601e-01,  2.50985492e-02, -6.49104938e-02, -2.56144032e-02,\n       -1.75216302e-01, -6.59987926e-02,  7.22930208e-02, -3.81687522e-01,\n        2.54164319e-02, -2.60732751e-02,  5.10976464e-02,  9.24071893e-02,\n        8.42153504e-02, -5.81790833e-03,  7.58136585e-02, -1.19651489e-01,\n       -2.40196779e-01,  9.84637961e-02,  6.52850568e-02, -7.47301802e-02,\n        1.91851556e-01, -1.71020970e-01,  7.43568838e-02,  1.94058493e-02,\n        6.15511984e-02, -4.97203134e-02, -6.25456646e-02, -1.67156249e-01,\n       -1.01968698e-01,  1.79721264e-03, -4.61149886e-02, -6.16561323e-02,\n        4.12493259e-01, -2.19832495e-01,  4.42324579e-02, -3.89584415e-02,\n        1.43746629e-01,  2.64958501e-01, -1.25876432e-02, -3.18423919e-02,\n       -9.22328159e-02, -4.81091775e-02,  1.29780266e-02, -1.50150165e-01,\n        2.01630276e-02, -1.38578430e-01, -1.19554549e-01,  2.91183731e-03,\n       -1.20187677e-01,  6.97300360e-02, -2.35348456e-02, -3.95628102e-02,\n       -1.17786907e-01, -1.66898556e-02, -9.35565382e-02,  3.07494581e-01,\n       -5.71121760e-02,  1.90224037e-01,  3.01498026e-02, -2.92721689e-02,\n        1.38450325e-01,  8.82332120e-03, -2.22773887e-02, -6.70579672e-02,\n        1.30809739e-01, -2.27913022e-01, -1.73829958e-01,  2.61654053e-02,\n        7.07762986e-02, -4.17689607e-02, -2.54743278e-01,  4.64374796e-02,\n        9.92554054e-02,  3.60463571e-04, -6.25780150e-02,  1.09664112e-01,\n       -6.90237135e-02,  1.62266135e-01, -5.81394024e-02,  2.68770367e-01,\n        1.06087819e-01,  1.59955293e-01,  1.48261771e-01,  2.51610652e-02,\n        1.77875847e-01, -9.26889479e-02,  2.06723332e-01,  1.23239525e-01,\n       -7.63518810e-02,  2.79579222e-01, -5.64655149e-03, -2.66947538e-01,\n       -9.09963325e-02, -2.47297928e-01,  1.79702669e-01,  1.17378883e-01,\n       -1.76410601e-01, -3.23577493e-01, -2.12803453e-01, -2.31877551e-03,\n       -1.08095333e-01, -3.05462088e-02,  1.34284273e-01, -1.66179448e-01,\n       -6.01666905e-02, -1.44840986e-01,  9.01497900e-02, -4.07486372e-02,\n       -1.11634461e-02,  1.23496167e-01,  6.27145579e-04,  4.36184332e-02,\n        1.77407399e-01,  1.66682266e-02, -1.02706693e-01, -1.32752165e-01,\n       -4.28650752e-02,  4.93140444e-02,  5.30153625e-02,  3.03528132e-03,\n       -6.58629909e-02, -1.02145545e-01, -9.99630541e-02,  1.36407450e-01,\n       -3.08505118e-01, -3.63604091e-02, -7.31158406e-02, -3.81905973e-01,\n        1.78219855e-01, -2.57865846e-01, -1.06340416e-01, -7.90281296e-02,\n        4.66398001e-02, -1.28365308e-01, -2.05433518e-01,  4.20131311e-02,\n       -1.01762973e-01, -8.36042035e-03,  4.86259302e-03, -8.73353556e-02,\n       -1.48675907e-02,  1.09253310e-01, -1.94072172e-01,  2.08984911e-01,\n       -6.93709264e-03,  1.44111123e-02, -6.07460290e-02,  3.93155292e-02,\n        1.16888538e-01,  1.61535099e-01, -2.50574231e-01,  2.30328590e-02,\n       -3.10670733e-02,  9.50046629e-02,  6.31760955e-02, -1.76590711e-01,\n        1.69385429e-02,  4.16301452e-02, -2.10002586e-01,  5.38751520e-02,\n        8.85026902e-03, -5.89536391e-02,  2.37928480e-01, -2.31241491e-02,\n       -3.86826433e-02,  2.57591873e-01,  2.71710753e-01,  1.43520743e-01,\n        1.68129787e-01, -6.76787971e-03,  2.38138232e-02,  5.37067987e-02,\n        9.24238935e-02,  8.94393995e-02,  3.27084144e-03, -2.66034696e-02,\n        2.24837765e-01,  1.21960528e-01,  1.08634934e-01, -1.07926726e-01,\n       -3.07563338e-02, -2.46867597e-01,  7.75625780e-02,  5.74260838e-02,\n        9.15215462e-02, -2.43139461e-01, -1.67995710e-02, -5.51151205e-03],\n      dtype=float32)"
     },
     "execution_count": 11,
     "metadata": {},
     "output_type": "execute_result"
    }
   ],
   "source": [
    "word2vec_model.wv['iraq']"
   ],
   "metadata": {
    "collapsed": false,
    "pycharm": {
     "name": "#%%\n"
    }
   }
  },
  {
   "cell_type": "code",
   "execution_count": 12,
   "outputs": [],
   "source": [
    "# Convert words to vectors\n",
    "word_vectors = []\n",
    "cnt = 0\n",
    "cnt_missed = 0\n",
    "\n",
    "for headline in cleaned_headlines:\n",
    "    headline_vec = []\n",
    "    for word in headline:\n",
    "        cnt += 1\n",
    "        try:\n",
    "            headline_vec.append(word2vec_model.wv[word])\n",
    "        except:\n",
    "            cnt_missed += 1\n",
    "            # print(word, \" Not in word vectors.\")\n",
    "    word_vectors.append(headline_vec)"
   ],
   "metadata": {
    "collapsed": false,
    "pycharm": {
     "name": "#%%\n"
    }
   }
  },
  {
   "cell_type": "code",
   "execution_count": 13,
   "outputs": [
    {
     "name": "stdout",
     "output_type": "stream",
     "text": [
      "0.10255385476199992 of words are missed in the word vectors.\n"
     ]
    }
   ],
   "source": [
    "print(cnt_missed / cnt, \"of words are missed in the word vectors.\")"
   ],
   "metadata": {
    "collapsed": false,
    "pycharm": {
     "name": "#%%\n"
    }
   }
  },
  {
   "cell_type": "code",
   "execution_count": 13,
   "outputs": [],
   "source": [],
   "metadata": {
    "collapsed": false,
    "pycharm": {
     "name": "#%%\n"
    }
   }
  },
  {
   "cell_type": "code",
   "execution_count": 14,
   "outputs": [],
   "source": [],
   "metadata": {
    "collapsed": false,
    "pycharm": {
     "name": "#%%\n"
    }
   }
  },
  {
   "cell_type": "markdown",
   "source": [
    "## LSTM"
   ],
   "metadata": {
    "collapsed": false
   }
  },
  {
   "cell_type": "markdown",
   "source": [
    "### Prepare data set"
   ],
   "metadata": {
    "collapsed": false
   }
  },
  {
   "cell_type": "code",
   "execution_count": 369,
   "outputs": [],
   "source": [
    "import torch\n",
    "import torch.nn as nn\n",
    "import torch.optim as optim\n",
    "from torchtext.legacy import data\n",
    "import random"
   ],
   "metadata": {
    "collapsed": false,
    "pycharm": {
     "name": "#%%\n"
    }
   }
  },
  {
   "cell_type": "code",
   "execution_count": 370,
   "outputs": [],
   "source": [
    "# Set random seed\n",
    "seed = 1453\n",
    "torch.manual_seed(seed)\n",
    "torch.backends.cudnn.deterministic = True"
   ],
   "metadata": {
    "collapsed": false,
    "pycharm": {
     "name": "#%%\n"
    }
   }
  },
  {
   "cell_type": "code",
   "execution_count": 371,
   "outputs": [],
   "source": [
    "# Set data field\n",
    "HEADLINE = data.Field(tokenize='spacy', batch_first=True, include_lengths=True)\n",
    "LABEL = data.LabelField(dtype=torch.long, batch_first=True)\n",
    "fields = [(None, None), ('label', LABEL), ('headline', HEADLINE)]"
   ],
   "metadata": {
    "collapsed": false,
    "pycharm": {
     "name": "#%%\n"
    }
   }
  },
  {
   "cell_type": "code",
   "execution_count": 372,
   "outputs": [],
   "source": [
    "# Transfer Data Field\n",
    "data_for_DataFieldTransfer = df[['Label', 'Cleaned_Headline']]\n",
    "\n",
    "data_for_DataFieldTransfer.to_csv(\"./data_for_DataFieldTransfer.csv\", index=True)\n",
    "\n",
    "training_data = data.TabularDataset(path='./data_for_DataFieldTransfer.csv', format='csv', fields=fields,\n",
    "                                    skip_header=True)"
   ],
   "metadata": {
    "collapsed": false,
    "pycharm": {
     "name": "#%%\n"
    }
   }
  },
  {
   "cell_type": "code",
   "execution_count": 373,
   "outputs": [
    {
     "name": "stdout",
     "output_type": "stream",
     "text": [
      "{'label': '0', 'headline': ['totestravel', 'airlin', 'share', 'tumbl', 'new', 'york', 'impos', 'quarantin', 'florida', 'case', 'spike', 'american', 'airlin', 'group', 'plane', 'prepar', 'land', 'laguardia', 'airport', 'lga', 'new', 'york', 'tuesday', 'april', 'travelnewsinsight']}\n"
     ]
    }
   ],
   "source": [
    "# View new data form example\n",
    "print(vars(training_data.examples[0]))"
   ],
   "metadata": {
    "collapsed": false,
    "pycharm": {
     "name": "#%%\n"
    }
   }
  },
  {
   "cell_type": "code",
   "execution_count": 374,
   "outputs": [],
   "source": [
    "# Prepare training and testing data set\n",
    "train_data, valid_data = training_data.split(split_ratio=0.7, random_state=random.seed(seed))\n",
    "\n",
    "# X_train, X_test, y_train, y_test = train_test_split(training_data, df['Label'], test_size=0.2, random_state=20)"
   ],
   "metadata": {
    "collapsed": false,
    "pycharm": {
     "name": "#%%\n"
    }
   }
  },
  {
   "cell_type": "code",
   "execution_count": 375,
   "outputs": [],
   "source": [
    "# the words should have at least a min frequency of 2 to build its vocab\n",
    "MIN_FREQ = 2\n",
    "\n",
    "# Torch text builds the vocabulary based on word representations from glove.\n",
    "HEADLINE.build_vocab(train_data,\n",
    "                     min_freq=MIN_FREQ,\n",
    "                     vectors=\"glove.6B.100d\",\n",
    "                     unk_init=torch.Tensor.normal_)\n",
    "\n",
    "LABEL.build_vocab(valid_data)"
   ],
   "metadata": {
    "collapsed": false,
    "pycharm": {
     "name": "#%%\n"
    }
   }
  },
  {
   "cell_type": "markdown",
   "source": [
    "#### Quick View"
   ],
   "metadata": {
    "collapsed": false
   }
  },
  {
   "cell_type": "code",
   "execution_count": 286,
   "outputs": [
    {
     "name": "stdout",
     "output_type": "stream",
     "text": [
      "Size of HEADLINE vocabulary: 8761\n"
     ]
    }
   ],
   "source": [
    "# Headline Vocabs\n",
    "print(\"Size of HEADLINE vocabulary:\", len(HEADLINE.vocab))"
   ],
   "metadata": {
    "collapsed": false,
    "pycharm": {
     "name": "#%%\n"
    }
   }
  },
  {
   "cell_type": "code",
   "execution_count": 287,
   "outputs": [
    {
     "name": "stdout",
     "output_type": "stream",
     "text": [
      "Size of LABEL vocabulary: 3\n"
     ]
    }
   ],
   "source": [
    "# Label Vocabs\n",
    "print(\"Size of LABEL vocabulary:\", len(LABEL.vocab))"
   ],
   "metadata": {
    "collapsed": false,
    "pycharm": {
     "name": "#%%\n"
    }
   }
  },
  {
   "cell_type": "code",
   "execution_count": 288,
   "outputs": [
    {
     "name": "stdout",
     "output_type": "stream",
     "text": [
      "Frequent words: [('say', 655), ('new', 622), ('first', 568), ('us', 547), ('world', 523), ('compani', 501), ('china', 500), ('bank', 442), ('news', 433), ('trump', 411)]\n"
     ]
    }
   ],
   "source": [
    "# Frequent words\n",
    "print(\"Frequent words:\", HEADLINE.vocab.freqs.most_common(10))"
   ],
   "metadata": {
    "collapsed": false,
    "pycharm": {
     "name": "#%%\n"
    }
   }
  },
  {
   "cell_type": "code",
   "execution_count": 289,
   "outputs": [
    {
     "name": "stdout",
     "output_type": "stream",
     "text": [
      "Vocabs: defaultdict(<bound method Vocab._default_unk_index of <torchtext.vocab.Vocab object at 0x000001F4D4845F70>>, {'<unk>': 0, '<pad>': 1, 'say': 2, 'new': 3, 'first': 4, 'us': 5, 'world': 6, 'compani': 7, 'china': 8, 'bank': 9, 'news': 10, 'trump': 11, 'amp': 12, 'market': 13, 'million': 14, 'corpor': 15, 'govern': 16, 'year': 17, 'countri': 18, 'use': 19, 'power': 20, 'group': 21, 'make': 22, 'system': 23, 'appl': 24, 'said': 25, 'global': 26, 'chines': 27, 'report': 28, 'time': 29, 'billion': 30, 'energi': 31, 'state': 32, 'one': 33, 'call': 34, 'inc': 35, 'ban': 36, 'peopl': 37, 'intern': 38, 'american': 39, 'game': 40, 'india': 41, 'oil': 42, 'uk': 43, 'korea': 44, 'australian': 45, 'googl': 46, 'popular': 47, 'discoveri': 48, 'plan': 49, 'facebook': 50, 'could': 51, 'nation': 52, 'servic': 53, 'nt': 54, 'secur': 55, 'court': 56, 'two': 57, 'vaccin': 58, 'presid': 59, 'deal': 60, 'get': 61, 'russian': 62, 'unit': 63, 'home': 64, 'polic': 65, 'alphabet': 66, 'farmer': 67, 'kill': 68, 'show': 69, 'day': 70, 'announc': 71, 'microsoft': 72, 'financi': 73, 'chang': 74, 'may': 75, 'russia': 76, 'technolog': 77, 'help': 78, 'm': 79, 'includ': 80, 'live': 81, 'offici': 82, 'take': 83, 'citizen': 84, 'found': 85, 'view': 86, 'would': 87, 'attack': 88, 'climat': 89, 'canada': 90, 'former': 91, 'launch': 92, 'move': 93, 'ericsson': 94, 'want': 95, 'buy': 96, 'top': 97, 'industri': 98, 'protest': 99, 'stock': 100, 'de': 101, 'like': 102, 'claim': 103, 'face': 104, 'warn': 105, 'north': 106, 'onlin': 107, 'right': 108, 'travel': 109, 'noodl': 110, 'product': 111, 'giant': 112, 'back': 113, 'broadcast': 114, 'fire': 115, 'human': 116, 'pay': 117, 'smith': 118, 'solar': 119, 'forc': 120, 'research': 121, 'charl': 122, 'firm': 123, 'review': 124, 'rule': 125, 'south': 126, 'hous': 127, 'accus': 128, 'citi': 129, 'dave': 130, 'war': 131, 'googul': 132, 'internet': 133, 'share': 134, 'german': 135, 'australia': 136, 'data': 137, 'order': 138, 'work': 139, 'worker': 140, '3': 141, 'biggest': 142, 'charg': 143, 'israel': 144, 'develop': 145, 'end': 146, 'sell': 147, 'becom': 148, 'capit': 149, 'minist': 150, 'air': 151, 'canadian': 152, 'ceo': 153, 'media': 154, 'hit': 155, 'support': 156, 'tesla': 157, 'coronaviru': 158, 'record': 159, 'major': 160, 'busi': 161, 'reveal': 162, 'stop': 163, 'video': 164, 'abc': 165, 'case': 166, 'man': 167, 'sampp': 168, 'scientist': 169, 'site': 170, 'week': 171, 'amazon': 172, 'ss': 173, 'test': 174, 'last': 175, 'part': 176, 'point': 177, 'set': 178, '1': 179, 'go': 180, 'invest': 181, 'investig': 182, 'trade': 183, 'bill': 184, 'sinc': 185, 'feder': 186, 'made': 187, 'public': 188, 'find': 189, 'free': 190, 'gold': 191, 'cut': 192, 'health': 193, 'japan': 194, 'offer': 195, 'softwar': 196, 'fuel': 197, 'ga': 198, 'gener': 199, 'hold': 200, 'militari': 201, 'eu': 202, 'network': 203, 'strike': 204, 'sign': 205, 'accord': 206, 'arrest': 207, 'donald': 208, 'law': 209, 'beyond': 210, 'drug': 211, 'ibm': 212, 'institut': 213, 'sale': 214, 'block': 215, 'open': 216, 'rate': 217, 'user': 218, 'visa': 219, 'commun': 220, 'fund': 221, 'indian': 222, 'iran': 223, 'largest': 224, 'social': 225, 'three': 226, 'build': 227, 'leader': 228, 'legal': 229, 'provid': 230, 'soni': 231, 'germani': 232, 'healthcar': 233, 'phone': 234, 'tax': 235, 'author': 236, 'covid19': 237, 'death': 238, 'intel': 239, 'nuclear': 240, 'netflix': 241, 'price': 242, 'releas': 243, 'sanofi': 244, 'water': 245, '5': 246, 'chief': 247, '10': 248, '2': 249, 'british': 250, 'chevron': 251, 'foreign': 252, 'hotel': 253, 'target': 254, 'analysi': 255, 'lead': 256, 'app': 257, 'die': 258, 'execut': 259, 'mcdonald': 260, 'renew': 261, 'walmart': 262, 'advertis': 263, 'boe': 264, 'demand': 265, 'european': 266, 'give': 267, 'offic': 268, 'tech': 269, '100': 270, 'custom': 271, 'grow': 272, 'johnson': 273, 'medic': 274, 'slam': 275, 'spi': 276, 'ask': 277, 'cisco': 278, 'fight': 279, 'fossil': 280, 'land': 281, 'month': 282, 'isra': 283, 'need': 284, 'premier': 285, 'rise': 286, 'car': 287, 'creat': 288, 'dow': 289, 'west': 290, 'c': 291, 'credit': 292, 'money': 293, 'access': 294, 'alleg': 295, 'close': 296, 'food': 297, 'increas': 298, 'oper': 299, 'seek': 300, 'turn': 301, 'airbnb': 302, 'campaign': 303, 'even': 304, 'factori': 305, 'franc': 306, 'pollut': 307, 'brand': 308, 'disney': 309, 'marriott': 310, 'tripadvisor': 311, 'agenc': 312, 'link': 313, 'meet': 314, 'nasdaq': 315, 'princ': 316, 'uber': 317, 'way': 318, 'allow': 319, 'cocacola': 320, 'judg': 321, 'key': 322, 'nike': 323, 'produc': 324, 'account': 325, 'electr': 326, 'europ': 327, 'famili': 328, 'french': 329, 'growth': 330, 'hack': 331, 'join': 332, 'plant': 333, 'crisi': 334, 'drop': 335, 'mcafe': 336, 'tri': 337, 'washington': 338, 'white': 339, 'extract': 340, 'four': 341, 'joint': 342, 'murder': 343, 'big': 344, 'ever': 345, 'forecast': 346, 'john': 347, 'la': 348, 'nazi': 349, 'person': 350, 'prime': 351, 'also': 352, 'kong': 353, 'lawsuit': 354, 'lyft': 355, 'next': 356, 'saudi': 357, 'best': 358, 'express': 359, 'friday': 360, 'hong': 361, 'issu': 362, 'moderna': 363, 'trend': 364, 'around': 365, 'come': 366, 'control': 367, 'expect': 368, 'hacker': 369, 'post': 370, 'put': 371, 'secret': 372, 'trial': 373, 'across': 374, 'action': 375, 'admit': 376, 'goldman': 377, 'mobil': 378, 'pepsico': 379, 'propos': 380, 'second': 381, 'book': 382, 'clean': 383, 'gan': 384, 'gopro': 385, 'number': 386, 'threaten': 387, 'un': 388, 'woodward': 389, '2020': 390, 'airlin': 391, 'appear': 392, 'bori': 393, 'brexit': 394, 'caterpillar': 395, 'fail': 396, 'high': 397, 'player': 398, 'ptc': 399, 'run': 400, 'sach': 401, 'start': 402, 'sue': 403, 'xp': 404, 'inform': 405, 'list': 406, 'opera': 407, 'polit': 408, 'refus': 409, 'royal': 410, 'street': 411, 'today': 412, 'totestravel': 413, 'univers': 414, 'coal': 415, 'ebay': 416, 'interfac': 417, 'latest': 418, 'manag': 419, 'name': 420, 'studi': 421, 'tell': 422, 'turkey': 423, 'window': 424, 'attempt': 425, 'current': 426, 'digit': 427, 'dollar': 428, 'dropbox': 429, 'good': 430, 'member': 431, 'palestinian': 432, 'fear': 433, 'follow': 434, 'job': 435, 'websit': 436, '4': 437, 'ammo': 438, 'elect': 439, 'file': 440, 'five': 441, 'protect': 442, 'qampa': 443, 'roku': 444, 'root': 445, '500': 446, 'aid': 447, 'america': 448, 'bodi': 449, 'caus': 450, 'critic': 451, 'earn': 452, 'team': 453, 'woman': 454, '50': 455, 'employe': 456, 'independ': 457, 'intrus': 458, 'nestl': 459, 'parti': 460, 'project': 461, 'store': 462, 'thousand': 463, 'california': 464, 'korean': 465, 'near': 466, 'nearli': 467, 'remov': 468, 'respons': 469, 'result': 470, 'salesforc': 471, 'worth': 472, 'abus': 473, 'black': 474, 'guard': 475, 'look': 476, 'profit': 477, 'step': 478, 'student': 479, 'tv': 480, 'vote': 481, 'wednesday': 482, 'wind': 483, 'ad': 484, 'continu': 485, 'due': 486, 'educ': 487, 'garmin': 488, 'iphon': 489, 'least': 490, 'meat': 491, 'push': 492, 'sourc': 493, '8': 494, 'britain': 495, 'cost': 496, 'honeywel': 497, 'march': 498, 'merck': 499, 'size': 500, 'solut': 501, 'still': 502, 'without': 503, 'among': 504, 'depot': 505, 'discov': 506, 'driver': 507, 'limit': 508, 'model': 509, 'plastic': 510, 'rais': 511, 'risk': 512, 'twitter': 513, 'usa': 514, '20': 515, 'almost': 516, 'approv': 517, 'brazil': 518, 'host': 519, 'jet': 520, 'monday': 521, 'polici': 522, '111': 523, 'children': 524, 'deni': 525, 'flex': 526, 'per': 527, 'potenti': 528, 'program': 529, 'sea': 530, 'su': 531, 'syria': 532, 'bomb': 533, 'comput': 534, 'dead': 535, 'fine': 536, 'head': 537, 'save': 538, 'see': 539, 'ship': 540, 'told': 541, 'train': 542, 'win': 543, '2015': 544, 'despit': 545, 'effect': 546, 'pm': 547, 'possibl': 548, 'talk': 549, 'tuesday': 550, 'women': 551, '3d': 552, 'africa': 553, 'arm': 554, 'auto': 555, 'awar': 556, 'bbc': 557, 'damag': 558, 'final': 559, 'irish': 560, 'leav': 561, 'mani': 562, 'suppli': 563, 'urg': 564, 'cancel': 565, 'g': 566, 'goe': 567, 'illeg': 568, 'keep': 569, 'pull': 570, 'receiv': 571, '30': 572, 'amid': 573, 'challeng': 574, 'economi': 575, 'founder': 576, 'groupon': 577, 'import': 578, 'ireland': 579, 'london': 580, 'mark': 581, 'consid': 582, 'hawkin': 583, 'lose': 584, 'massiv': 585, 'recoveri': 586, 'requir': 587, 'school': 588, 'agre': 589, 'base': 590, 'confirm': 591, 'crime': 592, 'daili': 593, 'document': 594, 'expos': 595, 'fiserv': 596, 'maggi': 597, 'natur': 598, 'reach': 599, 'spread': 600, 'star': 601, 'suspend': 602, 'threat': 603, 'victim': 604, 'activ': 605, 'complet': 606, 'do': 607, 'insight': 608, 'intellig': 609, 'know': 610, 'partner': 611, 'percent': 612, 'sn': 613, 'tie': 614, 'age': 615, 'autodesk': 616, 'believ': 617, 'child': 618, 'clear': 619, 'email': 620, 'emerg': 621, 'fighter': 622, 'investor': 623, 'must': 624, 'small': 625, 'spend': 626, 'suprem': 627, 'urban': 628, 'watch': 629, '2016': 630, '2018': 631, 'cannabi': 632, 'central': 633, 'flight': 634, 'focu': 635, 'hand': 636, 'huge': 637, 'islam': 638, 'leak': 639, 'old': 640, 'organ': 641, 'photo': 642, 'administr': 643, 'agreement': 644, 'anim': 645, 'break': 646, 'code': 647, 'crash': 648, 'el': 649, 'electron': 650, 'en': 651, 'histori': 652, 'hospit': 653, 'involv': 654, 'pass': 655, 'press': 656, 'privat': 657, 'que': 658, 'sever': 659, 'shut': 660, 'violat': 661, '2019': 662, 'ab': 663, 'ahead': 664, 'away': 665, 'blame': 666, 'boost': 667, 'econom': 668, 'fake': 669, 'island': 670, 'letter': 671, 'level': 672, 'life': 673, 'max': 674, 'nsa': 675, 'reject': 676, 'shot': 677, 'sold': 678, 'soldier': 679, 'space': 680, 'thursday': 681, 'well': 682, 'earli': 683, 'effort': 684, 'fraud': 685, 'hour': 686, 'hundr': 687, 'interest': 688, 'manufactur': 689, 'mass': 690, 'other': 691, 'quarter': 692, 'surg': 693, 'trust': 694, 'within': 695, 'affect': 696, 'beat': 697, 'begin': 698, 'chip': 699, 'depart': 700, 'expert': 701, 'line': 702, 'local': 703, 'send': 704, 'shop': 705, 'snowden': 706, 'travelnewsinsight': 707, '15': 708, 'bangladesh': 709, 'bath': 710, 'behind': 711, 'hope': 712, 'huawei': 713, 'idata': 714, 'mine': 715, 'obama': 716, 'pakistan': 717, 'parent': 718, 'pari': 719, 'patent': 720, 'prison': 721, 'putin': 722, 'shoot': 723, 'surveil': 724, 'temperatur': 725, 'toward': 726, 'union': 727, 'upcom': 728, 'act': 729, 'ago': 730, 'aim': 731, 'bring': 732, 'concern': 733, 'coupon': 734, 'cowen': 735, 'crack': 736, 'crimin': 737, 'debt': 738, 'half': 739, 'hampm': 740, 'insid': 741, 'jail': 742, 'kmh': 743, 'lawyer': 744, 'maker': 745, 'owner': 746, 'syrian': 747, 'terror': 748, 'walgreen': 749, 'york': 750, '2017': 751, '6': 752, 'anoth': 753, 'associ': 754, 'bid': 755, 'detail': 756, 'exchang': 757, 'fall': 758, 'futur': 759, 'miss': 760, 'missil': 761, 'neg': 762, 'posit': 763, 'question': 764, 'return': 765, 'sexual': 766, 'visit': 767, '7': 768, '737': 769, 'board': 770, 'card': 771, 'commit': 772, 'cover': 773, 'decis': 774, 'defens': 775, 'doctor': 776, 'gay': 777, 'halt': 778, 'known': 779, 'outsid': 780, 'payment': 781, 'plane': 782, 'real': 783, 'recent': 784, 'reserv': 785, 'rival': 786, 'speak': 787, 'speed': 788, 'staff': 789, 'aircraft': 790, 'avail': 791, 'bed': 792, 'devic': 793, 'ecuador': 794, 'engin': 795, 'etsi': 796, 'financ': 797, 'govt': 798, 'japanes': 799, 'journalist': 800, 'lobbi': 801, 'lost': 802, 'morgan': 803, 'music': 804, 'play': 805, 'poll': 806, 'speci': 807, 'statement': 808, 'third': 809, 'wall': 810, '17': 811, 'award': 812, 'cancer': 813, 'comment': 814, 'confer': 815, 'design': 816, 'destroy': 817, 'donat': 818, 'edward': 819, 'everi': 820, 'kim': 821, 'messag': 822, 'musk': 823, 'nokia': 824, 'olymp': 825, 'paid': 826, 'pharmaceut': 827, 'properti': 828, 'regul': 829, 'replac': 830, 'saturday': 831, 'scandal': 832, 'secretari': 833, 'seen': 834, 'updat': 835, 'web': 836, 'worldwid': 837, 'activist': 838, 'battl': 839, 'brian': 840, 'camera': 841, 'chase': 842, 'collect': 843, 'cuenta': 844, 'entir': 845, 'far': 846, 'foundat': 847, 'men': 848, 'mexico': 849, 'monsanto': 850, 'prepar': 851, 'print': 852, 'promot': 853, 'read': 854, 'resign': 855, 'six': 856, 'took': 857, 'weapon': 858, 'worst': 859, 'arabia': 860, 'area': 861, 'burn': 862, 'ca': 863, 'care': 864, 'content': 865, 'disput': 866, 'download': 867, 'form': 868, 'great': 869, 'highest': 870, 'mp': 871, 'navi': 872, 'netgear': 873, 'nic': 874, 'panel': 875, 'paper': 876, 'park': 877, 'publish': 878, 'sanction': 879, 'suggest': 880, 'sunday': 881, 'terrorist': 882, 'tourist': 883, 'wifi': 884, 'workday': 885, '2025': 886, 'acquir': 887, 'bob': 888, 'connect': 889, 'deadli': 890, 'decad': 891, 'green': 892, 'ipo': 893, 'kid': 894, 'let': 895, 'low': 896, 'ltd': 897, 'never': 898, 'pipelin': 899, 'pressur': 900, 'process': 901, 'region': 902, 'remain': 903, 'samsung': 904, 'sex': 905, 'smart': 906, 'think': 907, 'western': 908, '18': 909, 'african': 910, 'alreadi': 911, 'appeal': 912, 'bumbl': 913, 'cloud': 914, 'cree': 915, 'defend': 916, 'environment': 917, 'forum': 918, 'iranian': 919, 'night': 920, 'norway': 921, 'parliament': 922, 'popul': 923, 'practic': 924, 'puerto': 925, 'total': 926, 'track': 927, 'tree': 928, 'ukrain': 929, 'warm': 930, '200': 931, 'banker': 932, 'breach': 933, 'built': 934, 'carri': 935, 'channel': 936, 'church': 937, 'consum': 938, 'covid': 939, 'deliv': 940, 'drive': 941, 'eat': 942, 'elon': 943, 'fluent': 944, 'georg': 945, 'impos': 946, 'instal': 947, 'itali': 948, 'larg': 949, 'left': 950, 'less': 951, 'momo': 952, 'much': 953, 'nobel': 954, 'place': 955, 'resourc': 956, 'scienc': 957, 'senior': 958, 'suspect': 959, 'tweet': 960, 'unveil': 961, 'villag': 962, 'withdraw': 963, 'apolog': 964, 'center': 965, 'commerci': 966, 'contract': 967, 'fix': 968, 'indigen': 969, 'insur': 970, 'jp': 971, 'lay': 972, 'led': 973, 'light': 974, 'pick': 975, 'platform': 976, 'reportedli': 977, 'restaur': 978, 'rico': 979, 'safeti': 980, 'supplier': 981, 'thing': 982, 'treatment': 983, 'whose': 984, '1000': 985, '2014': 986, 'add': 987, 'addict': 988, 'camp': 989, 'coast': 990, 'direct': 991, 'evid': 992, 'export': 993, 'full': 994, 'gun': 995, 'interview': 996, 'isi': 997, 'licens': 998, 'longer': 999, 'mexican': 1000, 'mount': 1001, 'peac': 1002, 'philippin': 1003, 'prevent': 1004, 'purchas': 1005, 'repres': 1006, 'role': 1007, 'senat': 1008, 'sentenc': 1009, 'sono': 1010, 'suffer': 1011, 'summer': 1012, 'unpreced': 1013, 'virtual': 1014, '40': 1015, '60': 1016, 'arab': 1017, 'babi': 1018, 'bee': 1019, 'blue': 1020, 'broadcom': 1021, 'commiss': 1022, 'condit': 1023, 'council': 1024, 'danger': 1025, 'declar': 1026, 'eastern': 1027, 'england': 1028, 'et': 1029, 'exist': 1030, 'experi': 1031, 'loan': 1032, 'nasa': 1033, 'partnership': 1034, 'perform': 1035, 'road': 1036, 'signific': 1037, 'stream': 1038, 'suicid': 1039, 'taiwan': 1040, 'valu': 1041, 'w': 1042, '13': 1043, 'abl': 1044, 'alibaba': 1045, 'alli': 1046, 'border': 1047, 'cagr': 1048, 'co': 1049, 'core': 1050, 'corrupt': 1051, 'date': 1052, 'decemb': 1053, 'decid': 1054, 'ebola': 1055, 'enter': 1056, 'euro': 1057, 'fox': 1058, 'ground': 1059, 'loss': 1060, 'lower': 1061, 'monitor': 1062, 'murdoch': 1063, 'muslim': 1064, 'northern': 1065, 'patient': 1066, 'period': 1067, 'pfizer': 1068, 'plu': 1069, 'potato': 1070, 'readi': 1071, 'room': 1072, 'spain': 1073, 'sport': 1074, 'startup': 1075, 'wikileak': 1076, '14': 1077, 'adob': 1078, 'chemic': 1079, 'civil': 1080, 'cnn': 1081, 'cyber': 1082, 'draftk': 1083, 'drone': 1084, 'enough': 1085, 'explor': 1086, 'femal': 1087, 'freedom': 1088, 'incom': 1089, 'intuit': 1090, 'languag': 1091, 'lo': 1092, 'locat': 1093, 'love': 1094, 'match': 1095, 'mattel': 1096, 'middl': 1097, 'retail': 1098, 'search': 1099, 'seiz': 1100, 'sent': 1101, 'signatur': 1102, 'speech': 1103, 'traffic': 1104, 'trillion': 1105, 'truck': 1106, 'wage': 1107, 'wo': 1108, 'youtub': 1109, '80': 1110, 'airport': 1111, 'antitrust': 1112, 'applic': 1113, 'batteri': 1114, 'becam': 1115, 'billionair': 1116, 'bottl': 1117, 'brazilian': 1118, 'command': 1119, 'compens': 1120, 'croc': 1121, 'david': 1122, 'director': 1123, 'does': 1124, 'dog': 1125, 'dose': 1126, 'downgrad': 1127, 'drink': 1128, 'earth': 1129, 'extra': 1130, 'featur': 1131, 'gaia': 1132, 'girl': 1133, 'held': 1134, 'histor': 1135, 'i': 1136, 'impact': 1137, 'influenc': 1138, 'ministri': 1139, 'mortgag': 1140, 'past': 1141, 'premarket': 1142, 'privaci': 1143, 'rare': 1144, 'robot': 1145, 'san': 1146, 'seri': 1147, 'shell': 1148, 'special': 1149, 'stake': 1150, 'station': 1151, 'sweden': 1152, 'version': 1153, '11': 1154, '16': 1155, 'accept': 1156, 'advanc': 1157, 'afghanistan': 1158, 'ag': 1159, 'archaeologist': 1160, 'arctic': 1161, 'armi': 1162, 'benefit': 1163, 'better': 1164, 'cash': 1165, 'cell': 1166, 'deliveri': 1167, 'egypt': 1168, 'fast': 1169, 'fish': 1170, 'guilti': 1171, 'iraqi': 1172, 'littl': 1173, 'long': 1174, 'main': 1175, 'mask': 1176, 'materi': 1177, 'problem': 1178, 'rape': 1179, 'reddit': 1180, 'se': 1181, 'select': 1182, 'stolen': 1183, 'tariff': 1184, 'venu': 1185, 'viru': 1186, 'wireless': 1187, 'zuckerberg': 1188, '12': 1189, '20192025': 1190, 'ancient': 1191, 'antiviru': 1192, 'asia': 1193, 'bear': 1194, 'box': 1195, 'chairman': 1196, 'class': 1197, 'conserv': 1198, 'delay': 1199, 'detect': 1200, 'earlier': 1201, 'emiss': 1202, 'expans': 1203, 'extinct': 1204, 'fan': 1205, 'fee': 1206, 'gaza': 1207, 'given': 1208, 'hot': 1209, 'justic': 1210, 'late': 1211, 'le': 1212, 'lie': 1213, 'mayor': 1214, 'net': 1215, 'nigeria': 1216, 'ocean': 1217, 'pictur': 1218, 'prize': 1219, 'promis': 1220, 'reduc': 1221, 'relat': 1222, 'shift': 1223, 'stand': 1224, 'statu': 1225, 'stori': 1226, 'tool': 1227, 'zealand': 1228, '1st': 1229, '25': 1230, 'abandon': 1231, 'assault': 1232, 'avoid': 1233, 'bad': 1234, 'beij': 1235, 'boss': 1236, 'captur': 1237, 'check': 1238, 'cloth': 1239, 'complaint': 1240, 'discuss': 1241, 'dismiss': 1242, 'egg': 1243, 'environ': 1244, 'estim': 1245, 'explos': 1246, 'farm': 1247, 'gambl': 1248, 'got': 1249, 'hasbro': 1250, 'hbomb': 1251, 'immun': 1252, 'initi': 1253, 'introduc': 1254, 'kind': 1255, 'machin': 1256, 'map': 1257, 'pension': 1258, 'pilot': 1259, 'planet': 1260, 'pledg': 1261, 'poor': 1262, 'procter': 1263, 'qualiti': 1264, 'ralli': 1265, 'refuge': 1266, 'rescu': 1267, 'resort': 1268, 'restrict': 1269, 'steal': 1270, 'theyr': 1271, 'tortur': 1272, 'town': 1273, 'treat': 1274, 'troubl': 1275, 'turkish': 1276, 'vow': 1277, 'young': 1278, 'ambassador': 1279, 'annual': 1280, 'answer': 1281, 'blow': 1282, 'chain': 1283, 'crackdown': 1284, 'cultur': 1285, 'equip': 1286, 'exclus': 1287, 'expand': 1288, 'flag': 1289, 'gift': 1290, 'hire': 1291, 'indonesia': 1292, 'iraq': 1293, 'italian': 1294, 'labor': 1295, 'lawmak': 1296, 'lee': 1297, 'liber': 1298, 'michael': 1299, 'mind': 1300, 'modern': 1301, 'origin': 1302, 'politician': 1303, 'prosecutor': 1304, 'qualcomm': 1305, 'radio': 1306, 'raid': 1307, 'revenu': 1308, 'strip': 1309, 'swedish': 1310, 'switch': 1311, 'tap': 1312, '19': 1313, '2013': 1314, '2021': 1315, '300': 1316, 'address': 1317, 'amount': 1318, 'appar': 1319, 'asset': 1320, 'biotech': 1321, 'c51': 1322, 'carbon': 1323, 'cent': 1324, 'coher': 1325, 'contact': 1326, 'currenc': 1327, 'discount': 1328, 'diseas': 1329, 'dozen': 1330, 'east': 1331, 'escal': 1332, 'exploit': 1333, 'extrem': 1334, 'favor': 1335, 'figur': 1336, 'fli': 1337, 'fresh': 1338, 'guardian': 1339, 'happen': 1340, 'idea': 1341, 'infring': 1342, 'jampk': 1343, 'jew': 1344, 'marriag': 1345, 'medicin': 1346, 'milwauke': 1347, 'moscow': 1348, 'muscl': 1349, 'newspap': 1350, 'offshor': 1351, 'paypal': 1352, 'plug': 1353, 'probe': 1354, 'roll': 1355, 'sector': 1356, 'settlement': 1357, 'sharehold': 1358, 'soon': 1359, 'spot': 1360, 'standard': 1361, 'strong': 1362, 'tilray': 1363, 'toxic': 1364, 'vehicl': 1365, 'wealth': 1366, 'whether': 1367, 'whistleblow': 1368, 'write': 1369, 'zynga': 1370, '2012': 1371, '9': 1372, 'accessori': 1373, 'auschwitz': 1374, 'burger': 1375, 'capac': 1376, 'centuri': 1377, 'cite': 1378, 'condemn': 1379, 'conduct': 1380, 'contractor': 1381, 'corp': 1382, 'cross': 1383, 'cup': 1384, 'disord': 1385, 'dna': 1386, 'ecommerc': 1387, 'film': 1388, 'forest': 1389, 'gear': 1390, 'heart': 1391, 'knew': 1392, 'might': 1393, 'ms': 1394, 'nationwid': 1395, 'p': 1396, 'passeng': 1397, 'phase': 1398, 'pro': 1399, 'religi': 1400, 'resid': 1401, 'respond': 1402, 'scheme': 1403, 'serv': 1404, 'southern': 1405, 'storm': 1406, 'surpass': 1407, 'tabl': 1408, 'therapeut': 1409, 'thought': 1410, 'went': 1411, 'worri': 1412, 'altern': 1413, 'anonym': 1414, 'apart': 1415, 'approach': 1416, 'april': 1417, 'art': 1418, 'bancorp': 1419, 'bar': 1420, 'bell': 1421, 'boy': 1422, 'came': 1423, 'celebr': 1424, 'civilian': 1425, 'collaps': 1426, 'construct': 1427, 'contain': 1428, 'controversi': 1429, 'cook': 1430, 'display': 1431, 'grant': 1432, 'iceland': 1433, 'june': 1434, 'junk': 1435, 'legend': 1436, 'liu': 1437, 'mean': 1438, 'milit': 1439, 'movement': 1440, 'option': 1441, 'pacif': 1442, 'pandem': 1443, 'pirat': 1444, 'pope': 1445, 'pound': 1446, 'punish': 1447, 'q': 1448, 'rebel': 1449, 'remot': 1450, 'request': 1451, 'restor': 1452, 'safe': 1453, 'satellit': 1454, 'singl': 1455, 'smartphon': 1456, 'spanish': 1457, 'spark': 1458, 'stealth': 1459, 'summit': 1460, 'ten': 1461, 'unearth': 1462, 'vast': 1463, 'vs': 1464, 'weekend': 1465, '90': 1466, 'acquisit': 1467, 'alert': 1468, 'along': 1469, 'analyst': 1470, 'analyt': 1471, 'arcam': 1472, 'basic': 1473, 'beliz': 1474, 'bitcoin': 1475, 'brown': 1476, 'candid': 1477, 'caught': 1478, 'censor': 1479, 'christian': 1480, 'combat': 1481, 'cyril': 1482, 'denmark': 1483, 'english': 1484, 'exon': 1485, 'fbi': 1486, 'goal': 1487, 'gp': 1488, 'greec': 1489, 'grid': 1490, 'guest': 1491, 'h1b': 1492, 'hail': 1493, 'hard': 1494, 'higher': 1495, 'highli': 1496, 'immigr': 1497, 'jordan': 1498, 'jump': 1499, 'king': 1500, 'lack': 1501, 'measur': 1502, 'nh': 1503, 'okta': 1504, 'oppos': 1505, 'pentagon': 1506, 'physic': 1507, 'propaganda': 1508, 'realli': 1509, 'red': 1510, 'river': 1511, 'router': 1512, 'scotland': 1513, 'shoe': 1514, 'singapor': 1515, 'sky': 1516, 'stay': 1517, 'tackl': 1518, 'taken': 1519, 'thank': 1520, 'theori': 1521, 'transfer': 1522, 'venezuela': 1523, 'wake': 1524, 'wast': 1525, 'what': 1526, 'wit': 1527, 'word': 1528, 'xperia': 1529, 'yr': 1530, 'al': 1531, 'alarm': 1532, 'allegedli': 1533, 'arriv': 1534, 'articl': 1535, 'attend': 1536, 'b': 1537, 'beef': 1538, 'brought': 1539, 'centr': 1540, 'cnet': 1541, 'committe': 1542, 'compar': 1543, 'competit': 1544, 'coupl': 1545, 'darwin': 1546, 'describ': 1547, 'deutsch': 1548, 'divest': 1549, 'dsm': 1550, 'enforc': 1551, 'enhanc': 1552, 'event': 1553, 'everyth': 1554, 'fact': 1555, 'fantasi': 1556, 'gather': 1557, 'he': 1558, 'hear': 1559, 'here': 1560, 'highlight': 1561, 'hurrican': 1562, 'imag': 1563, 'j20': 1564, 'latin': 1565, 'legisl': 1566, 'libya': 1567, 'minor': 1568, 'mountain': 1569, 'n': 1570, 'netanyahu': 1571, 'novavax': 1572, 'opposit': 1573, 'plung': 1574, 'presidenti': 1575, 'quit': 1576, 'reason': 1577, 'recal': 1578, 'sap': 1579, 'scientif': 1580, 'scrap': 1581, 'server': 1582, 'shortag': 1583, 'silver': 1584, 'soar': 1585, 'spill': 1586, 'stage': 1587, 'stone': 1588, 'stratasi': 1589, 'surviv': 1590, 'tencent': 1591, 'term': 1592, 'trademark': 1593, 'via': 1594, '2008': 1595, '22': 1596, 'agricultur': 1597, 'atampt': 1598, 'attract': 1599, 'carrier': 1600, 'chariti': 1601, 'crew': 1602, 'deep': 1603, 'defeat': 1604, 'did': 1605, 'disast': 1606, 'disclos': 1607, 'dump': 1608, 'elbit': 1609, 'etf': 1610, 'extend': 1611, 'factor': 1612, 'famou': 1613, 'feed': 1614, 'feel': 1615, 'footag': 1616, 'footbal': 1617, 'ford': 1618, 'hepat': 1619, 'hgan': 1620, 'holiday': 1621, 'holocaust': 1622, 'hub': 1623, 'infrastructur': 1624, 'kazakhstan': 1625, 'label': 1626, 'later': 1627, 'lift': 1628, 'magazin': 1629, 'marijuana': 1630, 'mckesson': 1631, 'motor': 1632, 'movi': 1633, 'obtain': 1634, 'occupi': 1635, 'password': 1636, 'permiss': 1637, 'pleas': 1638, 'plot': 1639, 'pump': 1640, 'queensland': 1641, 'rainforest': 1642, 'remark': 1643, 'roman': 1644, 'row': 1645, 'scare': 1646, 'score': 1647, 'sought': 1648, 'sound': 1649, 'spent': 1650, 'swiss': 1651, 'sydney': 1652, 'teenag': 1653, 'that': 1654, 'togeth': 1655, 'type': 1656, 'violent': 1657, 'x': 1658, 'yahoo': 1659, '70': 1660, 'adopt': 1661, 'ai': 1662, 'appoint': 1663, 'berlin': 1664, 'blast': 1665, 'brief': 1666, 'cambridg': 1667, 'club': 1668, 'congress': 1669, 'consult': 1670, 'contamin': 1671, 'convict': 1672, 'cop': 1673, 'democrat': 1674, 'encourag': 1675, 'field': 1676, 'fit': 1677, 'flee': 1678, 'fortinet': 1679, 'fox31': 1680, 'fukushima': 1681, 'gave': 1682, 'grand': 1683, 'h': 1684, 'heat': 1685, 'heritag': 1686, 'hidden': 1687, 'hide': 1688, 'hill': 1689, 'iaquinta': 1690, 'ignor': 1691, 'improv': 1692, 'instant': 1693, 'is': 1694, 'j': 1695, 'jone': 1696, 'kingdom': 1697, 'labour': 1698, 'learn': 1699, 'malaysia': 1700, 'matter': 1701, 'mental': 1702, 'mph': 1703, 'nine': 1704, 'organis': 1705, 'ottawa': 1706, 'outbreak': 1707, 'page': 1708, 'pesticid': 1709, 'petit': 1710, 'pig': 1711, 'present': 1712, 'provinc': 1713, 'rental': 1714, 'ride': 1715, 'rupert': 1716, 'shock': 1717, 'slow': 1718, 'son': 1719, 'squar': 1720, 'st': 1721, 'steve': 1722, 'stick': 1723, 'substanc': 1724, 'success': 1725, 'sustain': 1726, 'tank': 1727, 'theme': 1728, 'tip': 1729, 'tr': 1730, 'trader': 1731, 'transport': 1732, 'truth': 1733, 'ufc': 1734, 'valuabl': 1735, 'veteran': 1736, 'violenc': 1737, 'vladimir': 1738, 'wi': 1739, 'william': 1740, 'wrong': 1741, '100000': 1742, '20212027': 1743, '21': 1744, '23': 1745, '29': 1746, 'addit': 1747, 'afford': 1748, 'agent': 1749, 'assist': 1750, 'averag': 1751, 'barri': 1752, 'blood': 1753, 'cabl': 1754, 'cameron': 1755, 'choos': 1756, 'common': 1757, 'con': 1758, 'concentr': 1759, 'conflict': 1760, 'criticis': 1761, 'delhi': 1762, 'doubl': 1763, 'drugmak': 1764, 'dutch': 1765, 'easi': 1766, 'embassi': 1767, 'ethic': 1768, 'excess': 1769, 'faith': 1770, 'filter': 1771, 'frack': 1772, 'genet': 1773, 'harri': 1774, 'hero': 1775, 'individu': 1776, 'ipad': 1777, 'lake': 1778, 'marin': 1779, 'massacr': 1780, 'mormon': 1781, 'morn': 1782, 'nba': 1783, 'oversea': 1784, 'overtak': 1785, 'own': 1786, 'pharma': 1787, 'poverti': 1788, 'race': 1789, 'rang': 1790, 'referendum': 1791, 'riot': 1792, 'shipwreck': 1793, 'shown': 1794, 'side': 1795, 'stem': 1796, 'storag': 1797, 'surpris': 1798, 'televis': 1799, 'ticket': 1800, 'uae': 1801, 'voic': 1802, '400': 1803, 'aborigin': 1804, 'acceler': 1805, 'allianc': 1806, 'anyon': 1807, 'bag': 1808, 'bailout': 1809, 'bit': 1810, 'bone': 1811, 'boom': 1812, 'brain': 1813, 'bric': 1814, 'bu': 1815, 'capitol': 1816, 'cathol': 1817, 'certif': 1818, 'chanc': 1819, 'count': 1820, 'cours': 1821, 'del': 1822, 'deploy': 1823, 'deposit': 1824, 'devast': 1825, 'differ': 1826, 'diplomat': 1827, 'domest': 1828, 'duncan': 1829, 'employ': 1830, 'erdogan': 1831, 'establish': 1832, 'exec': 1833, 'eye': 1834, 'fifth': 1835, 'flat': 1836, 'gilead': 1837, 'god': 1838, 'happi': 1839, 'hate': 1840, 'identifi': 1841, 'implic': 1842, 'incid': 1843, 'indoor': 1844, 'insist': 1845, 'instead': 1846, 'integr': 1847, 'jame': 1848, 'jewish': 1849, 'kit': 1850, 'llc': 1851, 'migrant': 1852, 'mile': 1853, 'minut': 1854, 'nigerian': 1855, 'observ': 1856, 'occup': 1857, 'outlook': 1858, 'peter': 1859, 'photograph': 1860, 'poison': 1861, 'pool': 1862, 'pose': 1863, 'rank': 1864, 'rather': 1865, 'recommend': 1866, 'recruit': 1867, 'reform': 1868, 'regard': 1869, 'rock': 1870, 'septemb': 1871, 'signal': 1872, 'sopa': 1873, 'speaker': 1874, 'specif': 1875, 'starbuck': 1876, 'stun': 1877, 'subscript': 1878, 'survey': 1879, 'tehran': 1880, 'territori': 1881, 'texa': 1882, 'tmobil': 1883, 'tori': 1884, 'verisign': 1885, 'wave': 1886, 'whale': 1887, 'whole': 1888, 'wife': 1889, 'wordpress': 1890, 'yet': 1891, 'zone': 1892, '2000': 1893, '600': 1894, 'acknowledg': 1895, 'actual': 1896, 'antiterror': 1897, 'arn': 1898, 'assembl': 1899, 'audit': 1900, 'beauti': 1901, 'belt': 1902, 'bin': 1903, 'bought': 1904, 'brutal': 1905, 'cadiz': 1906, 'cbc': 1907, 'cigarett': 1908, 'clinton': 1909, 'collabor': 1910, 'cooper': 1911, 'cv': 1912, 'dc': 1913, 'default': 1914, 'defenc': 1915, 'delta': 1916, 'deport': 1917, 'destruct': 1918, 'discrimin': 1919, 'domin': 1920, 'door': 1921, 'doubt': 1922, 'ecuadorian': 1923, 'enjoy': 1924, 'entertain': 1925, 'entri': 1926, 'explain': 1927, 'f35': 1928, 'fill': 1929, 'flood': 1930, 'franchis': 1931, 'gap': 1932, 'gogo': 1933, 'governor': 1934, 'greek': 1935, 'greenhous': 1936, 'guid': 1937, 'hint': 1938, 'ice': 1939, 'index': 1940, 'injur': 1941, 'januari': 1942, 'jongun': 1943, 'joseph': 1944, 'journal': 1945, 'juli': 1946, 'kevin': 1947, 'listen': 1948, 'lord': 1949, 'malwar': 1950, 'margaret': 1951, 'mastercard': 1952, 'midday': 1953, 'monopoli': 1954, 'multipl': 1955, 'mysteri': 1956, 'northeast': 1957, 'offens': 1958, 'often': 1959, 'oldest': 1960, 'ontario': 1961, 'oracl': 1962, 'outfitt': 1963, 'pakistani': 1964, 'para': 1965, 'particip': 1966, 'philip': 1967, 'previous': 1968, 'probabl': 1969, 'prompt': 1970, 'prove': 1971, 'quebec': 1972, 'relationship': 1973, 'rest': 1974, 'riley': 1975, 'ring': 1976, 'seed': 1977, 'seriou': 1978, 'soap': 1979, 'spdr': 1980, 'subscrib': 1981, 'subsidiari': 1982, 'suit': 1983, 'teen': 1984, 'telecom': 1985, 'transform': 1986, 'trimbl': 1987, 'troop': 1988, 'true': 1989, 'usd': 1990, 'v': 1991, 'vatican': 1992, 'vietnam': 1993, 'vulner': 1994, 'wear': 1995, 'zebra': 1996, '20212026': 1997, '2026': 1998, '26': 1999, '5000': 2000, '55': 2001, '75': 2002, '95': 2003, 'advoc': 2004, 'afghan': 2005, 'aggress': 2006, 'antisemit': 2007, 'apron': 2008, 'assess': 2009, 'audio': 2010, 'basebal': 2011, 'bmw': 2012, 'bnh': 2013, 'boat': 2014, 'boycott': 2015, 'bullet': 2016, 'bush': 2017, 'catastroph': 2018, 'clash': 2019, 'classifi': 2020, 'combin': 2021, 'confront': 2022, 'cool': 2023, 'cuba': 2024, 'debut': 2025, 'declin': 2026, 'delet': 2027, 'directli': 2028, 'disabl': 2029, 'distribut': 2030, 'draft': 2031, 'edit': 2032, 'endang': 2033, 'exit': 2034, 'extremist': 2035, 'father': 2036, 'feet': 2037, 'flaw': 2038, 'forward': 2039, 'friend': 2040, 'gain': 2041, 'garden': 2042, 'garment': 2043, 'glaxosmithklin': 2044, 'gsk': 2045, 'guatemala': 2046, 'handl': 2047, 'harm': 2048, 'heavi': 2049, 'horror': 2050, 'hostess': 2051, 'implement': 2052, 'indic': 2053, 'intercept': 2054, 'jack': 2055, 'ka_kameliatod': 2056, 'kidnap': 2057, 'lab': 2058, 'liberti': 2059, 'libyan': 2060, 'lot': 2061, 'lowest': 2062, 'mar': 2063, 'mdlive': 2064, 'mike': 2065, 'minimum': 2066, 'ob': 2067, 'opt': 2068, 'packag': 2069, 'plc': 2070, 'poland': 2071, 'polish': 2072, 'por': 2073, 'portfolio': 2074, 'programm': 2075, 'recognit': 2076, 'recycl': 2077, 'reopen': 2078, 'repair': 2079, 'rich': 2080, 'robert': 2081, 'samesex': 2082, 'scale': 2083, 'schedul': 2084, 'seven': 2085, 'shield': 2086, 'sina': 2087, 'slim': 2088, 'soc': 2089, 'sorenson': 2090, 'spring': 2091, 'strategi': 2092, 'subject': 2093, 'sugar': 2094, 'super': 2095, 'sure': 2096, 'takeov': 2097, 'telehealth': 2098, 'telem': 2099, 'tini': 2100, 'tokyo': 2101, 'toy': 2102, 'trace': 2103, 'tumbl': 2104, 'uncov': 2105, 'understand': 2106, 'valley': 2107, 'venezuelan': 2108, 'wale': 2109, 'walkman': 2110, '2011': 2111, '20202026': 2112, '2050': 2113, '24': 2114, '27': 2115, '32': 2116, 'aaa': 2117, 'abb': 2118, 'abil': 2119, 'accolad': 2120, 'adida': 2121, 'advis': 2122, 'android': 2123, 'artifici': 2124, 'assang': 2125, 'assassin': 2126, 'astrazeneca': 2127, 'atlant': 2128, 'attain': 2129, 'august': 2130, 'band': 2131, 'belong': 2132, 'biogen': 2133, 'blog': 2134, 'bp': 2135, 'cap': 2136, 'capabl': 2137, 'cast': 2138, 'certain': 2139, 'cia': 2140, 'closer': 2141, 'cnbc': 2142, 'coca': 2143, 'cola': 2144, 'colleg': 2145, 'colombia': 2146, 'compromis': 2147, 'counter': 2148, 'crowd': 2149, 'cruis': 2150, 'cyberattack': 2151, 'degre': 2152, 'disrupt': 2153, 'drake': 2154, 'drunk': 2155, 'echo': 2156, 'egyptian': 2157, 'engag': 2158, 'ensur': 2159, 'essenti': 2160, 'ethiopia': 2161, 'everyon': 2162, 'expens': 2163, 'extens': 2164, 'exxon': 2165, 'fifa': 2166, 'fitbit': 2167, 'floor': 2168, 'florida': 2169, 'franci': 2170, 'fsokx': 2171, 'galaxi': 2172, 'globe': 2173, 'gop': 2174, 'homeland': 2175, 'hunt': 2176, 'iain': 2177, 'innov': 2178, 'inquiri': 2179, 'interact': 2180, 'iron': 2181, 'item': 2182, 'jennif': 2183, 'jeremi': 2184, 'kany': 2185, 'lanka': 2186, 'laptop': 2187, 'luxuri': 2188, 'macron': 2189, 'medit': 2190, 'merkel': 2191, 'micron': 2192, 'misconduct': 2193, 'negoti': 2194, 'note': 2195, 'object': 2196, 'outlet': 2197, 'outsourc': 2198, 'palm': 2199, 'panama': 2200, 'pioneer': 2201, 'plexu': 2202, 'plummet': 2203, 'podcast': 2204, 'pregnant': 2205, 'preserv': 2206, 'profession': 2207, 'pusha': 2208, 'quot': 2209, 'radic': 2210, 'ralicap1': 2211, 'reflect': 2212, 'relief': 2213, 'rent': 2214, 'reuter': 2215, 'revok': 2216, 'revolt': 2217, 'richard': 2218, 'sack': 2219, 'season': 2220, 'seem': 2221, 'settl': 2222, 'slaveri': 2223, 'split': 2224, 'sri': 2225, 'stole': 2226, 'strateg': 2227, 'swap': 2228, 'taliban': 2229, 'tension': 2230, 'termin': 2231, 'there': 2232, 'throughout': 2233, 'ton': 2234, 'toronto': 2235, 'transit': 2236, 'upwork': 2237, 'usb': 2238, 'varieti': 2239, 'walk': 2240, 'warner': 2241, 'wildfir': 2242, 'xpost': 2243, 'yemen': 2244, 'your': 2245, '200000': 2246, '2027': 2247, '2030': 2248, '350': 2249, '41': 2250, '93': 2251, 'abloy': 2252, 'achiev': 2253, 'actor': 2254, 'acuiti': 2255, 'adult': 2256, 'advantag': 2257, 'allot': 2258, 'amx': 2259, 'analytica': 2260, 'anger': 2261, 'argentina': 2262, 'asian': 2263, 'assa': 2264, 'auction': 2265, 'baghdad': 2266, 'ballist': 2267, 'bay': 2268, 'beach': 2269, 'beaten': 2270, 'bing': 2271, 'biomed': 2272, 'bn': 2273, 'bond': 2274, 'broken': 2275, 'bull': 2276, 'cafe': 2277, 'cave': 2278, 'ch': 2279, 'cha': 2280, 'charact': 2281, 'choic': 2282, 'clinic': 2283, 'complex': 2284, 'compon': 2285, 'contribut': 2286, 'convent': 2287, 'coup': 2288, 'crazi': 2289, 'crown': 2290, 'd': 2291, 'dark': 2292, 'detain': 2293, 'discontinu': 2294, 'dolphin': 2295, 'donor': 2296, 'dramat': 2297, 'drew': 2298, 'drill': 2299, 'dubai': 2300, 'e': 2301, 'elderli': 2302, 'elimin': 2303, 'elit': 2304, 'encrypt': 2305, 'failur': 2306, 'fals': 2307, 'fashion': 2308, 'februari': 2309, 'firewal': 2310, 'front': 2311, 'fulli': 2312, 'gang': 2313, 'gate': 2314, 'golf': 2315, 'greenpeac': 2316, 'haul': 2317, 'hedg': 2318, 'hello': 2319, 'hsbc': 2320, 'humanitarian': 2321, 'ibex': 2322, 'infant': 2323, 'info': 2324, 'instagram': 2325, 'julian': 2326, 'kept': 2327, 'laid': 2328, 'leagu': 2329, 'lend': 2330, 'liquid': 2331, 'lucr': 2332, 'makemytrip': 2333, 'memori': 2334, 'merger': 2335, 'met': 2336, 'metal': 2337, 'mint': 2338, 'moment': 2339, 'monkey': 2340, 'moon': 2341, 'mr': 2342, 'multin': 2343, 'mumbai': 2344, 'netherland': 2345, 'neutral': 2346, 'nodeal': 2347, 'noth': 2348, 'nuvas': 2349, 'octob': 2350, 'otherwis': 2351, 'pack': 2352, 'paradis': 2353, 'pharmaci': 2354, 'pic': 2355, 'pois': 2356, 'port': 2357, 'prais': 2358, 'profil': 2359, 'publicli': 2360, 'purpl': 2361, 'q2': 2362, 'queen': 2363, 'recogn': 2364, 'regist': 2365, 'repeat': 2366, 'resist': 2367, 'retir': 2368, 'revel': 2369, 'revers': 2370, 'revolut': 2371, 'richest': 2372, 'rocket': 2373, 'sa': 2374, 'shave': 2375, 'shelv': 2376, 'shirt': 2377, 'silenc': 2378, 'sing': 2379, 'sit': 2380, 'sixhour': 2381, 'snap': 2382, 'socal': 2383, 'soccer': 2384, 'spell': 2385, 'stitch': 2386, 'struck': 2387, 'swim': 2388, 'taxi': 2389, 'th': 2390, 'thatcher': 2391, 'tim': 2392, 'ukrainian': 2393, 'ultim': 2394, 'upgrad': 2395, 'voter': 2396, 'watchdog': 2397, 'welcom': 2398, 'wide': 2399, 'wild': 2400, 'wildlif': 2401, 'zoo': 2402, '120': 2403, '1500': 2404, '15000': 2405, '35': 2406, '37': 2407, '45': 2408, '700': 2409, '800': 2410, '93yearold': 2411, 'aa': 2412, 'academ': 2413, 'adam': 2414, 'alexa': 2415, 'algorithm': 2416, 'alon': 2417, 'amnesti': 2418, 'angela': 2419, 'anniversari': 2420, 'apartheid': 2421, 'archaeolog': 2422, 'artist': 2423, 'astronaut': 2424, 'athersi': 2425, 'beneath': 2426, 'beverag': 2427, 'bigger': 2428, 'bird': 2429, 'blackout': 2430, 'bradley': 2431, 'bribe': 2432, 'buri': 2433, 'cabinet': 2434, 'catalyst': 2435, 'catch': 2436, 'censorship': 2437, 'charter': 2438, 'chat': 2439, 'cho': 2440, 'christma': 2441, 'chronic': 2442, 'citizenship': 2443, 'communist': 2444, 'conspiraci': 2445, 'constitut': 2446, 'copyright': 2447, 'corbyn': 2448, 'creator': 2449, 'crop': 2450, 'csp': 2451, 'danish': 2452, 'democraci': 2453, 'denounc': 2454, 'depend': 2455, 'dip': 2456, 'ditch': 2457, 'dutert': 2458, 'duti': 2459, 'element': 2460, 'eleph': 2461, 'equival': 2462, 'escap': 2463, 'espionag': 2464, 'examin': 2465, 'exampl': 2466, 'except': 2467, 'extraordinari': 2468, 'f': 2469, 'fda': 2470, 'fiscal': 2471, 'flash': 2472, 'flu': 2473, 'francisco': 2474, 'frozen': 2475, 'function': 2476, 'fxxauusd': 2477, 'grave': 2478, 'grip': 2479, 'hama': 2480, 'hell': 2481, 'jerusalem': 2482, 'jihadist': 2483, 'joann': 2484, 'kenya': 2485, 'killer': 2486, 'kurdish': 2487, 'laureat': 2488, 'leadership': 2489, 'li': 2490, 'mail': 2491, 'manchest': 2492, 'manipul': 2493, 'marc': 2494, 'mi5': 2495, 'migrat': 2496, 'na': 2497, 'norwegian': 2498, 'opportun': 2499, 'outag': 2500, 'outrag': 2501, 'overturn': 2502, 'oxford': 2503, 'p8': 2504, 'paint': 2505, 'pair': 2506, 'passport': 2507, 'physicist': 2508, 'portabl': 2509, 'predict': 2510, 'prefer': 2511, 'promin': 2512, 'prosecut': 2513, 'quotient': 2514, 'ram': 2515, 'rapid': 2516, 'reactor': 2517, 'reef': 2518, 'reli': 2519, 'rhino': 2520, 'rice': 2521, 'rightw': 2522, 'rip': 2523, 'round': 2524, 'rt': 2525, 'scott': 2526, 'seer': 2527, 'selfdriv': 2528, 'setup': 2529, 'shale': 2530, 'singleus': 2531, 'sleep': 2532, 'someth': 2533, 'sovereign': 2534, 'spirit': 2535, 'sponsor': 2536, 'stephen': 2537, 'stoke': 2538, 'strengthen': 2539, 'stress': 2540, 'structur': 2541, 'struggl': 2542, 'sunni': 2543, 'supposedli': 2544, 'survivor': 2545, 'sweep': 2546, 'switzerland': 2547, 'tape': 2548, 'taylor': 2549, 'teach': 2550, 'thai': 2551, 'theft': 2552, 'thoma': 2553, 'toni': 2554, 'tonn': 2555, 'tor': 2556, 'traffick': 2557, 'tragedi': 2558, 'trap': 2559, 'treasur': 2560, 'tribe': 2561, 'trip': 2562, 'tshirt': 2563, 'vacat': 2564, 'ventur': 2565, 'viacomcb': 2566, 'victori': 2567, 'vike': 2568, 'was': 2569, 'wealthi': 2570, 'widespread': 2571, 'wtf': 2572, 'yelp': 2573, '150': 2574, '2023': 2575, '3000': 2576, '4000': 2577, '4s': 2578, '7000': 2579, '94': 2580, '96': 2581, '99': 2582, 'abbott': 2583, 'abu': 2584, 'accid': 2585, 'adapt': 2586, 'aerial': 2587, 'affair': 2588, 'amgen': 2589, 'antibiot': 2590, 'anticip': 2591, 'are': 2592, 'argument': 2593, 'athlet': 2594, 'au': 2595, 'aviat': 2596, 'backlash': 2597, 'barrel': 2598, 'bc': 2599, 'benioff': 2600, 'bhopal': 2601, 'bike': 2602, 'bolivia': 2603, 'born': 2604, 'bridg': 2605, 'budget': 2606, 'bulk': 2607, 'canaan': 2608, 'cat': 2609, 'chappel': 2610, 'client': 2611, 'co2': 2612, 'coffe': 2613, 'companion': 2614, 'competitor': 2615, 'conclus': 2616, 'concret': 2617, 'confid': 2618, 'contest': 2619, 'contin': 2620, 'convinc': 2621, 'dawn': 2622, 'deadlin': 2623, 'debat': 2624, 'demonstr': 2625, 'dissid': 2626, 'district': 2627, 'divid': 2628, 'divis': 2629, 'du': 2630, 'eight': 2631, 'em': 2632, 'equal': 2633, 'es': 2634, 'exhibit': 2635, 'exss': 2636, 'fabric': 2637, 'facil': 2638, 'familiar': 2639, 'fat': 2640, 'fed': 2641, 'firstev': 2642, 'foxconn': 2643, 'gadget': 2644, 'gone': 2645, 'greatest': 2646, 'greenwald': 2647, 'guarante': 2648, 'hang': 2649, 'harass': 2650, 'helicopt': 2651, 'henri': 2652, 'highlevel': 2653, 'hitler': 2654, 'holder': 2655, 'honor': 2656, 'hugh': 2657, 'immedi': 2658, 'increasingli': 2659, 'indonesian': 2660, 'intend': 2661, 'intent': 2662, 'ip': 2663, 'jacqui': 2664, 'jong': 2665, 'jpmorgan': 2666, 'kurd': 2667, 'l': 2668, 'landmark': 2669, 'librari': 2670, 'malaysian': 2671, 'maria': 2672, 'math': 2673, 'meal': 2674, 'mention': 2675, 'mesoblast': 2676, 'miner': 2677, 'mislead': 2678, 'morningstar': 2679, 'morocco': 2680, 'myanmar': 2681, 'nato': 2682, 'nhng': 2683, 'nick': 2684, 'nonprofit': 2685, 'nuke': 2686, 'occur': 2687, 'opium': 2688, 'output': 2689, 'particl': 2690, 'pc': 2691, 'picasso': 2692, 'poacher': 2693, 'poorest': 2694, 'pour': 2695, 'progress': 2696, 'prostitut': 2697, 'ransomwar': 2698, 'rebuild': 2699, 'recov': 2700, 'regim': 2701, 'repeatedli': 2702, 'respect': 2703, 'restructur': 2704, 'reward': 2705, 'robberi': 2706, 'robertson': 2707, 'rose': 2708, 'rout': 2709, 'rural': 2710, 'sail': 2711, 'scam': 2712, 'seal': 2713, 'semiconductor': 2714, 'session': 2715, 'settler': 2716, 'short': 2717, 'similar': 2718, 'simpl': 2719, 'sin': 2720, 'sixth': 2721, 'skill': 2722, 'skull': 2723, 'smartwatch': 2724, 'societi': 2725, 'solarpow': 2726, 'spokesman': 2727, 'spotifi': 2728, 'squawk': 2729, 'steel': 2730, 'stryker': 2731, 'submit': 2732, 'suspicion': 2733, 'symptom': 2734, 'taxpay': 2735, 'telegram': 2736, 'temporarili': 2737, 'throw': 2738, 'tradingview': 2739, 'troll': 2740, 'tunnel': 2741, 'turbin': 2742, 'undermin': 2743, 'unknown': 2744, 'unlock': 2745, 'urgent': 2746, 've': 2747, 'vessel': 2748, 'viral': 2749, 'wa': 2750, 'walt': 2751, 'warehous': 2752, 'we': 2753, 'windfarm': 2754, 'wipe': 2755, 'wors': 2756, 'yesterday': 2757, 'zero': 2758, 'zhou': 2759, 'zimbabw': 2760, 'zoom': 2761, '140': 2762, '150000': 2763, '1bn': 2764, '2009': 2765, '250': 2766, '28': 2767, '76': 2768, 'aapl': 2769, 'abduct': 2770, 'acid': 2771, 'advisori': 2772, 'affili': 2773, 'alongsid': 2774, 'alway': 2775, 'alzheim': 2776, 'ammar': 2777, 'andrew': 2778, 'antarct': 2779, 'aphria': 2780, 'arch': 2781, 'argu': 2782, 'aruba': 2783, 'asiapacif': 2784, 'attorney': 2785, 'autocad': 2786, 'automak': 2787, 'bandwidth': 2788, 'barack': 2789, 'basi': 2790, 'basketbal': 2791, 'began': 2792, 'begun': 2793, 'birthday': 2794, 'blockchain': 2795, 'booster': 2796, 'borrow': 2797, 'bosch': 2798, 'brace': 2799, 'breakthrough': 2800, 'breed': 2801, 'briton': 2802, 'bronz': 2803, 'brussel': 2804, 'buck': 2805, 'bust': 2806, 'cannon': 2807, 'cc': 2808, 'chair': 2809, 'champion': 2810, 'cheap': 2811, 'cheaper': 2812, 'cheer': 2813, 'citrix': 2814, 'click': 2815, 'cloud4wi': 2816, 'cm': 2817, 'cold': 2818, 'conceal': 2819, 'consol': 2820, 'convert': 2821, 'copi': 2822, 'corlin': 2823, 'creativ': 2824, 'crocodil': 2825, 'cure': 2826, 'dad': 2827, 'dairi': 2828, 'dan': 2829, 'decor': 2830, 'deem': 2831, 'deforest': 2832, 'delist': 2833, 'destin': 2834, 'diesel': 2835, 'dirti': 2836, 'domain': 2837, 'draw': 2838, 'earthquak': 2839, 'eas': 2840, 'easili': 2841, 'ed': 2842, 'edg': 2843, 'enterpris': 2844, 'entrepreneur': 2845, 'equiti': 2846, 'error': 2847, 'erupt': 2848, 'est': 2849, 'euclid': 2850, 'evacu': 2851, 'evad': 2852, 'exercis': 2853, 'explan': 2854, 'farright': 2855, 'fastest': 2856, 'fatal': 2857, 'festiv': 2858, 'float': 2859, 'format': 2860, 'fruit': 2861, 'glenn': 2862, 'greater': 2863, 'greta': 2864, 'gulf': 2865, 'gunman': 2866, 'hall': 2867, 'harvest': 2868, 'hd': 2869, 'helpusel': 2870, 'hijab': 2871, 'hoax': 2872, 'hook': 2873, 'horrif': 2874, 'hunter': 2875, 'hybrid': 2876, 'iflex': 2877, 'iheartmedia': 2878, 'ill': 2879, 'imposs': 2880, 'indict': 2881, 'infect': 2882, 'infiltr': 2883, 'insult': 2884, 'integra': 2885, 'invit': 2886, 'iqiyi': 2887, 'jo': 2888, 'johmani': 2889, 'kashmir': 2890, 'koch': 2891, 'lace': 2892, 'liabil': 2893, 'lifesci': 2894, 'liken': 2895, 'll': 2896, 'lock': 2897, 'lockdown': 2898, 'login': 2899, 'mac': 2900, 'madrid': 2901, 'maglev': 2902, 'mamp': 2903, 'matiss': 2904, 'matthew': 2905, 'medal': 2906, 'mediev': 2907, 'meltdown': 2908, 'memo': 2909, 'meridian': 2910, 'method': 2911, 'mh370': 2912, 'mi': 2913, 'minnesota': 2914, 'mission': 2915, 'mix': 2916, 'mn': 2917, 'mogo': 2918, 'necessari': 2919, 'neonazi': 2920, 'newli': 2921, 'nhn': 2922, 'nich': 2923, 'novarti': 2924, 'older': 2925, 'ongo': 2926, 'openli': 2927, 'organogenesi': 2928, 'osiri': 2929, 'pact': 2930, 'pain': 2931, 'pampg': 2932, 'patriot': 2933, 'paul': 2934, 'peru': 2935, 'petroleum': 2936, 'plantbas': 2937, 'pop': 2938, 'pot': 2939, 'previou': 2940, 'proclaim': 2941, 'prolianc': 2942, 'proxi': 2943, 'purpos': 2944, 'racist': 2945, 'rail': 2946, 'rain': 2947, 'ramen': 2948, 'recess': 2949, 'refund': 2950, 'regen': 2951, 'regi': 2952, 'religion': 2953, 'rendicin': 2954, 'rid': 2955, 'roughli': 2956, 'rucku': 2957, 'rumor': 2958, 'salari': 2959, 'sampl': 2960, 'scan': 2961, 'scrambl': 2962, 'screen': 2963, 'script': 2964, 'shake': 2965, 'sierra': 2966, 'situat': 2967, 'slap': 2968, 'smoke': 2969, 'solid': 2970, 'sophist': 2971, 'soviet': 2972, 'specul': 2973, 'sperm': 2974, 'sponsorship': 2975, 'stab': 2976, 'stabil': 2977, 'staterun': 2978, 'steven': 2979, 'studio': 2980, 'summon': 2981, 'symbol': 2982, 'technic': 2983, 'telescop': 2984, 'text': 2985, 'theresa': 2986, 'thermostat': 2987, 'tin': 2988, 'tobacco': 2989, 'toll': 2990, 'tomb': 2991, 'tough': 2992, 'tour': 2993, 'tourism': 2994, 'tower': 2995, 'transact': 2996, 'treasuri': 2997, 'trigger': 2998, 'trudeau': 2999, 'undercov': 3000, 'unifi': 3001, 'unilev': 3002, 'unlaw': 3003, 'unlimit': 3004, 'unpaid': 3005, 'uruguay': 3006, 'vanish': 3007, 'verg': 3008, 'verizon': 3009, 'vi': 3010, 'virginia': 3011, 'visitor': 3012, 'wait': 3013, 'wearabl': 3014, 'winter': 3015, 'wive': 3016, 'wrote': 3017, 'youth': 3018, 'yuan': 3019, '110000': 3020, '117': 3021, '170': 3022, '1970': 3023, '2001': 3024, '2010': 3025, '33': 3026, '38': 3027, '43': 3028, '46': 3029, '700000': 3030, '74': 3031, '77': 3032, 'accentur': 3033, 'adelaid': 3034, 'aerospac': 3035, 'afya': 3036, 'agora': 3037, 'aig': 3038, 'airplan': 3039, 'airstrik': 3040, 'align': 3041, 'angri': 3042, 'anthoni': 3043, 'antibodi': 3044, 'ashcroft': 3045, 'astronom': 3046, 'autom': 3047, 'bahrain': 3048, 'balanc': 3049, 'ball': 3050, 'behalf': 3051, 'behaviour': 3052, 'bet': 3053, 'billboard': 3054, 'blair': 3055, 'bmx': 3056, 'bottom': 3057, 'bow': 3058, 'brad': 3059, 'branch': 3060, 'bread': 3061, 'briberi': 3062, 'briefli': 3063, 'brows': 3064, 'cambodian': 3065, 'cartel': 3066, 'cch': 3067, 'charli': 3068, 'cheat': 3069, 'chengdu': 3070, 'chile': 3071, 'claw': 3072, 'clearli': 3073, 'clone': 3074, 'closur': 3075, 'cn': 3076, 'coalfir': 3077, 'cofound': 3078, 'compet': 3079, 'complain': 3080, 'confidenti': 3081, 'consequ': 3082, 'consumpt': 3083, 'contra': 3084, 'coordin': 3085, 'coverup': 3086, 'cow': 3087, 'crude': 3088, 'databas': 3089, 'daughter': 3090, 'dedic': 3091, 'deepen': 3092, 'defector': 3093, 'deliber': 3094, 'dell': 3095, 'deriv': 3096, 'detent': 3097, 'dhabi': 3098, 'dick': 3099, 'dinosaur': 3100, 'dng': 3101, 'doj': 3102, 'dotcom': 3103, 'dream': 3104, 'drought': 3105, 'ecuadorean': 3106, 'emir': 3107, 'encount': 3108, 'espn': 3109, 'ethiopian': 3110, 'evict': 3111, 'evolut': 3112, 'expedia': 3113, 'extradit': 3114, 'fasttrack': 3115, 'fishermen': 3116, 'furi': 3117, 'gase': 3118, 'gel': 3119, 'genocid': 3120, 'georgia': 3121, 'getti': 3122, 'gorilla': 3123, 'grab': 3124, 'guidanc': 3125, 'heard': 3126, 'hiu': 3127, 'hood': 3128, 'household': 3129, 'howev': 3130, 'hungari': 3131, 'ident': 3132, 'inaugur': 3133, 'incorpor': 3134, 'inject': 3135, 'inspect': 3136, 'insulin': 3137, 'interfer': 3138, 'isol': 3139, 'iu': 3140, 'jk': 3141, 'jose': 3142, 'judgment': 3143, 'juncker': 3144, 'kick': 3145, 'kiss': 3146, 'knife': 3147, 'kraft': 3148, 'kuwait': 3149, 'ladi': 3150, 'lash': 3151, 'latvia': 3152, 'launder': 3153, 'lebanon': 3154, 'leg': 3155, 'lifetim': 3156, 'linkedin': 3157, 'longterm': 3158, 'maintain': 3159, 'marri': 3160, 'master': 3161, 'maximum': 3162, 'meant': 3163, 'menu': 3164, 'meter': 3165, 'midnight': 3166, 'mileston': 3167, 'militia': 3168, 'milk': 3169, 'mirra': 3170, 'modi': 3171, 'moodi': 3172, 'mostli': 3173, 'motion': 3174, 'motorola': 3175, 'mt': 3176, 'mueller': 3177, 'munich': 3178, 'nake': 3179, 'nam': 3180, 'nativ': 3181, 'navig': 3182, 'neighbor': 3183, 'neil': 3184, 'novemb': 3185, 'nvidia': 3186, 'oblong': 3187, 'offend': 3188, 'ok': 3189, 'onshor': 3190, 'opinion': 3191, 'orbit': 3192, 'os': 3193, 'panic': 3194, 'patch': 3195, 'patrol': 3196, 'paulo': 3197, 'peak': 3198, 'pen': 3199, 'pepsi': 3200, 'perfect': 3201, 'perman': 3202, 'petrona': 3203, 'plead': 3204, 'pocket': 3205, 'polar': 3206, 'pompeo': 3207, 'poppi': 3208, 'porn': 3209, 'powder': 3210, 'priest': 3211, 'printabl': 3212, 'prohibit': 3213, 'proof': 3214, 'proven': 3215, 'pursu': 3216, 'qu': 3217, 'quantum': 3218, 'quota': 3219, 'racial': 3220, 'radioact': 3221, 'ramat': 3222, 'rebellion': 3223, 'rebuk': 3224, 'reed': 3225, 'regeneron': 3226, 'registri': 3227, 'rel': 3228, 'rememb': 3229, 'retali': 3230, 'retreat': 3231, 'rideshar': 3232, 'rig': 3233, 'rouhani': 3234, 'ruin': 3235, 'sander': 3236, 'sank': 3237, 'saw': 3238, 'scari': 3239, 'schmidt': 3240, 'scottish': 3241, 'scp': 3242, 'seat': 3243, 'selfi': 3244, 'sens': 3245, 'sensit': 3246, 'serious': 3247, 'setback': 3248, 'shampoo': 3249, 'shark': 3250, 'shepherd': 3251, 'sick': 3252, 'sight': 3253, 'silicon': 3254, 'skeptic': 3255, 'slave': 3256, 'smaller': 3257, 'smuggl': 3258, 'southwest': 3259, 'spacex': 3260, 'spare': 3261, 'spike': 3262, 'spoke': 3263, 'statesponsor': 3264, 'steadi': 3265, 'steam': 3266, 'subsidi': 3267, 'sun': 3268, 'sunken': 3269, 'supermarket': 3270, 'suppress': 3271, 'surgic': 3272, 'sword': 3273, 'telekom': 3274, 'templ': 3275, 'tesco': 3276, 'thu': 3277, 'thwart': 3278, 'tiananmen': 3279, 'tibetan': 3280, 'tire': 3281, 'titan': 3282, 'tradit': 3283, 'translat': 3284, 'transmit': 3285, 'trick': 3286, 'tweak': 3287, 'typhoon': 3288, 'underway': 3289, 'uniqu': 3290, 'usbas': 3291, 'valuat': 3292, 'variou': 3293, 'vertex': 3294, 'victoria': 3295, 'visafre': 3296, 'volcano': 3297, 'vpn': 3298, 'weather': 3299, 'whatsapp': 3300, 'wilson': 3301, 'worsen': 3302, 'wound': 3303, 'yearold': 3304, 'zombi': 3305, '111yearold': 3306, '160': 3307, '2007': 3308, '20182024': 3309, '25yearold': 3310, '267000': 3311, '2u': 3312, '300000': 3313, '44': 3314, '500000': 3315, '52': 3316, '5232': 3317, '73': 3318, '911': 3319, '960': 3320, '98': 3321, 'absent': 3322, 'actress': 3323, 'admin': 3324, 'advisor': 3325, 'airbu': 3326, 'airspac': 3327, 'alcohol': 3328, 'amd': 3329, 'ancestr': 3330, 'appetit': 3331, 'approxim': 3332, 'assad': 3333, 'astana': 3334, 'asylum': 3335, 'atom': 3336, 'attenborough': 3337, 'attent': 3338, 'automat': 3339, 'autopilot': 3340, 'baidu': 3341, 'bail': 3342, 'banco': 3343, 'barbi': 3344, 'barcelona': 3345, 'barclay': 3346, 'bare': 3347, 'barrier': 3348, 'bean': 3349, 'belgian': 3350, 'berni': 3351, 'bi': 3352, 'binari': 3353, 'birth': 3354, 'bleak': 3355, 'blessedd77': 3356, 'blob': 3357, 'blogger': 3358, 'bloomberg': 3359, 'bluetooth': 3360, 'bolsonaro': 3361, 'bombardi': 3362, 'bosnian': 3363, 'boston': 3364, 'bowl': 3365, 'brink': 3366, 'broke': 3367, 'brubeck': 3368, 'bubbl': 3369, 'bug': 3370, 'bulldoz': 3371, 'bushfir': 3372, 'buyout': 3373, 'c319000': 3374, 'caleb': 3375, 'calleari': 3376, 'camel': 3377, 'captain': 3378, 'captiv': 3379, 'cdc': 3380, 'ceas': 3381, 'chancellor': 3382, 'chao': 3383, 'chef': 3384, 'choke': 3385, 'chri': 3386, 'christi': 3387, 'clark': 3388, 'climb': 3389, 'clock': 3390, 'colin': 3391, 'colour': 3392, 'comparison': 3393, 'compat': 3394, 'complic': 3395, 'condition': 3396, 'conservativel': 3397, 'consist': 3398, 'contradict': 3399, 'control4': 3400, 'coral': 3401, 'counterpart': 3402, 'coverag': 3403, 'covert': 3404, 'cri': 3405, 'crimea': 3406, 'croatia': 3407, 'crucial': 3408, 'crush': 3409, 'csco': 3410, 'cybersecur': 3411, 'czech': 3412, 'da': 3413, 'damascu': 3414, 'dara': 3415, 'declassifi': 3416, 'depriv': 3417, 'dept': 3418, 'desert': 3419, 'desk': 3420, 'detroit': 3421, 'di': 3422, 'dia': 3423, 'dictat': 3424, 'diet': 3425, 'difficult': 3426, 'dish': 3427, 'distanc': 3428, 'distant': 3429, 'distress': 3430, 'distributor': 3431, 'done': 3432, 'drag': 3433, 'dri': 3434, 'driven': 3435, 'duck': 3436, 'dunn': 3437, 'dwarf': 3438, 'eagl': 3439, 'editor': 3440, 'effici': 3441, 'eli': 3442, 'embrac': 3443, 'enact': 3444, 'endors': 3445, 'endur': 3446, 'entranc': 3447, 'envoy': 3448, 'era': 3449, 'eras': 3450, 'estonia': 3451, 'exam': 3452, 'exceed': 3453, 'excel': 3454, 'exhaust': 3455, 'expir': 3456, 'extent': 3457, 'f52': 3458, 'faster': 3459, 'favorit': 3460, 'favour': 3461, 'fianna': 3462, 'fiction': 3463, 'flashlight': 3464, 'fleet': 3465, 'flow': 3466, 'fm': 3467, 'focus': 3468, 'foe': 3469, 'fold': 3470, 'footprint': 3471, 'formal': 3472, 'fortun': 3473, 'frustrat': 3474, 'fundament': 3475, 'fungu': 3476, 'furiou': 3477, 'g7': 3478, 'gallon': 3479, 'gamer': 3480, 'ge': 3481, 'gi': 3482, 'github': 3483, 'glimmer': 3484, 'glyphos': 3485, 'gm': 3486, 'gmt': 3487, 'greg': 3488, 'guidelin': 3489, 'gujarat': 3490, 'guy': 3491, 'gw': 3492, 'hawk': 3493, 'headquart': 3494, 'heal': 3495, 'heinz': 3496, 'helmet': 3497, 'hezbollah': 3498, 'highspe': 3499, 'hing': 3500, 'ho': 3501, 'hollywood': 3502, 'horizon': 3503, 'hotspot': 3504, 'hr': 3505, 'hurdl': 3506, 'husband': 3507, 'ideal': 3508, 'ii': 3509, 'imagin': 3510, 'imprison': 3511, 'incent': 3512, 'incit': 3513, 'incompat': 3514, 'indepth': 3515, 'invad': 3516, 'invas': 3517, 'islamist': 3518, 'jampj': 3519, 'jazz': 3520, 'jointli': 3521, 'joke': 3522, 'junip': 3523, 'kazakh': 3524, 'kelli': 3525, 'kendra': 3526, 'km': 3527, 'kremlin': 3528, 'laboratori': 3529, 'lag': 3530, 'landlord': 3531, 'latinbas': 3532, 'legit': 3533, 'lg': 3534, 'lgbt': 3535, 'lion': 3536, 'lol': 3537, 'longest': 3538, 'longtim': 3539, 'loot': 3540, 'luke': 3541, 'mad': 3542, 'mainstream': 3543, 'mainten': 3544, 'mall': 3545, 'martin': 3546, 'mccain': 3547, 'meddl': 3548, 'mega': 3549, 'melbourn': 3550, 'merchant': 3551, 'mercuri': 3552, 'messeng': 3553, 'mode': 3554, 'molecul': 3555, 'monster': 3556, 'moral': 3557, 'mortal': 3558, 'mother': 3559, 'motorway': 3560, 'msg': 3561, 'muhammad': 3562, 'mull': 3563, 'museum': 3564, 'myriad': 3565, 'nasion': 3566, 'nearbi': 3567, 'neglect': 3568, 'neighborhood': 3569, 'neonicotinoid': 3570, 'nht': 3571, 'nn': 3572, 'nomin': 3573, 'norm': 3574, 'nurs': 3575, 'onto': 3576, 'opioid': 3577, 'optic': 3578, 'outspoken': 3579, 'pardon': 3580, 'parliamentari': 3581, 'particular': 3582, 'particularli': 3583, 'pedophil': 3584, 'penetr': 3585, 'persist': 3586, 'pet': 3587, 'petroliam': 3588, 'pickup': 3589, 'pink': 3590, 'pitch': 3591, 'placement': 3592, 'portug': 3593, 'pr': 3594, 'pragu': 3595, 'precis': 3596, 'primari': 3597, 'prototyp': 3598, 'qualitywpt': 3599, 'quickbook': 3600, 'racism': 3601, 'ramp': 3602, 'ransom': 3603, 'rapidli': 3604, 'recordbreak': 3605, 'remind': 3606, 'republ': 3607, 'retain': 3608, 'rick': 3609, 'risen': 3610, 'roadshow': 3611, 'roam': 3612, 'rogu': 3613, 'rome': 3614, 'rot': 3615, 'roundup': 3616, 'sadist': 3617, 'sand': 3618, 'sanofiaventi': 3619, 'sanofigsk': 3620, 'scrutini': 3621, 'secretli': 3622, 'seller': 3623, 'separ': 3624, 'separatist': 3625, 'shape': 3626, 'shed': 3627, 'sheep': 3628, 'shepard': 3629, 'shipment': 3630, 'simpli': 3631, 'sir': 3632, 'sister': 3633, 'slay': 3634, 'slump': 3635, 'smash': 3636, 'snack': 3637, 'snub': 3638, 'soft': 3639, 'solv': 3640, 'stalin': 3641, 'stanc': 3642, 'stateown': 3643, 'sting': 3644, 'stmicroelectron': 3645, 'straight': 3646, 'strength': 3647, 'style': 3648, 'succeed': 3649, 'sunflow': 3650, 'superior': 3651, 'syndic': 3652, 't4': 3653, 'tactic': 3654, 'tapir': 3655, 'task': 3656, 'tayyip': 3657, 'teacher': 3658, 'telecommun': 3659, 'thailand': 3660, 'thng': 3661, 'though': 3662, 'thunberg': 3663, 'tonight': 3664, 'touch': 3665, 'toyota': 3666, 'tractor': 3667, 'transcript': 3668, 'trash': 3669, 'tripl': 3670, 'tsla': 3671, 'ttip': 3672, 'tuna': 3673, 'uighur': 3674, 'una': 3675, 'unconstitut': 3676, 'unesco': 3677, 'unless': 3678, 'upload': 3679, 'upset': 3680, 'usual': 3681, 'utd': 3682, 'util': 3683, 'vacuna': 3684, 'valentin': 3685, 'vc': 3686, 'vendor': 3687, 'vietnames': 3688, 'vittel': 3689, 'vivaz': 3690, 'volunt': 3691, 'waffen': 3692, 'wanitaxigo': 3693, 'weak': 3694, 'welfar': 3695, 'whistl': 3696, 'wikipedian': 3697, 'wire': 3698, 'wizard': 3699, 'wooden': 3700, 'wto': 3701, 'wynn': 3702, 'xiaomi': 3703, 'xinjiang': 3704, 'ya': 3705, 'yeah': 3706, 'youguang': 3707, 'youv': 3708, 'zara': 3709, '10000': 3710, '160000': 3711, '16yearold': 3712, '17yearold': 3713, '1800': 3714, '1990': 3715, '1996': 3716, '20000': 3717, '2022': 3718, '2100': 3719, '21st': 3720, '23rd': 3721, '2nd': 3722, '3500yearold': 3723, '400yearold': 3724, '42': 3725, '48': 3726, '50000': 3727, '6000': 3728, '6th': 3729, '777': 3730, '787': 3731, '800000': 3732, '83': 3733, '85': 3734, '92': 3735, '96yearold': 3736, 'aamp': 3737, 'absolut': 3738, 'accident': 3739, 'accommod': 3740, 'acuerdo': 3741, 'advocaci': 3742, 'ageagl': 3743, 'airdrop': 3744, 'airway': 3745, 'alexand': 3746, 'alter': 3747, 'although': 3748, 'amaz': 3749, 'amdoc': 3750, 'ap': 3751, 'apparel': 3752, 'appli': 3753, 'archbishop': 3754, 'archiv': 3755, 'artwork': 3756, 'assur': 3757, 'astonish': 3758, 'ate': 3759, 'atm': 3760, 'atp': 3761, 'automot': 3762, 'backdoor': 3763, 'backfir': 3764, 'baltic': 3765, 'banana': 3766, 'batch': 3767, 'batum': 3768, 'bbb': 3769, 'beal': 3770, 'beetl': 3771, 'beirut': 3772, 'belgium': 3773, 'benchmark': 3774, 'benjamin': 3775, 'blasphemi': 3776, 'blaze': 3777, 'bng': 3778, 'bolivian': 3779, 'bonu': 3780, 'bonus': 3781, 'breast': 3782, 'breastfeed': 3783, 'bruce': 3784, 'buyer': 3785, 'buzz': 3786, 'bye': 3787, 'c45': 3788, 'calcul': 3789, 'cannabinoid': 3790, 'career': 3791, 'cargo': 3792, 'carpet': 3793, 'cattl': 3794, 'cement': 3795, 'chapter': 3796, 'chernobyl': 3797, 'chest': 3798, 'chicken': 3799, 'chng': 3800, 'christoph': 3801, 'circul': 3802, 'clarkson': 3803, 'classact': 3804, 'clue': 3805, 'cluster': 3806, 'coat': 3807, 'coke': 3808, 'comet': 3809, 'commerc': 3810, 'como': 3811, 'compli': 3812, 'compound': 3813, 'comprehens': 3814, 'confess': 3815, 'conglomer': 3816, 'congression': 3817, 'connector': 3818, 'contrast': 3819, 'cord': 3820, 'corsair': 3821, 'counterfeit': 3822, 'crestron': 3823, 'crunch': 3824, 'cuban': 3825, 'curevac': 3826, 'curfew': 3827, 'custodi': 3828, 'cyclon': 3829, 'dalai': 3830, 'decim': 3831, 'deer': 3832, 'defi': 3833, 'demolish': 3834, 'den': 3835, 'dengu': 3836, 'determin': 3837, 'deton': 3838, 'devot': 3839, 'disappear': 3840, 'discharg': 3841, 'discourag': 3842, 'dispos': 3843, 'dj': 3844, 'dn': 3845, 'doc': 3846, 'doll': 3847, 'domo': 3848, 'downplay': 3849, 'dr': 3850, 'dress': 3851, 'dub': 3852, 'dynasti': 3853, 'easier': 3854, 'either': 3855, 'elector': 3856, 'emerson': 3857, 'enabl': 3858, 'enemi': 3859, 'enrich': 3860, 'episod': 3861, 'equinix': 3862, 'erii': 3863, 'estat': 3864, 'ethnic': 3865, 'eve': 3866, 'eventu': 3867, 'evil': 3868, 'ex': 3869, 'exactli': 3870, 'exempt': 3871, 'expedit': 3872, 'extort': 3873, 'exxonmobil': 3874, 'f16': 3875, 'fa': 3876, 'fair': 3877, 'fallout': 3878, 'fcc': 3879, 'fell': 3880, 'fellow': 3881, 'ferri': 3882, 'fewer': 3883, 'finish': 3884, 'finland': 3885, 'fled': 3886, 'fluctuat': 3887, 'forerunn': 3888, 'forgiv': 3889, 'fortnit': 3890, 'freed': 3891, 'frequent': 3892, 'ft': 3893, 'fun': 3894, 'furnitur': 3895, 'g20': 3896, 'gamestop': 3897, 'garbag': 3898, 'gaug': 3899, 'genit': 3900, 'gigawatt': 3901, 'goat': 3902, 'grenad': 3903, 'groundbreak': 3904, 'guru': 3905, 'habit': 3906, 'haier': 3907, 'hair': 3908, 'haiti': 3909, 'handset': 3910, 'harmon': 3911, 'harper': 3912, 'headphon': 3913, 'heavili': 3914, 'highprofil': 3915, 'hijack': 3916, 'hike': 3917, 'hitachi': 3918, 'hiv': 3919, 'holi': 3920, 'homeless': 3921, 'hostag': 3922, 'hottest': 3923, 'hq': 3924, 'hunger': 3925, 'hungov': 3926, 'hurt': 3927, 'hydrogen': 3928, 'hyperemesi': 3929, 'icloud': 3930, 'icu': 3931, 'iea': 3932, 'ignit': 3933, 'ikea': 3934, 'imf': 3935, 'imperi': 3936, 'implant': 3937, 'indra': 3938, 'inflat': 3939, 'inflight': 3940, 'injunct': 3941, 'innoc': 3942, 'insan': 3943, 'inspector': 3944, 'instabl': 3945, 'instruct': 3946, 'intens': 3947, 'interbr': 3948, 'internship': 3949, 'intervent': 3950, 'intimid': 3951, 'iot': 3952, 'j10': 3953, 'j31': 3954, 'jersey': 3955, 'jihad': 3956, 'jim': 3957, 'josef': 3958, 'jungl': 3959, 'juvenil': 3960, 'kangaroo': 3961, 'kao': 3962, 'kardashian': 3963, 'kate': 3964, 'kazak': 3965, 'kbr': 3966, 'kfc': 3967, 'kg': 3968, 'khe': 3969, 'khng': 3970, 'kitten': 3971, 'knight': 3972, 'knowledg': 3973, 'laden': 3974, 'larger': 3975, 'larsen': 3976, 'laura': 3977, 'lenovo': 3978, 'leon': 3979, 'lesson': 3980, 'levi': 3981, 'lifesav': 3982, 'lightyear': 3983, 'lim': 3984, 'lithuania': 3985, 'litter': 3986, 'llp': 3987, 'ln': 3988, 'logist': 3989, 'logo': 3990, 'loom': 3991, 'luxor': 3992, 'magellan': 3993, 'mainland': 3994, 'malala': 3995, 'maldiv': 3996, 'male': 3997, 'mandatori': 3998, 'mazor': 3999, 'mcor': 4000, 'measl': 4001, 'medalist': 4002, 'medtron': 4003, 'merced': 4004, 'millionair': 4005, 'mini': 4006, 'mistreat': 4007, 'misus': 4008, 'mm': 4009, 'mock': 4010, 'mogul': 4011, 'molest': 4012, 'momentum': 4013, 'monthli': 4014, 'monument': 4015, 'morrison': 4016, 'mosqu': 4017, 'mossad': 4018, 'mourinho': 4019, 'mouth': 4020, 'multilater': 4021, 'musthav': 4022, 'n95': 4023, 'narendra': 4024, 'neither': 4025, 'nest': 4026, 'ng': 4027, 'ngi': 4028, 'nice': 4029, 'niger': 4030, 'nm': 4031, 'noon': 4032, 'nooyi': 4033, 'normal': 4034, 'notori': 4035, 'nutrit': 4036, 'ny': 4037, 'nyc': 4038, 'nyt': 4039, 'obes': 4040, 'offlin': 4041, 'opensourc': 4042, 'oppon': 4043, 'ordinari': 4044, 'organovo': 4045, 'owe': 4046, 'owen': 4047, 'parallel': 4048, 'parkinson': 4049, 'path': 4050, 'patti': 4051, 'payrol': 4052, 'peloton': 4053, 'perhap': 4054, 'permutt': 4055, 'perspect': 4056, 'php': 4057, 'pie': 4058, 'piec': 4059, 'pile': 4060, 'piraci': 4061, 'plaintiff': 4062, 'plea': 4063, 'pluto': 4064, 'populist': 4065, 'ppd': 4066, 'precaut': 4067, 'preciou': 4068, 'predat': 4069, 'preliminari': 4070, 'premium': 4071, 'president': 4072, 'pride': 4073, 'principl': 4074, 'prior': 4075, 'privacyrel': 4076, 'privileg': 4077, 'proceed': 4078, 'promo': 4079, 'protector': 4080, 'protestor': 4081, 'puma': 4082, 'pure': 4083, 'purport': 4084, 'qatar': 4085, 'quietli': 4086, 'radiat': 4087, 'rage': 4088, 'ramadi': 4089, 'rampd': 4090, 'react': 4091, 'reaction': 4092, 'recit': 4093, 'recognis': 4094, 'reel': 4095, 'regardless': 4096, 'regular': 4097, 'regulatori': 4098, 'repeal': 4099, 'repress': 4100, 'resembl': 4101, 'reshap': 4102, 'resolv': 4103, 'retriev': 4104, 'reunit': 4105, 'revit': 4106, 'riess': 4107, 'rifl': 4108, 'rite': 4109, 'rob': 4110, 'romanian': 4111, 'routin': 4112, 'runoff': 4113, 'rworldpolitics2': 4114, 'ryan': 4115, 'samuel': 4116, 'sapien': 4117, 'saul': 4118, 'sbi': 4119, 'sc': 4120, 'sean': 4121, 'sec': 4122, 'section': 4123, 'segment': 4124, 'seizur': 4125, 'seoul': 4126, 'sequenc': 4127, 'shadow': 4128, 'shapiro': 4129, 'sharp': 4130, 'sharpli': 4131, 'shiit': 4132, 'shout': 4133, 'sigma': 4134, 'simul': 4135, 'sink': 4136, 'slew': 4137, 'slide': 4138, 'smell': 4139, 'smog': 4140, 'sneaker': 4141, 'sodium': 4142, 'sofosbuvir': 4143, 'soften': 4144, 'somalia': 4145, 'someon': 4146, 'sometim': 4147, 'sort': 4148, 'spotlight': 4149, 'squalid': 4150, 'ssled': 4151, 'staffer': 4152, 'standoff': 4153, 'stapl': 4154, 'starwood': 4155, 'stash': 4156, 'statist': 4157, 'steer': 4158, 'stewart': 4159, 'strang': 4160, 'strangl': 4161, 'strict': 4162, 'stupid': 4163, 'submarin': 4164, 'suitcas': 4165, 'suntrust': 4166, 'supernova': 4167, 'surfac': 4168, 'surgeri': 4169, 'swipe': 4170, 'symantec': 4171, 'syndrom': 4172, 't50': 4173, 'tablet': 4174, 'talli': 4175, 'te': 4176, 'tear': 4177, 'techniqu': 4178, 'telco': 4179, 'tenni': 4180, 'terrifi': 4181, 'testimoni': 4182, 'textbook': 4183, 'textil': 4184, 'theyv': 4185, 'threeday': 4186, 'threw': 4187, 'thuc': 4188, 'tibet': 4189, 'tiger': 4190, 'tinder': 4191, 'tirad': 4192, 'toddler': 4193, 'topsecret': 4194, 'tournament': 4195, 'toxin': 4196, 'tpp': 4197, 'transpar': 4198, 'tripod': 4199, 'trumprussia': 4200, 'tt': 4201, 'tube': 4202, 'turf': 4203, 'turtl': 4204, 'twice': 4205, 'twothird': 4206, 'umbrella': 4207, 'unabl': 4208, 'uncertainti': 4209, 'underag': 4210, 'undersea': 4211, 'unemploy': 4212, 'unfold': 4213, 'unintent': 4214, 'unrest': 4215, 'unsaf': 4216, 'unstopp': 4217, 'unten': 4218, 'unusu': 4219, 'uranium': 4220, 'utter': 4221, 'varadkar': 4222, 'vegetarian': 4223, 'verdict': 4224, 'vet': 4225, 'viscos': 4226, 'vista': 4227, 'vital': 4228, 'vp': 4229, 'vroom': 4230, 'warfar': 4231, 'warranti': 4232, 'weaken': 4233, 'weed': 4234, 'workforc': 4235, 'written': 4236, 'x2': 4237, 'xi': 4238, 'ye': 4239, 'yousafzai': 4240, 'zillow': 4241, 'zimmer': 4242, '10year': 4243, '12000': 4244, '1215am': 4245, '14yearold': 4246, '1600': 4247, '170000': 4248, '1944': 4249, '1977': 4250, '1981': 4251, '1984': 4252, '1988': 4253, '1995': 4254, '20202025': 4255, '20202027': 4256, '20th': 4257, '21000': 4258, '2200': 4259, '230': 4260, '24000': 4261, '25000': 4262, '27000': 4263, '311': 4264, '35c': 4265, '36': 4266, '360': 4267, '40000': 4268, '47': 4269, '49': 4270, '5230': 4271, '53': 4272, '58': 4273, '600000': 4274, '61': 4275, '63': 4276, '65': 4277, '750': 4278, '82': 4279, '860': 4280, '87': 4281, '900': 4282, 'abe': 4283, 'abroad': 4284, 'accion': 4285, 'accur': 4286, 'accuray': 4287, 'aci': 4288, 'acr': 4289, 'acronym': 4290, 'advert': 4291, 'afp': 4292, 'aino': 4293, 'alaska': 4294, 'alex': 4295, 'allah': 4296, 'alltim': 4297, 'ambiti': 4298, 'amedisi': 4299, 'amongst': 4300, 'ann': 4301, 'annex': 4302, 'antenna': 4303, 'antigovern': 4304, 'antipiraci': 4305, 'antiterrorist': 4306, 'antonio': 4307, 'apocalyps': 4308, 'appropri': 4309, 'arnold': 4310, 'asa': 4311, 'asbesto': 4312, 'asham': 4313, 'assign': 4314, 'atmospher': 4315, 'atop': 4316, 'auri': 4317, 'aussi': 4318, 'austria': 4319, 'authent': 4320, 'authoritarian': 4321, 'avatar': 4322, 'avenatti': 4323, 'backup': 4324, 'bacon': 4325, 'bacteria': 4326, 'baker': 4327, 'bangkok': 4328, 'bankrupt': 4329, 'bargain': 4330, 'bark': 4331, 'bayer': 4332, 'behavior': 4333, 'ben': 4334, 'beness': 4335, 'biden': 4336, 'binarybinari': 4337, 'biochem': 4338, 'biographi': 4339, 'biomet': 4340, 'bipartisan': 4341, 'bishop': 4342, 'bitstamp': 4343, 'blind': 4344, 'blizzard': 4345, 'blur': 4346, 'bo': 4347, 'bodyguard': 4348, 'bomber': 4349, 'boot': 4350, 'bottura': 4351, 'boundari': 4352, 'brandnam': 4353, 'breakdown': 4354, 'breakup': 4355, 'broad': 4356, 'broecker': 4357, 'broker': 4358, 'brookdal': 4359, 'brother': 4360, 'browder': 4361, 'bt': 4362, 'builder': 4363, 'bulli': 4364, 'burnt': 4365, 'buse': 4366, 'businessmen': 4367, 'bypass': 4368, 'c15': 4369, 'c24': 4370, 'c30': 4371, 'cage': 4372, 'caiman': 4373, 'cake': 4374, 'calgari': 4375, 'cambodia': 4376, 'campa': 4377, 'canoo': 4378, 'caribbean': 4379, 'carl': 4380, 'carlyl': 4381, 'carmak': 4382, 'casualti': 4383, 'catchment': 4384, 'ceasefir': 4385, 'cellular': 4386, 'ceram': 4387, 'ceremoni': 4388, 'cerner': 4389, 'certifi': 4390, 'chaikin': 4391, 'chamber': 4392, 'championship': 4393, 'charger': 4394, 'charlott': 4395, 'charlottesvil': 4396, 'chavez': 4397, 'cheapest': 4398, 'chilean': 4399, 'choco': 4400, 'chosen': 4401, 'christ': 4402, 'christchurch': 4403, 'circl': 4404, 'circumv': 4405, 'cliff': 4406, 'cocain': 4407, 'cogniz': 4408, 'collector': 4409, 'collus': 4410, 'colombian': 4411, 'com': 4412, 'coma': 4413, 'comeback': 4414, 'commission': 4415, 'compact': 4416, 'comscor': 4417, 'condo': 4418, 'conn': 4419, 'convers': 4420, 'corallo': 4421, 'corn': 4422, 'corona': 4423, 'costum': 4424, 'cowboy': 4425, 'creek': 4426, 'crm': 4427, 'crtc': 4428, 'crypto': 4429, 'cryptocurr': 4430, 'cult': 4431, 'curb': 4432, 'dame': 4433, 'damon': 4434, 'daniel': 4435, 'ddo': 4436, 'decapit': 4437, 'decri': 4438, 'deeper': 4439, 'defect': 4440, 'deficit': 4441, 'definit': 4442, 'denier': 4443, 'descript': 4444, 'desper': 4445, 'devin': 4446, 'dew': 4447, 'dig': 4448, 'diner': 4449, 'dinner': 4450, 'dioxid': 4451, 'disclosur': 4452, 'disgrac': 4453, 'disgust': 4454, 'displac': 4455, 'distinct': 4456, 'disturb': 4457, 'djokov': 4458, 'documentari': 4459, 'domingo': 4460, 'down': 4461, 'drove': 4462, 'drunken': 4463, 'economist': 4464, 'ecuadoran': 4465, 'edgewel': 4466, 'efficaci': 4467, 'eldercar': 4468, 'els': 4469, 'elus': 4470, 'embargo': 4471, 'empir': 4472, 'englishlanguag': 4473, 'enrag': 4474, 'ep': 4475, 'epidem': 4476, 'eric': 4477, 'ericss': 4478, 'erron': 4479, 'esport': 4480, 'estrang': 4481, 'eurozon': 4482, 'ev': 4483, 'evalu': 4484, 'evo': 4485, 'evolv': 4486, 'exoplanet': 4487, 'exot': 4488, 'experienc': 4489, 'experiment': 4490, 'expon': 4491, 'extern': 4492, 'faa': 4493, 'facial': 4494, 'factual': 4495, 'falun': 4496, 'fanduel': 4497, 'fate': 4498, 'faulti': 4499, 'fibr': 4500, 'fiveyear': 4501, 'fizzi': 4502, 'fl': 4503, 'flagship': 4504, 'flexcub': 4505, 'flexshopp': 4506, 'flintobox': 4507, 'flock': 4508, 'foil': 4509, 'foodsafeti': 4510, 'forcibl': 4511, 'forese': 4512, 'forg': 4513, 'forget': 4514, 'framework': 4515, 'frankfurt': 4516, 'fri': 4517, 'fundrais': 4518, 'funer': 4519, 'fur': 4520, 'futurist': 4521, 'galapago': 4522, 'gaull': 4523, 'gender': 4524, 'gene': 4525, 'geoblock': 4526, 'ghana': 4527, 'gig': 4528, 'gii': 4529, 'gillard': 4530, 'ginger': 4531, 'giuliani': 4532, 'glut': 4533, 'gmbh': 4534, 'godx': 4535, 'golan': 4536, 'gong': 4537, 'goodby': 4538, 'goosehead': 4539, 'gordon': 4540, 'graham': 4541, 'grappl': 4542, 'graviti': 4543, 'greenland': 4544, 'greenlight': 4545, 'grew': 4546, 'grissen': 4547, 'gryll': 4548, 'gsm': 4549, 'guyana': 4550, 'haley': 4551, 'halloween': 4552, 'hamilton': 4553, 'hansen': 4554, 'harder': 4555, 'hardwar': 4556, 'haut': 4557, 'hawaiian': 4558, 'hay': 4559, 'healthier': 4560, 'heavyweight': 4561, 'height': 4562, 'heist': 4563, 'herbicid': 4564, 'hero9': 4565, 'hick': 4566, 'hickman': 4567, 'hid': 4568, 'highend': 4569, 'hightech': 4570, 'historian': 4571, 'hokkaido': 4572, 'hom': 4573, 'homemad': 4574, 'homeown': 4575, 'homeshar': 4576, 'hominin': 4577, 'honour': 4578, 'horrifi': 4579, 'horseback': 4580, 'hourli': 4581, 'htel': 4582, 'hussein': 4583, 'icbm': 4584, 'ideanom': 4585, 'ideolog': 4586, 'idex': 4587, 'idf': 4588, 'illumina': 4589, 'imara': 4590, 'imped': 4591, 'incred': 4592, 'inde': 4593, 'indiana': 4594, 'infecti': 4595, 'ingredi': 4596, 'injustic': 4597, 'inscript': 4598, 'insect': 4599, 'inspir': 4600, 'intensifi': 4601, 'interven': 4602, 'intim': 4603, 'invent': 4604, 'ipsi': 4605, 'ir': 4606, 'itv': 4607, 'jakarta': 4608, 'jake': 4609, 'jam': 4610, 'jeff': 4611, 'jeopard': 4612, 'jetblu': 4613, 'jihadi': 4614, 'johannesburg': 4615, 'judo': 4616, 'juic': 4617, 'juri': 4618, 'kabisch': 4619, 'kabul': 4620, 'karachi': 4621, 'kenneth': 4622, 'kerri': 4623, 'keyboard': 4624, 'keygen': 4625, 'khan': 4626, 'knowingli': 4627, 'kohl': 4628, 'koninklijk': 4629, 'kremlinback': 4630, 'kremlinconnect': 4631, 'kushner': 4632, 'labe': 4633, 'ladakh': 4634, 'lai': 4635, 'lama': 4636, 'lamar': 4637, 'lament': 4638, 'largescal': 4639, 'latenight': 4640, 'laugh': 4641, 'lectur': 4642, 'leisur': 4643, 'lengthi': 4644, 'liar': 4645, 'liberian': 4646, 'lifestyl': 4647, 'lilli': 4648, 'linux': 4649, 'lloyd': 4650, 'load': 4651, 'loader': 4652, 'lockhe': 4653, 'log': 4654, 'logitech': 4655, 'lone': 4656, 'lowincom': 4657, 'lunch': 4658, 'lure': 4659, 'machineri': 4660, 'maiden': 4661, 'mainli': 4662, 'mandat': 4663, 'mandelbrot': 4664, 'manslaught': 4665, 'margin': 4666, 'marketwatch': 4667, 'maryland': 4668, 'matti': 4669, 'meanwhil': 4670, 'medina': 4671, 'medio': 4672, 'mer': 4673, 'mercado': 4674, 'mercenari': 4675, 'mere': 4676, 'mersana': 4677, 'mess': 4678, 'metropolitan': 4679, 'michel': 4680, 'microbac': 4681, 'microbi': 4682, 'microwav': 4683, 'midwest': 4684, 'milan': 4685, 'millon': 4686, 'min': 4687, 'mindread': 4688, 'minecraft': 4689, 'minneapoli': 4690, 'mistakenli': 4691, 'mobilis': 4692, 'moder': 4693, 'mom': 4694, 'moneygram': 4695, 'moneymatters2u': 4696, 'monson': 4697, 'montreal': 4698, 'multi': 4699, 'multibilliondollar': 4700, 'mum': 4701, 'mummi': 4702, 'mustain': 4703, 'mw': 4704, 'nanotech': 4705, 'nasdaqig': 4706, 'nbc': 4707, 'neighbour': 4708, 'neobux': 4709, 'nepal': 4710, 'neteas': 4711, 'neutrino': 4712, 'newag': 4713, 'newest': 4714, 'newlypubl': 4715, 'nhim': 4716, 'nie': 4717, 'nikki': 4718, 'nobodi': 4719, 'notic': 4720, 'noticia': 4721, 'novak': 4722, 'novel': 4723, 'nudg': 4724, 'nune': 4725, 'nutrient': 4726, 'nuvi': 4727, 'nz': 4728, 'obscen': 4729, 'occasion': 4730, 'offenc': 4731, 'oliv': 4732, 'omidyar': 4733, 'onreserv': 4734, 'opiumlac': 4735, 'ornat': 4736, 'orwellian': 4737, 'oskar': 4738, 'outcom': 4739, 'outdoor': 4740, 'outlaw': 4741, 'outlin': 4742, 'outnumb': 4743, 'outperform': 4744, 'overal': 4745, 'overlook': 4746, 'overnight': 4747, 'overus': 4748, 'overwhelmingli': 4749, 'owl': 4750, 'oxygen': 4751, 'pak': 4752, 'palomar': 4753, 'pangolin': 4754, 'paperwork': 4755, 'parad': 4756, 'paramount': 4757, 'parrot': 4758, 'patrick': 4759, 'pavilion': 4760, 'pbx': 4761, 'pea': 4762, 'penalti': 4763, 'penc': 4764, 'penn': 4765, 'permit': 4766, 'perpetr': 4767, 'personnel': 4768, 'petsmart': 4769, 'phd': 4770, 'phoni': 4771, 'photoshop': 4772, 'pill': 4773, 'pillow': 4774, 'pinduoduo': 4775, 'pinyin': 4776, 'pit': 4777, 'plagu': 4778, 'plain': 4779, 'playstat': 4780, 'pokemon': 4781, 'pompeii': 4782, 'poseidon': 4783, 'poshmark': 4784, 'possess': 4785, 'postpon': 4786, 'presenc': 4787, 'pretti': 4788, 'prioriti': 4789, 'prism': 4790, 'projectil': 4791, 'propel': 4792, 'proper': 4793, 'prophet': 4794, 'proud': 4795, 'puffer': 4796, 'pyongyang': 4797, 'q1': 4798, 'rabbit': 4799, 'ran': 4800, 'rawabi': 4801, 'reaffirm': 4802, 'realiti': 4803, 'rebat': 4804, 'rebrand': 4805, 'rebut': 4806, 'recipi': 4807, 'redirect': 4808, 'refloat': 4809, 'regain': 4810, 'rejuven': 4811, 'reloj': 4812, 'remdesivir': 4813, 'renoir': 4814, 'renton': 4815, 'residenti': 4816, 'reson': 4817, 'resum': 4818, 'retract': 4819, 'reus': 4820, 'revis': 4821, 'rex': 4822, 'rgame': 4823, 'rio': 4824, 'rioter': 4825, 'robust': 4826, 'rocki': 4827, 'rodrigo': 4828, 'roger': 4829, 'rollout': 4830, 'romania': 4831, 'ron': 4832, 'rough': 4833, 'rundown': 4834, 'runner': 4835, 'runway': 4836, 'rush': 4837, 'russianmad': 4838, 'saa': 4839, 'saddam': 4840, 'safari': 4841, 'saga': 4842, 'sailor': 4843, 'sassoci': 4844, 'scene': 4845, 'scholefield': 4846, 'sear': 4847, 'seattl': 4848, 'seaworld': 4849, 'secondclass': 4850, 'seemingli': 4851, 'seguidor': 4852, 'sek': 4853, 'self': 4854, 'sensor': 4855, 'sentri': 4856, 'ser': 4857, 'shame': 4858, 'shole': 4859, 'shooter': 4860, 'shortsel': 4861, 'shotspott': 4862, 'should': 4863, 'showdown': 4864, 'shrimp': 4865, 'shun': 4866, 'si': 4867, 'siberian': 4868, 'sidestep': 4869, 'siemen': 4870, 'sinovac': 4871, 'skip': 4872, 'skyrocket': 4873, 'skywest': 4874, 'slack': 4875, 'slip': 4876, 'snake': 4877, 'snooker': 4878, 'snow': 4879, 'somali': 4880, 'song': 4881, 'soro': 4882, 'spacecraft': 4883, 'span': 4884, 'spectacular': 4885, 'spous': 4886, 'sqn': 4887, 'squad': 4888, 'ss21': 4889, 'ssl': 4890, 'stabl': 4891, 'stall': 4892, 'stanley': 4893, 'starv': 4894, 'stereotyp': 4895, 'strand': 4896, 'stranger': 4897, 'strap': 4898, 'string': 4899, 'strongli': 4900, 'stuff': 4901, 'stumbl': 4902, 'stunt': 4903, 'stylish': 4904, 'sub': 4905, 'subpoena': 4906, 'subsid': 4907, 'sudden': 4908, 'supercomput': 4909, 'supplement': 4910, 'surplu': 4911, 'surround': 4912, 'swift': 4913, 'swine': 4914, 'syngenta': 4915, 'tabloid': 4916, 'taco': 4917, 'taiwanes': 4918, 'tanker': 4919, 'tatar': 4920, 'tea': 4921, 'telegraph': 4922, 'telephon': 4923, 'teliasonera': 4924, 'tenant': 4925, 'tent': 4926, 'teradyn': 4927, 'terribl': 4928, 'testifi': 4929, 'theater': 4930, 'they': 4931, 'thiel': 4932, 'throne': 4933, 'thug': 4934, 'thula': 4935, 'ti': 4936, 'tick': 4937, 'till': 4938, 'timelin': 4939, 'titl': 4940, 'tofu': 4941, 'token': 4942, 'toler': 4943, 'torch': 4944, 'toughest': 4945, 'tout': 4946, 'trainer': 4947, 'transplant': 4948, 'trinidad': 4949, 'trio': 4950, 'triu': 4951, 'trong': 4952, 'twitch': 4953, 'ub': 4954, 'uganda': 4955, 'ugandan': 4956, 'ultra': 4957, 'unaccept': 4958, 'unanim': 4959, 'unarm': 4960, 'unavoid': 4961, 'uncontrol': 4962, 'underwat': 4963, 'undocu': 4964, 'uneth': 4965, 'unexpect': 4966, 'ung': 4967, 'unhealthi': 4968, 'unlik': 4969, 'unravel': 4970, 'unreli': 4971, 'upheld': 4972, 'usag': 4973, 'uturn': 4974, 'vagrant': 4975, 'van': 4976, 'vancouv': 4977, 'vega': 4978, 'vegan': 4979, 'vend': 4980, 'vera': 4981, 'verif': 4982, 'viagra': 4983, 'viasat': 4984, 'viciou': 4985, 'virgin': 4986, 'vision': 4987, 'vodafon': 4988, 'volatil': 4989, 'voluntari': 4990, 'voyag': 4991, 'w580i': 4992, 'waiv': 4993, 'walker': 4994, 'wallac': 4995, 'warrant': 4996, 'warren': 4997, 'weekday': 4998, 'weekli': 4999, 'weigh': 5000, 'weight': 5001, 'wen': 5002, 'westerndomin': 5003, 'who': 5004, 'wholesal': 5005, 'will': 5006, 'windfal': 5007, 'wonder': 5008, 'worstev': 5009, 'wow': 5010, 'wsj': 5011, 'ww2': 5012, 'x10': 5013, 'xs': 5014, 'yanke': 5015, 'yellow': 5016, 'yield': 5017, 'zpay': 5018, 'zverev': 5019, '0': 5020, '0317': 5021, '0703': 5022, '100k': 5023, '101': 5024, '112': 5025, '118': 5026, '1200': 5027, '120000': 5028, '12hour': 5029, '12year': 5030, '13000': 5031, '136': 5032, '14500': 5033, '161': 5034, '165': 5035, '17000': 5036, '18000': 5037, '1865': 5038, '190': 5039, '1900': 5040, '1972': 5041, '1985': 5042, '1989': 5043, '2002': 5044, '20bn': 5045, '210': 5046, '2300yearold': 5047, '2469': 5048, '24yearold': 5049, '2500': 5050, '250bc': 5051, '252bn': 5052, '280': 5053, '29500': 5054, '30000': 5055, '3000yearold': 5056, '305': 5057, '31': 5058, '340': 5059, '345': 5060, '3681': 5061, '395': 5062, '3rd': 5063, '3year': 5064, '416': 5065, '4bn': 5066, '62': 5067, '64': 5068, '66': 5069, '68': 5070, '69': 5071, '80th': 5072, '84': 5073, '84000': 5074, '86': 5075, '9000': 5076, '91': 5077, '930': 5078, '94yearold': 5079, 'abba': 5080, 'ac': 5081, 'acta': 5082, 'acut': 5083, 'adorn': 5084, 'advic': 5085, 'aero': 5086, 'afraid': 5087, 'agco': 5088, 'agjunct': 5089, 'alarmist': 5090, 'albert': 5091, 'alberta': 5092, 'album': 5093, 'ali': 5094, 'allen': 5095, 'almati': 5096, 'aluminium': 5097, 'amateur': 5098, 'amazonian': 5099, 'amen': 5100, 'ampamp': 5101, 'amplifi': 5102, 'anabol': 5103, 'anbar': 5104, 'anglo': 5105, 'ankara': 5106, 'ansi': 5107, 'ant': 5108, 'antarctica': 5109, 'antelop': 5110, 'anticorrupt': 5111, 'antidemocrat': 5112, 'antidop': 5113, 'antiimmigr': 5114, 'anyth': 5115, 'anywher': 5116, 'ao': 5117, 'apollo': 5118, 'apostroph': 5119, 'appeas': 5120, 'arafat': 5121, 'architect': 5122, 'architectur': 5123, 'argentin': 5124, 'armor': 5125, 'armyworm': 5126, 'arrang': 5127, 'ash': 5128, 'ashor': 5129, 'asiana': 5130, 'aspir': 5131, 'assert': 5132, 'assumpt': 5133, 'astro': 5134, 'asylumseek': 5135, 'atheist': 5136, 'attitud': 5137, 'aug': 5138, 'avgo': 5139, 'axe': 5140, 'axi': 5141, 'azerbaijan': 5142, 'baba': 5143, 'bangladeshi': 5144, 'barak': 5145, 'barbara': 5146, 'barrack': 5147, 'baton': 5148, 'bd': 5149, 'beast': 5150, 'beg': 5151, 'behest': 5152, 'belov': 5153, 'benghazi': 5154, 'bere': 5155, 'bermuda': 5156, 'bestsel': 5157, 'betray': 5158, 'bibl': 5159, 'biggestev': 5160, 'bio': 5161, 'biocept': 5162, 'biodivers': 5163, 'biologist': 5164, 'biontech': 5165, 'biopharma': 5166, 'biopharmaceut': 5167, 'bitch': 5168, 'bitter': 5169, 'bjp': 5170, 'blacklist': 5171, 'blackwat': 5172, 'bladder': 5173, 'blankfein': 5174, 'blatter': 5175, 'blew': 5176, 'bln': 5177, 'bloc': 5178, 'blockad': 5179, 'blueprint': 5180, 'boast': 5181, 'bogu': 5182, 'bold': 5183, 'bolster': 5184, 'bookkeep': 5185, 'boon': 5186, 'bore': 5187, 'bosnia': 5188, 'boson': 5189, 'bra': 5190, 'brag': 5191, 'brasil': 5192, 'breath': 5193, 'breweri': 5194, 'broadband': 5195, 'broader': 5196, 'brooklyn': 5197, 'browser': 5198, 'brunei': 5199, 'bruno': 5200, 'bs': 5201, 'buffett': 5202, 'bullion': 5203, 'bullish': 5204, 'bundl': 5205, 'burberri': 5206, 'bureau': 5207, 'busch': 5208, 'businessman': 5209, 'bustl': 5210, 'c11': 5211, 'c130': 5212, 'cairo': 5213, 'calm': 5214, 'can': 5215, 'caregiv': 5216, 'carmen': 5217, 'carter': 5218, 'cascad': 5219, 'categori': 5220, 'cavalri': 5221, 'cb': 5222, 'cctv': 5223, 'cecil': 5224, 'cellphon': 5225, 'cfo': 5226, 'chanel': 5227, 'char': 5228, 'chariot': 5229, 'checkin': 5230, 'chelsea': 5231, 'chicago': 5232, 'childless': 5233, 'chill': 5234, 'chipmak': 5235, 'chipotl': 5236, 'choru': 5237, 'chronicl': 5238, 'ci': 5239, 'circu': 5240, 'citigroup': 5241, 'civilis': 5242, 'clapper': 5243, 'classic': 5244, 'cleanenergi': 5245, 'cleaner': 5246, 'clip': 5247, 'clog': 5248, 'coalmin': 5249, 'coin': 5250, 'coincid': 5251, 'cole': 5252, 'combo': 5253, 'commemor': 5254, 'commod': 5255, 'commonwealth': 5256, 'compass': 5257, 'complejo': 5258, 'complianc': 5259, 'complicit': 5260, 'comr': 5261, 'concept': 5262, 'concert': 5263, 'concess': 5264, 'conclud': 5265, 'condoleezza': 5266, 'conector': 5267, 'congo': 5268, 'consecut': 5269, 'consent': 5270, 'consolid': 5271, 'constant': 5272, 'construir': 5273, 'consul': 5274, 'contempt': 5275, 'copper': 5276, 'correct': 5277, 'correctli': 5278, 'cosmic': 5279, 'costli': 5280, 'courtroom': 5281, 'coward': 5282, 'cp': 5283, 'crab': 5284, 'craft': 5285, 'craig': 5286, 'creation': 5287, 'creatur': 5288, 'crecimiento': 5289, 'crook': 5290, 'cruelti': 5291, 'crusad': 5292, 'ctv': 5293, 'curios': 5294, 'curs': 5295, 'curso': 5296, 'cyberspac': 5297, 'daesh': 5298, 'danc': 5299, 'dare': 5300, 'datacent': 5301, 'davidstea': 5302, 'davo': 5303, 'dbamidlandfundingllcfdcpa': 5304, 'dealer': 5305, 'dealt': 5306, 'dean': 5307, 'deepli': 5308, 'defraud': 5309, 'degrass': 5310, 'dehydr': 5311, 'deleg': 5312, 'delicaci': 5313, 'dem': 5314, 'demo': 5315, 'denial': 5316, 'dentist': 5317, 'dentspli': 5318, 'depress': 5319, 'deputi': 5320, 'deserv': 5321, 'desktop': 5322, 'despu': 5323, 'detector': 5324, 'dethron': 5325, 'dey': 5326, 'diagnost': 5327, 'diamond': 5328, 'dictatorship': 5329, 'dilut': 5330, 'dine': 5331, 'dirtiest': 5332, 'disagr': 5333, 'disagre': 5334, 'disappoint': 5335, 'discard': 5336, 'discont': 5337, 'discredit': 5338, 'dismantl': 5339, 'disneyland': 5340, 'disparag': 5341, 'dispatch': 5342, 'dive': 5343, 'diver': 5344, 'diversifi': 5345, 'dodg': 5346, 'dominican': 5347, 'doom': 5348, 'doren': 5349, 'dosi': 5350, 'dossier': 5351, 'dot': 5352, 'doug': 5353, 'downtown': 5354, 'dreamlin': 5355, 'drinkdriv': 5356, 'drown': 5357, 'dubiou': 5358, 'dublin': 5359, 'dung': 5360, 'dusssshtbin': 5361, 'dylan': 5362, 'dynam': 5363, 'e7': 5364, 'ecb': 5365, 'eclips': 5366, 'econ': 5367, 'economa': 5368, 'ecosystem': 5369, 'ecpg': 5370, 'edwardsjoseph36': 5371, 'eject': 5372, 'eldeco': 5373, 'electromagnet': 5374, 'eman': 5375, 'embattl': 5376, 'embed': 5377, 'embroil': 5378, 'emoji': 5379, 'emot': 5380, 'empow': 5381, 'encor': 5382, 'encyclopedia': 5383, 'endless': 5384, 'enorm': 5385, 'enslav': 5386, 'enthusiasm': 5387, 'equifax': 5388, 'espaa': 5389, 'exce': 5390, 'excit': 5391, 'exclud': 5392, 'excus': 5393, 'exhaitian': 5394, 'exil': 5395, 'exnazi': 5396, 'expat': 5397, 'expel': 5398, 'explod': 5399, 'fahrenheit': 5400, 'faint': 5401, 'fallen': 5402, 'falsifi': 5403, 'fame': 5404, 'fare': 5405, 'farmland': 5406, 'fascin': 5407, 'fastfood': 5408, 'feb': 5409, 'fedex': 5410, 'fianc': 5411, 'fidel': 5412, 'fiji': 5413, 'fileshar': 5414, 'filmmak': 5415, 'finder': 5416, 'finest': 5417, 'finnish': 5418, 'firstquart': 5419, 'flipboard': 5420, 'flir': 5421, 'flop': 5422, 'flotilla': 5423, 'flown': 5424, 'fluorid': 5425, 'flynn': 5426, 'folder': 5427, 'folha': 5428, 'forbidden': 5429, 'forgotten': 5430, 'formerli': 5431, 'formula': 5432, 'fort': 5433, 'fossilfuel': 5434, 'fourth': 5435, 'fraction': 5436, 'franciscobas': 5437, 'franken': 5438, 'freak': 5439, 'freez': 5440, 'frequenc': 5441, 'friendli': 5442, 'frito': 5443, 'fugit': 5444, 'fujitsu': 5445, 'funder': 5446, 'funko': 5447, 'fusion': 5448, 'gairsoppa': 5449, 'galatian': 5450, 'gb': 5451, 'gchq': 5452, 'geek': 5453, 'gen': 5454, 'genr': 5455, 'gentli': 5456, 'genuin': 5457, 'geodesico': 5458, 'germ': 5459, 'glitch': 5460, 'goheen': 5461, 'goodyear': 5462, 'gove': 5463, 'governmentauthor': 5464, 'governmentmand': 5465, 'gradual': 5466, 'grail': 5467, 'gravit': 5468, 'gray': 5469, 'grohl': 5470, 'groin': 5471, 'gross': 5472, 'gt': 5473, 'guinea': 5474, 'gunmen': 5475, 'gust': 5476, 'gymnast': 5477, 'ha': 5478, 'hadrian': 5479, 'hagu': 5480, 'haiyan': 5481, 'hamburg': 5482, 'han': 5483, 'handbag': 5484, 'handgun': 5485, 'handmad': 5486, 'har': 5487, 'hardest': 5488, 'hassan': 5489, 'haughey': 5490, 'hawaii': 5491, 'headless': 5492, 'headlin': 5493, 'headset': 5494, 'heater': 5495, 'hebdo': 5496, 'hefti': 5497, 'hekla': 5498, 'herd': 5499, 'herman': 5500, 'herodotu': 5501, 'hewlett': 5502, 'higg': 5503, 'highestlevel': 5504, 'highway': 5505, 'hillari': 5506, 'hive': 5507, 'hk': 5508, 'hkmap': 5509, 'hng': 5510, 'hobo': 5511, 'homegrown': 5512, 'homo': 5513, 'homosexu': 5514, 'honey': 5515, 'honeybe': 5516, 'hormon': 5517, 'horni': 5518, 'horoscop': 5519, 'hostil': 5520, 'houroffir': 5521, 'houston': 5522, 'hudson': 5523, 'hugo': 5524, 'humidifi': 5525, 'humili': 5526, 'hungri': 5527, 'hurghada': 5528, 'hydro': 5529, 'hydroxychloroquin': 5530, 'hygien': 5531, 'hypocrisi': 5532, 'hypothermia': 5533, 'i502': 5534, 'iac': 5535, 'iaf': 5536, 'icon': 5537, 'idl': 5538, 'idol': 5539, 'iii': 5540, 'illicit': 5541, 'immin': 5542, 'impress': 5543, 'improp': 5544, 'in': 5545, 'inclus': 5546, 'inconclus': 5547, 'incrimin': 5548, 'inflammatori': 5549, 'influenti': 5550, 'influx': 5551, 'infosi': 5552, 'infuri': 5553, 'ink': 5554, 'inovio': 5555, 'insecticid': 5556, 'insert': 5557, 'intact': 5558, 'interceptor': 5559, 'interestfre': 5560, 'interf': 5561, 'interior': 5562, 'introduct': 5563, 'intrud': 5564, 'inventor': 5565, 'invis': 5566, 'ipod': 5567, 'irhythm': 5568, 'iriv': 5569, 'isp': 5570, 'israelioccupi': 5571, 'istanbul': 5572, 'iteri': 5573, 'ivanka': 5574, 'ivori': 5575, 'j15': 5576, 'jab': 5577, 'jak': 5578, 'jare': 5579, 'jc': 5580, 'jeopardi': 5581, 'jewel': 5582, 'jiangsu': 5583, 'jinp': 5584, 'joey': 5585, 'jpop': 5586, 'junior': 5587, 'jurisdict': 5588, 'justifi': 5589, 'justin': 5590, 'kaesong': 5591, 'kamada': 5592, 'kapsch': 5593, 'karl': 5594, 'kellogg': 5595, 'kent': 5596, 'kenyan': 5597, 'kern': 5598, 'kesh': 5599, 'keyston': 5600, 'kidney': 5601, 'klix': 5602, 'kogan': 5603, 'koran': 5604, 'kosor': 5605, 'kredittkort': 5606, 'kzn': 5607, 'lam': 5608, 'landown': 5609, 'largestev': 5610, 'laser': 5611, 'lavinia': 5612, 'lawless': 5613, 'layoff': 5614, 'leap': 5615, 'leftov': 5616, 'legalis': 5617, 'legitim': 5618, 'leicestershir': 5619, 'lender': 5620, 'lesbian': 5621, 'ley': 5622, 'lhc': 5623, 'libor': 5624, 'libr': 5625, 'lifelin': 5626, 'lightn': 5627, 'lil': 5628, 'linen': 5629, 'lineup': 5630, 'litr': 5631, 'livestream': 5632, 'lizard': 5633, 'lockedin': 5634, 'lodg': 5635, 'loosen': 5636, 'lovelock': 5637, 'lover': 5638, 'loyalist': 5639, 'loyalti': 5640, 'ltima': 5641, 'luggag': 5642, 'lunchbox': 5643, 'lynch': 5644, 'ma': 5645, 'macadamia': 5646, 'madison': 5647, 'mag': 5648, 'malaria': 5649, 'malcolm': 5650, 'manhunt': 5651, 'mankind': 5652, 'manner': 5653, 'manson': 5654, 'manual': 5655, 'marathon': 5656, 'marbl': 5657, 'marcu': 5658, 'mari': 5659, 'mario': 5660, 'marketplac': 5661, 'marvel': 5662, 'matt': 5663, 'md': 5664, 'mediterranean': 5665, 'membership': 5666, 'merciless': 5667, 'merit': 5668, 'metadata': 5669, 'methlik': 5670, 'mhoni': 5671, 'microphon': 5672, 'mid': 5673, 'mighti': 5674, 'miguel': 5675, 'miliband': 5676, 'milki': 5677, 'miller': 5678, 'mimecast': 5679, 'mindboggl': 5680, 'minh': 5681, 'minu': 5682, 'miracl': 5683, 'misl': 5684, 'mit': 5685, 'mo': 5686, 'mongodb': 5687, 'monti': 5688, 'mori': 5689, 'mossack': 5690, 'mover': 5691, 'mp3': 5692, 'muddi': 5693, 'muebl': 5694, 'mujica': 5695, 'multimilliondollar': 5696, 'muslimmajor': 5697, 'mutil': 5698, 'mutual': 5699, 'myth': 5700, 'mythic': 5701, 'nasdaqfb': 5702, 'nash': 5703, 'nationalist': 5704, 'nationst': 5705, 'naval': 5706, 'neanderth': 5707, 'necklac': 5708, 'neocon': 5709, 'nevada': 5710, 'newlyunveil': 5711, 'ngay': 5712, 'nguyn': 5713, 'nicaragua': 5714, 'nile': 5715, 'nio': 5716, 'nissan': 5717, 'nitrogen': 5718, 'nonchal': 5719, 'nonstop': 5720, 'norfolk': 5721, 'notebook': 5722, 'nova': 5723, 'nra': 5724, 'nsw': 5725, 'nuanc': 5726, 'nude': 5727, 'nuestro': 5728, 'nueva': 5729, 'nuevo': 5730, 'numer': 5731, 'nutanix': 5732, 'nvda': 5733, 'nypd': 5734, 'oblig': 5735, 'observatori': 5736, 'obsess': 5737, 'obsolesc': 5738, 'obstruct': 5739, 'oceansurfac': 5740, 'odyssey': 5741, 'ohio': 5742, 'oilextract': 5743, 'oklahoma': 5744, 'olson': 5745, 'oman': 5746, 'onechild': 5747, 'ont': 5748, 'opec': 5749, 'orang': 5750, 'orbi': 5751, 'orca': 5752, 'orchestr': 5753, 'oregon': 5754, 'orion': 5755, 'orphan': 5756, 'osama': 5757, 'osborn': 5758, 'oscil': 5759, 'oslo': 5760, 'ostrich': 5761, 'ot': 5762, 'outdat': 5763, 'outing': 5764, 'outpac': 5765, 'ovarian': 5766, 'overblown': 5767, 'overdos': 5768, 'overhaul': 5769, 'oversight': 5770, 'overview': 5771, 'p3': 5772, 'packard': 5773, 'pad': 5774, 'paedophil': 5775, 'paleontolog': 5776, 'panda': 5777, 'panera': 5778, 'paragraph': 5779, 'paralysi': 5780, 'paramilitari': 5781, 'parker': 5782, 'pasta': 5783, 'pastor': 5784, 'pat': 5785, 'pathologist': 5786, 'patron': 5787, 'paulin': 5788, 'pave': 5789, 'peasant': 5790, 'pegasystem': 5791, 'pell': 5792, 'pelt': 5793, 'pendant': 5794, 'peni': 5795, 'penil': 5796, 'peninsula': 5797, 'pepe': 5798, 'percentag': 5799, 'perfectli': 5800, 'perissodactyla': 5801, 'permafrost': 5802, 'perri': 5803, 'persuad': 5804, 'perth': 5805, 'pervas': 5806, 'petroleumbas': 5807, 'pew': 5808, 'pfa': 5809, 'pfizerbiontech': 5810, 'phng': 5811, 'phonehack': 5812, 'phuzemthonjeni': 5813, 'phytoplankton': 5814, 'pi': 5815, 'pichai': 5816, 'pierr': 5817, 'pineappl': 5818, 'pipe': 5819, 'plate': 5820, 'playbook': 5821, 'plaza': 5822, 'plenti': 5823, 'pluck': 5824, 'po': 5825, 'poitra': 5826, 'pokmon': 5827, 'politico': 5828, 'polonium': 5829, 'pond': 5830, 'postbrexit': 5831, 'postwar': 5832, 'predatori': 5833, 'predominantli': 5834, 'prefectur': 5835, 'preorder': 5836, 'prep': 5837, 'presbyterian': 5838, 'pretend': 5839, 'prioritis': 5840, 'pristin': 5841, 'prizewin': 5842, 'proce': 5843, 'processor': 5844, 'professor': 5845, 'profici': 5846, 'profound': 5847, 'prospect': 5848, 'prosper': 5849, 'provinci': 5850, 'provis': 5851, 'provoc': 5852, 'provok': 5853, 'psycholog': 5854, 'pub': 5855, 'pullback': 5856, 'punch': 5857, 'pune': 5858, 'punjab': 5859, 'purg': 5860, 'pursuit': 5861, 'py': 5862, 'q4': 5863, 'qaeda': 5864, 'qiangdong': 5865, 'qqq': 5866, 'quadripleg': 5867, 'qualifi': 5868, 'quantiti': 5869, 'rabbi': 5870, 'rachel': 5871, 'rack': 5872, 'radar': 5873, 'raf': 5874, 'rahman': 5875, 'railway': 5876, 'rajouri': 5877, 'ramdev': 5878, 'raqqa': 5879, 'raw': 5880, 'razer': 5881, 'realiz': 5882, 'rearrest': 5883, 'reassur': 5884, 'rebound': 5885, 'recep': 5886, 'reciev': 5887, 'reclassif': 5888, 'redesign': 5889, 'rediscov': 5890, 'reduct': 5891, 'reec': 5892, 'refer': 5893, 'referr': 5894, 'regret': 5895, 'reimpos': 5896, 'relax': 5897, 'relay': 5898, 'reloc': 5899, 'remak': 5900, 'remembr': 5901, 'remors': 5902, 'reorganis': 5903, 'republican': 5904, 'reput': 5905, 'rescuer': 5906, 'resolut': 5907, 'restrain': 5908, 'reusabl': 5909, 'reviv': 5910, 'rewrit': 5911, 'rican': 5912, 'ridehail': 5913, 'rihanna': 5914, 'rile': 5915, 'rlegalnew': 5916, 'roadhous': 5917, 'robosign': 5918, 'rooftop': 5919, 'rosetta': 5920, 'roubl': 5921, 'rude': 5922, 'ruel': 5923, 'ruler': 5924, 's100s300': 5925, 's300': 5926, 'sabl': 5927, 'sabotag': 5928, 'sad': 5929, 'salesforcesmartvisca': 5930, 'salmon': 5931, 'salvag': 5932, 'satir': 5933, 'scala': 5934, 'scenario': 5935, 'schindler': 5936, 'scope': 5937, 'scorn': 5938, 'scotia': 5939, 'screw': 5940, 'scurril': 5941, 'sdk': 5942, 'sealevel': 5943, 'secreci': 5944, 'sentiment': 5945, 'sequel': 5946, 'serb': 5947, 'serial': 5948, 'sevilla': 5949, 'shambl': 5950, 'shandong': 5951, 'shang': 5952, 'shanghai': 5953, 'sharapova': 5954, 'shard': 5955, 'she': 5956, 'shele': 5957, 'shenhua': 5958, 'shine': 5959, 'shit': 5960, 'shopper': 5961, 'shore': 5962, 'shutdown': 5963, 'shutter': 5964, 'sieg': 5965, 'significantli': 5966, 'sinclair': 5967, 'sinkhol': 5968, 'sirona': 5969, 'skid': 5970, 'skinni': 5971, 'skirt': 5972, 'skype': 5973, 'skywork': 5974, 'slogan': 5975, 'slowdown': 5976, 'smother': 5977, 'sobr': 5978, 'sochi': 5979, 'sodastream': 5980, 'softbank': 5981, 'soil': 5982, 'solo': 5983, 'sorrento': 5984, 'soul': 5985, 'sovereignti': 5986, 'sovietthem': 5987, 'spa': 5988, 'spam': 5989, 'spartan': 5990, 'specifi': 5991, 'sprawl': 5992, 'sprint': 5993, 'spx': 5994, 'squid': 5995, 'sssshhould': 5996, 'stamp': 5997, 'statecontrol': 5998, 'stateissu': 5999, 'stearn': 6000, 'stimul': 6001, 'stir': 6002, 'strait': 6003, 'straw': 6004, 'strongest': 6005, 'stuck': 6006, 'stuttgart': 6007, 'styrofoam': 6008, 'su27': 6009, 'substitutionari': 6010, 'subway': 6011, 'sugari': 6012, 'sundar': 6013, 'surrend': 6014, 'suspici': 6015, 'swallow': 6016, 'swastika': 6017, 'swaziland': 6018, 'sweet': 6019, 'swimmer': 6020, 'sympathet': 6021, 'synthesi': 6022, 'synthet': 6023, 't': 6024, 'tab': 6025, 'tahrir': 6026, 'tail': 6027, 'tale': 6028, 'tallinn': 6029, 'tamil': 6030, 'tampa': 6031, 'taoiseach': 6032, 'tar': 6033, 'tasti': 6034, 'tattoo': 6035, 'taunt': 6036, 'techdebut': 6037, 'techi': 6038, 'technoloy': 6039, 'teeth': 6040, 'telephoni': 6041, 'telu': 6042, 'testtak': 6043, 'thc': 6044, 'theatr': 6045, 'thermal': 6046, 'thief': 6047, 'thiev': 6048, 'thirdparti': 6049, 'thorn': 6050, 'threeleg': 6051, 'thrive': 6052, 'tibco': 6053, 'tide': 6054, 'tiempo': 6055, 'tieto': 6056, 'tikrit': 6057, 'timberland': 6058, 'tiu': 6059, 'tm': 6060, 'toda': 6061, 'toil': 6062, 'tom': 6063, 'tomato': 6064, 'tone': 6065, 'topic': 6066, 'totoaba': 6067, 'tracker': 6068, 'trailer': 6069, 'traumat': 6070, 'tre': 6071, 'treason': 6072, 'trespass': 6073, 'tripoli': 6074, 'trng': 6075, 'tropic': 6076, 'trove': 6077, 'truthdig': 6078, 'tsunami': 6079, 'tsunggan': 6080, 'tucow': 6081, 'turmoil': 6082, 'turo': 6083, 'tutori': 6084, 'twinki': 6085, 'tycoon': 6086, 'tyson': 6087, 'ultrafast': 6088, 'unannounc': 6089, 'unawar': 6090, 'unclear': 6091, 'unconvent': 6092, 'undergo': 6093, 'underst': 6094, 'unexplod': 6095, 'unfavour': 6096, 'unicef': 6097, 'unimagin': 6098, 'uninhabit': 6099, 'unison': 6100, 'unitedhealth': 6101, 'unman': 6102, 'unparallel': 6103, 'up': 6104, 'upheav': 6105, 'uphold': 6106, 'upland': 6107, 'uproar': 6108, 'uptick': 6109, 'uschina': 6110, 'ussuppli': 6111, 'usuario': 6112, 'v4': 6113, 'va': 6114, 'variant': 6115, 'vastli': 6116, 'veget': 6117, 'veggi': 6118, 'veil': 6119, 'venom': 6120, 'venta': 6121, 'veon': 6122, 'verbal': 6123, 'vicepremi': 6124, 'vid': 6125, 'viet': 6126, 'viewer': 6127, 'vinc': 6128, 'vintag': 6129, 'violationsslam': 6130, 'vj': 6131, 'vkontakt': 6132, 'voip': 6133, 'volum': 6134, 'voraci': 6135, 'w395': 6136, 'w595': 6137, 'waiter': 6138, 'wallenberg': 6139, 'wannacrypt': 6140, 'warmer': 6141, 'warmong': 6142, 'warplan': 6143, 'wash': 6144, 'waterboard': 6145, 'weaponri': 6146, 'webmast': 6147, 'wellknown': 6148, 'wet': 6149, 'whatev': 6150, 'wheel': 6151, 'wiki': 6152, 'wikipedia': 6153, 'wildcat': 6154, 'wing': 6155, 'wiretap': 6156, 'withdrew': 6157, 'withstand': 6158, 'witti': 6159, 'woe': 6160, 'woke': 6161, 'wolf': 6162, 'workout': 6163, 'workplac': 6164, 'wq': 6165, 'wwii': 6166, 'xanh': 6167, 'xbox': 6168, 'xiang': 6169, 'xilinx': 6170, 'xml': 6171, 'yacht': 6172, 'yara': 6173, 'yen': 6174, 'yonhap': 6175, 'you': 6176, 'z': 6177, 'z1': 6178, 'zaki': 6179, 'zte': 6180, '01': 6181, '0800': 6182, '0817': 6183, '0s': 6184, '100d': 6185, '100millioneuro': 6186, '100tn': 6187, '1062': 6188, '1078': 6189, '10week': 6190, '111millionton': 6191, '113': 6192, '115': 6193, '1200yearold': 6194, '1214978': 6195, '1217': 6196, '124': 6197, '12yearold': 6198, '130': 6199, '1300': 6200, '1300gmt': 6201, '1320month': 6202, '137': 6203, '13bn': 6204, '13inch': 6205, '14000': 6206, '140000000': 6207, '1450': 6208, '14811425': 6209, '149': 6210, '1490lmt': 6211, '14th': 6212, '14yearlong': 6213, '1511': 6214, '155': 6215, '15yearold': 6216, '169': 6217, '17th': 6218, '17yo': 6219, '183': 6220, '185': 6221, '185260': 6222, '18882395201': 6223, '18bn': 6224, '191': 6225, '1920': 6226, '1942': 6227, '1950': 6228, '1956': 6229, '19862005': 6230, '19891993': 6231, '1998': 6232, '1mdb': 6233, '1s': 6234, '2003': 6235, '20032006': 6236, '2006': 6237, '2009mel': 6238, '20122013': 6239, '20172023': 6240, '20192026': 6241, '2024': 6242, '2027microsoft': 6243, '20b': 6244, '20page': 6245, '215': 6246, '220': 6247, '2204': 6248, '235': 6249, '238': 6250, '2426': 6251, '250b': 6252, '252': 6253, '25bn': 6254, '260000': 6255, '2612': 6256, '270': 6257, '275': 6258, '27b': 6259, '2800': 6260, '29yearold': 6261, '2c': 6262, '2minut': 6263, '2ndlargest': 6264, '300000yearold': 6265, '30c': 6266, '320u': 6267, '3300': 6268, '33000': 6269, '332': 6270, '335': 6271, '3500yrold': 6272, '361': 6273, '362': 6274, '36year': 6275, '370': 6276, '37000yrold': 6277, '375000': 6278, '37yearold': 6279, '380': 6280, '39409': 6281, '396': 6282, '3day': 6283, '3dprint': 6284, '3s': 6285, '400000': 6286, '40cent': 6287, '40megawatt': 6288, '4429': 6289, '4500yearold': 6290, '45c': 6291, '45million': 6292, '4c': 6293, '4glte': 6294, '4k': 6295, '4khdrhd': 6296, '4th': 6297, '4x': 6298, '501st': 6299, '50yr': 6300, '51': 6301, '510': 6302, '531': 6303, '543933': 6304, '550': 6305, '55000': 6306, '553': 6307, '59': 6308, '59foot': 6309, '5yearold': 6310, '62737': 6311, '640000': 6312, '650': 6313, '66000': 6314, '67': 6315, '67yearold': 6316, '6c': 6317, '6hour': 6318, '71': 6319, '72': 6320, '747': 6321, '761': 6322, '7700': 6323, '777300er': 6324, '78xp': 6325, '7b': 6326, '80000': 6327, '80yearold': 6328, '850': 6329, '870': 6330, '88': 6331, '88year': 6332, '89': 6333, '8bn': 6334, '8hour': 6335, '90000': 6336, '90pc': 6337, '910xt': 6338, '91216': 6339, '914': 6340, '92yearold': 6341, '95yearold': 6342, '96000': 6343, '969': 6344, '97': 6345, '98yearold': 6346, '_': 6347, 'a300000': 6348, 'a9': 6349, 'a98000': 6350, 'aamer': 6351, 'abbey': 6352, 'abdic': 6353, 'abengoa': 6354, 'abid': 6355, 'abigail': 6356, 'abnorm': 6357, 'abomb': 6358, 'abort': 6359, 'abrupt': 6360, 'abruptli': 6361, 'absurd': 6362, 'abyss': 6363, 'aca': 6364, 'academi': 6365, 'acasti': 6366, 'accomplic': 6367, 'accomplish': 6368, 'acer': 6369, 'acm': 6370, 'acst': 6371, 'activis': 6372, 'adher': 6373, 'adjac': 6374, 'adjust': 6375, 'administ': 6376, 'admiss': 6377, 'adolesc': 6378, 'adolf': 6379, 'ador': 6380, 'adsens': 6381, 'advent': 6382, 'adyen': 6383, 'afghani': 6384, 'aficionado': 6385, 'afip': 6386, 'afl': 6387, 'afoot': 6388, 'afterburn': 6389, 'afternoon': 6390, 'agenda': 6391, 'aggressor': 6392, 'agm': 6393, 'ahluwalia': 6394, 'ahmadinejad': 6395, 'ahmedabad': 6396, 'aiib': 6397, 'aipac': 6398, 'aipow': 6399, 'airbas': 6400, 'airborn': 6401, 'airtim': 6402, 'ak47': 6403, 'akerna': 6404, 'alamo': 6405, 'aleksandr': 6406, 'alexi': 6407, 'alfa': 6408, 'alguno': 6409, 'alien': 6410, 'alj': 6411, 'allknow': 6412, 'alnusra': 6413, 'alpin': 6414, 'alqaedalink': 6415, 'alqaida': 6416, 'alshabaab': 6417, 'alshabab': 6418, 'alto': 6419, 'alyn': 6420, 'ambarella': 6421, 'ambien': 6422, 'ambul': 6423, 'ambush': 6424, 'amc': 6425, 'ami': 6426, 'amnesia': 6427, 'amobi': 6428, 'amplio': 6429, 'analogu': 6430, 'anatom': 6431, 'anchor': 6432, 'angel': 6433, 'angion': 6434, 'anglodutch': 6435, 'angora': 6436, 'anhang': 6437, 'anil': 6438, 'anish': 6439, 'anna': 6440, 'annonc': 6441, 'anon': 6442, 'antebellum': 6443, 'antichina': 6444, 'anticorpor': 6445, 'anticovid': 6446, 'antifa': 6447, 'antifrack': 6448, 'antigay': 6449, 'antigua': 6450, 'antiisrael': 6451, 'antileft': 6452, 'antinazi': 6453, 'antiobes': 6454, 'antistal': 6455, 'antivir': 6456, 'anybodi': 6457, 'anytimelend': 6458, 'anyway': 6459, 'aplicar': 6460, 'apologis': 6461, 'apprehend': 6462, 'apr': 6463, 'aprovechar': 6464, 'apsens': 6465, 'apuesta': 6466, 'apunta': 6467, 'aquif': 6468, 'arabica': 6469, 'arbitr': 6470, 'archeologist': 6471, 'arcsoft': 6472, 'ariel': 6473, 'arizona': 6474, 'armour': 6475, 'arron': 6476, 'arthriti': 6477, 'arthur': 6478, 'asaaaaaaaasdaaaaaasd': 6479, 'assail': 6480, 'asteroid': 6481, 'astrophysicist': 6482, 'asx': 6483, 'ataca': 6484, 'atari': 6485, 'atencin': 6486, 'athena': 6487, 'atiso': 6488, 'atmar': 6489, 'atta': 6490, 'attach': 6491, 'audi': 6492, 'aung': 6493, 'ausralian': 6494, 'austin': 6495, 'australiabas': 6496, 'autism': 6497, 'autonom': 6498, 'autumn': 6499, 'avago': 6500, 'aviv': 6501, 'avk': 6502, 'aw': 6503, 'await': 6504, 'awdnew': 6505, 'awesom': 6506, 'axogen': 6507, 'azeri': 6508, 'bachelor': 6509, 'bacillu': 6510, 'backer': 6511, 'bacpac': 6512, 'badli': 6513, 'bahama': 6514, 'bahraini': 6515, 'bailey': 6516, 'bajo': 6517, 'bakeri': 6518, 'bald': 6519, 'ballet': 6520, 'balltamp': 6521, 'bampq': 6522, 'bancaria': 6523, 'bancorpor': 6524, 'bancroft': 6525, 'bandwagon': 6526, 'bangalor': 6527, 'banner': 6528, 'bao': 6529, 'barato': 6530, 'barbar': 6531, 'barkley': 6532, 'barnett': 6533, 'barr': 6534, 'barrish': 6535, 'basquiat': 6536, 'bat': 6537, 'bausch': 6538, 'baxter': 6539, 'beacon': 6540, 'beam': 6541, 'becker': 6542, 'beckon': 6543, 'beer': 6544, 'beetox': 6545, 'behead': 6546, 'behemoth': 6547, 'behindcloseddoor': 6548, 'beijingbas': 6549, 'belief': 6550, 'beneficiari': 6551, 'benoit': 6552, 'bent': 6553, 'benz': 6554, 'beret': 6555, 'berlusconi': 6556, 'bernardino': 6557, 'bernstein': 6558, 'besid': 6559, 'bethlehem': 6560, 'bgc': 6561, 'bh': 6562, 'bharathi': 6563, 'bia': 6564, 'biblic': 6565, 'bignos': 6566, 'bikini': 6567, 'bilibili': 6568, 'billionstar': 6569, 'biocryst': 6570, 'biograph': 6571, 'biomass': 6572, 'biomedica': 6573, 'bioscienc': 6574, 'biotechnolog': 6575, 'birdsey': 6576, 'bite': 6577, 'bitten': 6578, 'bjorn': 6579, 'blackflip': 6580, 'blanket': 6581, 'bleach': 6582, 'blend': 6583, 'bless': 6584, 'blige': 6585, 'blitz': 6586, 'blockbust': 6587, 'blogspot': 6588, 'bloodi': 6589, 'bloodstain': 6590, 'blower': 6591, 'bluewat': 6592, 'bluff': 6593, 'bluntforc': 6594, 'bm30': 6595, 'boa': 6596, 'boar': 6597, 'boati': 6598, 'boggl': 6599, 'bogo': 6600, 'bogot': 6601, 'boko': 6602, 'bolden': 6603, 'bolder': 6604, 'bolt': 6605, 'bonn': 6606, 'booksel': 6607, 'borneo': 6608, 'bose': 6609, 'bother': 6610, 'botnet': 6611, 'bounc': 6612, 'boutiqu': 6613, 'boycot': 6614, 'boyfriend': 6615, 'bpo': 6616, 'braincomput': 6617, 'brainspin': 6618, 'brandish': 6619, 'branson': 6620, 'brat': 6621, 'breathalyz': 6622, 'breez': 6623, 'brick': 6624, 'bride': 6625, 'bridgewat': 6626, 'bright': 6627, 'brigitt': 6628, 'bristol': 6629, 'brockovich': 6630, 'bronfman': 6631, 'brooksdav': 6632, 'broth': 6633, 'brp': 6634, 'brubeckgrac': 6635, 'brunner': 6636, 'bsa': 6637, 'bskyb': 6638, 'bucharest': 6639, 'budgam': 6640, 'buggi': 6641, 'bulb': 6642, 'bullfight': 6643, 'bullfrog': 6644, 'bum': 6645, 'bumblebe': 6646, 'bumboy': 6647, 'bumbryrobert': 6648, 'bumwelta': 6649, 'bureaucraci': 6650, 'burnedout': 6651, 'burnel': 6652, 'burqa': 6653, 'burst': 6654, 'bux': 6655, 'buyback': 6656, 'bwindi': 6657, 'byod': 6658, 'c15anhour': 6659, 'c16': 6660, 'c19': 6661, 'cab': 6662, 'cabin': 6663, 'cablesand': 6664, 'cach': 6665, 'cadillac': 6666, 'caesar': 6667, 'cairn': 6668, 'californiabas': 6669, 'cam': 6670, 'campu': 6671, 'cana': 6672, 'canadacantex': 6673, 'canberra': 6674, 'canfit': 6675, 'cantones': 6676, 'cantor': 6677, 'cao': 6678, 'cape': 6679, 'capgemini': 6680, 'capita': 6681, 'capuanopressley': 6682, 'cara': 6683, 'caraca': 6684, 'carat': 6685, 'carbid': 6686, 'carcarri': 6687, 'cardin': 6688, 'careit': 6689, 'caricom': 6690, 'carlo': 6691, 'carnag': 6692, 'carniv': 6693, 'carolina': 6694, 'carpent': 6695, 'carrol': 6696, 'cartoon': 6697, 'casino': 6698, 'castro': 6699, 'cat5': 6700, 'catal': 6701, 'catalogo': 6702, 'cavern': 6703, 'cay': 6704, 'cbse': 6705, 'ce': 6706, 'cenotaph': 6707, 'centauri': 6708, 'cerca': 6709, 'ceva': 6710, 'cf': 6711, 'cfmeu': 6712, 'cfra': 6713, 'champ': 6714, 'chant': 6715, 'chapo': 6716, 'chardham': 6717, 'chater': 6718, 'chattem': 6719, 'che': 6720, 'chemistri': 6721, 'chemotherapi': 6722, 'cheney': 6723, 'cheong': 6724, 'chia': 6725, 'chick': 6726, 'chigueo': 6727, 'chinabas': 6728, 'chinal': 6729, 'chineseback': 6730, 'chinesemad': 6731, 'chkp': 6732, 'chn': 6733, 'choe': 6734, 'chop': 6735, 'chose': 6736, 'chowmeinnoodl': 6737, 'chrisley': 6738, 'chronicmigrain': 6739, 'chuck': 6740, 'cierra': 6741, 'cigu': 6742, 'cindi': 6743, 'cinema': 6744, 'ciobo': 6745, 'circadian': 6746, 'circumcis': 6747, 'circunvalacin': 6748, 'cl': 6749, 'clare': 6750, 'classif': 6751, 'claudia': 6752, 'claymor': 6753, 'cleanup': 6754, 'clearanc': 6755, 'cleat': 6756, 'clemenc': 6757, 'cling': 6758, 'clive': 6759, 'cmo': 6760, 'cnh': 6761, 'coalburn': 6762, 'coalit': 6763, 'coalpow': 6764, 'cobra': 6765, 'coceo': 6766, 'coffer': 6767, 'coffin': 6768, 'cognit': 6769, 'cohn': 6770, 'coloni': 6771, 'colonis': 6772, 'color': 6773, 'columbia': 6774, 'comb': 6775, 'comcast': 6776, 'commando': 6777, 'commercialbond': 6778, 'commiser': 6779, 'commut': 6780, 'comon': 6781, 'comp': 6782, 'companyeastern': 6783, 'complicidad': 6784, 'compos': 6785, 'compressor': 6786, 'compris': 6787, 'comptrol': 6788, 'compuls': 6789, 'compulsori': 6790, 'comsit': 6791, 'conced': 6792, 'concession': 6793, 'condosat': 6794, 'conductor': 6795, 'confeder': 6796, 'confus': 6797, 'congreg': 6798, 'connectfinanci': 6799, 'connot': 6800, 'conocimiento': 6801, 'conquer': 6802, 'conquest': 6803, 'conscienti': 6804, 'conservativerun': 6805, 'construccion': 6806, 'consumerist': 6807, 'continent': 6808, 'converg': 6809, 'coo': 6810, 'cooki': 6811, 'coolest': 6812, 'copart': 6813, 'cordon': 6814, 'corel': 6815, 'corner': 6816, 'corps': 6817, 'correl': 6818, 'correspond': 6819, 'corri': 6820, 'corros': 6821, 'corruptionplagu': 6822, 'corsag': 6823, 'costa': 6824, 'costar': 6825, 'costco': 6826, 'costsso': 6827, 'cottag': 6828, 'cotton': 6829, 'couldnamp8217': 6830, 'counterattack': 6831, 'counterintellig': 6832, 'counterintuit': 6833, 'counterterror': 6834, 'coupa': 6835, 'covertli': 6836, 'cpg': 6837, 'crackpot': 6838, 'craggi': 6839, 'cramer': 6840, 'credenc': 6841, 'creol': 6842, 'cricket': 6843, 'crisistorn': 6844, 'crisp': 6845, 'cropdestroy': 6846, 'crowdsourc': 6847, 'cruel': 6848, 'csection': 6849, 'cti': 6850, 'cummin': 6851, 'cupboard': 6852, 'cupcak': 6853, 'curl': 6854, 'curriculum': 6855, 'curv': 6856, 'cvx': 6857, 'cword': 6858, 'cy': 6859, 'cybercrim': 6860, 'cybercrimin': 6861, 'cycl': 6862, 'cypru': 6863, 'dachau': 6864, 'daddi': 6865, 'dae': 6866, 'dahua': 6867, 'dam': 6868, 'damn': 6869, 'dampg': 6870, 'dana': 6871, 'danah': 6872, 'darkmatt': 6873, 'dart': 6874, 'dash': 6875, 'davidbaker012': 6876, 'dawa': 6877, 'dayz': 6878, 'dear': 6879, 'deathtrap': 6880, 'debaucheri': 6881, 'debbi': 6882, 'debit': 6883, 'debri': 6884, 'debunk': 6885, 'decay': 6886, 'decent': 6887, 'defac': 6888, 'defam': 6889, 'defianc': 6890, 'defiant': 6891, 'defin': 6892, 'deflect': 6893, 'degred': 6894, 'delici': 6895, 'deloitt': 6896, 'delux': 6897, 'demanda': 6898, 'demis': 6899, 'denisovan': 6900, 'denni': 6901, 'denselypopul': 6902, 'dental': 6903, 'departur': 6904, 'deplor': 6905, 'derail': 6906, 'desecr': 6907, 'desemb': 6908, 'desir': 6909, 'detaine': 6910, 'deter': 6911, 'deterg': 6912, 'dev': 6913, 'dexia': 6914, 'dgito': 6915, 'dgp': 6916, 'dh': 6917, 'dhahran': 6918, 'dhaka': 6919, 'diabet': 6920, 'dial': 6921, 'dialog': 6922, 'diamondstud': 6923, 'diari': 6924, 'dice': 6925, 'diego': 6926, 'digg': 6927, 'digitis': 6928, 'digniti': 6929, 'dilemma': 6930, 'diller': 6931, 'disapprov': 6932, 'disarray': 6933, 'disconnect': 6934, 'disenfranchis': 6935, 'disgruntl': 6936, 'dishonest': 6937, 'disingenu': 6938, 'dislodg': 6939, 'dispar': 6940, 'disproport': 6941, 'dissolv': 6942, 'divers': 6943, 'divert': 6944, 'dividend': 6945, 'dmitri': 6946, 'dock': 6947, 'docsend': 6948, 'docusign': 6949, 'doh': 6950, 'dolli': 6951, 'dong': 6952, 'dorian': 6953, 'dorm': 6954, 'doublehead': 6955, 'draghi': 6956, 'drain': 6957, 'drama': 6958, 'dredg': 6959, 'drift': 6960, 'dropboxlik': 6961, 'dsseldorf': 6962, 'duet': 6963, 'duo': 6964, 'dupont': 6965, 'dust': 6966, 'dweller': 6967, 'dwolla': 6968, 'dystopian': 6969, 'dzhokhar': 6970, 'ebadi': 6971, 'ebm': 6972, 'ebrard': 6973, 'ecigarett': 6974, 'ecolog': 6975, 'ecologist': 6976, 'ecovac': 6977, 'edgar': 6978, 'edgi': 6979, 'edi': 6980, 'edinburgh': 6981, 'edouard': 6982, 'edwin': 6983, 'ehealth': 6984, 'ehr': 6985, 'ehud': 6986, 'eid': 6987, 'eighteen': 6988, 'elabor': 6989, 'eleanor': 6990, 'elementari': 6991, 'elig': 6992, 'elizabeth': 6993, 'ellex': 6994, 'elsewher': 6995, 'embark': 6996, 'embodi': 6997, 'emc': 6998, 'emit': 6999, 'emmanuel': 7000, 'emplac': 7001, 'empleo': 7002, 'empresa': 7003, 'empti': 7004, 'emr': 7005, 'encroach': 7006, 'engulf': 7007, 'enliven': 7008, 'enriqu': 7009, 'entenmann': 7010, 'entitl': 7011, 'entrepris': 7012, 'entrust': 7013, 'envi': 7014, 'environmentalist': 7015, 'envis': 7016, 'envisag': 7017, 'enzymat': 7018, 'epic': 7019, 'epilepsi': 7020, 'epstein': 7021, 'erad': 7022, 'erdoan': 7023, 'erect': 7024, 'erich': 7025, 'ericssson': 7026, 'erin': 7027, 'esl': 7028, 'eso': 7029, 'espaol': 7030, 'essay': 7031, 'essilor': 7032, 'establ': 7033, 'estn': 7034, 'etl': 7035, 'eubas': 7036, 'eurotunnel': 7037, 'evan': 7038, 'everest': 7039, 'everett': 7040, 'everybodi': 7041, 'evogen': 7042, 'excav': 7043, 'excellu': 7044, 'excia': 7045, 'exdividend': 7046, 'exert': 7047, 'exibm': 7048, 'exigencia': 7049, 'expectedpoint': 7050, 'expedi': 7051, 'explicitli': 7052, 'exponenti': 7053, 'exposur': 7054, 'exwhit': 7055, 'exwif': 7056, 'f22': 7057, 'f5': 7058, 'fabl': 7059, 'fabricant': 7060, 'faceless': 7061, 'factgath': 7062, 'facto': 7063, 'fade': 7064, 'fahma': 7065, 'fairli': 7066, 'fallon': 7067, 'fantas': 7068, 'fantast': 7069, 'fanuc': 7070, 'fargo': 7071, 'farmacutica': 7072, 'faro': 7073, 'fascist': 7074, 'fastestgrow': 7075, 'fastgrow': 7076, 'fatten': 7077, 'faux': 7078, 'fax': 7079, 'fb': 7080, 'fcn': 7081, 'feloni': 7082, 'fenc': 7083, 'ferdinand': 7084, 'fern': 7085, 'ferrari': 7086, 'fest': 7087, 'festejara': 7088, 'fi': 7089, 'fica': 7090, 'fiduciari': 7091, 'fierc': 7092, 'fifthlargest': 7093, 'fil': 7094, 'fingerprint': 7095, 'firearm': 7096, 'fireey': 7097, 'firsthand': 7098, 'firstperson': 7099, 'fisa': 7100, 'fixedlin': 7101, 'fk': 7102, 'flexibl': 7103, 'fling': 7104, 'flip': 7105, 'flipkart': 7106, 'flout': 7107, 'flower': 7108, 'floyd': 7109, 'flybi': 7110, 'fmi': 7111, 'foldabl': 7112, 'folk': 7113, 'fond': 7114, 'fonseca': 7115, 'foo': 7116, 'fool': 7117, 'foot': 7118, 'foray': 7119, 'foreclos': 7120, 'foreigncurr': 7121, 'foresit': 7122, 'forestburn': 7123, 'forestri': 7124, 'forev': 7125, 'forgeri': 7126, 'fossilfuelus': 7127, 'fossilis': 7128, 'fought': 7129, 'foul': 7130, 'fourcharact': 7131, 'fractal': 7132, 'fragment': 7133, 'frame': 7134, 'franki': 7135, 'fraser': 7136, 'freakout': 7137, 'fred': 7138, 'freelanc': 7139, 'freeli': 7140, 'freerang': 7141, 'fret': 7142, 'friedman': 7143, 'frontpag': 7144, 'fssaiapprov': 7145, 'fubotv': 7146, 'fuck': 7147, 'fuell': 7148, 'fugu': 7149, 'fulfil': 7150, 'fume': 7151, 'fundamentalist': 7152, 'funerari': 7153, 'funnel': 7154, 'furious': 7155, 'furnish': 7156, 'furor': 7157, 'fuss': 7158, 'gab': 7159, 'gaddafi': 7160, 'gag': 7161, 'galoc': 7162, 'galpago': 7163, 'galpern': 7164, 'gamerg': 7165, 'gamida': 7166, 'ganancia': 7167, 'gayl': 7168, 'gcse': 7169, 'gdp': 7170, 'geist': 7171, 'gem': 7172, 'generac': 7173, 'genesi': 7174, 'geneticallymodifi': 7175, 'geniu': 7176, 'gent': 7177, 'geolog': 7178, 'geometri': 7179, 'georgian': 7180, 'gerhard': 7181, 'gett': 7182, 'gian': 7183, 'gibraltar': 7184, 'gim': 7185, 'gin': 7186, 'girlfriend': 7187, 'givat': 7188, 'glad': 7189, 'glanci': 7190, 'glimps': 7191, 'glu': 7192, 'glutam': 7193, 'glutenfre': 7194, 'gmo': 7195, 'gnome': 7196, 'gobierno': 7197, 'golden': 7198, 'goldleaf': 7199, 'goliath': 7200, 'googlepar': 7201, 'gore': 7202, 'gorman': 7203, 'gospel': 7204, 'gothenburg': 7205, 'gourmet': 7206, 'grad': 7207, 'grainfre': 7208, 'granada': 7209, 'grandfath': 7210, 'graphic': 7211, 'grassroot': 7212, 'gratifi': 7213, 'gratuit': 7214, 'greatli': 7215, 'gregg': 7216, 'grey': 7217, 'grim': 7218, 'groceri': 7219, 'groen': 7220, 'groundwat': 7221, 'guangzhou': 7222, 'guantanamo': 7223, 'guantnamo': 7224, 'guilt': 7225, 'gunship': 7226, 'gunshot': 7227, 'gy': 7228, 'gyllenha': 7229, 'h1n1': 7230, 'h2b': 7231, 'hacen': 7232, 'had': 7233, 'hadid': 7234, 'hagibi': 7235, 'haitian': 7236, 'halliburton': 7237, 'hamato': 7238, 'hammer': 7239, 'handheld': 7240, 'handwara': 7241, 'hangout': 7242, 'hanif': 7243, 'hanjin': 7244, 'hanson': 7245, 'happiest': 7246, 'haram': 7247, 'hardli': 7248, 'harington': 7249, 'hariri': 7250, 'harrass': 7251, 'harrod': 7252, 'hart': 7253, 'harvoni': 7254, 'haryana': 7255, 'has': 7256, 'hash': 7257, 'hasta': 7258, 'hat': 7259, 'havana': 7260, 'havoc': 7261, 'haywood': 7262, 'hazard': 7263, 'headteach': 7264, 'heartble': 7265, 'heartland': 7266, 'heaven': 7267, 'hebei': 7268, 'heberprot': 7269, 'hebron': 7270, 'hectar': 7271, 'heir': 7272, 'heiress': 7273, 'helan': 7274, 'helena': 7275, 'helm': 7276, 'helplin': 7277, 'hemispher': 7278, 'henneberri': 7279, 'herald': 7280, 'hero5': 7281, 'hester': 7282, 'hetero': 7283, 'hey': 7284, 'hi': 7285, 'hibbett': 7286, 'hibernia': 7287, 'hiboost': 7288, 'highskil': 7289, 'hiker': 7290, 'hikvis': 7291, 'hilltop': 7292, 'hiltler': 7293, 'himalayan': 7294, 'hindi': 7295, 'hindu': 7296, 'hip': 7297, 'hitch': 7298, 'hivposit': 7299, 'hm': 7300, 'hmi': 7301, 'hn': 7302, 'hoegh': 7303, 'hogar': 7304, 'hogarpara': 7305, 'hoist': 7306, 'hole': 7307, 'holierthanth': 7308, 'holland': 7309, 'homeopathi': 7310, 'homeoptima': 7311, 'homestreet': 7312, 'hoodi': 7313, 'hookup': 7314, 'hora': 7315, 'hors': 7316, 'horsemen': 7317, 'horton': 7318, 'hostagetak': 7319, 'houthi': 7320, 'howi': 7321, 'hp': 7322, 'htc': 7323, 'hubei': 7324, 'hubert': 7325, 'hulu': 7326, 'hung': 7327, 'hurriedli': 7328, 'hut': 7329, 'hy': 7330, 'hyperlink': 7331, 'hyperloop': 7332, 'hyra': 7333, 'hyundai': 7334, 'icbc': 7335, 'iceag': 7336, 'iceberg': 7337, 'ici': 7338, 'ick': 7339, 'identityexpress': 7340, 'ie': 7341, 'illfat': 7342, 'illiteraci': 7343, 'immunogen': 7344, 'impass': 7345, 'impenetr': 7346, 'impermiss': 7347, 'implod': 7348, 'impoverish': 7349, 'impuesto': 7350, 'impur': 7351, 'imu838': 7352, 'imv': 7353, 'inabl': 7354, 'inaugurada': 7355, 'incap': 7356, 'incarcer': 7357, 'incept': 7358, 'inciner': 7359, 'inconsist': 7360, 'indefinit': 7361, 'indexnasdaq': 7362, 'indi': 7363, 'indomi': 7364, 'induc': 7365, 'industryfund': 7366, 'inequ': 7367, 'inexor': 7368, 'infam': 7369, 'infantil': 7370, 'inflict': 7371, 'informacin': 7372, 'informatiqu': 7373, 'ingam': 7374, 'inhal': 7375, 'inlin': 7376, 'inmat': 7377, 'inn': 7378, 'innospec': 7379, 'inr': 7380, 'insolv': 7381, 'instinct': 7382, 'instor': 7383, 'instrument': 7384, 'insuffici': 7385, 'insurg': 7386, 'insurmount': 7387, 'intellectu': 7388, 'intercambio': 7389, 'intercontinent': 7390, 'interna': 7391, 'internetpow': 7392, 'interrog': 7393, 'interrupt': 7394, 'interstellar': 7395, 'interweb': 7396, 'intl': 7397, 'intoler': 7398, 'invers': 7399, 'invert': 7400, 'io': 7401, 'ion': 7402, 'iraqth': 7403, 'ireport': 7404, 'irishcentr': 7405, 'irresist': 7406, 'iskra': 7407, 'israelcarv': 7408, 'j11': 7409, 'jacobi': 7410, 'jaein': 7411, 'jagger': 7412, 'jain': 7413, 'jair': 7414, 'jalert': 7415, 'jamesstraas2015': 7416, 'jamil': 7417, 'jammer': 7418, 'jammu': 7419, 'jannah': 7420, 'jason': 7421, 'jay': 7422, 'jean': 7423, 'jeanpierr': 7424, 'jeffrey': 7425, 'jeh': 7426, 'jericho': 7427, 'jesu': 7428, 'jewelleri': 7429, 'jiabao': 7430, 'jihyun': 7431, 'jobless': 7432, 'jobsbest': 7433, 'jocelyn': 7434, 'joe': 7435, 'jon': 7436, 'jonathan': 7437, 'josh': 7438, 'jot': 7439, 'joul': 7440, 'jour': 7441, 'journey': 7442, 'joy': 7443, 'juan': 7444, 'judgement': 7445, 'judiciari': 7446, 'julia': 7447, 'juno': 7448, 'junta': 7449, 'kaepernick': 7450, 'kajita': 7451, 'kan': 7452, 'kaplan': 7453, 'karma': 7454, 'karmawhor': 7455, 'karnak': 7456, 'karsdashian': 7457, 'kasa': 7458, 'kasasdecoracion': 7459, 'kasperski': 7460, 'kavanaugh': 7461, 'kay': 7462, 'kb': 7463, 'keat': 7464, 'kebab': 7465, 'keen': 7466, 'keidan': 7467, 'keith': 7468, 'ken': 7469, 'kennedi': 7470, 'kerdil': 7471, 'kessler': 7472, 'ketamin': 7473, 'khapa': 7474, 'kharkov': 7475, 'khloe': 7476, 'kidnapp': 7477, 'kindergarten': 7478, 'kingpin': 7479, 'kip': 7480, 'kituo': 7481, 'kj200': 7482, 'klau': 7483, 'knock': 7484, 'ko': 7485, 'kodi': 7486, 'kook': 7487, 'ktre': 7488, 'kumamoto': 7489, 'kumar': 7490, 'kunz': 7491, 'kurdistan': 7492, 'kuwaiti': 7493, 'kyi': 7494, 'kyle': 7495, 'lambast': 7496, 'landfal': 7497, 'landfil': 7498, 'lapan': 7499, 'lara': 7500, 'lastditch': 7501, 'latestag': 7502, 'latino': 7503, 'latter': 7504, 'latvian': 7505, 'lavabit': 7506, 'lawrenc': 7507, 'lawson': 7508, 'lax': 7509, 'lazi': 7510, 'lcd': 7511, 'leaf': 7512, 'leas': 7513, 'lebanes': 7514, 'lebensborn': 7515, 'lebron': 7516, 'ledipasvir': 7517, 'leftist': 7518, 'leftw': 7519, 'legeno': 7520, 'legislador': 7521, 'leicest': 7522, 'leno': 7523, 'leo': 7524, 'leonard': 7525, 'lesli': 7526, 'lesvo': 7527, 'levchin': 7528, 'leverag': 7529, 'levin': 7530, 'levinson': 7531, 'levit': 7532, 'lgbti': 7533, 'liabl': 7534, 'liao': 7535, 'licenc': 7536, 'lifethreaten': 7537, 'liga': 7538, 'limb': 7539, 'limitless': 7540, 'lindblad': 7541, 'lindsey': 7542, 'lionel': 7543, 'liszt': 7544, 'lithium': 7545, 'littleknown': 7546, 'livelihood': 7547, 'liver': 7548, 'livid': 7549, 'liz': 7550, 'lm': 7551, 'lng': 7552, 'loaf': 7553, 'lobbyist': 7554, 'lobster': 7555, 'loc': 7556, 'logger': 7557, 'logic': 7558, 'loneli': 7559, 'longgun': 7560, 'longstand': 7561, 'loop': 7562, 'loos': 7563, 'loui': 7564, 'lowcarbon': 7565, 'lowcost': 7566, 'lowi': 7567, 'lu': 7568, 'lub': 7569, 'luberon': 7570, 'ludicr': 7571, 'lufthansa': 7572, 'lululemon': 7573, 'lulz': 7574, 'lumber': 7575, 'lumen': 7576, 'lunar': 7577, 'lundi': 7578, 'lurk': 7579, 'luxembourg': 7580, 'lykk': 7581, 'lyric': 7582, 'macau': 7583, 'macbook': 7584, 'machet': 7585, 'madhav': 7586, 'madrasah': 7587, 'maduro': 7588, 'magic': 7589, 'magnat': 7590, 'mahinda': 7591, 'mahmud': 7592, 'makeup': 7593, 'malariadrug': 7594, 'malfunct': 7595, 'mali': 7596, 'malici': 7597, 'mallah': 7598, 'malon': 7599, 'mamboleo': 7600, 'mampa': 7601, 'mandarin': 7602, 'manejamo': 7603, 'manga': 7604, 'mangrov': 7605, 'mania': 7606, 'mansion': 7607, 'maquinaria': 7608, 'maralagochina': 7609, 'marash': 7610, 'marcelo': 7611, 'marchioni': 7612, 'marco': 7613, 'marketgrad': 7614, 'markowitz': 7615, 'maroi': 7616, 'marre': 7617, 'martial': 7618, 'martian': 7619, 'marzo': 7620, 'mason': 7621, 'massachusett': 7622, 'massimo': 7623, 'matern': 7624, 'mathcad': 7625, 'mather': 7626, 'matur': 7627, 'mayb': 7628, 'mcboatfac': 7629, 'mcdonough': 7630, 'meadow': 7631, 'medida': 7632, 'mediv': 7633, 'meerkat': 7634, 'megacompani': 7635, 'megamerg': 7636, 'megatsunami': 7637, 'megawatt': 7638, 'meghan': 7639, 'megiddoa': 7640, 'mel': 7641, 'melt': 7642, 'meltthrough': 7643, 'meltzer': 7644, 'memberst': 7645, 'meme': 7646, 'memorandum': 7647, 'mengel': 7648, 'mep': 7649, 'mercer': 7650, 'merg': 7651, 'mesh': 7652, 'meta': 7653, 'metalscissor': 7654, 'meteorit': 7655, 'meth': 7656, 'metro': 7657, 'metroidvania': 7658, 'miami': 7659, 'michezo': 7660, 'mick': 7661, 'micro': 7662, 'microscop': 7663, 'microspher': 7664, 'mideast': 7665, 'midst': 7666, 'midsumm': 7667, 'midway': 7668, 'mientra': 7669, 'miik': 7670, 'mikhail': 7671, 'miki': 7672, 'militar': 7673, 'mill': 7674, 'millionth': 7675, 'millisecond': 7676, 'minden': 7677, 'minim': 7678, 'miscarriag': 7679, 'miser': 7680, 'mismo': 7681, 'misogyni': 7682, 'mississippi': 7683, 'missouri': 7684, 'mistak': 7685, 'mistaken': 7686, 'mitchel': 7687, 'mitig': 7688, 'mitsubishi': 7689, 'mln': 7690, 'mnuchin': 7691, 'mob': 7692, 'mobileiron': 7693, 'mod': 7694, 'modifi': 7695, 'mogharabi': 7696, 'moham': 7697, 'mohammad': 7698, 'moneta': 7699, 'moneylaund': 7700, 'mongolia': 7701, 'monosodium': 7702, 'montana': 7703, 'moor': 7704, 'moratorium': 7705, 'morepork': 7706, 'morneau': 7707, 'motif': 7708, 'motiv': 7709, 'motorcad': 7710, 'motorcyclist': 7711, 'mould': 7712, 'mound': 7713, 'mouthwat': 7714, 'movimiento': 7715, 'mowjow': 7716, 'mrsaid': 7717, 'mss': 7718, 'mtbc': 7719, 'mucha': 7720, 'muchneed': 7721, 'muffin': 7722, 'mufti': 7723, 'mugab': 7724, 'multibillion': 7725, 'multibillionpound': 7726, 'multicultur': 7727, 'multilink': 7728, 'mump': 7729, 'munci': 7730, 'municip': 7731, 'murray': 7732, 'mushroom': 7733, 'musician': 7734, 'mxico': 7735, 'myluxphon': 7736, 'mypillow': 7737, 'nab': 7738, 'nablu': 7739, 'nadu': 7740, 'nafta': 7741, 'nagasaki': 7742, 'nagendra': 7743, 'naidoc': 7744, 'nail': 7745, 'nait': 7746, 'namatjira': 7747, 'nansul': 7748, 'napalm': 7749, 'narrow': 7750, 'nasdaqhtlf': 7751, 'nasdaqlsbk': 7752, 'natasha': 7753, 'nathan': 7754, 'naturalist': 7755, 'nawaz': 7756, 'nazarbayev': 7757, 'nazareth': 7758, 'ncr': 7759, 'ndb': 7760, 'ne': 7761, 'neck': 7762, 'nel': 7763, 'neogaf': 7764, 'neoliber': 7765, 'nervou': 7766, 'neural': 7767, 'newborn': 7768, 'newcom': 7769, 'newlink': 7770, 'newlyelect': 7771, 'newslett': 7772, 'newsnight': 7773, 'nextgen': 7774, 'nextgener': 7775, 'nexu': 7776, 'ngon': 7777, 'nhautamthanh': 7778, 'ni': 7779, 'nicol': 7780, 'nicola': 7781, 'nighthawk': 7782, 'nikkei': 7783, 'nikola': 7784, 'niqab': 7785, 'niro': 7786, 'nk': 7787, 'nkorea': 7788, 'nobelpr': 7789, 'nod': 7790, 'nofli': 7791, 'noida': 7792, 'nomine': 7793, 'noncompli': 7794, 'none': 7795, 'nonexecut': 7796, 'nonfossil': 7797, 'noni': 7798, 'nonrenew': 7799, 'nontechn': 7800, 'noonan': 7801, 'norg': 7802, 'northeastern': 7803, 'nose': 7804, 'notion': 7805, 'notr': 7806, 'novatti': 7807, 'novelturnedmovi': 7808, 'novembr': 7809, 'nowdefunct': 7810, 'nowher': 7811, 'nowpresid': 7812, 'nozawa': 7813, 'nsnbc': 7814, 'ntt': 7815, 'nurseri': 7816, 'nuuvera': 7817, 'nuva': 7818, 'nyse': 7819, 'nyu': 7820, 'o2': 7821, 'objection': 7822, 'occult': 7823, 'oct': 7824, 'odchudzani': 7825, 'oem': 7826, 'offlimit': 7827, 'offload': 7828, 'offspr': 7829, 'ofici': 7830, 'oficial': 7831, 'oftcit': 7832, 'oilgiant': 7833, 'oligarch': 7834, 'olympian': 7835, 'ombudsman': 7836, 'omron': 7837, 'omx': 7838, 'onedr': 7839, 'onepath': 7840, 'onexim': 7841, 'onion': 7842, 'opal': 7843, 'opaqu': 7844, 'openair': 7845, 'opencapi': 7846, 'operationalis': 7847, 'ophthalm': 7848, 'opositor': 7849, 'optimist': 7850, 'orangutan': 7851, 'orban': 7852, 'orphanag': 7853, 'orwel': 7854, 'oscar': 7855, 'ounc': 7856, 'oust': 7857, 'outback': 7858, 'outcri': 7859, 'outpost': 7860, 'outwit': 7861, 'oval': 7862, 'overcrowd': 7863, 'overfish': 7864, 'overhear': 7865, 'oversaw': 7866, 'overse': 7867, 'overstay': 7868, 'overthrow': 7869, 'overwhelm': 7870, 'overwork': 7871, 'ow': 7872, 'ownership': 7873, 'oxid': 7874, 'p800': 7875, 'p8a': 7876, 'pagan': 7877, 'pago': 7878, 'pakodi': 7879, 'palantir': 7880, 'paleo': 7881, 'paleontologist': 7882, 'palmero': 7883, 'palo': 7884, 'pamela': 7885, 'panason': 7886, 'pancak': 7887, 'pandemia': 7888, 'papadopoulo': 7889, 'papua': 7890, 'par': 7891, 'parachut': 7892, 'parali': 7893, 'paralys': 7894, 'parl': 7895, 'participarn': 7896, 'partisan': 7897, 'partli': 7898, 'parton': 7899, 'paso': 7900, 'patagotitan': 7901, 'patriarch': 7902, 'patricia': 7903, 'pavey': 7904, 'pawar': 7905, 'pawn': 7906, 'payback': 7907, 'payload': 7908, 'payout': 7909, 'paysaf': 7910, 'pdf': 7911, 'pdl': 7912, 'peacekeep': 7913, 'peach': 7914, 'peanut': 7915, 'pearl': 7916, 'peculiar': 7917, 'pediatr': 7918, 'pedophilia': 7919, 'pedro': 7920, 'pekn': 7921, 'pend': 7922, 'penni': 7923, 'peppercorn': 7924, 'percept': 7925, 'pero': 7926, 'persecut': 7927, 'persian': 7928, 'peruvian': 7929, 'pervers': 7930, 'pest': 7931, 'pesticidetaint': 7932, 'petersburg': 7933, 'peterson': 7934, 'petrostatea': 7935, 'petti': 7936, 'pg': 7937, 'ph': 7938, 'pharaoh': 7939, 'pharmacist': 7940, 'phenomen': 7941, 'phi': 7942, 'philadelphia': 7943, 'philanthropist': 7944, 'philipp': 7945, 'philosoph': 7946, 'phisher': 7947, 'phm': 7948, 'phonic': 7949, 'phosphat': 7950, 'photoop': 7951, 'photoshoot': 7952, 'pianist': 7953, 'piccadilli': 7954, 'piratean': 7955, 'pistol': 7956, 'pixar': 7957, 'pizza': 7958, 'pla': 7959, 'placard': 7960, 'planetari': 7961, 'plankton': 7962, 'plantat': 7963, 'plaquenil': 7964, 'plasma': 7965, 'playa': 7966, 'playdoh': 7967, 'pliega': 7968, 'plunder': 7969, 'pneumonia': 7970, 'pnk': 7971, 'pnoy': 7972, 'poca': 7973, 'pogo': 7974, 'poker': 7975, 'pole': 7976, 'policeand': 7977, 'policeman': 7978, 'polli': 7979, 'poltica': 7980, 'polygam': 7981, 'pomerantz': 7982, 'poonch': 7983, 'porcelain': 7984, 'pork': 7985, 'pornhub': 7986, 'pornographi': 7987, 'porpois': 7988, 'portal': 7989, 'portion': 7990, 'portland': 7991, 'postpandem': 7992, 'potash': 7993, 'potfocus': 7994, 'potter': 7995, 'poultri': 7996, 'powerpack': 7997, 'powoduj': 7998, 'prediksi': 7999, 'preemptiv': 8000, 'pregnanc': 8001, 'preindustri': 8002, 'prenti': 8003, 'prepaid': 8004, 'prescrib': 8005, 'prescript': 8006, 'pressenc': 8007, 'pretext': 8008, 'preview': 8009, 'pri': 8010, 'priceless': 8011, 'priebk': 8012, 'printer': 8013, 'probando': 8014, 'problemsolv': 8015, 'proclam': 8016, 'progrowth': 8017, 'proindepend': 8018, 'prokhorov': 8019, 'prokremlin': 8020, 'prolong': 8021, 'prongay': 8022, 'pronoun': 8023, 'prop': 8024, 'proprietari': 8025, 'protection': 8026, 'protrump': 8027, 'proxim': 8028, 'proxima': 8029, 'prsident': 8030, 'pruitt': 8031, 'psychopath': 8032, 'publi': 8033, 'pug': 8034, 'pulitz': 8035, 'puls': 8036, 'pundit': 8037, 'punjabindia': 8038, 'puppi': 8039, 'pushi': 8040, 'pussi': 8041, 'putinhitl': 8042, 'pv': 8043, 'pwc': 8044, 'pyeongchang': 8045, 'pypl': 8046, 'pyramid': 8047, 'pyrenean': 8048, 'qa': 8049, 'qanon': 8050, 'qanta': 8051, 'qassem': 8052, 'qcom': 8053, 'quadra': 8054, 'quadrupl': 8055, 'quak': 8056, 'quarantin': 8057, 'quarterli': 8058, 'quash': 8059, 'quest': 8060, 'queu': 8061, 'quick': 8062, 'quickampeasi': 8063, 'quickli': 8064, 'quilt': 8065, 'quinstreet': 8066, 'quiz': 8067, 'quriyat': 8068, 'rabobank': 8069, 'racket': 8070, 'radiohead': 8071, 'radwar': 8072, 'rafsanjani': 8073, 'rainer': 8074, 'rajasthan': 8075, 'ramallah': 8076, 'ranger': 8077, 'raptor': 8078, 'rarest': 8079, 'raspad': 8080, 'raspberri': 8081, 'rat': 8082, 'rater': 8083, 'ratifi': 8084, 'ratio': 8085, 'raven': 8086, 'rb': 8087, 'rcemment': 8088, 'rcmp': 8089, 'readwrit': 8090, 'realicen': 8091, 'realis': 8092, 'realm': 8093, 'realnam': 8094, 'realnetwork': 8095, 'realtim': 8096, 'reanalysi': 8097, 'reassess': 8098, 'rebecca': 8099, 'rebekah': 8100, 'rebelheld': 8101, 'recreat': 8102, 'recur': 8103, 'rede': 8104, 'reflex': 8105, 'refriger': 8106, 'refug': 8107, 'regex': 8108, 'regiment': 8109, 'rein': 8110, 'reinhold': 8111, 'reinstat': 8112, 'reinvent': 8113, 'relev': 8114, 'relianc': 8115, 'reliev': 8116, 'relinquish': 8117, 'reluct': 8118, 'remarri': 8119, 'remitt': 8120, 'remnant': 8121, 'ren': 8122, 'renam': 8123, 'renegoti': 8124, 'renov': 8125, 'rentagirlfriend': 8126, 'repay': 8127, 'replay': 8128, 'replica': 8129, 'repris': 8130, 'rescind': 8131, 'resel': 8132, 'reshuffl': 8133, 'respir': 8134, 'restart': 8135, 'restat': 8136, 'resurg': 8137, 'resurrect': 8138, 'rethink': 8139, 'rettig': 8140, 'reunion': 8141, 'reveng': 8142, 'revengesay': 8143, 'rever': 8144, 'rewritten': 8145, 'rey': 8146, 'rhythm': 8147, 'ria': 8148, 'richli': 8149, 'ricin': 8150, 'riddl': 8151, 'rn': 8152, 'rnew': 8153, 'rnhub': 8154, 'roar': 8155, 'roba': 8156, 'robin': 8157, 'robinet': 8158, 'roch': 8159, 'rockefel': 8160, 'rohingya': 8161, 'roller': 8162, 'ronald': 8163, 'roo': 8164, 'rotten': 8165, 'rover': 8166, 'royalti': 8167, 'royl': 8168, 'rth2300b1012': 8169, 'rubber': 8170, 'rubi': 8171, 'rubl': 8172, 'rudd': 8173, 'runaway': 8174, 'rupe': 8175, 'rusal': 8176, 'russianstyl': 8177, 's4': 8178, 's5': 8179, 's52': 8180, 's6': 8181, 'sacoola': 8182, 'sacr': 8183, 'saddest': 8184, 'sag': 8185, 'saia': 8186, 'salt': 8187, 'saltwat': 8188, 'samaria': 8189, 'sanaa': 8190, 'sancin': 8191, 'sandmann': 8192, 'sandpit': 8193, 'sandstorm': 8194, 'sandwich': 8195, 'saniti': 8196, 'santiago': 8197, 'santo': 8198, 'sao': 8199, 'saputo': 8200, 'saqueo': 8201, 'sarcophagi': 8202, 'sarin': 8203, 'sat': 8204, 'sauc': 8205, 'savag': 8206, 'savannah': 8207, 'scallop': 8208, 'scanner': 8209, 'scarab': 8210, 'scarciti': 8211, 'scath': 8212, 'schall': 8213, 'scholarship': 8214, 'schoolboy': 8215, 'schoolchildren': 8216, 'schulman': 8217, 'sco': 8218, 'scooter': 8219, 'scream': 8220, 'scrutinis': 8221, 'sdf': 8222, 'seasid': 8223, 'seawat': 8224, 'seawe': 8225, 'sebastian': 8226, 'secessionist': 8227, 'securitiesslaught': 8228, 'securityunit': 8229, 'seder': 8230, 'sediment': 8231, 'sedimentari': 8232, 'seifert': 8233, 'selfimmol': 8234, 'selfrepl': 8235, 'selon': 8236, 'semi': 8237, 'sen': 8238, 'sepp': 8239, 'septic': 8240, 'sequoia': 8241, 'sequoiaback': 8242, 'sergeant': 8243, 'sergei': 8244, 'servant': 8245, 'serviceslik': 8246, 'sexi': 8247, 'shaker': 8248, 'shakespear': 8249, 'shaki': 8250, 'shangai': 8251, 'shangpu': 8252, 'sharif': 8253, 'shelter': 8254, 'shenyang': 8255, 'shia': 8256, 'shirin': 8257, 'shishu': 8258, 'shopifi': 8259, 'shoplift': 8260, 'shortfal': 8261, 'shove': 8262, 'shower': 8263, 'shred': 8264, 'shrink': 8265, 'siberia': 8266, 'sichuan': 8267, 'sidney': 8268, 'sief': 8269, 'sigi': 8270, 'silverback': 8271, 'silvio': 8272, 'simonn': 8273, 'singaporebas': 8274, 'singer': 8275, 'sinist': 8276, 'sitesgood': 8277, 'siu': 8278, 'sixteen': 8279, 'skate': 8280, 'ski': 8281, 'skripal': 8282, 'slab': 8283, 'slander': 8284, 'slate': 8285, 'slight': 8286, 'sling': 8287, 'slo': 8288, 'slum': 8289, 'sm': 8290, 'smallest': 8291, 'smarter': 8292, 'smb': 8293, 'smear': 8294, 'smerch': 8295, 'smile': 8296, 'smiledirectclub': 8297, 'snag': 8298, 'snapchat': 8299, 'sneez': 8300, 'snitch': 8301, 'soak': 8302, 'sociallydistanc': 8303, 'sociopath': 8304, 'sodomi': 8305, 'sofa': 8306, 'sohna': 8307, 'soi': 8308, 'soleimani': 8309, 'solomon': 8310, 'solskjaer': 8311, 'somewher': 8312, 'sommer': 8313, 'sonrisa': 8314, 'sopastyl': 8315, 'souk': 8316, 'soup': 8317, 'southeast': 8318, 'southwestern': 8319, 'sovaldi': 8320, 'sovietera': 8321, 'sow': 8322, 'soy': 8323, 'soya': 8324, 'sp': 8325, 'spacesa': 8326, 'spate': 8327, 'specter': 8328, 'spectr': 8329, 'spectrum': 8330, 'spew': 8331, 'spice': 8332, 'spider': 8333, 'spin': 8334, 'spite': 8335, 'spoil': 8336, 'spokesperson': 8337, 'spontan': 8338, 'spook': 8339, 'spooki': 8340, 'sportswear': 8341, 'spree': 8342, 'springsteen': 8343, 'sptzle': 8344, 'spywar': 8345, 'srinagar': 8346, 'ss26': 8347, 'ssd': 8348, 'stabilityobsess': 8349, 'stafford': 8350, 'stag': 8351, 'stagnat': 8352, 'stalker': 8353, 'stark': 8354, 'starter': 8355, 'startl': 8356, 'statisticsal': 8357, 'statutori': 8358, 'steep': 8359, 'steinfeld': 8360, 'stellar': 8361, 'stencil': 8362, 'sterilis': 8363, 'sterl': 8364, 'stew': 8365, 'sti': 8366, 'sticker': 8367, 'stimulu': 8368, 'stockholm': 8369, 'stockpil': 8370, 'strain': 8371, 'straumann': 8372, 'strictli': 8373, 'strikingli': 8374, 'strive': 8375, 'stroke': 8376, 'stronghold': 8377, 'studentl': 8378, 'stutthof': 8379, 'su35': 8380, 'subprim': 8381, 'subsequ': 8382, 'suck': 8383, 'suddenli': 8384, 'sudhir': 8385, 'suffici': 8386, 'sugarcrm': 8387, 'suitor': 8388, 'sukhoi': 8389, 'suliman': 8390, 'sullo': 8391, 'sumerian': 8392, 'sung': 8393, 'sungard': 8394, 'sunk': 8395, 'sunrun': 8396, 'superblood': 8397, 'superbug': 8398, 'superfast': 8399, 'supervisor': 8400, 'support18882395201': 8401, 'suppos': 8402, 'surfer': 8403, 'surgeon': 8404, 'surprisingli': 8405, 'surveyor': 8406, 'sutton': 8407, 'suu': 8408, 'swabian': 8409, 'swath': 8410, 'sway': 8411, 'swedishfinnish': 8412, 'swirl': 8413, 'sylt': 8414, 'symbolis': 8415, 'sympathis': 8416, 'synagogu': 8417, 'synopsi': 8418, 'systemin': 8419, 't34': 8420, 't6': 8421, 'taboo': 8422, 'tactix': 8423, 'taha': 8424, 'tailor': 8425, 'taipei': 8426, 'takaaki': 8427, 'takeda': 8428, 'takeoff': 8429, 'taketwo': 8430, 'tan': 8431, 'tannhaus': 8432, 'tanzania': 8433, 'taquaritinga': 8434, 'tata': 8435, 'taxespresid': 8436, 'tazreen': 8437, 'tb': 8438, 'tc': 8439, 'tdw': 8440, 'tearga': 8441, 'teas': 8442, 'tec': 8443, 'ted': 8444, 'tel': 8445, 'tellurian': 8446, 'temp': 8447, 'temporari': 8448, 'tend': 8449, 'tengizchevroil': 8450, 'tenth': 8451, 'tepco': 8452, 'terrac': 8453, 'terrain': 8454, 'terroristsand': 8455, 'tessan': 8456, 'tetanu': 8457, 'tether': 8458, 'texaco': 8459, 'thaw': 8460, 'theorist': 8461, 'therano': 8462, 'therapi': 8463, 'therefor': 8464, 'thereof': 8465, 'thesi': 8466, 'thi': 8467, 'thinktank': 8468, 'thirst': 8469, 'thoroughfar': 8470, 'threequart': 8471, 'threeyear': 8472, 'threshold': 8473, 'throttl': 8474, 'thrust': 8475, 'thrusttoweight': 8476, 'thuringiensi': 8477, 'thutmos': 8478, 'tianjin': 8479, 'tight': 8480, 'tighten': 8481, 'tiktok': 8482, 'timeless': 8483, 'timer': 8484, 'timet': 8485, 'tinderbox': 8486, 'ting': 8487, 'tiniest': 8488, 'tiremak': 8489, 'tj': 8490, 'tng': 8491, 'toast': 8492, 'tobago': 8493, 'toew': 8494, 'toilet': 8495, 'tolbert': 8496, 'toledo': 8497, 'tooth': 8498, 'top2earn': 8499, 'topaz': 8500, 'toplevel': 8501, 'toppl': 8502, 'tore': 8503, 'torn': 8504, 'tornado': 8505, 'torpedo': 8506, 'torrenti': 8507, 'toss': 8508, 'tpparadigma': 8509, 'tra': 8510, 'trafficmonsoon': 8511, 'tragic': 8512, 'trainin': 8513, 'tran': 8514, 'transatlant': 8515, 'transferencia': 8516, 'transferwis': 8517, 'transgend': 8518, 'transmiss': 8519, 'transpacif': 8520, 'trapdoor': 8521, 'travail': 8522, 'travi': 8523, 'treati': 8524, 'treesj': 8525, 'trek': 8526, 'trevino': 8527, 'tribal': 8528, 'tribun': 8529, 'trickledown': 8530, 'troika': 8531, 'troubleshoot': 8532, 'truli': 8533, 'trumpian': 8534, 'tsarnaev': 8535, 'tsinghua': 8536, 'tue': 8537, 'tugendhat': 8538, 'tuition': 8539, 'tumblr': 8540, 'tune': 8541, 'tunisian': 8542, 'turk': 8543, 'turkishiranian': 8544, 'turnaround': 8545, 'turnbul': 8546, 'turnov': 8547, 'tusk': 8548, 'twist': 8549, 'twotier': 8550, 'tx': 8551, 'tyco': 8552, 'tyhoon': 8553, 'tyrannosauru': 8554, 'tyrant': 8555, 'ubiquit': 8556, 'ud': 8557, 'ue': 8558, 'ufo': 8559, 'ukbas': 8560, 'uktv': 8561, 'ultimatum': 8562, 'ultrafir': 8563, 'unauthor': 8564, 'uncatagorizedarticl': 8565, 'uncertain': 8566, 'uncheck': 8567, 'uncl': 8568, 'unconsci': 8569, 'unconscion': 8570, 'undemocrat': 8571, 'under18': 8572, 'under45': 8573, 'underli': 8574, 'underreport': 8575, 'underrepres': 8576, 'undisclos': 8577, 'undo': 8578, 'une': 8579, 'unexplain': 8580, 'unfair': 8581, 'unfavor': 8582, 'unfit': 8583, 'unflatt': 8584, 'unfortun': 8585, 'unidentifi': 8586, 'uniformbedbath': 8587, 'unigroup': 8588, 'uniqlo': 8589, 'uniqur': 8590, 'uniti': 8591, 'unleash': 8592, 'unprocess': 8593, 'unregul': 8594, 'unreport': 8595, 'unsur': 8596, 'unupport': 8597, 'unwant': 8598, 'upld': 8599, 'upon': 8600, 'upvot': 8601, 'uralkali': 8602, 'urin': 8603, 'us100000': 8604, 'usampamppolit': 8605, 'usat': 8606, 'usci': 8607, 'uso': 8608, 'ustrain': 8609, 'utmost': 8610, 'utterli': 8611, 'uwa': 8612, 'vacanc': 8613, 'vacant': 8614, 'vaid': 8615, 'valeo': 8616, 'vandalis': 8617, 'vanguard': 8618, 'vaquita': 8619, 'vardi': 8620, 'variat': 8621, 'vault': 8622, 'vdeo': 8623, 'verdad': 8624, 'verifi': 8625, 'verifym': 8626, 'verint': 8627, 'vertic': 8628, 'vettel': 8629, 'vibrat': 8630, 'vic': 8631, 'victorian': 8632, 'videop': 8633, 'vienna': 8634, 'vigilant': 8635, 'vile': 8636, 'villa': 8637, 'vim': 8638, 'vindic': 8639, 'vioxx': 8640, 'viron': 8641, 'virus': 8642, 'visibl': 8643, 'visual': 8644, 'vitamin': 8645, 'vivo': 8646, 'vnand': 8647, 'vogu': 8648, 'voicecontrol': 8649, 'volkswagen': 8650, 'voluntarili': 8651, 'voucher': 8652, 'vt': 8653, 'vu': 8654, 'vvoactiv': 8655, 'w5': 8656, 'w705': 8657, 'w850i': 8658, 'w980i': 8659, 'wad': 8660, 'wafer': 8661, 'wag': 8662, 'wagner': 8663, 'wakeup': 8664, 'wallstrom': 8665, 'wang': 8666, 'ware': 8667, 'warez': 8668, 'warhol': 8669, 'warship': 8670, 'wartim': 8671, 'wasiolek': 8672, 'wastewat': 8673, 'watchtv': 8674, 'watermelon': 8675, 'watertown': 8676, 'wayfair': 8677, 'waymo': 8678, 'wdbj': 8679, 'weatherresist': 8680, 'webmail': 8681, 'webpag': 8682, 'weedkil': 8683, 'weiss': 8684, 'wellb': 8685, 'wellthought': 8686, 'were': 8687, 'wesbanco': 8688, 'wesel': 8689, 'wesson': 8690, 'wex': 8691, 'wheelchairfriendli': 8692, 'whitefish': 8693, 'whiz': 8694, 'wick': 8695, 'widen': 8696, 'widow': 8697, 'wifir': 8698, 'wildflow': 8699, 'wildli': 8700, 'winddepend': 8701, 'winner': 8702, 'winwin': 8703, 'wirecard': 8704, 'withheld': 8705, 'withhold': 8706, 'wono': 8707, 'wood': 8708, 'woodi': 8709, 'workrel': 8710, 'worldbank': 8711, 'worldpay': 8712, 'woroch': 8713, 'worship': 8714, 'worstcas': 8715, 'wrap': 8716, 'wrestl': 8717, 'wrif': 8718, 'wrist': 8719, 'wrongli': 8720, 'x1': 8721, 'xauusd': 8722, 'xenon': 8723, 'xenophob': 8724, 'xinhua': 8725, 'xl': 8726, 'xma': 8727, 'xoa': 8728, 'xtl': 8729, 'yaalon': 8730, 'yard': 8731, 'yatra': 8732, 'yazidi': 8733, 'yearli': 8734, 'yellowfac': 8735, 'yemeni': 8736, 'yiddish': 8737, 'yiwu': 8738, 'yong': 8739, 'youp': 8740, 'ypgj': 8741, 'yrc': 8742, 'yrcw': 8743, 'zack': 8744, 'zafk': 8745, 'zaha': 8746, 'zanzibar': 8747, 'zay': 8748, 'zeta': 8749, 'zeu': 8750, 'zika': 8751, 'zil': 8752, 'zimbabwean': 8753, 'zionist': 8754, 'zix': 8755, 'zm': 8756, 'zuist': 8757, 'zuliano': 8758, 'zumiez': 8759, 'zylo': 8760})\n"
     ]
    }
   ],
   "source": [
    "# Vocab\n",
    "print(\"Vocabs:\", HEADLINE.vocab.stoi)"
   ],
   "metadata": {
    "collapsed": false,
    "pycharm": {
     "name": "#%%\n"
    }
   }
  },
  {
   "cell_type": "code",
   "execution_count": null,
   "outputs": [],
   "source": [],
   "metadata": {
    "collapsed": false,
    "pycharm": {
     "name": "#%%\n"
    }
   }
  },
  {
   "cell_type": "code",
   "execution_count": 344,
   "outputs": [],
   "source": [
    "# If cuda available\n",
    "device = torch.device('cuda' if torch.cuda.is_available() else 'cpu')\n",
    "\n",
    "# Set Batch Size\n",
    "BATCH_SIZE = 128\n",
    "\n",
    "# Load Iterator\n",
    "train_iterator, valid_iterator = data.BucketIterator.splits(\n",
    "    (train_data, valid_data),\n",
    "    batch_size=BATCH_SIZE,\n",
    "    sort_key=lambda x: len(x.headline),\n",
    "    sort_within_batch=True,\n",
    "    device=device)"
   ],
   "metadata": {
    "collapsed": false,
    "pycharm": {
     "name": "#%%\n"
    }
   }
  },
  {
   "cell_type": "markdown",
   "source": [
    "### Build Bi-LSTM Model"
   ],
   "metadata": {
    "collapsed": false
   }
  },
  {
   "cell_type": "code",
   "execution_count": 354,
   "outputs": [],
   "source": [
    "class LSTMClassifier(nn.Module):\n",
    "    def __init__(self,\n",
    "                 vocab_size,\n",
    "                 embedding_dim,\n",
    "                 hidden_dim,\n",
    "                 output_dim,\n",
    "                 n_layers,\n",
    "                 bidirectional,\n",
    "                 dropout):\n",
    "        # Initialize\n",
    "        super().__init__()\n",
    "        # Embedding\n",
    "        self.embedding = nn.Embedding(vocab_size, embedding_dim)\n",
    "        # LSTM\n",
    "        self.lstm = nn.LSTM(embedding_dim,\n",
    "                            hidden_dim,\n",
    "                            num_layers=n_layers,\n",
    "                            bidirectional=bidirectional,\n",
    "                            dropout=dropout,\n",
    "                            batch_first=True)\n",
    "        # Dense\n",
    "        self.fc = nn.Linear(hidden_dim * 2, output_dim)\n",
    "        # Act\n",
    "        self.act = nn.Sigmoid()\n",
    "\n",
    "    def forward(self, text, text_lengths):\n",
    "        # text = [batch size,sent_length]\n",
    "        embedded = self.embedding(text)\n",
    "        # embedded = [batch size, sent_len, emb dim]\n",
    "        # Pack padded sequence\n",
    "        text_lengths_clamped = text_lengths.clamp(min=1)\n",
    "        packed_embedded = nn.utils.rnn.pack_padded_sequence(embedded, text_lengths_clamped, batch_first=True)\n",
    "        packed_output, (hidden, cell) = self.lstm(packed_embedded)\n",
    "        # hidden = [batch size, num layers * num directions,hid dim]\n",
    "        # cell = [batch size, num layers * num directions,hid dim]\n",
    "        # Concat forward and backward hidden states\n",
    "        hidden = torch.cat((hidden[-2, :, :], hidden[-1, :, :]), dim=1)\n",
    "        # hidden = [batch size, hid dim * num directions]\n",
    "        dense_outputs = self.fc(hidden)\n",
    "        # Act\n",
    "        outputs = self.act(dense_outputs)\n",
    "        return outputs"
   ],
   "metadata": {
    "collapsed": false,
    "pycharm": {
     "name": "#%%\n"
    }
   }
  },
  {
   "cell_type": "code",
   "execution_count": 345,
   "outputs": [],
   "source": [],
   "metadata": {
    "collapsed": false,
    "pycharm": {
     "name": "#%%\n"
    }
   }
  },
  {
   "cell_type": "code",
   "execution_count": 345,
   "outputs": [],
   "source": [],
   "metadata": {
    "collapsed": false,
    "pycharm": {
     "name": "#%%\n"
    }
   }
  },
  {
   "cell_type": "code",
   "execution_count": 355,
   "outputs": [],
   "source": [
    "# Hyper-parameters\n",
    "input_dim = len(HEADLINE.vocab)\n",
    "embedding_dim = 100\n",
    "hidden_dim = 32\n",
    "output_dim = len(LABEL.vocab)\n",
    "num_layers = 2\n",
    "bidirectional = True\n",
    "dropout = 0.2\n",
    "\n",
    "# LSTM Model\n",
    "model = LSTMClassifier(input_dim,\n",
    "                       embedding_dim,\n",
    "                       hidden_dim,\n",
    "                       output_dim,\n",
    "                       num_layers,\n",
    "                       bidirectional=bidirectional,\n",
    "                       dropout=dropout)"
   ],
   "metadata": {
    "collapsed": false,
    "pycharm": {
     "name": "#%%\n"
    }
   }
  },
  {
   "cell_type": "code",
   "execution_count": 356,
   "outputs": [
    {
     "name": "stdout",
     "output_type": "stream",
     "text": [
      "LSTMClassifier(\n",
      "  (embedding): Embedding(8761, 100)\n",
      "  (lstm): LSTM(100, 32, num_layers=2, batch_first=True, dropout=0.2, bidirectional=True)\n",
      "  (fc): Linear(in_features=64, out_features=3, bias=True)\n",
      "  (act): Sigmoid()\n",
      ")\n"
     ]
    }
   ],
   "source": [
    "print(model)"
   ],
   "metadata": {
    "collapsed": false,
    "pycharm": {
     "name": "#%%\n"
    }
   }
  },
  {
   "cell_type": "code",
   "execution_count": 357,
   "outputs": [
    {
     "name": "stdout",
     "output_type": "stream",
     "text": [
      "The model has 935,687 trainable parameters\n"
     ]
    }
   ],
   "source": [
    "# Available training parameters\n",
    "def count_parameters(model):\n",
    "    return sum(p.numel() for p in model.parameters() if p.requires_grad)\n",
    "\n",
    "\n",
    "print(f'The model has {count_parameters(model):,} trainable parameters')"
   ],
   "metadata": {
    "collapsed": false,
    "pycharm": {
     "name": "#%%\n"
    }
   }
  },
  {
   "cell_type": "code",
   "execution_count": 358,
   "outputs": [
    {
     "data": {
      "text/plain": "tensor([[-0.7506,  0.4851,  0.2734,  ..., -0.5432, -1.2170, -0.9132],\n        [ 0.6753, -1.2324,  1.5064,  ..., -0.8353, -0.6744, -0.3777],\n        [-0.0917,  0.5810,  0.4048,  ..., -0.3874,  0.3469,  0.2290],\n        ...,\n        [-0.5216,  0.1743, -2.0595,  ...,  0.5951, -0.5365, -1.6560],\n        [ 0.1367, -0.1832, -0.0628,  ...,  0.1960,  0.2462,  0.1169],\n        [ 0.8142, -0.5310, -1.3423,  ..., -1.0447,  1.6454, -1.3680]])"
     },
     "execution_count": 358,
     "metadata": {},
     "output_type": "execute_result"
    }
   ],
   "source": [
    "# initializing model weights for better convergence\n",
    "def init_weights(m):\n",
    "    for name, param in m.named_parameters():\n",
    "        nn.init.normal_(param.data, std=0.1)\n",
    "\n",
    "\n",
    "model.apply(init_weights)\n",
    "\n",
    "# initializing model embeddings with glove word vectors\n",
    "pretrained_embeddings = HEADLINE.vocab.vectors\n",
    "model.embedding.weight.data.copy_(pretrained_embeddings)"
   ],
   "metadata": {
    "collapsed": false,
    "pycharm": {
     "name": "#%%\n"
    }
   }
  },
  {
   "cell_type": "markdown",
   "source": [
    "### Set Optimizer"
   ],
   "metadata": {
    "collapsed": false
   }
  },
  {
   "cell_type": "code",
   "execution_count": 359,
   "outputs": [],
   "source": [
    "# Optimizer\n",
    "optimizer = optim.Adam(model.parameters())\n",
    "criterion = nn.CrossEntropyLoss()\n",
    "\n",
    "\n",
    "# Define accuracy\n",
    "def categorical_accuracy(preds, y):\n",
    "    # get the index of the max probability\n",
    "    max_preds = preds.argmax(dim=1, keepdim=True)\n",
    "    # correct = (max_preds == y).__float__()\n",
    "    correct = (max_preds == y).float()\n",
    "    acc = correct.sum() / len(correct)\n",
    "    return acc\n",
    "\n",
    "\n",
    "# Convert to cuda if available\n",
    "model = model.to(device)\n",
    "criterion = criterion.to(device)"
   ],
   "metadata": {
    "collapsed": false,
    "pycharm": {
     "name": "#%%\n"
    }
   }
  },
  {
   "cell_type": "code",
   "execution_count": 359,
   "outputs": [],
   "source": [],
   "metadata": {
    "collapsed": false,
    "pycharm": {
     "name": "#%%\n"
    }
   }
  },
  {
   "cell_type": "code",
   "execution_count": 359,
   "outputs": [],
   "source": [],
   "metadata": {
    "collapsed": false,
    "pycharm": {
     "name": "#%%\n"
    }
   }
  },
  {
   "cell_type": "markdown",
   "source": [
    "### Training Function"
   ],
   "metadata": {
    "collapsed": false
   }
  },
  {
   "cell_type": "code",
   "execution_count": 360,
   "outputs": [],
   "source": [
    "def train(model, iterator, optimizer, criterion):\n",
    "    # Set model as train\n",
    "    model.train()\n",
    "    # Initialize each epoch\n",
    "    epoch_loss = 0\n",
    "    epoch_acc = 0\n",
    "    for batch in iterator:\n",
    "        # Reset optimizer with zero gradients for each iteration\n",
    "        optimizer.zero_grad()\n",
    "        # Convert to one dim tensor\n",
    "        text, text_lengths = batch.headline\n",
    "        predictions = model(text, text_lengths).squeeze()\n",
    "        # Calculate loss\n",
    "        loss = criterion(predictions, batch.label)\n",
    "        # Calculate accuracy\n",
    "        acc = categorical_accuracy(predictions, batch.label)\n",
    "        # Calculate gradients\n",
    "        loss.backward()\n",
    "        # Update weights\n",
    "        optimizer.step()\n",
    "        # Calculate loss and acc\n",
    "        epoch_loss += loss.item()\n",
    "        epoch_acc += acc.item()\n",
    "    return epoch_loss / len(iterator), epoch_acc / len(iterator)"
   ],
   "metadata": {
    "collapsed": false,
    "pycharm": {
     "name": "#%%\n"
    }
   }
  },
  {
   "cell_type": "markdown",
   "source": [
    "### Evaluating Function"
   ],
   "metadata": {
    "collapsed": false
   }
  },
  {
   "cell_type": "code",
   "execution_count": 361,
   "outputs": [],
   "source": [
    "def evaluate(model, iterator, criterion):\n",
    "    # Stop dropout\n",
    "    model.eval()\n",
    "    # Initialize each epoch\n",
    "    epoch_loss = 0\n",
    "    epoch_acc = 0\n",
    "\n",
    "    with torch.no_grad():\n",
    "        for batch in iterator:\n",
    "            # Convert to one dim tensor\n",
    "            text, text_lengths = batch.headline\n",
    "            predictions = model(text, text_lengths).squeeze()\n",
    "            # Calculate loss and acc\n",
    "            loss = criterion(predictions, batch.label)\n",
    "            acc = categorical_accuracy(predictions, batch.label)\n",
    "\n",
    "            epoch_loss += loss.item()\n",
    "            epoch_acc += acc.item()\n",
    "    return epoch_loss / len(iterator), epoch_acc / len(iterator)"
   ],
   "metadata": {
    "collapsed": false,
    "pycharm": {
     "name": "#%%\n"
    }
   }
  },
  {
   "cell_type": "markdown",
   "source": [
    "### Train Bi-LSTM Model"
   ],
   "metadata": {
    "collapsed": false
   }
  },
  {
   "cell_type": "code",
   "execution_count": 387,
   "outputs": [
    {
     "name": "stdout",
     "output_type": "stream",
     "text": [
      "Epoch: 01\n",
      "\n",
      "\tTrain Loss: 0.789 | Train Acc: 81.52%\n",
      "\t Val. Loss: 0.849 | Val. Acc: 80.65%\n",
      "Epoch: 02\n",
      "\n",
      "\tTrain Loss: 0.769 | Train Acc: 81.25%\n",
      "\t Val. Loss: 0.854 | Val. Acc: 80.41%\n",
      "Epoch: 03\n",
      "\n",
      "\tTrain Loss: 0.759 | Train Acc: 74.82%\n",
      "\t Val. Loss: 0.844 | Val. Acc: 70.66%\n",
      "Epoch: 04\n",
      "\n",
      "\tTrain Loss: 0.744 | Train Acc: 67.98%\n",
      "\t Val. Loss: 0.895 | Val. Acc: 63.85%\n",
      "Epoch: 05\n",
      "\n",
      "\tTrain Loss: 0.725 | Train Acc: 67.24%\n",
      "\t Val. Loss: 0.872 | Val. Acc: 68.18%\n"
     ]
    }
   ],
   "source": [
    "N_EPOCHS = 5\n",
    "best_valid_loss = float('inf')\n",
    "for epoch in range(N_EPOCHS):\n",
    "    print(f'Epoch: {epoch + 1:02}\\n')\n",
    "    # Training\n",
    "    train_loss, train_acc = train(model, train_iterator, optimizer, criterion)\n",
    "    # Evaluating\n",
    "    valid_loss, valid_acc = evaluate(model, valid_iterator, criterion)\n",
    "    # Save Model\n",
    "    if valid_loss < best_valid_loss:\n",
    "        best_valid_loss = valid_loss\n",
    "        torch.save(model.state_dict(), 'saved_weights.pt')\n",
    "    print(f'\\tTrain Loss: {train_loss:.3f} | Train Acc: {train_acc:.2f}%')\n",
    "    print(f'\\t Val. Loss: {valid_loss:.3f} | Val. Acc: {valid_acc:.2f}%')"
   ],
   "metadata": {
    "collapsed": false,
    "pycharm": {
     "name": "#%%\n"
    }
   }
  },
  {
   "cell_type": "markdown",
   "source": [
    "### Predicting Function"
   ],
   "metadata": {
    "collapsed": false
   }
  },
  {
   "cell_type": "code",
   "execution_count": 408,
   "outputs": [],
   "source": [
    "# Load weights\n",
    "path = './saved_weights.pt'\n",
    "model.load_state_dict(torch.load(path))\n",
    "model.eval()\n",
    "\n",
    "import spacy\n",
    "\n",
    "nlp = spacy.load(\"en_core_web_sm\")\n",
    "\n",
    "\n",
    "def predict(model, sentence):\n",
    "    tokens = clean_headline(sentence)   #令牌化(tokenize)句子\n",
    "    indexed = [HEADLINE.vocab.stoi[t] for t in tokens]  #转换为整数序列\n",
    "    length = [len(indexed)]  #计算单词个数\n",
    "    tensor = torch.LongTensor(indexed).to(device)  #转换为张量\n",
    "    tensor = tensor.unsqueeze(1).T  #reshape成[batch, 单词个数]\n",
    "    length_tensor = torch.LongTensor(length)  #转换为张量\n",
    "    print(length_tensor)\n",
    "    prediction = model(tensor, length_tensor)  #预测\n",
    "    return prediction"
   ],
   "metadata": {
    "collapsed": false,
    "pycharm": {
     "name": "#%%\n"
    }
   }
  },
  {
   "cell_type": "code",
   "execution_count": 411,
   "outputs": [
    {
     "name": "stdout",
     "output_type": "stream",
     "text": [
      "tensor([6])\n"
     ]
    },
    {
     "data": {
      "text/plain": "tensor([[0.9882, 0.9961, 0.0011]], grad_fn=<SigmoidBackward>)"
     },
     "execution_count": 411,
     "metadata": {},
     "output_type": "execute_result"
    }
   ],
   "source": [
    "pred = predict(model, \"Stop Brexit petition tops 3m signatures\")\n",
    "pred"
   ],
   "metadata": {
    "collapsed": false,
    "pycharm": {
     "name": "#%%\n"
    }
   }
  },
  {
   "cell_type": "code",
   "execution_count": 412,
   "outputs": [
    {
     "data": {
      "text/plain": "tensor([[1]])"
     },
     "execution_count": 412,
     "metadata": {},
     "output_type": "execute_result"
    }
   ],
   "source": [
    "max_pred = pred.argmax(dim=1, keepdim=True)\n",
    "max_pred"
   ],
   "metadata": {
    "collapsed": false,
    "pycharm": {
     "name": "#%%\n"
    }
   }
  },
  {
   "cell_type": "code",
   "execution_count": null,
   "outputs": [],
   "source": [],
   "metadata": {
    "collapsed": false,
    "pycharm": {
     "name": "#%%\n"
    }
   }
  },
  {
   "cell_type": "code",
   "execution_count": null,
   "outputs": [],
   "source": [],
   "metadata": {
    "collapsed": false,
    "pycharm": {
     "name": "#%%\n"
    }
   }
  },
  {
   "cell_type": "code",
   "execution_count": null,
   "outputs": [],
   "source": [],
   "metadata": {
    "collapsed": false,
    "pycharm": {
     "name": "#%%\n"
    }
   }
  }
 ],
 "metadata": {
  "kernelspec": {
   "display_name": "Python 3",
   "language": "python",
   "name": "python3"
  },
  "language_info": {
   "codemirror_mode": {
    "name": "ipython",
    "version": 2
   },
   "file_extension": ".py",
   "mimetype": "text/x-python",
   "name": "python",
   "nbconvert_exporter": "python",
   "pygments_lexer": "ipython2",
   "version": "2.7.6"
  }
 },
 "nbformat": 4,
 "nbformat_minor": 0
}