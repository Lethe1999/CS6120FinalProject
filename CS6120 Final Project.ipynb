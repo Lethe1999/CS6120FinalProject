{
 "cells": [
  {
   "cell_type": "markdown",
   "source": [
    "# Group 32 Final Project\n",
    "\n",
    "* Group members:"
   ],
   "metadata": {
    "collapsed": false
   }
  },
  {
   "cell_type": "markdown",
   "source": [
    "### Preparation\n",
    "\n",
    "Load libraries and dataset."
   ],
   "metadata": {
    "collapsed": false
   }
  },
  {
   "cell_type": "code",
   "execution_count": 60,
   "outputs": [],
   "source": [
    "# Libraries\n",
    "import pandas as pd\n",
    "import numpy as np\n",
    "import re\n",
    "import nltk\n",
    "from nltk.corpus import stopwords\n",
    "from nltk.stem import PorterStemmer\n",
    "from nltk.tokenize import word_tokenize\n",
    "import warnings\n",
    "\n",
    "import matplotlib.pyplot as plt\n",
    "import seaborn as sns\n",
    "\n",
    "warnings.filterwarnings(\"ignore\")"
   ],
   "metadata": {
    "collapsed": false,
    "pycharm": {
     "name": "#%%\n"
    }
   }
  },
  {
   "cell_type": "code",
   "execution_count": 72,
   "outputs": [
    {
     "data": {
      "text/plain": "       Label Ticker                                           Headline\n0          0      A  @TotesTravel : Airline shares tumble as New Yo...\n1          1      A  @TotesTravel : American United call off Hong K...\n2          0      A  @TotesTravel : U.S. airline stocks hit highest...\n3          1      A  @TotesTravel : American Airlines reaches deal ...\n4          1      A  @TotesTravel : US airlines Treasury Department...\n...      ...    ...                                                ...\n15557      0    WMT  Walmart dumps e-cigarettes: Largest store in U...\n15558      0    WMT  Walmart makes a $16 billion bet on India's boo...\n15559      0    WMT  Walmart raises minimum age to buy tobacco to 2...\n15560      0    WMT  Walmart Took Over Chile In Only Three Years An...\n15561      2    WMT  Carla Cheney: Walmart Fired Me For Reporting D...\n\n[15562 rows x 3 columns]",
      "text/html": "<div>\n<style scoped>\n    .dataframe tbody tr th:only-of-type {\n        vertical-align: middle;\n    }\n\n    .dataframe tbody tr th {\n        vertical-align: top;\n    }\n\n    .dataframe thead th {\n        text-align: right;\n    }\n</style>\n<table border=\"1\" class=\"dataframe\">\n  <thead>\n    <tr style=\"text-align: right;\">\n      <th></th>\n      <th>Label</th>\n      <th>Ticker</th>\n      <th>Headline</th>\n    </tr>\n  </thead>\n  <tbody>\n    <tr>\n      <th>0</th>\n      <td>0</td>\n      <td>A</td>\n      <td>@TotesTravel : Airline shares tumble as New Yo...</td>\n    </tr>\n    <tr>\n      <th>1</th>\n      <td>1</td>\n      <td>A</td>\n      <td>@TotesTravel : American United call off Hong K...</td>\n    </tr>\n    <tr>\n      <th>2</th>\n      <td>0</td>\n      <td>A</td>\n      <td>@TotesTravel : U.S. airline stocks hit highest...</td>\n    </tr>\n    <tr>\n      <th>3</th>\n      <td>1</td>\n      <td>A</td>\n      <td>@TotesTravel : American Airlines reaches deal ...</td>\n    </tr>\n    <tr>\n      <th>4</th>\n      <td>1</td>\n      <td>A</td>\n      <td>@TotesTravel : US airlines Treasury Department...</td>\n    </tr>\n    <tr>\n      <th>...</th>\n      <td>...</td>\n      <td>...</td>\n      <td>...</td>\n    </tr>\n    <tr>\n      <th>15557</th>\n      <td>0</td>\n      <td>WMT</td>\n      <td>Walmart dumps e-cigarettes: Largest store in U...</td>\n    </tr>\n    <tr>\n      <th>15558</th>\n      <td>0</td>\n      <td>WMT</td>\n      <td>Walmart makes a $16 billion bet on India's boo...</td>\n    </tr>\n    <tr>\n      <th>15559</th>\n      <td>0</td>\n      <td>WMT</td>\n      <td>Walmart raises minimum age to buy tobacco to 2...</td>\n    </tr>\n    <tr>\n      <th>15560</th>\n      <td>0</td>\n      <td>WMT</td>\n      <td>Walmart Took Over Chile In Only Three Years An...</td>\n    </tr>\n    <tr>\n      <th>15561</th>\n      <td>2</td>\n      <td>WMT</td>\n      <td>Carla Cheney: Walmart Fired Me For Reporting D...</td>\n    </tr>\n  </tbody>\n</table>\n<p>15562 rows × 3 columns</p>\n</div>"
     },
     "execution_count": 72,
     "metadata": {},
     "output_type": "execute_result"
    }
   ],
   "source": [
    "# Load data as Data Frame - unicode_escape\n",
    "data = pd.read_csv(\"News Sentiment Analysis for Stock Data by Company.csv\", encoding=\"latin-1\")\n",
    "data"
   ],
   "metadata": {
    "collapsed": false,
    "pycharm": {
     "name": "#%%\n"
    }
   }
  },
  {
   "cell_type": "code",
   "execution_count": 61,
   "metadata": {
    "collapsed": true
   },
   "outputs": [],
   "source": []
  },
  {
   "cell_type": "markdown",
   "source": [
    "## Quick Visualization\n",
    "\n",
    "* 0 -> The stock went down by market close the day the article was published (negative)\n",
    "* 1 -> The stock went up by market close the day the article was published (positive)\n",
    "* 2 -> The stock stayed the same by market close the day the article was published (neutral)"
   ],
   "metadata": {
    "collapsed": false
   }
  },
  {
   "cell_type": "code",
   "execution_count": 62,
   "outputs": [
    {
     "data": {
      "text/plain": "<Figure size 576x720 with 1 Axes>",
      "image/png": "[encoded data removed]"
     },
     "metadata": {
      "needs_background": "light"
     },
     "output_type": "display_data"
    }
   ],
   "source": [
    "plt.figure(figsize=(8, 10))\n",
    "sns.countplot(x=data['Label'])\n",
    "plt.title(\"Stock Labels Count\", fontsize=15)\n",
    "plt.show()"
   ],
   "metadata": {
    "collapsed": false,
    "pycharm": {
     "name": "#%%\n"
    }
   }
  },
  {
   "cell_type": "code",
   "execution_count": 62,
   "outputs": [],
   "source": [],
   "metadata": {
    "collapsed": false,
    "pycharm": {
     "name": "#%%\n"
    }
   }
  },
  {
   "cell_type": "markdown",
   "source": [
    "## Preprocess Headlines\n",
    "\n",
    "Clean Headlines. Remove links, punctuations, stopwords and many other words that don’t give a lot of meanings. Lowercase the headlines. Perform stemming operation so that similar words are reduced.\n",
    "\n",
    "Store the result in a list."
   ],
   "metadata": {
    "collapsed": false
   }
  },
  {
   "cell_type": "code",
   "execution_count": 76,
   "outputs": [],
   "source": [
    "def clean_headline(headline):\n",
    "    \"\"\"\n",
    "    Clean Headlines. Remove links, punctuations, stopwords and many other words that don’t give a lot of meanings. Lowercase the headlines. Perform stemming operation so that similar words are reduced.\n",
    "\n",
    "    Input:\n",
    "        headline: A string of the headline.\n",
    "    Output:\n",
    "        headline_cleaned: a list of words containing the processed headline.\n",
    "\n",
    "    \"\"\"\n",
    "\n",
    "    # remove links (use 'r' to represent raw strings)\n",
    "    headline = re.sub(r'(https?://)?(www\\.)?\\S*\\.\\S*\\s*', ' ', headline).strip()\n",
    "    # remove punctuations using regular expression, and convert letters to lowercase\n",
    "    headline = re.sub(r'[^\\w\\s]', \"\", headline).lower()\n",
    "    # tokenization\n",
    "    tokens = word_tokenize(headline)\n",
    "    # remove stopwords\n",
    "    sw = stopwords.words(\"english\")\n",
    "    tokens = [t for t in tokens if t not in sw]\n",
    "    # stemming\n",
    "    stemmer = PorterStemmer()\n",
    "    tokens = [stemmer.stem(t) for t in tokens]\n",
    "    # lemmatization\n",
    "    #wnl = nltk.WordNetLemmatizer()\n",
    "    #tokens = [wnl.lemmatize(t) for t in tokens]\n",
    "\n",
    "    headline_cleaned = tokens\n",
    "\n",
    "    return headline_cleaned"
   ],
   "metadata": {
    "collapsed": false,
    "pycharm": {
     "name": "#%%\n"
    }
   }
  },
  {
   "cell_type": "code",
   "execution_count": 78,
   "outputs": [],
   "source": [
    "# Clean Headlines - Use a list to store the results in sequence\n",
    "Cleaned_Headlines = []\n",
    "\n",
    "for i in range(len(data)):\n",
    "    Cleaned_Headlines.append(clean_headline(data.loc[i, \"Headline\"]))"
   ],
   "metadata": {
    "collapsed": false,
    "pycharm": {
     "name": "#%%\n"
    }
   }
  },
  {
   "cell_type": "code",
   "execution_count": 85,
   "outputs": [
    {
     "data": {
      "text/plain": "[['totestravel',\n  'airlin',\n  'share',\n  'tumbl',\n  'new',\n  'york',\n  'impos',\n  'quarantin',\n  'florida',\n  'case',\n  'spike',\n  'american',\n  'airlin',\n  'group',\n  'plane',\n  'prepar',\n  'land',\n  'laguardia',\n  'airport',\n  'lga',\n  'new',\n  'york',\n  'tuesday',\n  'april',\n  'travelnewsinsight'],\n ['totestravel',\n  'american',\n  'unit',\n  'call',\n  'hong',\n  'kong',\n  'flight',\n  'crew',\n  'test',\n  'rule',\n  'american',\n  'airlin',\n  'group',\n  'boe',\n  '777300er',\n  'aircraft',\n  'sit',\n  'hong',\n  'kong',\n  'intern',\n  'airport',\n  'hong',\n  'kong',\n  'travelnewsinsight'],\n ['totestravel',\n  'airlin',\n  'stock',\n  'hit',\n  'highest',\n  'price',\n  'sinc',\n  'june',\n  'travel',\n  'uptick',\n  'stimulu',\n  'hope',\n  'jetblu',\n  'airway',\n  'plane',\n  'taxi',\n  'next',\n  'american',\n  'airlin',\n  'group',\n  'delta',\n  'air',\n  'line',\n  'alaska',\n  'airlin',\n  'travelnewsinsight'],\n ['totestravel',\n  'american',\n  'airlin',\n  'reach',\n  'deal',\n  'boe',\n  '737',\n  'max',\n  'ground',\n  'share',\n  '30',\n  'million',\n  'employe',\n  'mainten',\n  'worker',\n  'cover',\n  'engin',\n  'american',\n  'airlin',\n  'group',\n  'boe',\n  '737',\n  'max',\n  'plane',\n  'outsid',\n  'travelnewsinsight'],\n ['totestravel',\n  'us',\n  'airlin',\n  'treasuri',\n  'depart',\n  'reach',\n  'agreement',\n  'principl',\n  'aid',\n  'jetblu',\n  'airway',\n  'plane',\n  'taxi',\n  'next',\n  'american',\n  'airlin',\n  'group',\n  'delta',\n  'air',\n  'line',\n  'alaska',\n  'airlin',\n  'travelnewsinsight']]"
     },
     "execution_count": 85,
     "metadata": {},
     "output_type": "execute_result"
    }
   ],
   "source": [
    "# Display part of the cleaned headlines\n",
    "Cleaned_Headlines[:5]"
   ],
   "metadata": {
    "collapsed": false,
    "pycharm": {
     "name": "#%%\n"
    }
   }
  },
  {
   "cell_type": "code",
   "execution_count": null,
   "outputs": [],
   "source": [],
   "metadata": {
    "collapsed": false,
    "pycharm": {
     "name": "#%%\n"
    }
   }
  },
  {
   "cell_type": "code",
   "execution_count": null,
   "outputs": [],
   "source": [],
   "metadata": {
    "collapsed": false,
    "pycharm": {
     "name": "#%%\n"
    }
   }
  },
  {
   "cell_type": "code",
   "execution_count": null,
   "outputs": [],
   "source": [],
   "metadata": {
    "collapsed": false,
    "pycharm": {
     "name": "#%%\n"
    }
   }
  },
  {
   "cell_type": "code",
   "execution_count": null,
   "outputs": [],
   "source": [],
   "metadata": {
    "collapsed": false,
    "pycharm": {
     "name": "#%%\n"
    }
   }
  },
  {
   "cell_type": "code",
   "execution_count": null,
   "outputs": [],
   "source": [],
   "metadata": {
    "collapsed": false,
    "pycharm": {
     "name": "#%%\n"
    }
   }
  }
 ],
 "metadata": {
  "kernelspec": {
   "display_name": "Python 3",
   "language": "python",
   "name": "python3"
  },
  "language_info": {
   "codemirror_mode": {
    "name": "ipython",
    "version": 2
   },
   "file_extension": ".py",
   "mimetype": "text/x-python",
   "name": "python",
   "nbconvert_exporter": "python",
   "pygments_lexer": "ipython2",
   "version": "2.7.6"
  }
 },
 "nbformat": 4,
 "nbformat_minor": 0
}