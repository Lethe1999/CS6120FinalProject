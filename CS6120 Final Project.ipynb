{
 "cells": [
  {
   "cell_type": "markdown",
   "source": [
    "# Group 32 Final Project\n",
    "\n",
    "* Group members:"
   ],
   "metadata": {
    "collapsed": false
   }
  },
  {
   "cell_type": "markdown",
   "source": [
    "We want to use headlines to predict stock trends. There is a problem that whether we should consider stock names.\n",
    "If we use stock names, the dataset will be too small for prediction. To solve this problem, we may consider add stock names to the headlines.\n"
   ],
   "metadata": {
    "collapsed": false
   }
  },
  {
   "cell_type": "markdown",
   "source": [
    "### Preparation\n",
    "\n",
    "Load libraries and dataset."
   ],
   "metadata": {
    "collapsed": false
   }
  },
  {
   "cell_type": "code",
   "execution_count": 40,
   "outputs": [],
   "source": [
    "# Libraries\n",
    "import pandas as pd\n",
    "import numpy as np\n",
    "import re\n",
    "import nltk\n",
    "from nltk.corpus import stopwords\n",
    "from nltk.stem import PorterStemmer\n",
    "from nltk.tokenize import word_tokenize\n",
    "import warnings\n",
    "\n",
    "import matplotlib.pyplot as plt\n",
    "import seaborn as sns\n",
    "\n",
    "warnings.filterwarnings(\"ignore\")"
   ],
   "metadata": {
    "collapsed": false,
    "pycharm": {
     "name": "#%%\n"
    }
   }
  },
  {
   "cell_type": "code",
   "execution_count": 2,
   "outputs": [],
   "source": [
    "# Load data as Data Frame - unicode_escape\n",
    "df = pd.read_csv(\"News Sentiment Analysis for Stock Data by Company.csv\", encoding=\"latin-1\")"
   ],
   "metadata": {
    "collapsed": false,
    "pycharm": {
     "name": "#%%\n"
    }
   }
  },
  {
   "cell_type": "markdown",
   "source": [
    "## Quick View of the Data Set\n",
    "\n",
    "Whether there is empty data in our data set."
   ],
   "metadata": {
    "collapsed": false
   }
  },
  {
   "cell_type": "code",
   "execution_count": 3,
   "outputs": [
    {
     "data": {
      "text/plain": "   Label Ticker                                           Headline\n0      0      A  @TotesTravel : Airline shares tumble as New Yo...\n1      1      A  @TotesTravel : American United call off Hong K...\n2      0      A  @TotesTravel : U.S. airline stocks hit highest...\n3      1      A  @TotesTravel : American Airlines reaches deal ...\n4      1      A  @TotesTravel : US airlines Treasury Department...\n5      0   AAPL  Apple Inc and its main contract manufacturing ...\n6      0   AAPL  European Union regulators who slapped Apple In...\n7      1   AAPL  The EU's ruling that Apple Inc must pay a huge...\n8      0   AAPL  Russia wants Apple SAP to cooperate against fo...\n9      1   AAPL  U.S. Companies Are Stashing $2.1 Trillion Over...",
      "text/html": "<div>\n<style scoped>\n    .dataframe tbody tr th:only-of-type {\n        vertical-align: middle;\n    }\n\n    .dataframe tbody tr th {\n        vertical-align: top;\n    }\n\n    .dataframe thead th {\n        text-align: right;\n    }\n</style>\n<table border=\"1\" class=\"dataframe\">\n  <thead>\n    <tr style=\"text-align: right;\">\n      <th></th>\n      <th>Label</th>\n      <th>Ticker</th>\n      <th>Headline</th>\n    </tr>\n  </thead>\n  <tbody>\n    <tr>\n      <th>0</th>\n      <td>0</td>\n      <td>A</td>\n      <td>@TotesTravel : Airline shares tumble as New Yo...</td>\n    </tr>\n    <tr>\n      <th>1</th>\n      <td>1</td>\n      <td>A</td>\n      <td>@TotesTravel : American United call off Hong K...</td>\n    </tr>\n    <tr>\n      <th>2</th>\n      <td>0</td>\n      <td>A</td>\n      <td>@TotesTravel : U.S. airline stocks hit highest...</td>\n    </tr>\n    <tr>\n      <th>3</th>\n      <td>1</td>\n      <td>A</td>\n      <td>@TotesTravel : American Airlines reaches deal ...</td>\n    </tr>\n    <tr>\n      <th>4</th>\n      <td>1</td>\n      <td>A</td>\n      <td>@TotesTravel : US airlines Treasury Department...</td>\n    </tr>\n    <tr>\n      <th>5</th>\n      <td>0</td>\n      <td>AAPL</td>\n      <td>Apple Inc and its main contract manufacturing ...</td>\n    </tr>\n    <tr>\n      <th>6</th>\n      <td>0</td>\n      <td>AAPL</td>\n      <td>European Union regulators who slapped Apple In...</td>\n    </tr>\n    <tr>\n      <th>7</th>\n      <td>1</td>\n      <td>AAPL</td>\n      <td>The EU's ruling that Apple Inc must pay a huge...</td>\n    </tr>\n    <tr>\n      <th>8</th>\n      <td>0</td>\n      <td>AAPL</td>\n      <td>Russia wants Apple SAP to cooperate against fo...</td>\n    </tr>\n    <tr>\n      <th>9</th>\n      <td>1</td>\n      <td>AAPL</td>\n      <td>U.S. Companies Are Stashing $2.1 Trillion Over...</td>\n    </tr>\n  </tbody>\n</table>\n</div>"
     },
     "execution_count": 3,
     "metadata": {},
     "output_type": "execute_result"
    }
   ],
   "source": [
    "df.head(10)"
   ],
   "metadata": {
    "collapsed": false,
    "pycharm": {
     "name": "#%%\n"
    }
   }
  },
  {
   "cell_type": "code",
   "execution_count": 4,
   "outputs": [
    {
     "name": "stdout",
     "output_type": "stream",
     "text": [
      "The column Label has 0 empty data.\n",
      "The column Ticker has 0 empty data.\n",
      "The column Headline has 0 empty data.\n"
     ]
    }
   ],
   "source": [
    "for column in df:\n",
    "    print(\"The column\", column, \"has\", df[column].isnull().sum(), \"empty data.\")"
   ],
   "metadata": {
    "collapsed": false,
    "pycharm": {
     "name": "#%%\n"
    }
   }
  },
  {
   "cell_type": "code",
   "execution_count": 4,
   "outputs": [],
   "source": [],
   "metadata": {
    "collapsed": false,
    "pycharm": {
     "name": "#%%\n"
    }
   }
  },
  {
   "cell_type": "code",
   "execution_count": 5,
   "outputs": [
    {
     "data": {
      "text/plain": "array(['A', 'AAPL', 'ACGL', 'ADBE', 'AAON', 'ALLT', 'AMED', 'AMGN',\n       'ABCM', 'ANGN', 'APHA', 'ARAY', 'AVGO', 'BBBY', 'AAC=', 'CAN',\n       'CELC', 'CEE', 'AEE', 'AAIC-C', 'COLL', 'AC', 'CTHR', 'CZNC',\n       'EBAY', 'ECPG', 'EGLE', 'AAN', 'ERIC', 'ESLT', 'FBNC', 'AAA',\n       'FITB', 'FIZZ', 'CFB', 'AA', 'GOOG', 'GRMN', 'HST', 'AAU', 'INPX',\n       'JJSF', 'MAR', 'MPB', 'OZK', 'CENX', 'ACMR', 'PDLB', 'AAL', 'RUN',\n       'SBLK', 'SNY', 'SSBI', 'ABB', 'TCX', 'TRMB', 'TSEM', 'TZOO', 'UAL',\n       'ABEO', 'VEON', 'VOD', 'VRCA', 'ACND', 'XENE', 'ZNGA', 'ABNB',\n       'ACCD', 'ACER', 'ACIW', 'ACST', 'ADI', 'ADSK', 'AFYA', 'AIRT',\n       'AKAM', 'ALCO', 'ALGN', 'ALXN', 'AMAT', 'AMBA', 'AMCX', 'AMD',\n       'AMZN', 'ANAT', 'ANGO', 'ANSS', 'AOUT', 'API', 'APPS', 'ARKO',\n       'ARRY', 'ARVN', 'ASLN', 'ASUR', 'ATHX', 'AUDC', 'AVAV', 'AVO',\n       'AWRE', 'AXGN', 'AXTA', 'AYTU', 'BAND', 'BEEM', 'AACG', 'BGCP',\n       'BIDU', 'BIIB', 'BILI', 'BIOC', 'BKNG', 'BL', 'BLKB', 'BLUE',\n       'BLUW', 'BMBL', 'BNTX', 'BPOP', 'BTBT', 'BYND', 'CALB', 'CALM',\n       'CASH', 'CDZI', 'CEVA', 'CGIX', 'CHNG', 'CHNR', 'AAAU', 'CHTR',\n       'CLDX', 'CLFD', 'CLNE', 'CNTY', 'CNXN', 'BA', 'COHR', 'CONN',\n       'COWN', 'CPRT', 'CPRX', 'CRAI', 'BCEI', 'CRNC', 'CROX', 'CRSR',\n       'CRUS', 'CSCO', 'CSGP', 'CSIQ', 'CSPI', 'CTXS', 'CUEN', 'CVET',\n       'CVGI', 'CYBR', 'CZR', 'DBX', 'DCT', 'DDOG', 'CSF', 'DKNG', 'DLPN',\n       'DLTR', 'DOCU', 'DOMO', 'BRP', 'DOX', 'DTEA', 'EA', 'EARS', 'EBIX',\n       'EBSB', 'ECOL', 'EDIT', 'EFOI', 'AEM', 'EGRX', 'EHTH', 'ELTK',\n       'CVI', 'EQIX', 'ERII', 'ETSY', 'EVBG', 'EXLS', 'EXPC', 'EXPE',\n       'EXPO', 'EYES', 'FANG', 'FAT', 'FB', 'FCAP', 'FEIM', 'FFIV',\n       'FFWM', 'FHB', 'FISI', 'FISV', 'FIVE', 'ASET', 'FLIR', 'FLNT',\n       'ABCB', 'FMBI', 'FNKO', 'FOSL', 'FPAY', 'FRG', 'BQ', 'FSLR',\n       'FTEK', 'FTNT', 'GAIA', 'AGX', 'GBS', 'GIGM', 'GILD', 'AJX',\n       'GLSI', 'GLUU', 'GMDA', 'GOEV', 'GOGO', 'GPRO', 'GRIL', 'GROW',\n       'GRPN', 'GSBC', 'GSHD', 'GURE', 'GWRS', 'HA', 'HAS', 'HCAT',\n       'HCCC', 'HCSG', 'HEES', 'HGBL', 'HIBB', 'HLIT', 'HMST', 'HROW',\n       'HSDT', 'HSIC', 'HSON', 'HTBK', 'CHCT', 'HTLF', 'HUBG', 'HUSN',\n       'HWKN', 'IAC', 'IBEX', 'ICUI', 'IDCC', 'IDEX', 'AAWW', 'IHRT',\n       'ILMN', 'IMGN', 'IMRA', 'IMUX', 'IMV', 'IMXI', 'IBCP', 'INO',\n       'INOD', 'INSE', 'ISRG', 'INTZ', 'IONS', 'IOSP', 'IPWR', 'IQ',\n       'IRDM', 'IRTC', 'ITI', 'ITRI', 'JACK', 'JAMF', 'JCOM', 'JCS', 'JD',\n       'JFU', 'JKHY', 'JOAN', 'KERN', 'KIRK', 'KMDA', 'LACQ', 'LAKE',\n       'LAUR', 'LAWS', 'LE', 'LESL', 'LFUS', 'LI', 'LIND', 'LOOP', 'LPSN',\n       'LQDT', 'LSBK', 'LYFT', 'MANH', 'MAT', 'MCFE', 'MDB', 'MDCA',\n       'MESO', 'MGI', 'MGLN', 'MGNI', 'MIME', 'MIND', 'MLHR', 'MMSI',\n       'MMYT', 'MRCC', 'MOGO', 'MOMO', 'IYLD', 'MPAA', 'MRCY', 'MRNA',\n       'MRSN', 'MRVL', 'MSGM', 'MTBC', 'MTCH', 'MU', 'MYFW', 'MYGN',\n       'MYSZ', 'NAKD', 'NATH', 'NBEV', 'NCMI', 'CARZ', 'NEO', 'NEPH',\n       'ACES', 'NETE', 'NFLX', 'NHTC', 'NMTR', 'ANNX', 'NSEC', 'NTAP',\n       'NTES', 'NTGR', 'NTNX', 'NTWK', 'NUAN', 'NUVA', 'NVAX', 'NWL',\n       'NYMT', 'OBLG', 'OKTA', 'OM', 'OMEX', 'ONVO', 'OPCH', 'OPK',\n       'OPRA', 'OSTK', 'OTLK', 'PAAS', 'PBYI', 'PCOM', 'PCYG', 'PDD',\n       'PDFS', 'PEGA', 'PENN', 'PEP', 'PFBI', 'PFG', 'PFIN', 'PGRWU',\n       'FMN', 'PLAY', 'PLMR', 'PLUG', 'PLXS', 'POLA', 'POSH', 'POWW',\n       'PPD', 'PRCH', 'PSHG', 'PSMT', 'PTC', 'PTCT', 'PYPL', 'QADA', 'QK',\n       'QLYS', 'QNST', 'QRVO', 'QTNT', 'RDI', 'RDNT', 'RDVT', 'RDWR',\n       'BOB', 'REGI', 'REGN', 'RESN', 'RGLD', 'RGP', 'RIDE', 'RIGL',\n       'RILY', 'RIOT', 'RMBS', 'CAKE', 'RNWK', 'ROAD', 'ROKU', 'ARRWU',\n       'RP', 'RPD', 'RSSS', 'RUBY', 'RWLK', 'RXT', 'SAFM', 'SAIA', 'SBGI',\n       'SBSI', 'SCKT', 'SCOR', 'SCVL', 'SCYX', 'SDC', 'SDGR', 'SDH',\n       'SEDG', 'SEER', 'SFIX', 'SFT', 'SGLB', 'SGMS', 'SGRP', 'SGRY',\n       'SIFY', 'SIGI', 'SKYW', 'SLAMU', 'SNPS', 'SOHU', 'SONO', 'SPKE',\n       'SPLK', 'SPRT', 'SPT', 'SRNE', 'SSNC', 'SSTI', 'SSYS', 'STCN',\n       'STLD', 'STRA', 'SUMR', 'SUPN', 'SVA', 'SVMK', 'SWBI', 'SWIR',\n       'SWKS', 'SY', 'TBIO', 'TBPH', 'ALG', 'TELL', 'TER', 'TILE', 'TLMD',\n       'TLRY', 'TMDI', 'TMUS', 'TOPS', 'TREE', 'LTRPA', 'TRUE', 'TSLA',\n       'TSRI', 'TTGT', 'TTWO', 'LB', 'TWOU', 'TXRH', 'UEIC', 'UFCS', 'UG',\n       'UIHC', 'ULTA', 'UONE', 'UPLD', 'UPWK', 'URBN', 'USAK', 'USAT',\n       'IYE', 'NEW', 'FVD', 'VBIV', 'VERX', 'VIAC', 'BV', 'VITL', 'VRA',\n       'VRM', 'VRME', 'VRNT', 'VRSN', 'VSAT', 'VXRT', 'WAFD', 'WDAY',\n       'WIFI', 'WIX', 'WMG', 'WSBC', 'WW', 'WWD', 'WYNN', 'XAIR', 'XEL',\n       'XLNX', 'XNCR', 'XOG', 'AXP', 'XRAY', 'XTLB', 'AE', 'YTRA', 'Z',\n       'ZEUS', 'ZLAB', 'ZM', 'ZUMZ', 'MMM', 'CAT', 'CVX', 'CCEP', 'DIS',\n       'ADME', 'HD', 'HON', 'IBM', 'AIQ', 'JNJ', 'CCF', 'MCD', 'MRK',\n       'MSFT', 'NKE', 'PG', 'CRM', 'TRV', 'UNH', 'TV', 'WBA', 'WMT'],\n      dtype=object)"
     },
     "execution_count": 5,
     "metadata": {},
     "output_type": "execute_result"
    }
   ],
   "source": [
    "df['Ticker'].unique()"
   ],
   "metadata": {
    "collapsed": false,
    "pycharm": {
     "name": "#%%\n"
    }
   }
  },
  {
   "cell_type": "code",
   "execution_count": 6,
   "outputs": [
    {
     "data": {
      "text/plain": "    Label Ticker                                           Headline\n5       0   AAPL  Apple Inc and its main contract manufacturing ...\n6       0   AAPL  European Union regulators who slapped Apple In...\n7       1   AAPL  The EU's ruling that Apple Inc must pay a huge...\n8       0   AAPL  Russia wants Apple SAP to cooperate against fo...\n9       1   AAPL  U.S. Companies Are Stashing $2.1 Trillion Over...\n10      1   AAPL  The top U.N. human rights official warned on F...\n11      1   AAPL  Google to form health company called Calico he...\n12      0   AAPL  With tariffs looming Apple remains dependent o...\n13      1   AAPL  Apple Inc said none of its operations were mov...\n14      0   AAPL  U.S. authorities charged a former Apple Inc em...",
      "text/html": "<div>\n<style scoped>\n    .dataframe tbody tr th:only-of-type {\n        vertical-align: middle;\n    }\n\n    .dataframe tbody tr th {\n        vertical-align: top;\n    }\n\n    .dataframe thead th {\n        text-align: right;\n    }\n</style>\n<table border=\"1\" class=\"dataframe\">\n  <thead>\n    <tr style=\"text-align: right;\">\n      <th></th>\n      <th>Label</th>\n      <th>Ticker</th>\n      <th>Headline</th>\n    </tr>\n  </thead>\n  <tbody>\n    <tr>\n      <th>5</th>\n      <td>0</td>\n      <td>AAPL</td>\n      <td>Apple Inc and its main contract manufacturing ...</td>\n    </tr>\n    <tr>\n      <th>6</th>\n      <td>0</td>\n      <td>AAPL</td>\n      <td>European Union regulators who slapped Apple In...</td>\n    </tr>\n    <tr>\n      <th>7</th>\n      <td>1</td>\n      <td>AAPL</td>\n      <td>The EU's ruling that Apple Inc must pay a huge...</td>\n    </tr>\n    <tr>\n      <th>8</th>\n      <td>0</td>\n      <td>AAPL</td>\n      <td>Russia wants Apple SAP to cooperate against fo...</td>\n    </tr>\n    <tr>\n      <th>9</th>\n      <td>1</td>\n      <td>AAPL</td>\n      <td>U.S. Companies Are Stashing $2.1 Trillion Over...</td>\n    </tr>\n    <tr>\n      <th>10</th>\n      <td>1</td>\n      <td>AAPL</td>\n      <td>The top U.N. human rights official warned on F...</td>\n    </tr>\n    <tr>\n      <th>11</th>\n      <td>1</td>\n      <td>AAPL</td>\n      <td>Google to form health company called Calico he...</td>\n    </tr>\n    <tr>\n      <th>12</th>\n      <td>0</td>\n      <td>AAPL</td>\n      <td>With tariffs looming Apple remains dependent o...</td>\n    </tr>\n    <tr>\n      <th>13</th>\n      <td>1</td>\n      <td>AAPL</td>\n      <td>Apple Inc said none of its operations were mov...</td>\n    </tr>\n    <tr>\n      <th>14</th>\n      <td>0</td>\n      <td>AAPL</td>\n      <td>U.S. authorities charged a former Apple Inc em...</td>\n    </tr>\n  </tbody>\n</table>\n</div>"
     },
     "execution_count": 6,
     "metadata": {},
     "output_type": "execute_result"
    }
   ],
   "source": [
    "df[df['Ticker']=='AAPL'].head(10)"
   ],
   "metadata": {
    "collapsed": false,
    "pycharm": {
     "name": "#%%\n"
    }
   }
  },
  {
   "cell_type": "markdown",
   "source": [
    "## Quick Visualization\n",
    "\n",
    "* 0 -> The stock went down by market close the day the article was published (negative)\n",
    "* 1 -> The stock went up by market close the day the article was published (positive)\n",
    "* 2 -> The stock stayed the same by market close the day the article was published (neutral)"
   ],
   "metadata": {
    "collapsed": false
   }
  },
  {
   "cell_type": "code",
   "execution_count": 7,
   "outputs": [
    {
     "data": {
      "text/plain": "<Figure size 576x720 with 1 Axes>",
      "image/png": "[encoded data removed]"
     },
     "metadata": {
      "needs_background": "light"
     },
     "output_type": "display_data"
    }
   ],
   "source": [
    "plt.figure(figsize=(8, 10))\n",
    "sns.countplot(x=df['Label'])\n",
    "plt.title(\"Stock Labels Count\", fontsize=15)\n",
    "plt.show()"
   ],
   "metadata": {
    "collapsed": false,
    "pycharm": {
     "name": "#%%\n"
    }
   }
  },
  {
   "cell_type": "code",
   "execution_count": 7,
   "outputs": [],
   "source": [],
   "metadata": {
    "collapsed": false,
    "pycharm": {
     "name": "#%%\n"
    }
   }
  },
  {
   "cell_type": "markdown",
   "source": [
    "## Preprocess Headlines\n",
    "\n",
    "Clean Headlines. Remove links, punctuations, stopwords and many other words that don’t give a lot of meanings. Lowercase the headlines. Perform stemming operation so that similar words are reduced.\n",
    "\n",
    "Store the result in a list."
   ],
   "metadata": {
    "collapsed": false
   }
  },
  {
   "cell_type": "code",
   "execution_count": 8,
   "outputs": [],
   "source": [
    "def clean_headline(headline):\n",
    "    \"\"\"\n",
    "    Clean Headlines. Remove links, punctuations, stopwords and many other words that don’t give a lot of meanings. Lowercase the headlines. Perform stemming operation so that similar words are reduced.\n",
    "\n",
    "    Input:\n",
    "        headline: A string of the headline.\n",
    "    Output:\n",
    "        tokens: a list of words containing the processed headline.\n",
    "\n",
    "    \"\"\"\n",
    "\n",
    "    # remove links (use 'r' to represent raw strings)\n",
    "    headline = re.sub(r'(https?://)?(www\\.)?\\S*\\.\\S*\\s*', ' ', headline).strip()\n",
    "    # remove punctuations using regular expression, and convert letters to lowercase\n",
    "    headline = re.sub(r'[^\\w\\s]', '', headline).lower()\n",
    "    # tokenization\n",
    "    tokens = word_tokenize(headline)\n",
    "    # remove stopwords\n",
    "    sw = stopwords.words(\"english\")\n",
    "    tokens = [t for t in tokens if t not in sw]\n",
    "    # stemming\n",
    "    stemmer = PorterStemmer()\n",
    "    tokens = [stemmer.stem(t) for t in tokens]\n",
    "    # lemmatization\n",
    "    #wnl = nltk.WordNetLemmatizer()\n",
    "    #tokens = [wnl.lemmatize(t) for t in tokens]\n",
    "\n",
    "    return tokens"
   ],
   "metadata": {
    "collapsed": false,
    "pycharm": {
     "name": "#%%\n"
    }
   }
  },
  {
   "cell_type": "code",
   "execution_count": 92,
   "outputs": [],
   "source": [
    "# Add cleaned headlines to data frame as strings.\n",
    "for i in range(len(df)):\n",
    "    tokens = clean_headline(df.loc[i, \"Headline\"])\n",
    "    df.loc[i, 'Cleaned_Headline'] = df.loc[i, 'Ticker'] + ' ' + \" \".join(tokens)"
   ],
   "metadata": {
    "collapsed": false,
    "pycharm": {
     "name": "#%%\n"
    }
   }
  },
  {
   "cell_type": "code",
   "execution_count": 93,
   "outputs": [
    {
     "data": {
      "text/plain": "   Label Ticker                                           Headline  \\\n0      0      A  @TotesTravel : Airline shares tumble as New Yo...   \n1      1      A  @TotesTravel : American United call off Hong K...   \n2      0      A  @TotesTravel : U.S. airline stocks hit highest...   \n3      1      A  @TotesTravel : American Airlines reaches deal ...   \n4      1      A  @TotesTravel : US airlines Treasury Department...   \n5      0   AAPL  Apple Inc and its main contract manufacturing ...   \n6      0   AAPL  European Union regulators who slapped Apple In...   \n7      1   AAPL  The EU's ruling that Apple Inc must pay a huge...   \n8      0   AAPL  Russia wants Apple SAP to cooperate against fo...   \n9      1   AAPL  U.S. Companies Are Stashing $2.1 Trillion Over...   \n\n                                    Cleaned_Headline  \n0  A totestravel airlin share tumbl new york impo...  \n1  A totestravel american unit call hong kong fli...  \n2  A totestravel airlin stock hit highest price s...  \n3  A totestravel american airlin reach deal boe 7...  \n4  A totestravel us airlin treasuri depart reach ...  \n5  AAPL appl inc main contract manufactur foxconn...  \n6  AAPL european union regul slap appl 13 billion...  \n7  AAPL eu rule appl inc must pay huge tax bill i...  \n8  AAPL russia want appl sap cooper foreign spi r...  \n9  AAPL compani stash trillion oversea avoid micr...  ",
      "text/html": "<div>\n<style scoped>\n    .dataframe tbody tr th:only-of-type {\n        vertical-align: middle;\n    }\n\n    .dataframe tbody tr th {\n        vertical-align: top;\n    }\n\n    .dataframe thead th {\n        text-align: right;\n    }\n</style>\n<table border=\"1\" class=\"dataframe\">\n  <thead>\n    <tr style=\"text-align: right;\">\n      <th></th>\n      <th>Label</th>\n      <th>Ticker</th>\n      <th>Headline</th>\n      <th>Cleaned_Headline</th>\n    </tr>\n  </thead>\n  <tbody>\n    <tr>\n      <th>0</th>\n      <td>0</td>\n      <td>A</td>\n      <td>@TotesTravel : Airline shares tumble as New Yo...</td>\n      <td>A totestravel airlin share tumbl new york impo...</td>\n    </tr>\n    <tr>\n      <th>1</th>\n      <td>1</td>\n      <td>A</td>\n      <td>@TotesTravel : American United call off Hong K...</td>\n      <td>A totestravel american unit call hong kong fli...</td>\n    </tr>\n    <tr>\n      <th>2</th>\n      <td>0</td>\n      <td>A</td>\n      <td>@TotesTravel : U.S. airline stocks hit highest...</td>\n      <td>A totestravel airlin stock hit highest price s...</td>\n    </tr>\n    <tr>\n      <th>3</th>\n      <td>1</td>\n      <td>A</td>\n      <td>@TotesTravel : American Airlines reaches deal ...</td>\n      <td>A totestravel american airlin reach deal boe 7...</td>\n    </tr>\n    <tr>\n      <th>4</th>\n      <td>1</td>\n      <td>A</td>\n      <td>@TotesTravel : US airlines Treasury Department...</td>\n      <td>A totestravel us airlin treasuri depart reach ...</td>\n    </tr>\n    <tr>\n      <th>5</th>\n      <td>0</td>\n      <td>AAPL</td>\n      <td>Apple Inc and its main contract manufacturing ...</td>\n      <td>AAPL appl inc main contract manufactur foxconn...</td>\n    </tr>\n    <tr>\n      <th>6</th>\n      <td>0</td>\n      <td>AAPL</td>\n      <td>European Union regulators who slapped Apple In...</td>\n      <td>AAPL european union regul slap appl 13 billion...</td>\n    </tr>\n    <tr>\n      <th>7</th>\n      <td>1</td>\n      <td>AAPL</td>\n      <td>The EU's ruling that Apple Inc must pay a huge...</td>\n      <td>AAPL eu rule appl inc must pay huge tax bill i...</td>\n    </tr>\n    <tr>\n      <th>8</th>\n      <td>0</td>\n      <td>AAPL</td>\n      <td>Russia wants Apple SAP to cooperate against fo...</td>\n      <td>AAPL russia want appl sap cooper foreign spi r...</td>\n    </tr>\n    <tr>\n      <th>9</th>\n      <td>1</td>\n      <td>AAPL</td>\n      <td>U.S. Companies Are Stashing $2.1 Trillion Over...</td>\n      <td>AAPL compani stash trillion oversea avoid micr...</td>\n    </tr>\n  </tbody>\n</table>\n</div>"
     },
     "execution_count": 93,
     "metadata": {},
     "output_type": "execute_result"
    }
   ],
   "source": [
    "# Display part of the cleaned headlines\n",
    "df.head(10)"
   ],
   "metadata": {
    "collapsed": false,
    "pycharm": {
     "name": "#%%\n"
    }
   }
  },
  {
   "cell_type": "markdown",
   "source": [
    "## SVM"
   ],
   "metadata": {
    "collapsed": false
   }
  },
  {
   "cell_type": "markdown",
   "source": [
    "### Convert Word to Vector (TF-IDF)"
   ],
   "metadata": {
    "collapsed": false
   }
  },
  {
   "cell_type": "code",
   "execution_count": 94,
   "outputs": [],
   "source": [
    "from sklearn.feature_extraction.text import TfidfVectorizer\n",
    "from sklearn import svm\n",
    "from sklearn.model_selection import train_test_split\n",
    "from sklearn.metrics import accuracy_score"
   ],
   "metadata": {
    "collapsed": false,
    "pycharm": {
     "name": "#%%\n"
    }
   }
  },
  {
   "cell_type": "code",
   "execution_count": 95,
   "outputs": [],
   "source": [
    "np.random.seed(1453)"
   ],
   "metadata": {
    "collapsed": false,
    "pycharm": {
     "name": "#%%\n"
    }
   }
  },
  {
   "cell_type": "code",
   "execution_count": 96,
   "outputs": [],
   "source": [
    "#Split the cleaned data into train and test sets\n",
    "Train_X, Test_X, Train_Y, Test_Y = train_test_split(df['Cleaned_Headline'], df['Label'], test_size=0.3)"
   ],
   "metadata": {
    "collapsed": false,
    "pycharm": {
     "name": "#%%\n"
    }
   }
  },
  {
   "cell_type": "code",
   "execution_count": 97,
   "outputs": [],
   "source": [
    "#Vectorize the data using TF-IDF\n",
    "TfidfVectorizer = TfidfVectorizer(max_features=2000)\n",
    "TfidfVectorizer.fit(df['Cleaned_Headline'])\n",
    "\n",
    "TrainX_TFIDF = TfidfVectorizer.transform(Train_X)\n",
    "TestX_TFIDF = TfidfVectorizer.transform(Test_X)"
   ],
   "metadata": {
    "collapsed": false,
    "pycharm": {
     "name": "#%%\n"
    }
   }
  },
  {
   "cell_type": "code",
   "execution_count": 98,
   "outputs": [
    {
     "data": {
      "text/plain": "{'totestravel': 1827,\n 'airlin': 115,\n 'share': 1625,\n 'new': 1243,\n 'york': 1990,\n 'impos': 938,\n 'case': 334,\n 'american': 136,\n 'group': 841,\n 'plane': 1366,\n 'prepar': 1405,\n 'land': 1054,\n 'airport': 116,\n 'tuesday': 1859,\n 'april': 168,\n 'travelnewsinsight': 1841,\n 'unit': 1879,\n 'call': 310,\n 'hong': 904,\n 'kong': 1044,\n 'flight': 749,\n 'crew': 475,\n 'test': 1798,\n 'rule': 1562,\n 'boe': 266,\n 'aircraft': 114,\n 'intern': 972,\n 'stock': 1720,\n 'hit': 897,\n 'highest': 891,\n 'price': 1413,\n 'sinc': 1646,\n 'june': 1028,\n 'travel': 1840,\n 'hope': 905,\n 'next': 1246,\n 'air': 112,\n 'line': 1095,\n 'reach': 1478,\n 'deal': 512,\n '737': 42,\n 'max': 1151,\n 'ground': 840,\n '30': 31,\n 'million': 1180,\n 'employe': 633,\n 'worker': 1973,\n 'cover': 464,\n 'engin': 639,\n 'outsid': 1299,\n 'us': 1888,\n 'depart': 535,\n 'agreement': 104,\n 'aid': 109,\n 'aapl': 53,\n 'appl': 163,\n 'inc': 940,\n 'main': 1123,\n 'contract': 443,\n 'manufactur': 1131,\n 'agre': 103,\n 'tackl': 1771,\n 'violat': 1907,\n 'condit': 428,\n 'among': 139,\n 'iphon': 984,\n 'ipad': 983,\n 'decis': 519,\n 'could': 457,\n 'chang': 358,\n 'way': 1933,\n 'western': 1946,\n 'compani': 417,\n 'busi': 301,\n 'european': 664,\n 'union': 1878,\n 'regul': 1502,\n '13': 7,\n 'billion': 250,\n 'tax': 1782,\n 'bill': 249,\n 'alleg': 122,\n 'least': 1074,\n 'euro': 662,\n 'past': 1327,\n 'six': 1650,\n 'eu': 661,\n 'must': 1220,\n 'pay': 1330,\n 'huge': 915,\n 'ireland': 990,\n 'base': 219,\n 'fact': 697,\n 'exist': 676,\n 'aim': 110,\n 'state': 1709,\n 'commiss': 412,\n 'presid': 1407,\n 'said': 1570,\n 'russia': 1565,\n 'want': 1924,\n 'sap': 1578,\n 'foreign': 762,\n 'spi': 1693,\n 'propos': 1439,\n 'hand': 859,\n 'govern': 827,\n 'access': 63,\n 'sourc': 1676,\n 'code': 401,\n 'make': 1125,\n 'sure': 1752,\n 'use': 1891,\n 'product': 1428,\n 'tool': 1823,\n 'trillion': 1848,\n 'oversea': 1300,\n 'avoid': 202,\n 'microsoft': 1174,\n 'googl': 823,\n 'five': 743,\n 'tech': 1784,\n 'firm': 736,\n 'account': 66,\n 'profit': 1430,\n 'hold': 899,\n 'top': 1824,\n 'human': 916,\n 'right': 1544,\n 'offici': 1274,\n 'warn': 1927,\n 'friday': 781,\n 'risk': 1548,\n 'open': 1284,\n 'box': 276,\n 'infring': 957,\n 'worldwid': 1975,\n 'crimin': 477,\n 'form': 764,\n 'health': 873,\n 'head': 872,\n 'chairman': 355,\n 'art': 180,\n 'tariff': 1781,\n 'remain': 1508,\n 'tap': 1779,\n 'factori': 699,\n 'brazil': 280,\n 'india': 947,\n 'china': 370,\n 'suppli': 1748,\n 'chain': 354,\n 'data': 503,\n 'oper': 1285,\n 'move': 1205,\n 'made': 1120,\n 'corpor': 454,\n '2015': 20,\n 'special': 1687,\n 'design': 539,\n 'payment': 1331,\n 'reduc': 1494,\n 'author': 196,\n 'charg': 360,\n 'former': 765,\n 'steal': 1714,\n 'trade': 1834,\n 'secret': 1600,\n 'monday': 1195,\n 'accus': 67,\n 'download': 585,\n 'relat': 1504,\n 'car': 327,\n 'person': 1345,\n 'tri': 1846,\n 'flee': 746,\n 'countri': 460,\n 'accord': 65,\n 'complaint': 421,\n 'file': 728,\n 'feder': 718,\n 'billionair': 251,\n 'founder': 771,\n 'urg': 1887,\n 'plant': 1368,\n 'largest': 1057,\n 'supplier': 1749,\n 'ask': 184,\n 'part': 1319,\n 'chief': 367,\n 'taiwan': 1772,\n 'say': 1583,\n 'rise': 1547,\n 'world': 1974,\n 'electron': 626,\n 'good': 821,\n 'major': 1124,\n 'sunday': 1747,\n 'steve': 1717,\n 'job': 1016,\n 'resign': 1524,\n 'ceo': 352,\n 'name': 1223,\n 'legend': 1080,\n 'wednesday': 1940,\n 'execut': 675,\n 'stun': 1737,\n 'technolog': 1785,\n 'giant': 808,\n 'student': 1735,\n 'su': 1738,\n 'claim': 384,\n 'ai': 108,\n 'led': 1076,\n 'arrest': 178,\n 'give': 812,\n 'demand': 531,\n 'minist': 1184,\n 'thursday': 1812,\n 'may': 1152,\n 'agent': 101,\n 'paper': 1314,\n 'chines': 371,\n 'labor': 1050,\n 'document': 571,\n 'seek': 1605,\n 'improv': 939,\n 'maker': 1126,\n 'comput': 423,\n 'explos': 685,\n 'fire': 735,\n 'provinc': 1445,\n 'kill': 1035,\n 'two': 1866,\n 'peopl': 1337,\n 'facebook': 696,\n 'corp': 453,\n 'dozen': 586,\n 'internet': 973,\n 'joint': 1020,\n 'legal': 1079,\n 'brief': 287,\n 'judg': 1026,\n 'support': 1750,\n 'battl': 223,\n 'told': 1821,\n 'softwar': 1665,\n 'patent': 1328,\n 'without': 1964,\n 'permiss': 1344,\n 'sue': 1740,\n 'target': 1780,\n 'media': 1162,\n 'step': 1716,\n 'critic': 479,\n 'includ': 942,\n 'tension': 1792,\n 'escal': 653,\n 'hack': 853,\n 'creat': 472,\n 'energi': 637,\n 'sell': 1610,\n 'renew': 1512,\n 'power': 1400,\n 'direct': 551,\n 'consum': 437,\n 'percent': 1341,\n 'offic': 1273,\n 'retail': 1534,\n 'store': 1725,\n 'center': 347,\n 'thank': 1799,\n 'invest': 979,\n 'solar': 1666,\n 'clean': 387,\n 'act': 71,\n 'estim': 655,\n '20': 15,\n 'ga': 788,\n 'pollut': 1387,\n 'that': 1800,\n 'like': 1093,\n 'four': 772,\n 'road': 1551,\n 'report': 1515,\n 'messag': 1170,\n 'board': 263,\n 'news': 1244,\n 'social': 1664,\n 'network': 1241,\n 'allow': 126,\n 'free': 777,\n 'trial': 1847,\n 'period': 1343,\n 'replac': 1514,\n 'samsung': 1574,\n 'tim': 1816,\n 'cook': 448,\n 'california': 309,\n 'list': 1097,\n 'gap': 795,\n 'requir': 1519,\n 'disclos': 555,\n 'take': 1773,\n 'partner': 1322,\n 'forc': 759,\n 'less': 1082,\n 'cash': 335,\n 'fan': 705,\n 'first': 737,\n 'earli': 601,\n 'adopt': 85,\n 'hard': 862,\n 'work': 1971,\n 'custom': 493,\n 'owner': 1302,\n 'class': 386,\n 'long': 1107,\n 'across': 70,\n 'phone': 1356,\n 'wireless': 1960,\n 'system': 1769,\n 'one': 1281,\n 'put': 1455,\n 'rival': 1549,\n 'even': 665,\n 'histori': 896,\n 'time': 1817,\n 'surpass': 1754,\n 'becom': 231,\n 'die': 548,\n 'offer': 1272,\n 'australian': 195,\n 'court': 463,\n 'fine': 734,\n 'host': 907,\n 'applic': 164,\n 'app': 159,\n 'fast': 710,\n 'deliveri': 530,\n 'servic': 1619,\n 'get': 807,\n 'increas': 944,\n 'develop': 545,\n 'devic': 546,\n 'mobil': 1190,\n 'android': 146,\n 'smartphon': 1658,\n 'term': 1793,\n 'revenu': 1538,\n 'market': 1138,\n 'post': 1396,\n 'smith': 1659,\n 'arm': 175,\n 'central': 349,\n 'pari': 1316,\n 'year': 1988,\n 'cost': 456,\n 'appear': 162,\n 'order': 1291,\n 'co': 397,\n 'ltd': 1116,\n 'found': 769,\n 'south': 1677,\n 'korean': 1046,\n 'learn': 1073,\n 'launch': 1063,\n 'cabl': 306,\n 'white': 1950,\n 'extra': 691,\n 'amp': 141,\n 'reportedli': 1516,\n 'togeth': 1820,\n 'team': 1783,\n 'treat': 1842,\n 'origin': 1294,\n 'reject': 1503,\n 'differ': 549,\n 'deep': 522,\n 'privat': 1419,\n 'manag': 1129,\n 'larg': 1056,\n 'per': 1340,\n 'cent': 346,\n 'lose': 1110,\n 'qualcomm': 1459,\n 'pull': 1450,\n 'german': 805,\n 'remov': 1511,\n 'illeg': 929,\n 'content': 441,\n 'global': 814,\n 'medic': 1163,\n 'valu': 1894,\n '2025': 29,\n 'garmin': 796,\n 'huawei': 913,\n 'healthcar': 874,\n 'worth': 1978,\n 'cagr': 307,\n '20192025': 25,\n 'doubl': 582,\n 'reveal': 1537,\n 'approv': 167,\n 'kim': 1036,\n 'jongun': 1022,\n 'game': 793,\n 'usa': 1889,\n 'care': 330,\n 'number': 1266,\n 'pictur': 1360,\n 'sale': 1571,\n 'import': 937,\n 'real': 1481,\n 'black': 255,\n '10': 0,\n 'man': 1128,\n 'challeng': 356,\n 'face': 695,\n 'investig': 980,\n 'photo': 1357,\n 'introduc': 975,\n 'break': 283,\n 'record': 1489,\n 'biggest': 248,\n 'ipo': 985,\n 'size': 1651,\n 'week': 1941,\n 'caught': 338,\n 'begin': 235,\n 'local': 1104,\n '2019': 24,\n 'help': 881,\n 'protest': 1442,\n 'track': 1833,\n 'polic': 1382,\n 'movement': 1206,\n 'law': 1064,\n 'enforc': 638,\n 'follow': 755,\n 'newspap': 1245,\n 'email': 628,\n 'san': 1575,\n 'detect': 543,\n 'uber': 1869,\n 'rais': 1470,\n '100': 1,\n 'display': 565,\n 'imag': 931,\n 'digit': 550,\n 'advertis': 88,\n 'industri': 953,\n 'analysi': 142,\n 'growth': 844,\n 'trend': 1845,\n 'forecast': 761,\n 'alibaba': 121,\n 'amazon': 133,\n 'alphabet': 129,\n 'nokia': 1256,\n 'tencent': 1791,\n 'twitter': 1865,\n 'se': 1596,\n 'plu': 1376,\n 'ban': 212,\n 'jone': 1021,\n 'model': 1191,\n 'push': 1454,\n 'updat': 1885,\n 'user': 1892,\n 'bid': 246,\n 'potenti': 1398,\n 'look': 1109,\n 'disput': 566,\n 'border': 272,\n 'map': 1132,\n 'russian': 1566,\n 'reuter': 1536,\n 'key': 1033,\n 'player': 1372,\n '2020': 26,\n 'chip': 372,\n 'sever': 1622,\n 'due': 598,\n 'around': 177,\n 'featur': 717,\n 'avail': 199,\n 'itali': 1000,\n 'antitrust': 154,\n 'slow': 1655,\n 'suprem': 1751,\n 'justic': 1030,\n 'let': 1083,\n 'lawsuit': 1066,\n 'caus': 339,\n 'sport': 1695,\n 'soni': 1671,\n 'ag': 98,\n 'nike': 1252,\n 'plan': 1365,\n 'behind': 236,\n 'uk': 1872,\n 'british': 290,\n 'award': 204,\n 'citizen': 381,\n 'deni': 533,\n 'gener': 802,\n 'trademark': 1835,\n 'word': 1970,\n 'stand': 1704,\n 'better': 244,\n 'protect': 1441,\n 'might': 1176,\n 'latest': 1061,\n 'japan': 1007,\n 'went': 1944,\n 'ahead': 107,\n 'debut': 515,\n 'later': 1060,\n 'day': 507,\n 'popular': 1392,\n 'rare': 1474,\n 'apolog': 158,\n 'eye': 694,\n 'japanes': 1008,\n 'govt': 829,\n 'lead': 1070,\n 'airbnb': 113,\n 'would': 1979,\n 'start': 1707,\n 'inform': 955,\n 'agenc': 100,\n 'resid': 1523,\n 'tourist': 1828,\n 'address': 80,\n 'stay': 1713,\n 'hotel': 910,\n 'within': 1963,\n 'raid': 1468,\n 'last': 1058,\n 'month': 1199,\n 'suspect': 1758,\n 'properti': 1438,\n 'netflix': 1238,\n 'friend': 782,\n 'cut': 494,\n 'releas': 1506,\n 'lawmak': 1065,\n 'fake': 701,\n 'home': 901,\n 'religi': 1507,\n 'discrimin': 559,\n '200': 16,\n 'west': 1945,\n 'bank': 216,\n 'mortgag': 1201,\n 'insur': 966,\n 'capit': 325,\n 'pharma': 1352,\n 'adbe': 77,\n 'hacker': 854,\n 'link': 1096,\n 'previous': 1412,\n 'window': 1959,\n 'adob': 84,\n 'discuss': 560,\n 'sanction': 1576,\n 'polici': 1383,\n 'ibm': 922,\n 'aaon': 52,\n '3d': 33,\n 'print': 1416,\n 'factor': 698,\n 'upcom': 1884,\n 'arcam': 171,\n 'ab': 54,\n 'royal': 1561,\n 'dsm': 596,\n 'stratasi': 1728,\n 'autodesk': 198,\n 'exon': 677,\n 'hgan': 886,\n 'limit': 1094,\n 'driver': 591,\n 'isra': 996,\n 'commun': 416,\n 'iran': 986,\n 'radio': 1467,\n 'advanc': 87,\n 'show': 1636,\n 'senior': 1613,\n 'live': 1100,\n 'cancer': 320,\n 'project': 1433,\n '2013': 18,\n 'earn': 603,\n 'america': 135,\n 'fight': 725,\n 'hundr': 917,\n 'germani': 806,\n 'strike': 1732,\n 'set': 1620,\n 'hire': 894,\n '100000': 3,\n 'hour': 911,\n 'effort': 618,\n 'meet': 1165,\n 'place': 1364,\n 'onlin': 1282,\n 'rather': 1476,\n 'go': 815,\n 'shut': 1638,\n '18': 12,\n 'ecommerc': 611,\n 'cloud': 393,\n 'popul': 1391,\n 'suspend': 1759,\n 'send': 1612,\n 'space': 1679,\n 'shortag': 1634,\n 'result': 1533,\n 'coronaviru': 452,\n 'implement': 935,\n 'recognit': 1488,\n 'halt': 857,\n 'defend': 524,\n 'mani': 1130,\n 'brutal': 295,\n 'seiz': 1608,\n 'via': 1902,\n 'fail': 700,\n 'daili': 499,\n 'cite': 379,\n 'tesla': 1797,\n 'tsla': 1858,\n 'walmart': 1923,\n 'surpris': 1755,\n 'jump': 1027,\n 'second': 1599,\n 'pipelin': 1362,\n 'review': 1539,\n 'idata': 925,\n 'insight': 961,\n 'cannabi': 322,\n 'produc': 1427,\n 'sign': 1640,\n 'buy': 302,\n 'expand': 678,\n 'robot': 1553,\n 'current': 492,\n 'intuit': 977,\n 'medicin': 1164,\n 'biotech': 252,\n 'therapeut': 1802,\n 'fear': 716,\n 'nasdaq': 1225,\n 'feed': 720,\n 'avgo': 201,\n 'broadcom': 292,\n 'toward': 1829,\n 'unveil': 1882,\n 'sharehold': 1626,\n 'vote': 1914,\n 'director': 552,\n 'announc': 148,\n 'action': 72,\n 'encourag': 635,\n 'investor': 981,\n 'loss': 1111,\n 'excess': 671,\n 'contact': 438,\n 'pfizer': 1350,\n 'merck': 1169,\n 'sanofi': 1577,\n 'johnson': 1018,\n 'corrupt': 455,\n 'korea': 1045,\n 'purchas': 1453,\n 'vaccin': 1893,\n 'candid': 321,\n 'secur': 1603,\n 'amid': 137,\n 'outbreak': 1297,\n 'bbby': 224,\n 'bed': 232,\n 'bath': 221,\n 'beyond': 245,\n 'trump': 1854,\n 'collect': 405,\n 'coupon': 462,\n 'page': 1306,\n 'contain': 439,\n 'site': 1649,\n 'attract': 192,\n 'play': 1371,\n 'yahoo': 1987,\n 'financ': 731,\n 'block': 258,\n 'north': 1258,\n 'heritag': 884,\n 'tabl': 1770,\n 'today': 1819,\n 'best': 243,\n 'still': 1719,\n 'carri': 331,\n 'save': 1582,\n 'depot': 537,\n 'isnt': 995,\n 'stop': 1723,\n 'un': 1875,\n 'de': 509,\n 'en': 634,\n '2021': 27,\n 'premarket': 1403,\n 'walgreen': 1921,\n 'men': 1167,\n 'ad': 76,\n 'femal': 722,\n 'women': 1967,\n 'watch': 1930,\n 'acquir': 68,\n 'zynga': 1999,\n 'aac': 48,\n 'acquisit': 69,\n 'woman': 1966,\n 'guid': 849,\n 'dog': 573,\n 'refus': 1499,\n 'transport': 1839,\n 'bitcoin': 254,\n 'financi': 732,\n 'googul': 824,\n 'schedul': 1587,\n 'quarter': 1461,\n 'confer': 430,\n 'sn': 1660,\n 'auto': 197,\n 'spill': 1694,\n 'pass': 1324,\n 'famou': 704,\n 'apart': 157,\n 'aee': 91,\n 'mckesson': 1158,\n 'analyt': 144,\n 'institut': 965,\n 'aaic': 49,\n '300': 32,\n 'hepat': 882,\n 'effect': 617,\n 'altern': 132,\n 'arctic': 173,\n 'studi': 1736,\n 'suggest': 1742,\n 'high': 889,\n 'thousand': 1808,\n 'ago': 102,\n 'canada': 317,\n 'along': 128,\n 'pacif': 1304,\n 'coast': 399,\n 'turn': 1862,\n 'member': 1166,\n 'compens': 419,\n 'build': 296,\n 'natur': 1228,\n 'export': 686,\n 'canadian': 318,\n 'gather': 797,\n 'oppos': 1287,\n 'legisl': 1081,\n 'c51': 305,\n 'recal': 1485,\n 'emiss': 631,\n 'bodi': 265,\n 'temperatur': 1789,\n 'rescu': 1520,\n 'drop': 593,\n 'surviv': 1757,\n 'ever': 667,\n 'drug': 595,\n 'clear': 388,\n 'treatment': 1843,\n 'australia': 194,\n 'provid': 1444,\n 'patient': 1329,\n 'scientist': 1592,\n 'grow': 843,\n 'research': 1521,\n 'dna': 569,\n 'repres': 1517,\n 'genet': 803,\n 'antiterror': 153,\n 'premier': 1404,\n 'freedom': 778,\n 'crime': 476,\n 'senat': 1611,\n 'despit': 540,\n 'public': 1447,\n 'opposit': 1288,\n 'deadli': 511,\n 'heat': 877,\n 'wave': 1932,\n 'continu': 442,\n 'blame': 256,\n 'version': 1900,\n 'bring': 288,\n 'standard': 1705,\n '1000': 2,\n 'compar': 418,\n 'need': 1233,\n 'surveil': 1756,\n 'bar': 218,\n 'associ': 187,\n 'lawyer': 1067,\n 'threat': 1809,\n 'yet': 1989,\n 'mp': 1207,\n 'speak': 1684,\n 'campaign': 316,\n 'websit': 1939,\n 'highlight': 893,\n 'mask': 1141,\n 'riot': 1546,\n 'anonym': 150,\n 'hous': 912,\n 'common': 415,\n 'hide': 888,\n 'saudi': 1581,\n 'arabia': 170,\n 'almost': 127,\n 'far': 707,\n 'britain': 289,\n 'run': 1563,\n 'video': 1904,\n 'john': 1017,\n 'music': 1217,\n 'parent': 1315,\n 'turkish': 1861,\n 'wont': 1968,\n 'prime': 1414,\n 'hear': 875,\n 'nuclear': 1265,\n 'mark': 1137,\n 'pressur': 1410,\n 'whole': 1951,\n 'danger': 501,\n 'warm': 1926,\n 'rest': 1529,\n 'planet': 1367,\n 'known': 1043,\n 'satellit': 1579,\n 'indic': 949,\n 'ice': 923,\n '25': 30,\n 'extrem': 693,\n 'environ': 647,\n 'staff': 1701,\n 'anim': 147,\n 'northern': 1259,\n 'averag': 200,\n 'franc': 775,\n 'level': 1085,\n 'red': 1492,\n '12': 6,\n 'seen': 1606,\n 'mind': 1182,\n 'control': 445,\n 'soon': 1673,\n 'find': 733,\n 'polit': 1384,\n 'domin': 576,\n 'singapor': 1647,\n 'ralli': 1471,\n 'nationwid': 1227,\n 'final': 730,\n 'controversi': 446,\n 'jail': 1005,\n 'marijuana': 1135,\n 'near': 1231,\n 'terror': 1795,\n 'he': 871,\n 'complet': 422,\n 'iranian': 987,\n 'citi': 380,\n 'soar': 1663,\n 'earth': 604,\n 'modern': 1192,\n 'measur': 1160,\n 'indian': 948,\n 'villag': 1906,\n 'minor': 1186,\n 'lake': 1053,\n 'water': 1931,\n 'respons': 1528,\n 'massiv': 1144,\n 'unpreced': 1881,\n '2016': 21,\n 'approach': 166,\n 'reddit': 1493,\n 'goal': 816,\n 'wake': 1920,\n 'climat': 389,\n 'town': 1830,\n 'georg': 804,\n 'collaps': 404,\n 'sea': 1597,\n 'destroy': 541,\n 'abl': 58,\n 'gun': 851,\n 'pose': 1393,\n 'perform': 1342,\n 'organis': 1293,\n 'infrastructur': 956,\n 'built': 297,\n 'construct': 435,\n 'chanc': 357,\n 'end': 636,\n 'centuri': 350,\n 'scale': 1584,\n 'back': 210,\n 'marin': 1136,\n 'shoot': 1632,\n 'washington': 1928,\n 'wikileak': 1955,\n 'publish': 1448,\n 'expos': 687,\n 'contractor': 444,\n 'detail': 542,\n 'stake': 1703,\n 'seri': 1616,\n 'promis': 1434,\n 'immigr': 932,\n 'never': 1242,\n 'poor': 1389,\n 'fresh': 780,\n 'low': 1114,\n 'confirm': 431,\n 'what': 1947,\n 'happen': 860,\n 'alreadi': 130,\n 'ocean': 1271,\n 'shown': 1637,\n 'process': 1425,\n 'tweet': 1864,\n 'celebr': 343,\n 'march': 1134,\n 'convict': 447,\n 'fall': 702,\n 'partnership': 1323,\n 'jet': 1012,\n 'suffer': 1741,\n 'pharmaceut': 1353,\n 'card': 329,\n '16': 10,\n 'israel': 997,\n 'favor': 712,\n 'palestinian': 1310,\n 'area': 174,\n 'nearli': 1232,\n 'poland': 1381,\n 'ukrain': 1873,\n 'enter': 644,\n 'democrat': 532,\n 'conserv': 433,\n 'also': 131,\n 'ancient': 145,\n 'theori': 1801,\n 'cultur': 489,\n 'came': 312,\n 'keep': 1032,\n 'got': 826,\n 'immun': 933,\n 'expect': 680,\n 'fli': 748,\n 'committe': 414,\n 'prison': 1417,\n 'sentenc': 1615,\n 'given': 813,\n 'liber': 1086,\n 'saturday': 1580,\n 'wage': 1919,\n 'affect': 93,\n 'surg': 1753,\n 'dead': 510,\n 'eastern': 607,\n 'stolen': 1721,\n 'brand': 279,\n 'terrorist': 1796,\n 'expert': 682,\n 'syria': 1767,\n 'problem': 1424,\n 'ignor': 928,\n 'ambassador': 134,\n 'check': 364,\n 'point': 1380,\n 'presidenti': 1408,\n 'signific': 1643,\n 'concern': 426,\n 'competit': 420,\n 'robert': 1552,\n ...}"
     },
     "execution_count": 98,
     "metadata": {},
     "output_type": "execute_result"
    }
   ],
   "source": [
    "TfidfVectorizer.vocabulary_"
   ],
   "metadata": {
    "collapsed": false,
    "pycharm": {
     "name": "#%%\n"
    }
   }
  },
  {
   "cell_type": "code",
   "execution_count": 99,
   "outputs": [
    {
     "name": "stdout",
     "output_type": "stream",
     "text": [
      "  (0, 1807)\t0.35619364262859\n",
      "  (0, 1768)\t0.3266942880246339\n",
      "  (0, 1623)\t0.3353687812228491\n",
      "  (0, 1244)\t0.21713493602543932\n",
      "  (0, 1142)\t0.32360487102575547\n",
      "  (0, 769)\t0.25812587343834575\n",
      "  (0, 454)\t0.23244835543853554\n",
      "  (0, 291)\t0.2702475917095872\n",
      "  (0, 265)\t0.3214065409588452\n",
      "  (0, 195)\t0.24803630916854102\n",
      "  (0, 91)\t0.25632971907399155\n",
      "  (0, 56)\t0.2789855789873974\n",
      "  (1, 1993)\t0.3420667579286289\n",
      "  (1, 1450)\t0.3075185966785388\n",
      "  (1, 1235)\t0.3033633664903793\n",
      "  (1, 563)\t0.2899999547775173\n",
      "  (1, 553)\t0.29598164764111684\n",
      "  (1, 426)\t0.32349341207530236\n",
      "  (1, 417)\t0.20392039743194543\n",
      "  (1, 368)\t0.319378135327124\n",
      "  (1, 139)\t0.30451501871353337\n",
      "  (1, 76)\t0.3022381913905429\n",
      "  (1, 60)\t0.3039358053113938\n",
      "  (2, 1904)\t0.4450804381951283\n",
      "  (2, 1867)\t0.2973238758716135\n",
      "  :\t:\n",
      "  (10889, 136)\t0.26850285206954083\n",
      "  (10889, 115)\t0.3451509132846254\n",
      "  (10889, 50)\t0.17547511006709252\n",
      "  (10889, 42)\t0.3688622846685855\n",
      "  (10889, 31)\t0.17435163762129108\n",
      "  (10890, 1636)\t0.2797746855771047\n",
      "  (10890, 1244)\t0.23825339058772044\n",
      "  (10890, 1225)\t0.6459695074426055\n",
      "  (10890, 1152)\t0.2841301850060235\n",
      "  (10890, 720)\t0.40936586521492313\n",
      "  (10890, 716)\t0.33357835902470845\n",
      "  (10890, 503)\t0.29681635297555264\n",
      "  (10891, 1834)\t0.3329930711387385\n",
      "  (10891, 1249)\t0.40500260324921644\n",
      "  (10891, 1113)\t0.4150050080005314\n",
      "  (10891, 1061)\t0.35431646417903095\n",
      "  (10891, 926)\t0.4233510919330196\n",
      "  (10891, 512)\t0.29685223518576404\n",
      "  (10891, 92)\t0.39996474332800025\n",
      "  (10892, 1951)\t0.5219358306078274\n",
      "  (10892, 1888)\t0.2888021724758788\n",
      "  (10892, 1583)\t0.27090831459353526\n",
      "  (10892, 1045)\t0.35995566499675863\n",
      "  (10892, 879)\t0.42615191482063647\n",
      "  (10892, 868)\t0.5095207981196315\n"
     ]
    }
   ],
   "source": [
    "print(TrainX_TFIDF)"
   ],
   "metadata": {
    "collapsed": false,
    "pycharm": {
     "name": "#%%\n"
    }
   }
  },
  {
   "cell_type": "markdown",
   "source": [
    "### Training Model"
   ],
   "metadata": {
    "collapsed": false
   }
  },
  {
   "cell_type": "code",
   "execution_count": 73,
   "outputs": [
    {
     "name": "stdout",
     "output_type": "stream",
     "text": [
      "0.6498179481687728\n"
     ]
    }
   ],
   "source": [
    "# Fit the training dataset on the classifier, using linear kernel\n",
    "svm_clf = svm.SVC(kernel='linear', degree=3)\n",
    "svm_clf.fit(TrainX_TFIDF, Train_Y)\n",
    "\n",
    "svm_predict = svm_clf.predict(TestX_TFIDF)\n",
    "\n",
    "# Print the accuracy score\n",
    "svm_acc = accuracy_score(svm_predict, Test_Y)\n",
    "print(svm_acc)"
   ],
   "metadata": {
    "collapsed": false,
    "pycharm": {
     "name": "#%%\n"
    }
   }
  },
  {
   "cell_type": "code",
   "execution_count": 74,
   "outputs": [
    {
     "name": "stdout",
     "output_type": "stream",
     "text": [
      "0.7213536089098308\n"
     ]
    }
   ],
   "source": [
    "# Use Radial Basis Function kernel\n",
    "rbf_clf = svm.SVC(kernel='rbf', gamma=2)\n",
    "rbf_clf.fit(TrainX_TFIDF, Train_Y)\n",
    "\n",
    "rbf_predict = rbf_clf.predict(TestX_TFIDF)\n",
    "\n",
    "# Print accuracy\n",
    "rbf_acc = accuracy_score(rbf_predict, Test_Y)\n",
    "print(rbf_acc)"
   ],
   "metadata": {
    "collapsed": false,
    "pycharm": {
     "name": "#%%\n"
    }
   }
  },
  {
   "cell_type": "markdown",
   "source": [
    "### Test Case"
   ],
   "metadata": {
    "collapsed": false
   }
  },
  {
   "cell_type": "code",
   "execution_count": 128,
   "outputs": [
    {
     "name": "stdout",
     "output_type": "stream",
     "text": [
      "The SVM prediction is 0. The actual category is 0.\n"
     ]
    }
   ],
   "source": [
    "# Tested Headline\n",
    "# test_headline = \"MMM Schoolgirl sells life story for $3M.\"\n",
    "test_headline = \"MMM 3M to cut 2000 jobs globally lowers 2019 profit outlook\"\n",
    "actual_cat = 0\n",
    "\n",
    "# Convert to vector\n",
    "word_vec = TfidfVectorizer.transform([\" \".join(clean_headline(test_headline))])\n",
    "\n",
    "# Make a prediction using SVM\n",
    "pred = rbf_clf.predict(word_vec)\n",
    "\n",
    "print(\"The SVM prediction is {}. The actual category is {}.\".format(pred[0], actual_cat))"
   ],
   "metadata": {
    "collapsed": false,
    "pycharm": {
     "name": "#%%\n"
    }
   }
  },
  {
   "cell_type": "markdown",
   "source": [
    "### Conclusion\n",
    "After tuning the hyperparameters, the RBF kernel function gives a better prediction result of over 70% accuracy."
   ],
   "metadata": {
    "collapsed": false
   }
  },
  {
   "cell_type": "code",
   "execution_count": null,
   "outputs": [],
   "source": [],
   "metadata": {
    "collapsed": false,
    "pycharm": {
     "name": "#%%\n"
    }
   }
  },
  {
   "cell_type": "markdown",
   "source": [
    "## LSTM"
   ],
   "metadata": {
    "collapsed": false
   }
  },
  {
   "cell_type": "markdown",
   "source": [
    "### Prepare data set"
   ],
   "metadata": {
    "collapsed": false
   }
  },
  {
   "cell_type": "code",
   "execution_count": 16,
   "outputs": [],
   "source": [
    "import torch\n",
    "import torch.nn as nn\n",
    "import torch.optim as optim\n",
    "from torchtext.legacy import data\n",
    "import random"
   ],
   "metadata": {
    "collapsed": false,
    "pycharm": {
     "name": "#%%\n"
    }
   }
  },
  {
   "cell_type": "code",
   "execution_count": 17,
   "outputs": [],
   "source": [
    "# Set random seed\n",
    "seed = 1453\n",
    "torch.manual_seed(seed)\n",
    "torch.backends.cudnn.deterministic = True"
   ],
   "metadata": {
    "collapsed": false,
    "pycharm": {
     "name": "#%%\n"
    }
   }
  },
  {
   "cell_type": "code",
   "execution_count": 18,
   "outputs": [],
   "source": [
    "# Set data field\n",
    "HEADLINE = data.Field(tokenize='spacy', batch_first=True, include_lengths=True)\n",
    "LABEL = data.LabelField(dtype=torch.long, batch_first=True)\n",
    "fields = [(None, None), ('label', LABEL), ('headline', HEADLINE)]"
   ],
   "metadata": {
    "collapsed": false,
    "pycharm": {
     "name": "#%%\n"
    }
   }
  },
  {
   "cell_type": "code",
   "execution_count": 19,
   "outputs": [],
   "source": [
    "# Transfer Data Field\n",
    "data_for_DataFieldTransfer = df[['Label', 'Cleaned_Headline']]\n",
    "\n",
    "data_for_DataFieldTransfer.to_csv(\"./data_for_DataFieldTransfer.csv\", index=True)\n",
    "\n",
    "training_data = data.TabularDataset(path='./data_for_DataFieldTransfer.csv', format='csv', fields=fields, skip_header=True)"
   ],
   "metadata": {
    "collapsed": false,
    "pycharm": {
     "name": "#%%\n"
    }
   }
  },
  {
   "cell_type": "code",
   "execution_count": 20,
   "outputs": [
    {
     "name": "stdout",
     "output_type": "stream",
     "text": [
      "{'label': '0', 'headline': ['A', 'totestravel', 'airlin', 'share', 'tumbl', 'new', 'york', 'impos', 'quarantin', 'florida', 'case', 'spike', 'american', 'airlin', 'group', 'plane', 'prepar', 'land', 'laguardia', 'airport', 'lga', 'new', 'york', 'tuesday', 'april', 'travelnewsinsight']}\n"
     ]
    }
   ],
   "source": [
    "# View new data form example\n",
    "print(vars(training_data.examples[0]))"
   ],
   "metadata": {
    "collapsed": false,
    "pycharm": {
     "name": "#%%\n"
    }
   }
  },
  {
   "cell_type": "code",
   "execution_count": 21,
   "outputs": [],
   "source": [
    "# Prepare training and testing data set\n",
    "train_data, valid_data = training_data.split(split_ratio=0.7, random_state=random.seed(seed))\n",
    "\n",
    "# X_train, X_test, y_train, y_test = train_test_split(training_data, df['Label'], test_size=0.2, random_state=20)"
   ],
   "metadata": {
    "collapsed": false,
    "pycharm": {
     "name": "#%%\n"
    }
   }
  },
  {
   "cell_type": "code",
   "execution_count": 22,
   "outputs": [],
   "source": [
    "# the words should have at least a min frequency of 2 to build its vocab\n",
    "MIN_FREQ = 2\n",
    "\n",
    "# Torch text builds the vocabulary based on word representations from glove.\n",
    "HEADLINE.build_vocab(train_data,\n",
    "                     min_freq=MIN_FREQ,\n",
    "                     vectors=\"glove.6B.100d\",\n",
    "                     unk_init=torch.Tensor.normal_)\n",
    "\n",
    "LABEL.build_vocab(valid_data)"
   ],
   "metadata": {
    "collapsed": false,
    "pycharm": {
     "name": "#%%\n"
    }
   }
  },
  {
   "cell_type": "markdown",
   "source": [
    "#### Quick View"
   ],
   "metadata": {
    "collapsed": false
   }
  },
  {
   "cell_type": "code",
   "execution_count": 23,
   "outputs": [
    {
     "name": "stdout",
     "output_type": "stream",
     "text": [
      "Size of HEADLINE vocabulary: 9127\n"
     ]
    }
   ],
   "source": [
    "# Headline Vocabs\n",
    "print(\"Size of HEADLINE vocabulary:\", len(HEADLINE.vocab))"
   ],
   "metadata": {
    "collapsed": false,
    "pycharm": {
     "name": "#%%\n"
    }
   }
  },
  {
   "cell_type": "code",
   "execution_count": 24,
   "outputs": [
    {
     "name": "stdout",
     "output_type": "stream",
     "text": [
      "Size of LABEL vocabulary: 3\n"
     ]
    }
   ],
   "source": [
    "# Label Vocabs\n",
    "print(\"Size of LABEL vocabulary:\", len(LABEL.vocab))"
   ],
   "metadata": {
    "collapsed": false,
    "pycharm": {
     "name": "#%%\n"
    }
   }
  },
  {
   "cell_type": "code",
   "execution_count": 25,
   "outputs": [
    {
     "name": "stdout",
     "output_type": "stream",
     "text": [
      "Frequent words: [('A', 696), ('say', 655), ('new', 622), ('first', 568), ('us', 547), ('world', 523), ('compani', 501), ('china', 500), ('bank', 442), ('news', 433)]\n"
     ]
    }
   ],
   "source": [
    "# Frequent words\n",
    "print(\"Frequent words:\", HEADLINE.vocab.freqs.most_common(10))"
   ],
   "metadata": {
    "collapsed": false,
    "pycharm": {
     "name": "#%%\n"
    }
   }
  },
  {
   "cell_type": "code",
   "execution_count": 26,
   "outputs": [
    {
     "name": "stdout",
     "output_type": "stream",
     "text": [
      "Vocabs: defaultdict(<bound method Vocab._default_unk_index of <torchtext.vocab.Vocab object at 0x00000203E6C7AD60>>, {'<unk>': 0, '<pad>': 1, 'A': 2, 'say': 3, 'new': 4, 'first': 5, 'us': 6, 'world': 7, 'compani': 8, 'china': 9, 'bank': 10, 'news': 11, 'trump': 12, 'amp': 13, 'market': 14, 'million': 15, 'corpor': 16, 'govern': 17, 'year': 18, 'countri': 19, 'use': 20, 'power': 21, 'group': 22, 'make': 23, 'AAN': 24, 'system': 25, 'appl': 26, 'said': 27, 'global': 28, 'chines': 29, 'report': 30, 'time': 31, 'billion': 32, 'energi': 33, 'state': 34, 'one': 35, 'call': 36, 'inc': 37, 'ban': 38, 'peopl': 39, 'intern': 40, 'american': 41, 'game': 42, 'india': 43, 'oil': 44, 'uk': 45, 'korea': 46, 'australian': 47, 'googl': 48, 'popular': 49, 'discoveri': 50, 'plan': 51, 'facebook': 52, 'could': 53, 'nation': 54, 'servic': 55, 'nt': 56, 'secur': 57, 'court': 58, 'two': 59, 'vaccin': 60, 'presid': 61, 'CSF': 62, 'deal': 63, 'get': 64, 'russian': 65, 'unit': 66, 'home': 67, 'BPOP': 68, 'polic': 69, 'alphabet': 70, 'farmer': 71, 'kill': 72, 'show': 73, 'day': 74, 'announc': 75, 'microsoft': 76, 'financi': 77, 'AAPL': 78, 'AEE': 79, 'chang': 80, 'GOOG': 81, 'may': 82, 'russia': 83, 'technolog': 84, 'help': 85, 'm': 86, 'includ': 87, 'live': 88, 'offici': 89, 'take': 90, 'citizen': 91, 'found': 92, 'view': 93, 'would': 94, 'attack': 95, 'climat': 96, 'canada': 97, 'former': 98, 'launch': 99, 'move': 100, 'ericsson': 101, 'want': 102, 'buy': 103, 'top': 104, 'industri': 105, 'protest': 106, 'stock': 107, 'de': 108, 'like': 109, 'claim': 110, 'face': 111, 'warn': 112, 'north': 113, 'AAC=': 114, 'onlin': 115, 'right': 116, 'travel': 117, 'noodl': 118, 'product': 119, 'giant': 120, 'CENX': 121, 'back': 122, 'broadcast': 123, 'fire': 124, 'human': 125, 'pay': 126, 'smith': 127, 'ERIC': 128, 'solar': 129, 'forc': 130, 'AA': 131, 'research': 132, 'AAAU': 133, 'charl': 134, 'firm': 135, 'review': 136, 'rule': 137, 'south': 138, 'CFB': 139, 'CZNC': 140, 'BV': 141, 'hous': 142, 'accus': 143, 'citi': 144, 'dave': 145, 'war': 146, 'googul': 147, 'internet': 148, 'share': 149, 'german': 150, '-': 151, 'AAIC': 152, 'C': 153, 'australia': 154, 'data': 155, 'order': 156, 'work': 157, 'worker': 158, '3': 159, 'biggest': 160, 'charg': 161, 'israel': 162, 'AXP': 163, 'CTHR': 164, 'develop': 165, 'end': 166, 'sell': 167, 'becom': 168, 'capit': 169, 'minist': 170, 'JJSF': 171, 'air': 172, 'canadian': 173, 'ceo': 174, 'media': 175, 'hit': 176, 'support': 177, 'tesla': 178, 'coronaviru': 179, 'record': 180, 'major': 181, 'busi': 182, 'reveal': 183, 'stop': 184, 'video': 185, 'abc': 186, 'case': 187, 'man': 188, 'sampp': 189, 'scientist': 190, 'site': 191, 'week': 192, 'amazon': 193, 'ss': 194, 'test': 195, 'last': 196, 'part': 197, 'point': 198, 'set': 199, '1': 200, 'go': 201, 'invest': 202, 'investig': 203, 'trade': 204, 'bill': 205, 'sinc': 206, 'feder': 207, 'made': 208, 'public': 209, 'find': 210, 'free': 211, 'gold': 212, 'cut': 213, 'health': 214, 'japan': 215, 'offer': 216, 'softwar': 217, 'fuel': 218, 'ga': 219, 'gener': 220, 'hold': 221, 'militari': 222, 'eu': 223, 'SNY': 224, 'network': 225, 'strike': 226, 'sign': 227, 'accord': 228, 'arrest': 229, 'donald': 230, 'law': 231, 'beyond': 232, 'drug': 233, 'ibm': 234, 'institut': 235, 'sale': 236, 'block': 237, 'open': 238, 'rate': 239, 'user': 240, 'visa': 241, 'commun': 242, 'fund': 243, 'indian': 244, 'iran': 245, 'largest': 246, 'social': 247, 'three': 248, 'build': 249, 'leader': 250, 'legal': 251, 'provid': 252, 'soni': 253, 'germani': 254, 'healthcar': 255, 'phone': 256, 'tax': 257, 'author': 258, 'covid19': 259, 'death': 260, 'intel': 261, 'nuclear': 262, 'netflix': 263, 'price': 264, 'releas': 265, 'sanofi': 266, 'water': 267, '5': 268, 'chief': 269, '10': 270, '2': 271, 'british': 272, 'chevron': 273, 'foreign': 274, 'hotel': 275, 'target': 276, 'analysi': 277, 'lead': 278, 'app': 279, 'die': 280, 'execut': 281, 'mcdonald': 282, 'renew': 283, 'walmart': 284, 'advertis': 285, 'boe': 286, 'demand': 287, 'european': 288, 'give': 289, 'offic': 290, 'tech': 291, '100': 292, 'custom': 293, 'grow': 294, 'johnson': 295, 'medic': 296, 'slam': 297, 'spi': 298, 'ask': 299, 'cisco': 300, 'fight': 301, 'fossil': 302, 'land': 303, 'month': 304, 'isra': 305, 'need': 306, 'premier': 307, 'rise': 308, 'car': 309, 'creat': 310, 'dow': 311, 'west': 312, 'c': 313, 'credit': 314, 'money': 315, 'access': 316, 'alleg': 317, 'close': 318, 'food': 319, 'increas': 320, 'oper': 321, 'seek': 322, 'turn': 323, 'airbnb': 324, 'campaign': 325, 'even': 326, 'factori': 327, 'franc': 328, 'pollut': 329, 'brand': 330, 'disney': 331, 'marriott': 332, 'tripadvisor': 333, 'agenc': 334, 'link': 335, 'meet': 336, 'nasdaq': 337, 'princ': 338, 'uber': 339, 'way': 340, 'allow': 341, 'cocacola': 342, 'judg': 343, 'key': 344, 'nike': 345, 'produc': 346, 'account': 347, 'electr': 348, 'europ': 349, 'famili': 350, 'french': 351, 'growth': 352, 'hack': 353, 'join': 354, 'plant': 355, 'crisi': 356, 'drop': 357, 'mcafe': 358, 'tri': 359, 'washington': 360, 'white': 361, 'extract': 362, 'four': 363, 'joint': 364, 'murder': 365, 'big': 366, 'ever': 367, 'forecast': 368, 'john': 369, 'la': 370, 'nazi': 371, 'person': 372, 'prime': 373, 'also': 374, 'kong': 375, 'lawsuit': 376, 'lyft': 377, 'next': 378, 'saudi': 379, 'ADME': 380, 'PFIN': 381, 'best': 382, 'express': 383, 'friday': 384, 'hong': 385, 'issu': 386, 'moderna': 387, 'trend': 388, 'LYFT': 389, 'around': 390, 'come': 391, 'control': 392, 'expect': 393, 'hacker': 394, 'post': 395, 'put': 396, 'secret': 397, 'trial': 398, 'AIQ': 399, 'across': 400, 'action': 401, 'admit': 402, 'goldman': 403, 'mobil': 404, 'pepsico': 405, 'propos': 406, 'second': 407, 'CAT': 408, 'CVX': 409, 'FB': 410, 'GPRO': 411, 'LTRPA': 412, 'MCFE': 413, 'SLAMU': 414, 'WWD': 415, 'book': 416, 'clean': 417, 'gan': 418, 'gopro': 419, 'number': 420, 'threaten': 421, 'un': 422, 'woodward': 423, '2020': 424, 'FISI': 425, 'SWBI': 426, 'airlin': 427, 'appear': 428, 'bori': 429, 'brexit': 430, 'caterpillar': 431, 'fail': 432, 'high': 433, 'player': 434, 'ptc': 435, 'run': 436, 'sach': 437, 'start': 438, 'sue': 439, 'xp': 440, 'ABNB': 441, 'AE': 442, 'DIS': 443, 'JNJ': 444, 'MCD': 445, 'PEP': 446, 'inform': 447, 'list': 448, 'opera': 449, 'polit': 450, 'refus': 451, 'royal': 452, 'street': 453, 'today': 454, 'totestravel': 455, 'univers': 456, 'ABCB': 457, 'DBX': 458, 'MRNA': 459, 'NKE': 460, 'coal': 461, 'ebay': 462, 'interfac': 463, 'latest': 464, 'manag': 465, 'name': 466, 'studi': 467, 'tell': 468, 'turkey': 469, 'window': 470, 'FCAP': 471, 'MSFT': 472, 'attempt': 473, 'current': 474, 'digit': 475, 'dollar': 476, 'dropbox': 477, 'good': 478, 'member': 479, 'palestinian': 480, 'ASET': 481, 'CARZ': 482, 'EBAY': 483, 'POWW': 484, 'fear': 485, 'follow': 486, 'job': 487, 'websit': 488, '4': 489, 'BA': 490, 'CCEP': 491, 'NFLX': 492, 'QK': 493, 'TILE': 494, 'TRV': 495, 'ammo': 496, 'elect': 497, 'file': 498, 'five': 499, 'protect': 500, 'qampa': 501, 'roku': 502, 'root': 503, '500': 504, 'IBM': 505, 'OPRA': 506, 'PLAY': 507, 'TSLA': 508, 'aid': 509, 'america': 510, 'bodi': 511, 'caus': 512, 'critic': 513, 'earn': 514, 'team': 515, 'woman': 516, '50': 517, 'FSLR': 518, 'SSNC': 519, 'TV': 520, 'WMT': 521, 'employe': 522, 'independ': 523, 'intrus': 524, 'nestl': 525, 'parti': 526, 'project': 527, 'store': 528, 'thousand': 529, 'AGX': 530, 'ARRWU': 531, 'FMN': 532, 'HEES': 533, 'IYE': 534, 'california': 535, 'korean': 536, 'near': 537, 'nearli': 538, 'remov': 539, 'respons': 540, 'result': 541, 'salesforc': 542, 'worth': 543, 'CRM': 544, 'abus': 545, 'black': 546, 'guard': 547, 'look': 548, 'profit': 549, 'step': 550, 'student': 551, 'tv': 552, 'vote': 553, 'wednesday': 554, 'wind': 555, 'INTZ': 556, 'PTC': 557, 'ad': 558, 'continu': 559, 'due': 560, 'educ': 561, 'garmin': 562, 'iphon': 563, 'least': 564, 'meat': 565, 'push': 566, 'sourc': 567, '8': 568, 'MMM': 569, 'britain': 570, 'cost': 571, 'honeywel': 572, 'march': 573, 'merck': 574, 'size': 575, 'solut': 576, 'still': 577, 'without': 578, 'among': 579, 'depot': 580, 'discov': 581, 'driver': 582, 'limit': 583, 'model': 584, 'plastic': 585, 'rais': 586, 'risk': 587, 'twitter': 588, 'usa': 589, '20': 590, 'WAFD': 591, 'almost': 592, 'approv': 593, 'brazil': 594, 'host': 595, 'jet': 596, 'monday': 597, 'polici': 598, '111': 599, 'children': 600, 'deni': 601, 'flex': 602, 'per': 603, 'potenti': 604, 'program': 605, 'sea': 606, 'su': 607, 'syria': 608, 'AAL': 609, 'GRMN': 610, 'bomb': 611, 'comput': 612, 'dead': 613, 'fine': 614, 'head': 615, 'save': 616, 'see': 617, 'ship': 618, 'told': 619, 'train': 620, 'win': 621, '2015': 622, 'despit': 623, 'effect': 624, 'pm': 625, 'possibl': 626, 'talk': 627, 'tuesday': 628, 'women': 629, '3d': 630, 'africa': 631, 'arm': 632, 'auto': 633, 'awar': 634, 'bbc': 635, 'damag': 636, 'final': 637, 'irish': 638, 'leav': 639, 'mani': 640, 'suppli': 641, 'urg': 642, 'AAON': 643, 'cancel': 644, 'g': 645, 'goe': 646, 'illeg': 647, 'keep': 648, 'pull': 649, 'receiv': 650, '30': 651, 'CSCO': 652, 'amid': 653, 'challeng': 654, 'economi': 655, 'founder': 656, 'groupon': 657, 'import': 658, 'ireland': 659, 'london': 660, 'mark': 661, 'HWKN': 662, 'MRK': 663, 'ROKU': 664, 'consid': 665, 'hawkin': 666, 'lose': 667, 'massiv': 668, 'recoveri': 669, 'requir': 670, 'school': 671, 'MAR': 672, 'agre': 673, 'base': 674, 'confirm': 675, 'crime': 676, 'daili': 677, 'document': 678, 'expos': 679, 'fiserv': 680, 'maggi': 681, 'natur': 682, 'reach': 683, 'spread': 684, 'star': 685, 'suspend': 686, 'threat': 687, 'victim': 688, 'CALB': 689, 'HD': 690, 'activ': 691, 'complet': 692, 'do': 693, 'insight': 694, 'intellig': 695, 'know': 696, 'partner': 697, 'percent': 698, 'sn': 699, 'tie': 700, 'AWRE': 701, 'age': 702, 'autodesk': 703, 'believ': 704, 'child': 705, 'clear': 706, 'email': 707, 'emerg': 708, 'fighter': 709, 'investor': 710, 'must': 711, 'small': 712, 'spend': 713, 'suprem': 714, 'urban': 715, 'watch': 716, '2016': 717, '2018': 718, 'GRPN': 719, 'cannabi': 720, 'central': 721, 'flight': 722, 'focu': 723, 'hand': 724, 'huge': 725, 'islam': 726, 'leak': 727, 'old': 728, 'organ': 729, 'photo': 730, 'FISV': 731, 'HON': 732, 'administr': 733, 'agreement': 734, 'anim': 735, 'break': 736, 'code': 737, 'crash': 738, 'el': 739, 'electron': 740, 'en': 741, 'histori': 742, 'hospit': 743, 'involv': 744, 'pass': 745, 'press': 746, 'privat': 747, 'que': 748, 'sever': 749, 'shut': 750, 'violat': 751, '2019': 752, 'ab': 753, 'ahead': 754, 'away': 755, 'blame': 756, 'boost': 757, 'econom': 758, 'fake': 759, 'island': 760, 'letter': 761, 'level': 762, 'life': 763, 'max': 764, 'nsa': 765, 'reject': 766, 'shot': 767, 'sold': 768, 'soldier': 769, 'space': 770, 'thursday': 771, 'well': 772, 'earli': 773, 'effort': 774, 'fraud': 775, 'hour': 776, 'hundr': 777, 'interest': 778, 'manufactur': 779, 'mass': 780, 'other': 781, 'quarter': 782, 'surg': 783, 'trust': 784, 'within': 785, 'affect': 786, 'beat': 787, 'begin': 788, 'chip': 789, 'depart': 790, 'expert': 791, 'line': 792, 'local': 793, 'send': 794, 'shop': 795, 'snowden': 796, 'travelnewsinsight': 797, '15': 798, 'bangladesh': 799, 'bath': 800, 'behind': 801, 'hope': 802, 'huawei': 803, 'idata': 804, 'mine': 805, 'obama': 806, 'pakistan': 807, 'parent': 808, 'pari': 809, 'patent': 810, 'prison': 811, 'putin': 812, 'shoot': 813, 'surveil': 814, 'temperatur': 815, 'toward': 816, 'union': 817, 'upcom': 818, 'act': 819, 'ago': 820, 'aim': 821, 'bring': 822, 'concern': 823, 'coupon': 824, 'cowen': 825, 'crack': 826, 'crimin': 827, 'debt': 828, 'half': 829, 'hampm': 830, 'insid': 831, 'jail': 832, 'kmh': 833, 'lawyer': 834, 'maker': 835, 'owner': 836, 'syrian': 837, 'terror': 838, 'walgreen': 839, 'york': 840, '2017': 841, '6': 842, 'XOG': 843, 'anoth': 844, 'associ': 845, 'bid': 846, 'detail': 847, 'exchang': 848, 'fall': 849, 'futur': 850, 'miss': 851, 'missil': 852, 'neg': 853, 'posit': 854, 'question': 855, 'return': 856, 'sexual': 857, 'visit': 858, '7': 859, '737': 860, 'AEM': 861, 'COWN': 862, 'WBA': 863, 'board': 864, 'card': 865, 'commit': 866, 'cover': 867, 'decis': 868, 'defens': 869, 'doctor': 870, 'gay': 871, 'halt': 872, 'known': 873, 'outsid': 874, 'payment': 875, 'plane': 876, 'real': 877, 'recent': 878, 'reserv': 879, 'rival': 880, 'speak': 881, 'speed': 882, 'staff': 883, 'aircraft': 884, 'avail': 885, 'bed': 886, 'devic': 887, 'ecuador': 888, 'engin': 889, 'etsi': 890, 'financ': 891, 'govt': 892, 'japanes': 893, 'journalist': 894, 'lobbi': 895, 'lost': 896, 'morgan': 897, 'music': 898, 'play': 899, 'poll': 900, 'speci': 901, 'statement': 902, 'third': 903, 'wall': 904, '17': 905, 'ETSY': 906, 'award': 907, 'cancer': 908, 'comment': 909, 'confer': 910, 'design': 911, 'destroy': 912, 'donat': 913, 'edward': 914, 'everi': 915, 'kim': 916, 'messag': 917, 'musk': 918, 'nokia': 919, 'olymp': 920, 'paid': 921, 'pharmaceut': 922, 'properti': 923, 'regul': 924, 'replac': 925, 'saturday': 926, 'scandal': 927, 'secretari': 928, 'seen': 929, 'updat': 930, 'web': 931, 'worldwid': 932, 'BBBY': 933, 'CUEN': 934, 'activist': 935, 'battl': 936, 'brian': 937, 'camera': 938, 'chase': 939, 'collect': 940, 'cuenta': 941, 'entir': 942, 'far': 943, 'foundat': 944, 'men': 945, 'mexico': 946, 'monsanto': 947, 'prepar': 948, 'print': 949, 'promot': 950, 'read': 951, 'resign': 952, 'six': 953, 'took': 954, 'weapon': 955, 'worst': 956, 'arabia': 957, 'area': 958, 'burn': 959, 'ca': 960, 'care': 961, 'content': 962, 'disput': 963, 'download': 964, 'form': 965, 'great': 966, 'highest': 967, 'mp': 968, 'navi': 969, 'netgear': 970, 'nic': 971, 'panel': 972, 'paper': 973, 'park': 974, 'publish': 975, 'sanction': 976, 'suggest': 977, 'sunday': 978, 'terrorist': 979, 'tourist': 980, 'wifi': 981, 'workday': 982, '2025': 983, 'BCEI': 984, 'BYND': 985, 'acquir': 986, 'bob': 987, 'connect': 988, 'deadli': 989, 'decad': 990, 'green': 991, 'ipo': 992, 'kid': 993, 'let': 994, 'low': 995, 'ltd': 996, 'never': 997, 'pipelin': 998, 'pressur': 999, 'process': 1000, 'region': 1001, 'remain': 1002, 'samsung': 1003, 'sex': 1004, 'smart': 1005, 'think': 1006, 'western': 1007, '18': 1008, 'JD': 1009, 'NTGR': 1010, 'WDAY': 1011, 'african': 1012, 'alreadi': 1013, 'appeal': 1014, 'bumbl': 1015, 'cloud': 1016, 'cree': 1017, 'defend': 1018, 'environment': 1019, 'forum': 1020, 'iranian': 1021, 'night': 1022, 'norway': 1023, 'parliament': 1024, 'popul': 1025, 'practic': 1026, 'puerto': 1027, 'total': 1028, 'track': 1029, 'tree': 1030, 'ukrain': 1031, 'warm': 1032, '200': 1033, 'AIRT': 1034, 'FLNT': 1035, 'banker': 1036, 'breach': 1037, 'built': 1038, 'carri': 1039, 'channel': 1040, 'church': 1041, 'consum': 1042, 'covid': 1043, 'deliv': 1044, 'drive': 1045, 'eat': 1046, 'elon': 1047, 'fluent': 1048, 'georg': 1049, 'impos': 1050, 'instal': 1051, 'itali': 1052, 'larg': 1053, 'left': 1054, 'less': 1055, 'momo': 1056, 'much': 1057, 'nobel': 1058, 'place': 1059, 'resourc': 1060, 'scienc': 1061, 'senior': 1062, 'suspect': 1063, 'tweet': 1064, 'unveil': 1065, 'villag': 1066, 'withdraw': 1067, 'MOMO': 1068, 'apolog': 1069, 'center': 1070, 'commerci': 1071, 'contract': 1072, 'fix': 1073, 'indigen': 1074, 'insur': 1075, 'jp': 1076, 'lay': 1077, 'led': 1078, 'light': 1079, 'pick': 1080, 'platform': 1081, 'reportedli': 1082, 'restaur': 1083, 'rico': 1084, 'safeti': 1085, 'supplier': 1086, 'thing': 1087, 'treatment': 1088, 'whose': 1089, '1000': 1090, '2014': 1091, 'ADSK': 1092, 'add': 1093, 'addict': 1094, 'camp': 1095, 'coast': 1096, 'direct': 1097, 'evid': 1098, 'export': 1099, 'full': 1100, 'gun': 1101, 'interview': 1102, 'isi': 1103, 'licens': 1104, 'longer': 1105, 'mexican': 1106, 'mount': 1107, 'peac': 1108, 'philippin': 1109, 'prevent': 1110, 'purchas': 1111, 'repres': 1112, 'role': 1113, 'senat': 1114, 'sentenc': 1115, 'sono': 1116, 'suffer': 1117, 'summer': 1118, 'unpreced': 1119, 'virtual': 1120, '40': 1121, '60': 1122, 'arab': 1123, 'babi': 1124, 'bee': 1125, 'blue': 1126, 'broadcom': 1127, 'commiss': 1128, 'condit': 1129, 'council': 1130, 'danger': 1131, 'declar': 1132, 'eastern': 1133, 'england': 1134, 'et': 1135, 'exist': 1136, 'experi': 1137, 'loan': 1138, 'nasa': 1139, 'partnership': 1140, 'perform': 1141, 'road': 1142, 'signific': 1143, 'stream': 1144, 'suicid': 1145, 'taiwan': 1146, 'valu': 1147, 'w': 1148, '13': 1149, 'GAIA': 1150, 'OZK': 1151, 'abl': 1152, 'alibaba': 1153, 'alli': 1154, 'border': 1155, 'cagr': 1156, 'co': 1157, 'core': 1158, 'corrupt': 1159, 'date': 1160, 'decemb': 1161, 'decid': 1162, 'ebola': 1163, 'enter': 1164, 'euro': 1165, 'fox': 1166, 'ground': 1167, 'loss': 1168, 'lower': 1169, 'monitor': 1170, 'murdoch': 1171, 'muslim': 1172, 'northern': 1173, 'patient': 1174, 'period': 1175, 'pfizer': 1176, 'plu': 1177, 'potato': 1178, 'readi': 1179, 'room': 1180, 'spain': 1181, 'sport': 1182, 'startup': 1183, 'wikileak': 1184, '14': 1185, 'BMBL': 1186, 'NSEC': 1187, 'adob': 1188, 'chemic': 1189, 'civil': 1190, 'cnn': 1191, 'cyber': 1192, 'draftk': 1193, 'drone': 1194, 'enough': 1195, 'explor': 1196, 'femal': 1197, 'freedom': 1198, 'incom': 1199, 'intuit': 1200, 'languag': 1201, 'lo': 1202, 'locat': 1203, 'love': 1204, 'match': 1205, 'mattel': 1206, 'middl': 1207, 'retail': 1208, 'search': 1209, 'seiz': 1210, 'sent': 1211, 'signatur': 1212, 'speech': 1213, 'traffic': 1214, 'trillion': 1215, 'truck': 1216, 'wage': 1217, 'wo': 1218, 'youtub': 1219, '80': 1220, 'CHNG': 1221, 'DKNG': 1222, 'SONO': 1223, 'UONE': 1224, 'airport': 1225, 'antitrust': 1226, 'applic': 1227, 'batteri': 1228, 'becam': 1229, 'billionair': 1230, 'bottl': 1231, 'brazilian': 1232, 'command': 1233, 'compens': 1234, 'croc': 1235, 'david': 1236, 'director': 1237, 'does': 1238, 'dog': 1239, 'dose': 1240, 'downgrad': 1241, 'drink': 1242, 'earth': 1243, 'extra': 1244, 'featur': 1245, 'gaia': 1246, 'girl': 1247, 'held': 1248, 'histor': 1249, 'i': 1250, 'impact': 1251, 'influenc': 1252, 'ministri': 1253, 'mortgag': 1254, 'past': 1255, 'premarket': 1256, 'privaci': 1257, 'rare': 1258, 'robot': 1259, 'san': 1260, 'seri': 1261, 'shell': 1262, 'special': 1263, 'stake': 1264, 'station': 1265, 'sweden': 1266, 'version': 1267, '11': 1268, '16': 1269, 'IBCP': 1270, 'accept': 1271, 'advanc': 1272, 'afghanistan': 1273, 'ag': 1274, 'archaeologist': 1275, 'arctic': 1276, 'armi': 1277, 'benefit': 1278, 'better': 1279, 'cash': 1280, 'cell': 1281, 'deliveri': 1282, 'egypt': 1283, 'fast': 1284, 'fish': 1285, 'guilti': 1286, 'iraqi': 1287, 'littl': 1288, 'long': 1289, 'main': 1290, 'mask': 1291, 'materi': 1292, 'problem': 1293, 'rape': 1294, 'reddit': 1295, 'se': 1296, 'select': 1297, 'stolen': 1298, 'tariff': 1299, 'venu': 1300, 'viru': 1301, 'wireless': 1302, 'zuckerberg': 1303, '12': 1304, '20192025': 1305, 'CLNE': 1306, 'CROX': 1307, 'EFOI': 1308, 'ancient': 1309, 'antiviru': 1310, 'asia': 1311, 'bear': 1312, 'box': 1313, 'chairman': 1314, 'class': 1315, 'conserv': 1316, 'delay': 1317, 'detect': 1318, 'earlier': 1319, 'emiss': 1320, 'expans': 1321, 'extinct': 1322, 'fan': 1323, 'fee': 1324, 'gaza': 1325, 'given': 1326, 'hot': 1327, 'justic': 1328, 'late': 1329, 'le': 1330, 'lie': 1331, 'mayor': 1332, 'net': 1333, 'nigeria': 1334, 'ocean': 1335, 'pictur': 1336, 'prize': 1337, 'promis': 1338, 'reduc': 1339, 'relat': 1340, 'shift': 1341, 'stand': 1342, 'statu': 1343, 'stori': 1344, 'tool': 1345, 'zealand': 1346, '1st': 1347, '25': 1348, 'AVGO': 1349, 'CCF': 1350, 'PG': 1351, 'abandon': 1352, 'assault': 1353, 'avoid': 1354, 'bad': 1355, 'beij': 1356, 'boss': 1357, 'captur': 1358, 'check': 1359, 'cloth': 1360, 'complaint': 1361, 'discuss': 1362, 'dismiss': 1363, 'egg': 1364, 'environ': 1365, 'estim': 1366, 'explos': 1367, 'farm': 1368, 'gambl': 1369, 'got': 1370, 'hasbro': 1371, 'hbomb': 1372, 'immun': 1373, 'initi': 1374, 'introduc': 1375, 'kind': 1376, 'machin': 1377, 'map': 1378, 'pension': 1379, 'pilot': 1380, 'planet': 1381, 'pledg': 1382, 'poor': 1383, 'procter': 1384, 'qualiti': 1385, 'ralli': 1386, 'refuge': 1387, 'rescu': 1388, 'resort': 1389, 'restrict': 1390, 'steal': 1391, 'theyr': 1392, 'tortur': 1393, 'town': 1394, 'treat': 1395, 'troubl': 1396, 'turkish': 1397, 'vow': 1398, 'young': 1399, 'COHR': 1400, 'ERII': 1401, 'HAS': 1402, 'ambassador': 1403, 'annual': 1404, 'answer': 1405, 'blow': 1406, 'chain': 1407, 'crackdown': 1408, 'cultur': 1409, 'equip': 1410, 'exclus': 1411, 'expand': 1412, 'flag': 1413, 'gift': 1414, 'hire': 1415, 'indonesia': 1416, 'iraq': 1417, 'italian': 1418, 'labor': 1419, 'lawmak': 1420, 'lee': 1421, 'liber': 1422, 'michael': 1423, 'mind': 1424, 'modern': 1425, 'origin': 1426, 'politician': 1427, 'prosecutor': 1428, 'qualcomm': 1429, 'radio': 1430, 'raid': 1431, 'revenu': 1432, 'strip': 1433, 'swedish': 1434, 'switch': 1435, 'tap': 1436, '19': 1437, '2013': 1438, '2021': 1439, '300': 1440, 'address': 1441, 'amount': 1442, 'appar': 1443, 'asset': 1444, 'biotech': 1445, 'c51': 1446, 'carbon': 1447, 'cent': 1448, 'coher': 1449, 'contact': 1450, 'currenc': 1451, 'discount': 1452, 'diseas': 1453, 'dozen': 1454, 'east': 1455, 'escal': 1456, 'exploit': 1457, 'extrem': 1458, 'favor': 1459, 'figur': 1460, 'fli': 1461, 'fresh': 1462, 'guardian': 1463, 'happen': 1464, 'idea': 1465, 'infring': 1466, 'jampk': 1467, 'jew': 1468, 'marriag': 1469, 'medicin': 1470, 'milwauke': 1471, 'moscow': 1472, 'muscl': 1473, 'newspap': 1474, 'offshor': 1475, 'paypal': 1476, 'plug': 1477, 'probe': 1478, 'roll': 1479, 'sector': 1480, 'settlement': 1481, 'sharehold': 1482, 'soon': 1483, 'spot': 1484, 'standard': 1485, 'strong': 1486, 'tilray': 1487, 'toxic': 1488, 'vehicl': 1489, 'wealth': 1490, 'whether': 1491, 'whistleblow': 1492, 'write': 1493, 'zynga': 1494, '2012': 1495, '9': 1496, 'FOSL': 1497, 'MAT': 1498, 'RGLD': 1499, 'accessori': 1500, 'auschwitz': 1501, 'burger': 1502, 'capac': 1503, 'centuri': 1504, 'cite': 1505, 'condemn': 1506, 'conduct': 1507, 'contractor': 1508, 'corp': 1509, 'cross': 1510, 'cup': 1511, 'disord': 1512, 'dna': 1513, 'ecommerc': 1514, 'film': 1515, 'forest': 1516, 'gear': 1517, 'heart': 1518, 'knew': 1519, 'might': 1520, 'ms': 1521, 'nationwid': 1522, 'p': 1523, 'passeng': 1524, 'phase': 1525, 'pro': 1526, 'religi': 1527, 'resid': 1528, 'respond': 1529, 'scheme': 1530, 'serv': 1531, 'southern': 1532, 'storm': 1533, 'surpass': 1534, 'tabl': 1535, 'therapeut': 1536, 'thought': 1537, 'went': 1538, 'worri': 1539, 'ADBE': 1540, 'ISRG': 1541, 'MYSZ': 1542, 'XAIR': 1543, 'ZNGA': 1544, 'altern': 1545, 'anonym': 1546, 'apart': 1547, 'approach': 1548, 'april': 1549, 'art': 1550, 'bancorp': 1551, 'bar': 1552, 'bell': 1553, 'boy': 1554, 'came': 1555, 'celebr': 1556, 'civilian': 1557, 'collaps': 1558, 'construct': 1559, 'contain': 1560, 'controversi': 1561, 'cook': 1562, 'display': 1563, 'grant': 1564, 'iceland': 1565, 'june': 1566, 'junk': 1567, 'legend': 1568, 'liu': 1569, 'mean': 1570, 'milit': 1571, 'movement': 1572, 'option': 1573, 'pacif': 1574, 'pandem': 1575, 'pirat': 1576, 'pope': 1577, 'pound': 1578, 'punish': 1579, 'q': 1580, 'rebel': 1581, 'remot': 1582, 'request': 1583, 'restor': 1584, 'safe': 1585, 'satellit': 1586, 'singl': 1587, 'smartphon': 1588, 'spanish': 1589, 'spark': 1590, 'stealth': 1591, 'summit': 1592, 'ten': 1593, 'unearth': 1594, 'vast': 1595, 'vs': 1596, 'weekend': 1597, '90': 1598, 'MIND': 1599, 'acquisit': 1600, 'alert': 1601, 'along': 1602, 'analyst': 1603, 'analyt': 1604, 'arcam': 1605, 'basic': 1606, 'beliz': 1607, 'bitcoin': 1608, 'brown': 1609, 'candid': 1610, 'caught': 1611, 'censor': 1612, 'christian': 1613, 'combat': 1614, 'cyril': 1615, 'denmark': 1616, 'english': 1617, 'exon': 1618, 'fbi': 1619, 'goal': 1620, 'gp': 1621, 'greec': 1622, 'grid': 1623, 'guest': 1624, 'h1b': 1625, 'hail': 1626, 'hard': 1627, 'higher': 1628, 'highli': 1629, 'immigr': 1630, 'jordan': 1631, 'jump': 1632, 'king': 1633, 'lack': 1634, 'measur': 1635, 'nh': 1636, 'okta': 1637, 'oppos': 1638, 'pentagon': 1639, 'physic': 1640, 'propaganda': 1641, 'realli': 1642, 'red': 1643, 'river': 1644, 'router': 1645, 'scotland': 1646, 'shoe': 1647, 'singapor': 1648, 'sky': 1649, 'stay': 1650, 'tackl': 1651, 'taken': 1652, 'thank': 1653, 'theori': 1654, 'transfer': 1655, 'venezuela': 1656, 'wake': 1657, 'wast': 1658, 'what': 1659, 'wit': 1660, 'word': 1661, 'xperia': 1662, 'yr': 1663, 'MTCH': 1664, 'al': 1665, 'alarm': 1666, 'allegedli': 1667, 'arriv': 1668, 'articl': 1669, 'attend': 1670, 'b': 1671, 'beef': 1672, 'brought': 1673, 'centr': 1674, 'cnet': 1675, 'committe': 1676, 'compar': 1677, 'competit': 1678, 'coupl': 1679, 'darwin': 1680, 'describ': 1681, 'deutsch': 1682, 'divest': 1683, 'dsm': 1684, 'enforc': 1685, 'enhanc': 1686, 'event': 1687, 'everyth': 1688, 'fact': 1689, 'fantasi': 1690, 'gather': 1691, 'he': 1692, 'hear': 1693, 'here': 1694, 'highlight': 1695, 'hurrican': 1696, 'imag': 1697, 'j20': 1698, 'latin': 1699, 'legisl': 1700, 'libya': 1701, 'minor': 1702, 'mountain': 1703, 'n': 1704, 'netanyahu': 1705, 'novavax': 1706, 'opposit': 1707, 'plung': 1708, 'presidenti': 1709, 'quit': 1710, 'reason': 1711, 'recal': 1712, 'sap': 1713, 'scientif': 1714, 'scrap': 1715, 'server': 1716, 'shortag': 1717, 'silver': 1718, 'soar': 1719, 'spill': 1720, 'stage': 1721, 'stone': 1722, 'stratasi': 1723, 'surviv': 1724, 'tencent': 1725, 'term': 1726, 'trademark': 1727, 'via': 1728, '2008': 1729, '22': 1730, 'ESLT': 1731, 'PCOM': 1732, 'PLUG': 1733, 'USAK': 1734, 'agricultur': 1735, 'atampt': 1736, 'attract': 1737, 'carrier': 1738, 'chariti': 1739, 'crew': 1740, 'deep': 1741, 'defeat': 1742, 'did': 1743, 'disast': 1744, 'disclos': 1745, 'dump': 1746, 'elbit': 1747, 'etf': 1748, 'extend': 1749, 'factor': 1750, 'famou': 1751, 'feed': 1752, 'feel': 1753, 'footag': 1754, 'footbal': 1755, 'ford': 1756, 'hepat': 1757, 'hgan': 1758, 'holiday': 1759, 'holocaust': 1760, 'hub': 1761, 'infrastructur': 1762, 'kazakhstan': 1763, 'label': 1764, 'later': 1765, 'lift': 1766, 'magazin': 1767, 'marijuana': 1768, 'mckesson': 1769, 'motor': 1770, 'movi': 1771, 'obtain': 1772, 'occupi': 1773, 'password': 1774, 'permiss': 1775, 'pleas': 1776, 'plot': 1777, 'pump': 1778, 'queensland': 1779, 'rainforest': 1780, 'remark': 1781, 'roman': 1782, 'row': 1783, 'scare': 1784, 'score': 1785, 'sought': 1786, 'sound': 1787, 'spent': 1788, 'swiss': 1789, 'sydney': 1790, 'teenag': 1791, 'that': 1792, 'togeth': 1793, 'type': 1794, 'violent': 1795, 'x': 1796, 'yahoo': 1797, '70': 1798, 'OKTA': 1799, 'TLRY': 1800, 'adopt': 1801, 'ai': 1802, 'appoint': 1803, 'berlin': 1804, 'blast': 1805, 'brief': 1806, 'cambridg': 1807, 'club': 1808, 'congress': 1809, 'consult': 1810, 'contamin': 1811, 'convict': 1812, 'cop': 1813, 'democrat': 1814, 'encourag': 1815, 'field': 1816, 'fit': 1817, 'flee': 1818, 'fortinet': 1819, 'fox31': 1820, 'fukushima': 1821, 'gave': 1822, 'grand': 1823, 'h': 1824, 'heat': 1825, 'heritag': 1826, 'hidden': 1827, 'hide': 1828, 'hill': 1829, 'iaquinta': 1830, 'ignor': 1831, 'improv': 1832, 'instant': 1833, 'is': 1834, 'j': 1835, 'jone': 1836, 'kingdom': 1837, 'labour': 1838, 'learn': 1839, 'malaysia': 1840, 'matter': 1841, 'mental': 1842, 'mph': 1843, 'nine': 1844, 'organis': 1845, 'ottawa': 1846, 'outbreak': 1847, 'page': 1848, 'pesticid': 1849, 'petit': 1850, 'pig': 1851, 'present': 1852, 'provinc': 1853, 'rental': 1854, 'ride': 1855, 'rupert': 1856, 'shock': 1857, 'slow': 1858, 'son': 1859, 'squar': 1860, 'st': 1861, 'steve': 1862, 'stick': 1863, 'substanc': 1864, 'success': 1865, 'sustain': 1866, 'tank': 1867, 'theme': 1868, 'tip': 1869, 'tr': 1870, 'trader': 1871, 'transport': 1872, 'truth': 1873, 'ufc': 1874, 'valuabl': 1875, 'veteran': 1876, 'violenc': 1877, 'vladimir': 1878, 'wi': 1879, 'william': 1880, 'wrong': 1881, '100000': 1882, '20212027': 1883, '21': 1884, '23': 1885, '29': 1886, 'FIVE': 1887, 'LE': 1888, 'NVAX': 1889, 'addit': 1890, 'afford': 1891, 'agent': 1892, 'assist': 1893, 'averag': 1894, 'barri': 1895, 'blood': 1896, 'cabl': 1897, 'cameron': 1898, 'choos': 1899, 'common': 1900, 'con': 1901, 'concentr': 1902, 'conflict': 1903, 'criticis': 1904, 'delhi': 1905, 'doubl': 1906, 'drugmak': 1907, 'dutch': 1908, 'easi': 1909, 'embassi': 1910, 'ethic': 1911, 'excess': 1912, 'faith': 1913, 'filter': 1914, 'frack': 1915, 'genet': 1916, 'harri': 1917, 'hero': 1918, 'individu': 1919, 'ipad': 1920, 'lake': 1921, 'marin': 1922, 'massacr': 1923, 'mormon': 1924, 'morn': 1925, 'nba': 1926, 'oversea': 1927, 'overtak': 1928, 'own': 1929, 'pharma': 1930, 'poverti': 1931, 'race': 1932, 'rang': 1933, 'referendum': 1934, 'riot': 1935, 'shipwreck': 1936, 'shown': 1937, 'side': 1938, 'stem': 1939, 'storag': 1940, 'surpris': 1941, 'televis': 1942, 'ticket': 1943, 'uae': 1944, 'voic': 1945, '400': 1946, 'HCCC': 1947, 'TMUS': 1948, 'TOPS': 1949, 'TRMB': 1950, 'aborigin': 1951, 'acceler': 1952, 'allianc': 1953, 'anyon': 1954, 'bag': 1955, 'bailout': 1956, 'bit': 1957, 'bone': 1958, 'boom': 1959, 'brain': 1960, 'bric': 1961, 'bu': 1962, 'capitol': 1963, 'cathol': 1964, 'certif': 1965, 'chanc': 1966, 'count': 1967, 'cours': 1968, 'del': 1969, 'deploy': 1970, 'deposit': 1971, 'devast': 1972, 'differ': 1973, 'diplomat': 1974, 'domest': 1975, 'duncan': 1976, 'employ': 1977, 'erdogan': 1978, 'establish': 1979, 'exec': 1980, 'eye': 1981, 'fifth': 1982, 'flat': 1983, 'gilead': 1984, 'god': 1985, 'happi': 1986, 'hate': 1987, 'identifi': 1988, 'implic': 1989, 'incid': 1990, 'indoor': 1991, 'insist': 1992, 'instead': 1993, 'integr': 1994, 'jame': 1995, 'jewish': 1996, 'kit': 1997, 'llc': 1998, 'migrant': 1999, 'mile': 2000, 'minut': 2001, 'nigerian': 2002, 'observ': 2003, 'occup': 2004, 'outlook': 2005, 'peter': 2006, 'photograph': 2007, 'poison': 2008, 'pool': 2009, 'pose': 2010, 'rank': 2011, 'rather': 2012, 'recommend': 2013, 'recruit': 2014, 'reform': 2015, 'regard': 2016, 'rock': 2017, 'septemb': 2018, 'signal': 2019, 'sopa': 2020, 'speaker': 2021, 'specif': 2022, 'starbuck': 2023, 'stun': 2024, 'subscript': 2025, 'survey': 2026, 'tehran': 2027, 'territori': 2028, 'texa': 2029, 'tmobil': 2030, 'tori': 2031, 'verisign': 2032, 'wave': 2033, 'whale': 2034, 'whole': 2035, 'wife': 2036, 'wordpress': 2037, 'yet': 2038, 'zone': 2039, '2000': 2040, '600': 2041, 'FFWM': 2042, 'JCS': 2043, 'RDI': 2044, 'UG': 2045, 'acknowledg': 2046, 'actual': 2047, 'antiterror': 2048, 'arn': 2049, 'assembl': 2050, 'audit': 2051, 'beauti': 2052, 'belt': 2053, 'bin': 2054, 'bought': 2055, 'brutal': 2056, 'cadiz': 2057, 'cbc': 2058, 'cigarett': 2059, 'clinton': 2060, 'collabor': 2061, 'cooper': 2062, 'cv': 2063, 'dc': 2064, 'default': 2065, 'defenc': 2066, 'delta': 2067, 'deport': 2068, 'destruct': 2069, 'discrimin': 2070, 'domin': 2071, 'door': 2072, 'doubt': 2073, 'ecuadorian': 2074, 'enjoy': 2075, 'entertain': 2076, 'entri': 2077, 'explain': 2078, 'f35': 2079, 'fill': 2080, 'flood': 2081, 'franchis': 2082, 'gap': 2083, 'gogo': 2084, 'governor': 2085, 'greek': 2086, 'greenhous': 2087, 'guid': 2088, 'hint': 2089, 'ice': 2090, 'index': 2091, 'injur': 2092, 'januari': 2093, 'jongun': 2094, 'joseph': 2095, 'journal': 2096, 'juli': 2097, 'kevin': 2098, 'listen': 2099, 'lord': 2100, 'malwar': 2101, 'margaret': 2102, 'mastercard': 2103, 'midday': 2104, 'monopoli': 2105, 'multipl': 2106, 'mysteri': 2107, 'northeast': 2108, 'offens': 2109, 'often': 2110, 'oldest': 2111, 'ontario': 2112, 'oracl': 2113, 'outfitt': 2114, 'pakistani': 2115, 'para': 2116, 'particip': 2117, 'philip': 2118, 'previous': 2119, 'probabl': 2120, 'prompt': 2121, 'prove': 2122, 'quebec': 2123, 'relationship': 2124, 'rest': 2125, 'riley': 2126, 'ring': 2127, 'seed': 2128, 'seriou': 2129, 'soap': 2130, 'spdr': 2131, 'subscrib': 2132, 'subsidiari': 2133, 'suit': 2134, 'teen': 2135, 'telecom': 2136, 'transform': 2137, 'trimbl': 2138, 'troop': 2139, 'true': 2140, 'usd': 2141, 'v': 2142, 'vatican': 2143, 'vietnam': 2144, 'vulner': 2145, 'wear': 2146, 'zebra': 2147, '20212026': 2148, '2026': 2149, '26': 2150, '5000': 2151, '55': 2152, '75': 2153, '95': 2154, 'CDZI': 2155, 'CHNR': 2156, 'GOGO': 2157, 'URBN': 2158, 'advoc': 2159, 'afghan': 2160, 'aggress': 2161, 'antisemit': 2162, 'apron': 2163, 'assess': 2164, 'audio': 2165, 'basebal': 2166, 'bmw': 2167, 'bnh': 2168, 'boat': 2169, 'boycott': 2170, 'bullet': 2171, 'bush': 2172, 'catastroph': 2173, 'clash': 2174, 'classifi': 2175, 'combin': 2176, 'confront': 2177, 'cool': 2178, 'cuba': 2179, 'debut': 2180, 'declin': 2181, 'delet': 2182, 'directli': 2183, 'disabl': 2184, 'distribut': 2185, 'draft': 2186, 'edit': 2187, 'endang': 2188, 'exit': 2189, 'extremist': 2190, 'father': 2191, 'feet': 2192, 'flaw': 2193, 'forward': 2194, 'friend': 2195, 'gain': 2196, 'garden': 2197, 'garment': 2198, 'glaxosmithklin': 2199, 'gsk': 2200, 'guatemala': 2201, 'handl': 2202, 'harm': 2203, 'heavi': 2204, 'horror': 2205, 'hostess': 2206, 'implement': 2207, 'indic': 2208, 'intercept': 2209, 'jack': 2210, 'ka_kameliatod': 2211, 'kidnap': 2212, 'lab': 2213, 'liberti': 2214, 'libyan': 2215, 'lot': 2216, 'lowest': 2217, 'mar': 2218, 'mdlive': 2219, 'mike': 2220, 'minimum': 2221, 'ob': 2222, 'opt': 2223, 'packag': 2224, 'plc': 2225, 'poland': 2226, 'polish': 2227, 'por': 2228, 'portfolio': 2229, 'programm': 2230, 'recognit': 2231, 'recycl': 2232, 'reopen': 2233, 'repair': 2234, 'rich': 2235, 'robert': 2236, 'samesex': 2237, 'scale': 2238, 'schedul': 2239, 'seven': 2240, 'shield': 2241, 'sina': 2242, 'slim': 2243, 'soc': 2244, 'sorenson': 2245, 'spring': 2246, 'strategi': 2247, 'subject': 2248, 'sugar': 2249, 'super': 2250, 'sure': 2251, 'takeov': 2252, 'telehealth': 2253, 'telem': 2254, 'tini': 2255, 'tokyo': 2256, 'toy': 2257, 'trace': 2258, 'tumbl': 2259, 'uncov': 2260, 'understand': 2261, 'valley': 2262, 'venezuelan': 2263, 'wale': 2264, 'walkman': 2265, '2011': 2266, '20202026': 2267, '2050': 2268, '24': 2269, '27': 2270, '32': 2271, 'BIIB': 2272, 'FRG': 2273, 'IBEX': 2274, 'aaa': 2275, 'abb': 2276, 'abil': 2277, 'accolad': 2278, 'adida': 2279, 'advis': 2280, 'android': 2281, 'artifici': 2282, 'assang': 2283, 'assassin': 2284, 'astrazeneca': 2285, 'atlant': 2286, 'attain': 2287, 'august': 2288, 'band': 2289, 'belong': 2290, 'biogen': 2291, 'blog': 2292, 'bp': 2293, 'cap': 2294, 'capabl': 2295, 'cast': 2296, 'certain': 2297, 'cia': 2298, 'closer': 2299, 'cnbc': 2300, 'coca': 2301, 'cola': 2302, 'colleg': 2303, 'colombia': 2304, 'compromis': 2305, 'counter': 2306, 'crowd': 2307, 'cruis': 2308, 'cyberattack': 2309, 'degre': 2310, 'disrupt': 2311, 'drake': 2312, 'drunk': 2313, 'echo': 2314, 'egyptian': 2315, 'engag': 2316, 'ensur': 2317, 'essenti': 2318, 'ethiopia': 2319, 'everyon': 2320, 'expens': 2321, 'extens': 2322, 'exxon': 2323, 'fifa': 2324, 'fitbit': 2325, 'floor': 2326, 'florida': 2327, 'franci': 2328, 'fsokx': 2329, 'galaxi': 2330, 'globe': 2331, 'gop': 2332, 'homeland': 2333, 'hunt': 2334, 'iain': 2335, 'innov': 2336, 'inquiri': 2337, 'interact': 2338, 'iron': 2339, 'item': 2340, 'jennif': 2341, 'jeremi': 2342, 'kany': 2343, 'lanka': 2344, 'laptop': 2345, 'luxuri': 2346, 'macron': 2347, 'medit': 2348, 'merkel': 2349, 'micron': 2350, 'misconduct': 2351, 'negoti': 2352, 'note': 2353, 'object': 2354, 'outlet': 2355, 'outsourc': 2356, 'palm': 2357, 'panama': 2358, 'pioneer': 2359, 'plexu': 2360, 'plummet': 2361, 'podcast': 2362, 'pregnant': 2363, 'preserv': 2364, 'profession': 2365, 'pusha': 2366, 'quot': 2367, 'radic': 2368, 'ralicap1': 2369, 'reflect': 2370, 'relief': 2371, 'rent': 2372, 'reuter': 2373, 'revok': 2374, 'revolt': 2375, 'richard': 2376, 'sack': 2377, 'season': 2378, 'seem': 2379, 'settl': 2380, 'slaveri': 2381, 'split': 2382, 'sri': 2383, 'stole': 2384, 'strateg': 2385, 'swap': 2386, 'taliban': 2387, 'tension': 2388, 'termin': 2389, 'there': 2390, 'throughout': 2391, 'ton': 2392, 'toronto': 2393, 'transit': 2394, 'upwork': 2395, 'usb': 2396, 'varieti': 2397, 'walk': 2398, 'warner': 2399, 'wildfir': 2400, 'xpost': 2401, 'yemen': 2402, 'your': 2403, '200000': 2404, '2027': 2405, '2030': 2406, '350': 2407, '41': 2408, '93': 2409, 'ACCD': 2410, 'ALLT': 2411, 'DLTR': 2412, 'LB': 2413, 'RSSS': 2414, 'SEER': 2415, 'UPWK': 2416, 'VRSN': 2417, 'abloy': 2418, 'achiev': 2419, 'actor': 2420, 'acuiti': 2421, 'adult': 2422, 'advantag': 2423, 'allot': 2424, 'amx': 2425, 'analytica': 2426, 'anger': 2427, 'argentina': 2428, 'asian': 2429, 'assa': 2430, 'auction': 2431, 'baghdad': 2432, 'ballist': 2433, 'bay': 2434, 'beach': 2435, 'beaten': 2436, 'bing': 2437, 'biomed': 2438, 'bn': 2439, 'bond': 2440, 'broken': 2441, 'bull': 2442, 'cafe': 2443, 'cave': 2444, 'ch': 2445, 'cha': 2446, 'charact': 2447, 'choic': 2448, 'clinic': 2449, 'complex': 2450, 'compon': 2451, 'contribut': 2452, 'convent': 2453, 'coup': 2454, 'crazi': 2455, 'crown': 2456, 'd': 2457, 'dark': 2458, 'detain': 2459, 'discontinu': 2460, 'dolphin': 2461, 'donor': 2462, 'dramat': 2463, 'drew': 2464, 'drill': 2465, 'dubai': 2466, 'e': 2467, 'elderli': 2468, 'elimin': 2469, 'elit': 2470, 'encrypt': 2471, 'failur': 2472, 'fals': 2473, 'fashion': 2474, 'februari': 2475, 'firewal': 2476, 'front': 2477, 'fulli': 2478, 'gang': 2479, 'gate': 2480, 'golf': 2481, 'greenpeac': 2482, 'haul': 2483, 'hedg': 2484, 'hello': 2485, 'hsbc': 2486, 'humanitarian': 2487, 'ibex': 2488, 'infant': 2489, 'info': 2490, 'instagram': 2491, 'julian': 2492, 'kept': 2493, 'laid': 2494, 'leagu': 2495, 'lend': 2496, 'liquid': 2497, 'lucr': 2498, 'makemytrip': 2499, 'memori': 2500, 'merger': 2501, 'met': 2502, 'metal': 2503, 'mint': 2504, 'moment': 2505, 'monkey': 2506, 'moon': 2507, 'mr': 2508, 'multin': 2509, 'mumbai': 2510, 'netherland': 2511, 'neutral': 2512, 'nodeal': 2513, 'noth': 2514, 'nuvas': 2515, 'octob': 2516, 'otherwis': 2517, 'pack': 2518, 'paradis': 2519, 'pharmaci': 2520, 'pic': 2521, 'pois': 2522, 'port': 2523, 'prais': 2524, 'profil': 2525, 'publicli': 2526, 'purpl': 2527, 'q2': 2528, 'queen': 2529, 'recogn': 2530, 'regist': 2531, 'repeat': 2532, 'resist': 2533, 'retir': 2534, 'revel': 2535, 'revers': 2536, 'revolut': 2537, 'richest': 2538, 'rocket': 2539, 'sa': 2540, 'shave': 2541, 'shelv': 2542, 'shirt': 2543, 'silenc': 2544, 'sing': 2545, 'sit': 2546, 'sixhour': 2547, 'snap': 2548, 'socal': 2549, 'soccer': 2550, 'spell': 2551, 'stitch': 2552, 'struck': 2553, 'swim': 2554, 'taxi': 2555, 'th': 2556, 'thatcher': 2557, 'tim': 2558, 'ukrainian': 2559, 'ultim': 2560, 'upgrad': 2561, 'voter': 2562, 'watchdog': 2563, 'welcom': 2564, 'wide': 2565, 'wild': 2566, 'wildlif': 2567, 'zoo': 2568, '120': 2569, '1500': 2570, '15000': 2571, '35': 2572, '37': 2573, '45': 2574, '700': 2575, '800': 2576, '93yearold': 2577, 'BQ': 2578, 'CSPI': 2579, 'FTNT': 2580, 'GILD': 2581, 'HCSG': 2582, 'HST': 2583, 'MMYT': 2584, 'PLXS': 2585, 'QTNT': 2586, 'SFIX': 2587, 'TWOU': 2588, 'VIAC': 2589, 'aa': 2590, 'academ': 2591, 'adam': 2592, 'alexa': 2593, 'algorithm': 2594, 'alon': 2595, 'amnesti': 2596, 'angela': 2597, 'anniversari': 2598, 'apartheid': 2599, 'archaeolog': 2600, 'artist': 2601, 'astronaut': 2602, 'athersi': 2603, 'beneath': 2604, 'beverag': 2605, 'bigger': 2606, 'bird': 2607, 'blackout': 2608, 'bradley': 2609, 'bribe': 2610, 'buri': 2611, 'cabinet': 2612, 'catalyst': 2613, 'catch': 2614, 'censorship': 2615, 'charter': 2616, 'chat': 2617, 'cho': 2618, 'christma': 2619, 'chronic': 2620, 'citizenship': 2621, 'communist': 2622, 'conspiraci': 2623, 'constitut': 2624, 'copyright': 2625, 'corbyn': 2626, 'creator': 2627, 'crop': 2628, 'csp': 2629, 'danish': 2630, 'democraci': 2631, 'denounc': 2632, 'depend': 2633, 'dip': 2634, 'ditch': 2635, 'dutert': 2636, 'duti': 2637, 'element': 2638, 'eleph': 2639, 'equival': 2640, 'escap': 2641, 'espionag': 2642, 'examin': 2643, 'exampl': 2644, 'except': 2645, 'extraordinari': 2646, 'f': 2647, 'fda': 2648, 'fiscal': 2649, 'flash': 2650, 'flu': 2651, 'francisco': 2652, 'frozen': 2653, 'function': 2654, 'fxxauusd': 2655, 'grave': 2656, 'grip': 2657, 'hama': 2658, 'hell': 2659, 'jerusalem': 2660, 'jihadist': 2661, 'joann': 2662, 'kenya': 2663, 'killer': 2664, 'kurdish': 2665, 'laureat': 2666, 'leadership': 2667, 'li': 2668, 'mail': 2669, 'manchest': 2670, 'manipul': 2671, 'marc': 2672, 'mi5': 2673, 'migrat': 2674, 'na': 2675, 'norwegian': 2676, 'opportun': 2677, 'outag': 2678, 'outrag': 2679, 'overturn': 2680, 'oxford': 2681, 'p8': 2682, 'paint': 2683, 'pair': 2684, 'passport': 2685, 'physicist': 2686, 'portabl': 2687, 'predict': 2688, 'prefer': 2689, 'promin': 2690, 'prosecut': 2691, 'quotient': 2692, 'ram': 2693, 'rapid': 2694, 'reactor': 2695, 'reef': 2696, 'reli': 2697, 'rhino': 2698, 'rice': 2699, 'rightw': 2700, 'rip': 2701, 'round': 2702, 'rt': 2703, 'scott': 2704, 'seer': 2705, 'selfdriv': 2706, 'setup': 2707, 'shale': 2708, 'singleus': 2709, 'sleep': 2710, 'someth': 2711, 'sovereign': 2712, 'spirit': 2713, 'sponsor': 2714, 'stephen': 2715, 'stoke': 2716, 'strengthen': 2717, 'stress': 2718, 'structur': 2719, 'struggl': 2720, 'sunni': 2721, 'supposedli': 2722, 'survivor': 2723, 'sweep': 2724, 'switzerland': 2725, 'tape': 2726, 'taylor': 2727, 'teach': 2728, 'thai': 2729, 'theft': 2730, 'thoma': 2731, 'toni': 2732, 'tonn': 2733, 'tor': 2734, 'traffick': 2735, 'tragedi': 2736, 'trap': 2737, 'treasur': 2738, 'tribe': 2739, 'trip': 2740, 'tshirt': 2741, 'vacat': 2742, 'ventur': 2743, 'viacomcb': 2744, 'victori': 2745, 'vike': 2746, 'was': 2747, 'wealthi': 2748, 'widespread': 2749, 'wtf': 2750, 'yelp': 2751, '150': 2752, '2023': 2753, '3000': 2754, '4000': 2755, '4s': 2756, '7000': 2757, '94': 2758, '96': 2759, '99': 2760, 'AMGN': 2761, 'CAN': 2762, 'HGBL': 2763, 'abbott': 2764, 'abu': 2765, 'accid': 2766, 'adapt': 2767, 'aerial': 2768, 'affair': 2769, 'amgen': 2770, 'antibiot': 2771, 'anticip': 2772, 'are': 2773, 'argument': 2774, 'athlet': 2775, 'au': 2776, 'aviat': 2777, 'backlash': 2778, 'barrel': 2779, 'bc': 2780, 'benioff': 2781, 'bhopal': 2782, 'bike': 2783, 'bolivia': 2784, 'born': 2785, 'bridg': 2786, 'budget': 2787, 'bulk': 2788, 'canaan': 2789, 'cat': 2790, 'chappel': 2791, 'client': 2792, 'co2': 2793, 'coffe': 2794, 'companion': 2795, 'competitor': 2796, 'conclus': 2797, 'concret': 2798, 'confid': 2799, 'contest': 2800, 'contin': 2801, 'convinc': 2802, 'dawn': 2803, 'deadlin': 2804, 'debat': 2805, 'demonstr': 2806, 'dissid': 2807, 'district': 2808, 'divid': 2809, 'divis': 2810, 'du': 2811, 'eight': 2812, 'em': 2813, 'equal': 2814, 'es': 2815, 'exhibit': 2816, 'exss': 2817, 'fabric': 2818, 'facil': 2819, 'familiar': 2820, 'fat': 2821, 'fed': 2822, 'firstev': 2823, 'foxconn': 2824, 'gadget': 2825, 'gone': 2826, 'greatest': 2827, 'greenwald': 2828, 'guarante': 2829, 'hang': 2830, 'harass': 2831, 'helicopt': 2832, 'henri': 2833, 'highlevel': 2834, 'hitler': 2835, 'holder': 2836, 'honor': 2837, 'hugh': 2838, 'immedi': 2839, 'increasingli': 2840, 'indonesian': 2841, 'intend': 2842, 'intent': 2843, 'ip': 2844, 'jacqui': 2845, 'jong': 2846, 'jpmorgan': 2847, 'kurd': 2848, 'l': 2849, 'landmark': 2850, 'librari': 2851, 'malaysian': 2852, 'maria': 2853, 'math': 2854, 'meal': 2855, 'mention': 2856, 'mesoblast': 2857, 'miner': 2858, 'mislead': 2859, 'morningstar': 2860, 'morocco': 2861, 'myanmar': 2862, 'nato': 2863, 'nhng': 2864, 'nick': 2865, 'nonprofit': 2866, 'nuke': 2867, 'occur': 2868, 'opium': 2869, 'output': 2870, 'particl': 2871, 'pc': 2872, 'picasso': 2873, 'poacher': 2874, 'poorest': 2875, 'pour': 2876, 'progress': 2877, 'prostitut': 2878, 'ransomwar': 2879, 'rebuild': 2880, 'recov': 2881, 'regim': 2882, 'repeatedli': 2883, 'respect': 2884, 'restructur': 2885, 'reward': 2886, 'robberi': 2887, 'robertson': 2888, 'rose': 2889, 'rout': 2890, 'rural': 2891, 'sail': 2892, 'scam': 2893, 'seal': 2894, 'semiconductor': 2895, 'session': 2896, 'settler': 2897, 'short': 2898, 'similar': 2899, 'simpl': 2900, 'sin': 2901, 'sixth': 2902, 'skill': 2903, 'skull': 2904, 'smartwatch': 2905, 'societi': 2906, 'solarpow': 2907, 'spokesman': 2908, 'spotifi': 2909, 'squawk': 2910, 'steel': 2911, 'stryker': 2912, 'submit': 2913, 'suspicion': 2914, 'symptom': 2915, 'taxpay': 2916, 'telegram': 2917, 'temporarili': 2918, 'throw': 2919, 'tradingview': 2920, 'troll': 2921, 'tunnel': 2922, 'turbin': 2923, 'undermin': 2924, 'unknown': 2925, 'unlock': 2926, 'urgent': 2927, 've': 2928, 'vessel': 2929, 'viral': 2930, 'wa': 2931, 'walt': 2932, 'warehous': 2933, 'we': 2934, 'windfarm': 2935, 'wipe': 2936, 'wors': 2937, 'yesterday': 2938, 'zero': 2939, 'zhou': 2940, 'zimbabw': 2941, 'zoom': 2942, '140': 2943, '150000': 2944, '1bn': 2945, '2009': 2946, '250': 2947, '28': 2948, '76': 2949, 'ACGL': 2950, 'BAND': 2951, 'CEE': 2952, 'EXPC': 2953, 'FTEK': 2954, 'HUBG': 2955, 'IHRT': 2956, 'IQ': 2957, 'JFU': 2958, 'MOGO': 2959, 'PFBI': 2960, 'REGI': 2961, 'WIX': 2962, 'aapl': 2963, 'abduct': 2964, 'acid': 2965, 'advisori': 2966, 'affili': 2967, 'alongsid': 2968, 'alway': 2969, 'alzheim': 2970, 'ammar': 2971, 'andrew': 2972, 'antarct': 2973, 'aphria': 2974, 'arch': 2975, 'argu': 2976, 'aruba': 2977, 'asiapacif': 2978, 'attorney': 2979, 'autocad': 2980, 'automak': 2981, 'bandwidth': 2982, 'barack': 2983, 'basi': 2984, 'basketbal': 2985, 'began': 2986, 'begun': 2987, 'birthday': 2988, 'blockchain': 2989, 'booster': 2990, 'borrow': 2991, 'bosch': 2992, 'brace': 2993, 'breakthrough': 2994, 'breed': 2995, 'briton': 2996, 'bronz': 2997, 'brussel': 2998, 'buck': 2999, 'bust': 3000, 'cannon': 3001, 'cc': 3002, 'chair': 3003, 'champion': 3004, 'cheap': 3005, 'cheaper': 3006, 'cheer': 3007, 'citrix': 3008, 'click': 3009, 'cloud4wi': 3010, 'cm': 3011, 'cold': 3012, 'conceal': 3013, 'consol': 3014, 'convert': 3015, 'copi': 3016, 'corlin': 3017, 'creativ': 3018, 'crocodil': 3019, 'cure': 3020, 'dad': 3021, 'dairi': 3022, 'dan': 3023, 'decor': 3024, 'deem': 3025, 'deforest': 3026, 'delist': 3027, 'destin': 3028, 'diesel': 3029, 'dirti': 3030, 'domain': 3031, 'draw': 3032, 'earthquak': 3033, 'eas': 3034, 'easili': 3035, 'ed': 3036, 'edg': 3037, 'enterpris': 3038, 'entrepreneur': 3039, 'equiti': 3040, 'error': 3041, 'erupt': 3042, 'est': 3043, 'euclid': 3044, 'evacu': 3045, 'evad': 3046, 'exercis': 3047, 'explan': 3048, 'farright': 3049, 'fastest': 3050, 'fatal': 3051, 'festiv': 3052, 'float': 3053, 'format': 3054, 'fruit': 3055, 'glenn': 3056, 'greater': 3057, 'greta': 3058, 'gulf': 3059, 'gunman': 3060, 'hall': 3061, 'harvest': 3062, 'hd': 3063, 'helpusel': 3064, 'hijab': 3065, 'hoax': 3066, 'hook': 3067, 'horrif': 3068, 'hunter': 3069, 'hybrid': 3070, 'iflex': 3071, 'iheartmedia': 3072, 'ill': 3073, 'imposs': 3074, 'indict': 3075, 'infect': 3076, 'infiltr': 3077, 'insult': 3078, 'integra': 3079, 'invit': 3080, 'iqiyi': 3081, 'jo': 3082, 'johmani': 3083, 'kashmir': 3084, 'koch': 3085, 'lace': 3086, 'liabil': 3087, 'lifesci': 3088, 'liken': 3089, 'll': 3090, 'lock': 3091, 'lockdown': 3092, 'login': 3093, 'mac': 3094, 'madrid': 3095, 'maglev': 3096, 'mamp': 3097, 'matiss': 3098, 'matthew': 3099, 'medal': 3100, 'mediev': 3101, 'meltdown': 3102, 'memo': 3103, 'meridian': 3104, 'method': 3105, 'mh370': 3106, 'mi': 3107, 'minnesota': 3108, 'mission': 3109, 'mix': 3110, 'mn': 3111, 'mogo': 3112, 'necessari': 3113, 'neonazi': 3114, 'newli': 3115, 'nhn': 3116, 'nich': 3117, 'novarti': 3118, 'older': 3119, 'ongo': 3120, 'openli': 3121, 'organogenesi': 3122, 'osiri': 3123, 'pact': 3124, 'pain': 3125, 'pampg': 3126, 'patriot': 3127, 'paul': 3128, 'peru': 3129, 'petroleum': 3130, 'plantbas': 3131, 'pop': 3132, 'pot': 3133, 'previou': 3134, 'proclaim': 3135, 'prolianc': 3136, 'proxi': 3137, 'purpos': 3138, 'racist': 3139, 'rail': 3140, 'rain': 3141, 'ramen': 3142, 'recess': 3143, 'refund': 3144, 'regen': 3145, 'regi': 3146, 'religion': 3147, 'rendicin': 3148, 'rid': 3149, 'roughli': 3150, 'rucku': 3151, 'rumor': 3152, 'salari': 3153, 'sampl': 3154, 'scan': 3155, 'scrambl': 3156, 'screen': 3157, 'script': 3158, 'shake': 3159, 'sierra': 3160, 'situat': 3161, 'slap': 3162, 'smoke': 3163, 'solid': 3164, 'sophist': 3165, 'soviet': 3166, 'specul': 3167, 'sperm': 3168, 'sponsorship': 3169, 'stab': 3170, 'stabil': 3171, 'staterun': 3172, 'steven': 3173, 'studio': 3174, 'summon': 3175, 'symbol': 3176, 'technic': 3177, 'telescop': 3178, 'text': 3179, 'theresa': 3180, 'thermostat': 3181, 'tin': 3182, 'tobacco': 3183, 'toll': 3184, 'tomb': 3185, 'tough': 3186, 'tour': 3187, 'tourism': 3188, 'tower': 3189, 'transact': 3190, 'treasuri': 3191, 'trigger': 3192, 'trudeau': 3193, 'undercov': 3194, 'unifi': 3195, 'unilev': 3196, 'unlaw': 3197, 'unlimit': 3198, 'unpaid': 3199, 'uruguay': 3200, 'vanish': 3201, 'verg': 3202, 'verizon': 3203, 'vi': 3204, 'virginia': 3205, 'visitor': 3206, 'wait': 3207, 'wearabl': 3208, 'winter': 3209, 'wive': 3210, 'wrote': 3211, 'youth': 3212, 'yuan': 3213, '110000': 3214, '117': 3215, '170': 3216, '1970': 3217, '2001': 3218, '2010': 3219, '33': 3220, '38': 3221, '43': 3222, '46': 3223, '700000': 3224, '74': 3225, '77': 3226, 'AFYA': 3227, 'AMZN': 3228, 'API': 3229, 'FITB': 3230, 'IYLD': 3231, 'JOAN': 3232, 'OBLG': 3233, 'SUMR': 3234, 'VERX': 3235, 'accentur': 3236, 'adelaid': 3237, 'aerospac': 3238, 'afya': 3239, 'agora': 3240, 'aig': 3241, 'airplan': 3242, 'airstrik': 3243, 'align': 3244, 'angri': 3245, 'anthoni': 3246, 'antibodi': 3247, 'ashcroft': 3248, 'astronom': 3249, 'autom': 3250, 'bahrain': 3251, 'balanc': 3252, 'ball': 3253, 'behalf': 3254, 'behaviour': 3255, 'bet': 3256, 'billboard': 3257, 'blair': 3258, 'bmx': 3259, 'bottom': 3260, 'bow': 3261, 'brad': 3262, 'branch': 3263, 'bread': 3264, 'briberi': 3265, 'briefli': 3266, 'brows': 3267, 'cambodian': 3268, 'cartel': 3269, 'cch': 3270, 'charli': 3271, 'cheat': 3272, 'chengdu': 3273, 'chile': 3274, 'claw': 3275, 'clearli': 3276, 'clone': 3277, 'closur': 3278, 'cn': 3279, 'coalfir': 3280, 'cofound': 3281, 'compet': 3282, 'complain': 3283, 'confidenti': 3284, 'consequ': 3285, 'consumpt': 3286, 'contra': 3287, 'coordin': 3288, 'coverup': 3289, 'cow': 3290, 'crude': 3291, 'databas': 3292, 'daughter': 3293, 'dedic': 3294, 'deepen': 3295, 'defector': 3296, 'deliber': 3297, 'dell': 3298, 'deriv': 3299, 'detent': 3300, 'dhabi': 3301, 'dick': 3302, 'dinosaur': 3303, 'dng': 3304, 'doj': 3305, 'dotcom': 3306, 'dream': 3307, 'drought': 3308, 'ecuadorean': 3309, 'emir': 3310, 'encount': 3311, 'espn': 3312, 'ethiopian': 3313, 'evict': 3314, 'evolut': 3315, 'expedia': 3316, 'extradit': 3317, 'fasttrack': 3318, 'fishermen': 3319, 'furi': 3320, 'gase': 3321, 'gel': 3322, 'genocid': 3323, 'georgia': 3324, 'getti': 3325, 'gorilla': 3326, 'grab': 3327, 'guidanc': 3328, 'heard': 3329, 'hiu': 3330, 'hood': 3331, 'household': 3332, 'howev': 3333, 'hungari': 3334, 'ident': 3335, 'inaugur': 3336, 'incorpor': 3337, 'inject': 3338, 'inspect': 3339, 'insulin': 3340, 'interfer': 3341, 'isol': 3342, 'iu': 3343, 'jk': 3344, 'jose': 3345, 'judgment': 3346, 'juncker': 3347, 'kick': 3348, 'kiss': 3349, 'knife': 3350, 'kraft': 3351, 'kuwait': 3352, 'ladi': 3353, 'lash': 3354, 'latvia': 3355, 'launder': 3356, 'lebanon': 3357, 'leg': 3358, 'lifetim': 3359, 'linkedin': 3360, 'longterm': 3361, 'maintain': 3362, 'marri': 3363, 'master': 3364, 'maximum': 3365, 'meant': 3366, 'menu': 3367, 'meter': 3368, 'midnight': 3369, 'mileston': 3370, 'militia': 3371, 'milk': 3372, 'mirra': 3373, 'modi': 3374, 'moodi': 3375, 'mostli': 3376, 'motion': 3377, 'motorola': 3378, 'mt': 3379, 'mueller': 3380, 'munich': 3381, 'nake': 3382, 'nam': 3383, 'nativ': 3384, 'navig': 3385, 'neighbor': 3386, 'neil': 3387, 'novemb': 3388, 'nvidia': 3389, 'oblong': 3390, 'offend': 3391, 'ok': 3392, 'onshor': 3393, 'opinion': 3394, 'orbit': 3395, 'os': 3396, 'panic': 3397, 'patch': 3398, 'patrol': 3399, 'paulo': 3400, 'peak': 3401, 'pen': 3402, 'pepsi': 3403, 'perfect': 3404, 'perman': 3405, 'petrona': 3406, 'plead': 3407, 'pocket': 3408, 'polar': 3409, 'pompeo': 3410, 'poppi': 3411, 'porn': 3412, 'powder': 3413, 'priest': 3414, 'printabl': 3415, 'prohibit': 3416, 'proof': 3417, 'proven': 3418, 'pursu': 3419, 'qu': 3420, 'quantum': 3421, 'quota': 3422, 'racial': 3423, 'radioact': 3424, 'ramat': 3425, 'rebellion': 3426, 'rebuk': 3427, 'reed': 3428, 'regeneron': 3429, 'registri': 3430, 'rel': 3431, 'rememb': 3432, 'retali': 3433, 'retreat': 3434, 'rideshar': 3435, 'rig': 3436, 'rouhani': 3437, 'ruin': 3438, 'sander': 3439, 'sank': 3440, 'saw': 3441, 'scari': 3442, 'schmidt': 3443, 'scottish': 3444, 'scp': 3445, 'seat': 3446, 'selfi': 3447, 'sens': 3448, 'sensit': 3449, 'serious': 3450, 'setback': 3451, 'shampoo': 3452, 'shark': 3453, 'shepherd': 3454, 'sick': 3455, 'sight': 3456, 'silicon': 3457, 'skeptic': 3458, 'slave': 3459, 'smaller': 3460, 'smuggl': 3461, 'southwest': 3462, 'spacex': 3463, 'spare': 3464, 'spike': 3465, 'spoke': 3466, 'statesponsor': 3467, 'steadi': 3468, 'steam': 3469, 'subsidi': 3470, 'sun': 3471, 'sunken': 3472, 'supermarket': 3473, 'suppress': 3474, 'surgic': 3475, 'sword': 3476, 'telekom': 3477, 'templ': 3478, 'tesco': 3479, 'thu': 3480, 'thwart': 3481, 'tiananmen': 3482, 'tibetan': 3483, 'tire': 3484, 'titan': 3485, 'tradit': 3486, 'translat': 3487, 'transmit': 3488, 'trick': 3489, 'tweak': 3490, 'typhoon': 3491, 'underway': 3492, 'uniqu': 3493, 'usbas': 3494, 'valuat': 3495, 'variou': 3496, 'vertex': 3497, 'victoria': 3498, 'visafre': 3499, 'volcano': 3500, 'vpn': 3501, 'weather': 3502, 'whatsapp': 3503, 'wilson': 3504, 'worsen': 3505, 'wound': 3506, 'yearold': 3507, 'zombi': 3508, '111yearold': 3509, '160': 3510, '2007': 3511, '20182024': 3512, '25yearold': 3513, '267000': 3514, '2u': 3515, '300000': 3516, '44': 3517, '500000': 3518, '52': 3519, '5232': 3520, '73': 3521, '911': 3522, '960': 3523, '98': 3524, 'CSIQ': 3525, 'DOX': 3526, 'MU': 3527, 'absent': 3528, 'actress': 3529, 'admin': 3530, 'advisor': 3531, 'airbu': 3532, 'airspac': 3533, 'alcohol': 3534, 'amd': 3535, 'ancestr': 3536, 'appetit': 3537, 'approxim': 3538, 'assad': 3539, 'astana': 3540, 'asylum': 3541, 'atom': 3542, 'attenborough': 3543, 'attent': 3544, 'automat': 3545, 'autopilot': 3546, 'baidu': 3547, 'bail': 3548, 'banco': 3549, 'barbi': 3550, 'barcelona': 3551, 'barclay': 3552, 'bare': 3553, 'barrier': 3554, 'bean': 3555, 'belgian': 3556, 'berni': 3557, 'bi': 3558, 'binari': 3559, 'birth': 3560, 'bleak': 3561, 'blessedd77': 3562, 'blob': 3563, 'blogger': 3564, 'bloomberg': 3565, 'bluetooth': 3566, 'bolsonaro': 3567, 'bombardi': 3568, 'bosnian': 3569, 'boston': 3570, 'bowl': 3571, 'brink': 3572, 'broke': 3573, 'brubeck': 3574, 'bubbl': 3575, 'bug': 3576, 'bulldoz': 3577, 'bushfir': 3578, 'buyout': 3579, 'c319000': 3580, 'caleb': 3581, 'calleari': 3582, 'camel': 3583, 'captain': 3584, 'captiv': 3585, 'cdc': 3586, 'ceas': 3587, 'chancellor': 3588, 'chao': 3589, 'chef': 3590, 'choke': 3591, 'chri': 3592, 'christi': 3593, 'clark': 3594, 'climb': 3595, 'clock': 3596, 'colin': 3597, 'colour': 3598, 'comparison': 3599, 'compat': 3600, 'complic': 3601, 'condition': 3602, 'conservativel': 3603, 'consist': 3604, 'contradict': 3605, 'control4': 3606, 'coral': 3607, 'counterpart': 3608, 'coverag': 3609, 'covert': 3610, 'cri': 3611, 'crimea': 3612, 'croatia': 3613, 'crucial': 3614, 'crush': 3615, 'csco': 3616, 'cybersecur': 3617, 'czech': 3618, 'da': 3619, 'damascu': 3620, 'dara': 3621, 'declassifi': 3622, 'depriv': 3623, 'dept': 3624, 'desert': 3625, 'desk': 3626, 'detroit': 3627, 'di': 3628, 'dia': 3629, 'dictat': 3630, 'diet': 3631, 'difficult': 3632, 'dish': 3633, 'distanc': 3634, 'distant': 3635, 'distress': 3636, 'distributor': 3637, 'done': 3638, 'drag': 3639, 'dri': 3640, 'driven': 3641, 'duck': 3642, 'dunn': 3643, 'dwarf': 3644, 'eagl': 3645, 'editor': 3646, 'effici': 3647, 'eli': 3648, 'embrac': 3649, 'enact': 3650, 'endors': 3651, 'endur': 3652, 'entranc': 3653, 'envoy': 3654, 'era': 3655, 'eras': 3656, 'estonia': 3657, 'exam': 3658, 'exceed': 3659, 'excel': 3660, 'exhaust': 3661, 'expir': 3662, 'extent': 3663, 'f52': 3664, 'faster': 3665, 'favorit': 3666, 'favour': 3667, 'fianna': 3668, 'fiction': 3669, 'flashlight': 3670, 'fleet': 3671, 'flow': 3672, 'fm': 3673, 'focus': 3674, 'foe': 3675, 'fold': 3676, 'footprint': 3677, 'formal': 3678, 'fortun': 3679, 'frustrat': 3680, 'fundament': 3681, 'fungu': 3682, 'furiou': 3683, 'g7': 3684, 'gallon': 3685, 'gamer': 3686, 'ge': 3687, 'gi': 3688, 'github': 3689, 'glimmer': 3690, 'glyphos': 3691, 'gm': 3692, 'gmt': 3693, 'greg': 3694, 'guidelin': 3695, 'gujarat': 3696, 'guy': 3697, 'gw': 3698, 'hawk': 3699, 'headquart': 3700, 'heal': 3701, 'heinz': 3702, 'helmet': 3703, 'hezbollah': 3704, 'highspe': 3705, 'hing': 3706, 'ho': 3707, 'hollywood': 3708, 'horizon': 3709, 'hotspot': 3710, 'hr': 3711, 'hurdl': 3712, 'husband': 3713, 'ideal': 3714, 'ii': 3715, 'imagin': 3716, 'imprison': 3717, 'incent': 3718, 'incit': 3719, 'incompat': 3720, 'indepth': 3721, 'invad': 3722, 'invas': 3723, 'islamist': 3724, 'jampj': 3725, 'jazz': 3726, 'jointli': 3727, 'joke': 3728, 'junip': 3729, 'kazakh': 3730, 'kelli': 3731, 'kendra': 3732, 'km': 3733, 'kremlin': 3734, 'laboratori': 3735, 'lag': 3736, 'landlord': 3737, 'latinbas': 3738, 'legit': 3739, 'lg': 3740, 'lgbt': 3741, 'lion': 3742, 'lol': 3743, 'longest': 3744, 'longtim': 3745, 'loot': 3746, 'luke': 3747, 'mad': 3748, 'mainstream': 3749, 'mainten': 3750, 'mall': 3751, 'martin': 3752, 'mccain': 3753, 'meddl': 3754, 'mega': 3755, 'melbourn': 3756, 'merchant': 3757, 'mercuri': 3758, 'messeng': 3759, 'mode': 3760, 'molecul': 3761, 'monster': 3762, 'moral': 3763, 'mortal': 3764, 'mother': 3765, 'motorway': 3766, 'msg': 3767, 'muhammad': 3768, 'mull': 3769, 'museum': 3770, 'myriad': 3771, 'nasion': 3772, 'nearbi': 3773, 'neglect': 3774, 'neighborhood': 3775, 'neonicotinoid': 3776, 'nht': 3777, 'nn': 3778, 'nomin': 3779, 'norm': 3780, 'nurs': 3781, 'onto': 3782, 'opioid': 3783, 'optic': 3784, 'outspoken': 3785, 'pardon': 3786, 'parliamentari': 3787, 'particular': 3788, 'particularli': 3789, 'pedophil': 3790, 'penetr': 3791, 'persist': 3792, 'pet': 3793, 'petroliam': 3794, 'pickup': 3795, 'pink': 3796, 'pitch': 3797, 'placement': 3798, 'portug': 3799, 'pr': 3800, 'pragu': 3801, 'precis': 3802, 'primari': 3803, 'prototyp': 3804, 'qualitywpt': 3805, 'quickbook': 3806, 'racism': 3807, 'ramp': 3808, 'ransom': 3809, 'rapidli': 3810, 'recordbreak': 3811, 'remind': 3812, 'republ': 3813, 'retain': 3814, 'rick': 3815, 'risen': 3816, 'roadshow': 3817, 'roam': 3818, 'rogu': 3819, 'rome': 3820, 'rot': 3821, 'roundup': 3822, 'sadist': 3823, 'sand': 3824, 'sanofiaventi': 3825, 'sanofigsk': 3826, 'scrutini': 3827, 'secretli': 3828, 'seller': 3829, 'separ': 3830, 'separatist': 3831, 'shape': 3832, 'shed': 3833, 'sheep': 3834, 'shepard': 3835, 'shipment': 3836, 'simpli': 3837, 'sir': 3838, 'sister': 3839, 'slay': 3840, 'slump': 3841, 'smash': 3842, 'snack': 3843, 'snub': 3844, 'soft': 3845, 'solv': 3846, 'stalin': 3847, 'stanc': 3848, 'stateown': 3849, 'sting': 3850, 'stmicroelectron': 3851, 'straight': 3852, 'strength': 3853, 'style': 3854, 'succeed': 3855, 'sunflow': 3856, 'superior': 3857, 'syndic': 3858, 't4': 3859, 'tactic': 3860, 'tapir': 3861, 'task': 3862, 'tayyip': 3863, 'teacher': 3864, 'telecommun': 3865, 'thailand': 3866, 'thng': 3867, 'though': 3868, 'thunberg': 3869, 'tonight': 3870, 'touch': 3871, 'toyota': 3872, 'tractor': 3873, 'transcript': 3874, 'trash': 3875, 'tripl': 3876, 'tsla': 3877, 'ttip': 3878, 'tuna': 3879, 'uighur': 3880, 'una': 3881, 'unconstitut': 3882, 'unesco': 3883, 'unless': 3884, 'upload': 3885, 'upset': 3886, 'usual': 3887, 'utd': 3888, 'util': 3889, 'vacuna': 3890, 'valentin': 3891, 'vc': 3892, 'vendor': 3893, 'vietnames': 3894, 'vittel': 3895, 'vivaz': 3896, 'volunt': 3897, 'waffen': 3898, 'wanitaxigo': 3899, 'weak': 3900, 'welfar': 3901, 'whistl': 3902, 'wikipedian': 3903, 'wire': 3904, 'wizard': 3905, 'wooden': 3906, 'wto': 3907, 'wynn': 3908, 'xiaomi': 3909, 'xinjiang': 3910, 'ya': 3911, 'yeah': 3912, 'youguang': 3913, 'youv': 3914, 'zara': 3915, '10000': 3916, '160000': 3917, '16yearold': 3918, '17yearold': 3919, '1800': 3920, '1990': 3921, '1996': 3922, '20000': 3923, '2022': 3924, '2100': 3925, '21st': 3926, '23rd': 3927, '2nd': 3928, '3500yearold': 3929, '400yearold': 3930, '42': 3931, '48': 3932, '50000': 3933, '6000': 3934, '6th': 3935, '777': 3936, '787': 3937, '800000': 3938, '83': 3939, '85': 3940, '92': 3941, '96yearold': 3942, 'APHA': 3943, 'BTBT': 3944, 'CHTR': 3945, 'CRSR': 3946, 'DOMO': 3947, 'EA': 3948, 'FAT': 3949, 'HLIT': 3950, 'LQDT': 3951, 'NBEV': 3952, 'NYMT': 3953, 'OSTK': 3954, 'PPD': 3955, 'RILY': 3956, 'SGLB': 3957, 'VSAT': 3958, 'aamp': 3959, 'absolut': 3960, 'accident': 3961, 'accommod': 3962, 'acuerdo': 3963, 'advocaci': 3964, 'ageagl': 3965, 'airdrop': 3966, 'airway': 3967, 'alexand': 3968, 'alter': 3969, 'although': 3970, 'amaz': 3971, 'amdoc': 3972, 'ap': 3973, 'apparel': 3974, 'appli': 3975, 'archbishop': 3976, 'archiv': 3977, 'artwork': 3978, 'assur': 3979, 'astonish': 3980, 'ate': 3981, 'atm': 3982, 'atp': 3983, 'automot': 3984, 'backdoor': 3985, 'backfir': 3986, 'baltic': 3987, 'banana': 3988, 'batch': 3989, 'batum': 3990, 'bbb': 3991, 'beal': 3992, 'beetl': 3993, 'beirut': 3994, 'belgium': 3995, 'benchmark': 3996, 'benjamin': 3997, 'blasphemi': 3998, 'blaze': 3999, 'bng': 4000, 'bolivian': 4001, 'bonu': 4002, 'bonus': 4003, 'breast': 4004, 'breastfeed': 4005, 'bruce': 4006, 'buyer': 4007, 'buzz': 4008, 'bye': 4009, 'c45': 4010, 'calcul': 4011, 'cannabinoid': 4012, 'career': 4013, 'cargo': 4014, 'carpet': 4015, 'cattl': 4016, 'cement': 4017, 'chapter': 4018, 'chernobyl': 4019, 'chest': 4020, 'chicken': 4021, 'chng': 4022, 'christoph': 4023, 'circul': 4024, 'clarkson': 4025, 'classact': 4026, 'clue': 4027, 'cluster': 4028, 'coat': 4029, 'coke': 4030, 'comet': 4031, 'commerc': 4032, 'como': 4033, 'compli': 4034, 'compound': 4035, 'comprehens': 4036, 'confess': 4037, 'conglomer': 4038, 'congression': 4039, 'connector': 4040, 'contrast': 4041, 'cord': 4042, 'corsair': 4043, 'counterfeit': 4044, 'crestron': 4045, 'crunch': 4046, 'cuban': 4047, 'curevac': 4048, 'curfew': 4049, 'custodi': 4050, 'cyclon': 4051, 'dalai': 4052, 'decim': 4053, 'deer': 4054, 'defi': 4055, 'demolish': 4056, 'den': 4057, 'dengu': 4058, 'determin': 4059, 'deton': 4060, 'devot': 4061, 'disappear': 4062, 'discharg': 4063, 'discourag': 4064, 'dispos': 4065, 'dj': 4066, 'dn': 4067, 'doc': 4068, 'doll': 4069, 'domo': 4070, 'downplay': 4071, 'dr': 4072, 'dress': 4073, 'dub': 4074, 'dynasti': 4075, 'easier': 4076, 'either': 4077, 'elector': 4078, 'emerson': 4079, 'enabl': 4080, 'enemi': 4081, 'enrich': 4082, 'episod': 4083, 'equinix': 4084, 'erii': 4085, 'estat': 4086, 'ethnic': 4087, 'eve': 4088, 'eventu': 4089, 'evil': 4090, 'ex': 4091, 'exactli': 4092, 'exempt': 4093, 'expedit': 4094, 'extort': 4095, 'exxonmobil': 4096, 'f16': 4097, 'fa': 4098, 'fair': 4099, 'fallout': 4100, 'fcc': 4101, 'fell': 4102, 'fellow': 4103, 'ferri': 4104, 'fewer': 4105, 'finish': 4106, 'finland': 4107, 'fled': 4108, 'fluctuat': 4109, 'forerunn': 4110, 'forgiv': 4111, 'fortnit': 4112, 'freed': 4113, 'frequent': 4114, 'ft': 4115, 'fun': 4116, 'furnitur': 4117, 'g20': 4118, 'gamestop': 4119, 'garbag': 4120, 'gaug': 4121, 'genit': 4122, 'gigawatt': 4123, 'goat': 4124, 'grenad': 4125, 'groundbreak': 4126, 'guru': 4127, 'habit': 4128, 'haier': 4129, 'hair': 4130, 'haiti': 4131, 'handset': 4132, 'harmon': 4133, 'harper': 4134, 'headphon': 4135, 'heavili': 4136, 'highprofil': 4137, 'hijack': 4138, 'hike': 4139, 'hitachi': 4140, 'hiv': 4141, 'holi': 4142, 'homeless': 4143, 'hostag': 4144, 'hottest': 4145, 'hq': 4146, 'hunger': 4147, 'hungov': 4148, 'hurt': 4149, 'hydrogen': 4150, 'hyperemesi': 4151, 'icloud': 4152, 'icu': 4153, 'iea': 4154, 'ignit': 4155, 'ikea': 4156, 'imf': 4157, 'imperi': 4158, 'implant': 4159, 'indra': 4160, 'inflat': 4161, 'inflight': 4162, 'injunct': 4163, 'innoc': 4164, 'insan': 4165, 'inspector': 4166, 'instabl': 4167, 'instruct': 4168, 'intens': 4169, 'interbr': 4170, 'internship': 4171, 'intervent': 4172, 'intimid': 4173, 'iot': 4174, 'j10': 4175, 'j31': 4176, 'jersey': 4177, 'jihad': 4178, 'jim': 4179, 'josef': 4180, 'jungl': 4181, 'juvenil': 4182, 'kangaroo': 4183, 'kao': 4184, 'kardashian': 4185, 'kate': 4186, 'kazak': 4187, 'kbr': 4188, 'kfc': 4189, 'kg': 4190, 'khe': 4191, 'khng': 4192, 'kitten': 4193, 'knight': 4194, 'knowledg': 4195, 'laden': 4196, 'larger': 4197, 'larsen': 4198, 'laura': 4199, 'lenovo': 4200, 'leon': 4201, 'lesson': 4202, 'levi': 4203, 'lifesav': 4204, 'lightyear': 4205, 'lim': 4206, 'lithuania': 4207, 'litter': 4208, 'llp': 4209, 'ln': 4210, 'logist': 4211, 'logo': 4212, 'loom': 4213, 'luxor': 4214, 'magellan': 4215, 'mainland': 4216, 'malala': 4217, 'maldiv': 4218, 'male': 4219, 'mandatori': 4220, 'mazor': 4221, 'mcor': 4222, 'measl': 4223, 'medalist': 4224, 'medtron': 4225, 'merced': 4226, 'millionair': 4227, 'mini': 4228, 'mistreat': 4229, 'misus': 4230, 'mm': 4231, 'mock': 4232, 'mogul': 4233, 'molest': 4234, 'momentum': 4235, 'monthli': 4236, 'monument': 4237, 'morrison': 4238, 'mosqu': 4239, 'mossad': 4240, 'mourinho': 4241, 'mouth': 4242, 'multilater': 4243, 'musthav': 4244, 'n95': 4245, 'narendra': 4246, 'neither': 4247, 'nest': 4248, 'ng': 4249, 'ngi': 4250, 'nice': 4251, 'niger': 4252, 'nm': 4253, 'noon': 4254, 'nooyi': 4255, 'normal': 4256, 'notori': 4257, 'nutrit': 4258, 'ny': 4259, 'nyc': 4260, 'nyt': 4261, 'obes': 4262, 'offlin': 4263, 'opensourc': 4264, 'oppon': 4265, 'ordinari': 4266, 'organovo': 4267, 'owe': 4268, 'owen': 4269, 'parallel': 4270, 'parkinson': 4271, 'path': 4272, 'patti': 4273, 'payrol': 4274, 'peloton': 4275, 'perhap': 4276, 'permutt': 4277, 'perspect': 4278, 'php': 4279, 'pie': 4280, 'piec': 4281, 'pile': 4282, 'piraci': 4283, 'plaintiff': 4284, 'plea': 4285, 'pluto': 4286, 'populist': 4287, 'ppd': 4288, 'precaut': 4289, 'preciou': 4290, 'predat': 4291, 'preliminari': 4292, 'premium': 4293, 'president': 4294, 'pride': 4295, 'principl': 4296, 'prior': 4297, 'privacyrel': 4298, 'privileg': 4299, 'proceed': 4300, 'promo': 4301, 'protector': 4302, 'protestor': 4303, 'puma': 4304, 'pure': 4305, 'purport': 4306, 'qatar': 4307, 'quietli': 4308, 'radiat': 4309, 'rage': 4310, 'ramadi': 4311, 'rampd': 4312, 'react': 4313, 'reaction': 4314, 'recit': 4315, 'recognis': 4316, 'reel': 4317, 'regardless': 4318, 'regular': 4319, 'regulatori': 4320, 'repeal': 4321, 'repress': 4322, 'resembl': 4323, 'reshap': 4324, 'resolv': 4325, 'retriev': 4326, 'reunit': 4327, 'revit': 4328, 'riess': 4329, 'rifl': 4330, 'rite': 4331, 'rob': 4332, 'romanian': 4333, 'routin': 4334, 'runoff': 4335, 'rworldpolitics2': 4336, 'ryan': 4337, 'samuel': 4338, 'sapien': 4339, 'saul': 4340, 'sbi': 4341, 'sc': 4342, 'sean': 4343, 'sec': 4344, 'section': 4345, 'segment': 4346, 'seizur': 4347, 'seoul': 4348, 'sequenc': 4349, 'shadow': 4350, 'shapiro': 4351, 'sharp': 4352, 'sharpli': 4353, 'shiit': 4354, 'shout': 4355, 'sigma': 4356, 'simul': 4357, 'sink': 4358, 'slew': 4359, 'slide': 4360, 'smell': 4361, 'smog': 4362, 'sneaker': 4363, 'sodium': 4364, 'sofosbuvir': 4365, 'soften': 4366, 'somalia': 4367, 'someon': 4368, 'sometim': 4369, 'sort': 4370, 'spotlight': 4371, 'squalid': 4372, 'ssled': 4373, 'staffer': 4374, 'standoff': 4375, 'stapl': 4376, 'starwood': 4377, 'stash': 4378, 'statist': 4379, 'steer': 4380, 'stewart': 4381, 'strang': 4382, 'strangl': 4383, 'strict': 4384, 'stupid': 4385, 'submarin': 4386, 'suitcas': 4387, 'suntrust': 4388, 'supernova': 4389, 'surfac': 4390, 'surgeri': 4391, 'swipe': 4392, 'symantec': 4393, 'syndrom': 4394, 't50': 4395, 'tablet': 4396, 'talli': 4397, 'te': 4398, 'tear': 4399, 'techniqu': 4400, 'telco': 4401, 'tenni': 4402, 'terrifi': 4403, 'testimoni': 4404, 'textbook': 4405, 'textil': 4406, 'theyv': 4407, 'threeday': 4408, 'threw': 4409, 'thuc': 4410, 'tibet': 4411, 'tiger': 4412, 'tinder': 4413, 'tirad': 4414, 'toddler': 4415, 'topsecret': 4416, 'tournament': 4417, 'toxin': 4418, 'tpp': 4419, 'transpar': 4420, 'tripod': 4421, 'trumprussia': 4422, 'tt': 4423, 'tube': 4424, 'turf': 4425, 'turtl': 4426, 'twice': 4427, 'twothird': 4428, 'umbrella': 4429, 'unabl': 4430, 'uncertainti': 4431, 'underag': 4432, 'undersea': 4433, 'unemploy': 4434, 'unfold': 4435, 'unintent': 4436, 'unrest': 4437, 'unsaf': 4438, 'unstopp': 4439, 'unten': 4440, 'unusu': 4441, 'uranium': 4442, 'utter': 4443, 'varadkar': 4444, 'vegetarian': 4445, 'verdict': 4446, 'vet': 4447, 'viscos': 4448, 'vista': 4449, 'vital': 4450, 'vp': 4451, 'vroom': 4452, 'warfar': 4453, 'warranti': 4454, 'weaken': 4455, 'weed': 4456, 'workforc': 4457, 'written': 4458, 'x2': 4459, 'xi': 4460, 'ye': 4461, 'yousafzai': 4462, 'zillow': 4463, 'zimmer': 4464, '10year': 4465, '12000': 4466, '1215am': 4467, '14yearold': 4468, '1600': 4469, '170000': 4470, '1944': 4471, '1977': 4472, '1981': 4473, '1984': 4474, '1988': 4475, '1995': 4476, '20202025': 4477, '20202027': 4478, '20th': 4479, '21000': 4480, '2200': 4481, '230': 4482, '24000': 4483, '25000': 4484, '27000': 4485, '311': 4486, '35c': 4487, '36': 4488, '360': 4489, '40000': 4490, '47': 4491, '49': 4492, '5230': 4493, '53': 4494, '58': 4495, '600000': 4496, '61': 4497, '63': 4498, '65': 4499, '750': 4500, '82': 4501, '860': 4502, '87': 4503, '900': 4504, 'AAA': 4505, 'ABB': 4506, 'AMED': 4507, 'ANNX': 4508, 'DLPN': 4509, 'EXPO': 4510, 'FBNC': 4511, 'FHB': 4512, 'FVD': 4513, 'GOEV': 4514, 'GURE': 4515, 'ICUI': 4516, 'ILMN': 4517, 'IMRA': 4518, 'JKHY': 4519, 'LACQ': 4520, 'LAUR': 4521, 'NTES': 4522, 'NUVA': 4523, 'PDD': 4524, 'POSH': 4525, 'SCOR': 4526, 'SKYW': 4527, 'SPKE': 4528, 'SSTI': 4529, 'SVA': 4530, 'TLMD': 4531, 'VOD': 4532, 'WYNN': 4533, 'abe': 4534, 'abroad': 4535, 'accion': 4536, 'accur': 4537, 'accuray': 4538, 'aci': 4539, 'acr': 4540, 'acronym': 4541, 'advert': 4542, 'afp': 4543, 'aino': 4544, 'alaska': 4545, 'alex': 4546, 'allah': 4547, 'alltim': 4548, 'ambiti': 4549, 'amedisi': 4550, 'amongst': 4551, 'ann': 4552, 'annex': 4553, 'antenna': 4554, 'antigovern': 4555, 'antipiraci': 4556, 'antiterrorist': 4557, 'antonio': 4558, 'apocalyps': 4559, 'appropri': 4560, 'arnold': 4561, 'asa': 4562, 'asbesto': 4563, 'asham': 4564, 'assign': 4565, 'atmospher': 4566, 'atop': 4567, 'auri': 4568, 'aussi': 4569, 'austria': 4570, 'authent': 4571, 'authoritarian': 4572, 'avatar': 4573, 'avenatti': 4574, 'backup': 4575, 'bacon': 4576, 'bacteria': 4577, 'baker': 4578, 'bangkok': 4579, 'bankrupt': 4580, 'bargain': 4581, 'bark': 4582, 'bayer': 4583, 'behavior': 4584, 'ben': 4585, 'beness': 4586, 'biden': 4587, 'binarybinari': 4588, 'biochem': 4589, 'biographi': 4590, 'biomet': 4591, 'bipartisan': 4592, 'bishop': 4593, 'bitstamp': 4594, 'blind': 4595, 'blizzard': 4596, 'blur': 4597, 'bo': 4598, 'bodyguard': 4599, 'bomber': 4600, 'boot': 4601, 'bottura': 4602, 'boundari': 4603, 'brandnam': 4604, 'breakdown': 4605, 'breakup': 4606, 'broad': 4607, 'broecker': 4608, 'broker': 4609, 'brookdal': 4610, 'brother': 4611, 'browder': 4612, 'bt': 4613, 'builder': 4614, 'bulli': 4615, 'burnt': 4616, 'buse': 4617, 'businessmen': 4618, 'bypass': 4619, 'c15': 4620, 'c24': 4621, 'c30': 4622, 'cage': 4623, 'caiman': 4624, 'cake': 4625, 'calgari': 4626, 'cambodia': 4627, 'campa': 4628, 'canoo': 4629, 'caribbean': 4630, 'carl': 4631, 'carlyl': 4632, 'carmak': 4633, 'casualti': 4634, 'catchment': 4635, 'ceasefir': 4636, 'cellular': 4637, 'ceram': 4638, 'ceremoni': 4639, 'cerner': 4640, 'certifi': 4641, 'chaikin': 4642, 'chamber': 4643, 'championship': 4644, 'charger': 4645, 'charlott': 4646, 'charlottesvil': 4647, 'chavez': 4648, 'cheapest': 4649, 'chilean': 4650, 'choco': 4651, 'chosen': 4652, 'christ': 4653, 'christchurch': 4654, 'circl': 4655, 'circumv': 4656, 'cliff': 4657, 'cocain': 4658, 'cogniz': 4659, 'collector': 4660, 'collus': 4661, 'colombian': 4662, 'com': 4663, 'coma': 4664, 'comeback': 4665, 'commission': 4666, 'compact': 4667, 'comscor': 4668, 'condo': 4669, 'conn': 4670, 'convers': 4671, 'corallo': 4672, 'corn': 4673, 'corona': 4674, 'costum': 4675, 'cowboy': 4676, 'creek': 4677, 'crm': 4678, 'crtc': 4679, 'crypto': 4680, 'cryptocurr': 4681, 'cult': 4682, 'curb': 4683, 'dame': 4684, 'damon': 4685, 'daniel': 4686, 'ddo': 4687, 'decapit': 4688, 'decri': 4689, 'deeper': 4690, 'defect': 4691, 'deficit': 4692, 'definit': 4693, 'denier': 4694, 'descript': 4695, 'desper': 4696, 'devin': 4697, 'dew': 4698, 'dig': 4699, 'diner': 4700, 'dinner': 4701, 'dioxid': 4702, 'disclosur': 4703, 'disgrac': 4704, 'disgust': 4705, 'displac': 4706, 'distinct': 4707, 'disturb': 4708, 'djokov': 4709, 'documentari': 4710, 'domingo': 4711, 'down': 4712, 'drove': 4713, 'drunken': 4714, 'economist': 4715, 'ecuadoran': 4716, 'edgewel': 4717, 'efficaci': 4718, 'eldercar': 4719, 'els': 4720, 'elus': 4721, 'embargo': 4722, 'empir': 4723, 'englishlanguag': 4724, 'enrag': 4725, 'ep': 4726, 'epidem': 4727, 'eric': 4728, 'ericss': 4729, 'erron': 4730, 'esport': 4731, 'estrang': 4732, 'eurozon': 4733, 'ev': 4734, 'evalu': 4735, 'evo': 4736, 'evolv': 4737, 'exoplanet': 4738, 'exot': 4739, 'experienc': 4740, 'experiment': 4741, 'expon': 4742, 'extern': 4743, 'faa': 4744, 'facial': 4745, 'factual': 4746, 'falun': 4747, 'fanduel': 4748, 'fate': 4749, 'faulti': 4750, 'fibr': 4751, 'fiveyear': 4752, 'fizzi': 4753, 'fl': 4754, 'flagship': 4755, 'flexcub': 4756, 'flexshopp': 4757, 'flintobox': 4758, 'flock': 4759, 'foil': 4760, 'foodsafeti': 4761, 'forcibl': 4762, 'forese': 4763, 'forg': 4764, 'forget': 4765, 'framework': 4766, 'frankfurt': 4767, 'fri': 4768, 'fundrais': 4769, 'funer': 4770, 'fur': 4771, 'futurist': 4772, 'galapago': 4773, 'gaull': 4774, 'gender': 4775, 'gene': 4776, 'geoblock': 4777, 'ghana': 4778, 'gig': 4779, 'gii': 4780, 'gillard': 4781, 'ginger': 4782, 'giuliani': 4783, 'glut': 4784, 'gmbh': 4785, 'godx': 4786, 'golan': 4787, 'gong': 4788, 'goodby': 4789, 'goosehead': 4790, 'gordon': 4791, 'graham': 4792, 'grappl': 4793, 'graviti': 4794, 'greenland': 4795, 'greenlight': 4796, 'grew': 4797, 'grissen': 4798, 'gryll': 4799, 'gsm': 4800, 'guyana': 4801, 'haley': 4802, 'halloween': 4803, 'hamilton': 4804, 'hansen': 4805, 'harder': 4806, 'hardwar': 4807, 'haut': 4808, 'hawaiian': 4809, 'hay': 4810, 'healthier': 4811, 'heavyweight': 4812, 'height': 4813, 'heist': 4814, 'herbicid': 4815, 'hero9': 4816, 'hick': 4817, 'hickman': 4818, 'hid': 4819, 'highend': 4820, 'hightech': 4821, 'historian': 4822, 'hokkaido': 4823, 'hom': 4824, 'homemad': 4825, 'homeown': 4826, 'homeshar': 4827, 'hominin': 4828, 'honour': 4829, 'horrifi': 4830, 'horseback': 4831, 'hourli': 4832, 'htel': 4833, 'hussein': 4834, 'icbm': 4835, 'ideanom': 4836, 'ideolog': 4837, 'idex': 4838, 'idf': 4839, 'illumina': 4840, 'imara': 4841, 'imped': 4842, 'incred': 4843, 'inde': 4844, 'indiana': 4845, 'infecti': 4846, 'ingredi': 4847, 'injustic': 4848, 'inscript': 4849, 'insect': 4850, 'inspir': 4851, 'intensifi': 4852, 'interven': 4853, 'intim': 4854, 'invent': 4855, 'ipsi': 4856, 'ir': 4857, 'itv': 4858, 'jakarta': 4859, 'jake': 4860, 'jam': 4861, 'jeff': 4862, 'jeopard': 4863, 'jetblu': 4864, 'jihadi': 4865, 'johannesburg': 4866, 'judo': 4867, 'juic': 4868, 'juri': 4869, 'kabisch': 4870, 'kabul': 4871, 'karachi': 4872, 'kenneth': 4873, 'kerri': 4874, 'keyboard': 4875, 'keygen': 4876, 'khan': 4877, 'knowingli': 4878, 'kohl': 4879, 'koninklijk': 4880, 'kremlinback': 4881, 'kremlinconnect': 4882, 'kushner': 4883, 'labe': 4884, 'ladakh': 4885, 'lai': 4886, 'lama': 4887, 'lamar': 4888, 'lament': 4889, 'largescal': 4890, 'latenight': 4891, 'laugh': 4892, 'lectur': 4893, 'leisur': 4894, 'lengthi': 4895, 'liar': 4896, 'liberian': 4897, 'lifestyl': 4898, 'lilli': 4899, 'linux': 4900, 'lloyd': 4901, 'load': 4902, 'loader': 4903, 'lockhe': 4904, 'log': 4905, 'logitech': 4906, 'lone': 4907, 'lowincom': 4908, 'lunch': 4909, 'lure': 4910, 'machineri': 4911, 'maiden': 4912, 'mainli': 4913, 'mandat': 4914, 'mandelbrot': 4915, 'manslaught': 4916, 'margin': 4917, 'marketwatch': 4918, 'maryland': 4919, 'matti': 4920, 'meanwhil': 4921, 'medina': 4922, 'medio': 4923, 'mer': 4924, 'mercado': 4925, 'mercenari': 4926, 'mere': 4927, 'mersana': 4928, 'mess': 4929, 'metropolitan': 4930, 'michel': 4931, 'microbac': 4932, 'microbi': 4933, 'microwav': 4934, 'midwest': 4935, 'milan': 4936, 'millon': 4937, 'min': 4938, 'mindread': 4939, 'minecraft': 4940, 'minneapoli': 4941, 'mistakenli': 4942, 'mobilis': 4943, 'moder': 4944, 'mom': 4945, 'moneygram': 4946, 'moneymatters2u': 4947, 'monson': 4948, 'montreal': 4949, 'multi': 4950, 'multibilliondollar': 4951, 'mum': 4952, 'mummi': 4953, 'mustain': 4954, 'mw': 4955, 'nanotech': 4956, 'nasdaqig': 4957, 'nbc': 4958, 'neighbour': 4959, 'neobux': 4960, 'nepal': 4961, 'neteas': 4962, 'neutrino': 4963, 'newag': 4964, 'newest': 4965, 'newlypubl': 4966, 'nhim': 4967, 'nie': 4968, 'nikki': 4969, 'nobodi': 4970, 'notic': 4971, 'noticia': 4972, 'novak': 4973, 'novel': 4974, 'nudg': 4975, 'nune': 4976, 'nutrient': 4977, 'nuvi': 4978, 'nz': 4979, 'obscen': 4980, 'occasion': 4981, 'offenc': 4982, 'oliv': 4983, 'omidyar': 4984, 'onreserv': 4985, 'opiumlac': 4986, 'ornat': 4987, 'orwellian': 4988, 'oskar': 4989, 'outcom': 4990, 'outdoor': 4991, 'outlaw': 4992, 'outlin': 4993, 'outnumb': 4994, 'outperform': 4995, 'overal': 4996, 'overlook': 4997, 'overnight': 4998, 'overus': 4999, 'overwhelmingli': 5000, 'owl': 5001, 'oxygen': 5002, 'pak': 5003, 'palomar': 5004, 'pangolin': 5005, 'paperwork': 5006, 'parad': 5007, 'paramount': 5008, 'parrot': 5009, 'patrick': 5010, 'pavilion': 5011, 'pbx': 5012, 'pea': 5013, 'penalti': 5014, 'penc': 5015, 'penn': 5016, 'permit': 5017, 'perpetr': 5018, 'personnel': 5019, 'petsmart': 5020, 'phd': 5021, 'phoni': 5022, 'photoshop': 5023, 'pill': 5024, 'pillow': 5025, 'pinduoduo': 5026, 'pinyin': 5027, 'pit': 5028, 'plagu': 5029, 'plain': 5030, 'playstat': 5031, 'pokemon': 5032, 'pompeii': 5033, 'poseidon': 5034, 'poshmark': 5035, 'possess': 5036, 'postpon': 5037, 'presenc': 5038, 'pretti': 5039, 'prioriti': 5040, 'prism': 5041, 'projectil': 5042, 'propel': 5043, 'proper': 5044, 'prophet': 5045, 'proud': 5046, 'puffer': 5047, 'pyongyang': 5048, 'q1': 5049, 'rabbit': 5050, 'ran': 5051, 'rawabi': 5052, 'reaffirm': 5053, 'realiti': 5054, 'rebat': 5055, 'rebrand': 5056, 'rebut': 5057, 'recipi': 5058, 'redirect': 5059, 'refloat': 5060, 'regain': 5061, 'rejuven': 5062, 'reloj': 5063, 'remdesivir': 5064, 'renoir': 5065, 'renton': 5066, 'residenti': 5067, 'reson': 5068, 'resum': 5069, 'retract': 5070, 'reus': 5071, 'revis': 5072, 'rex': 5073, 'rgame': 5074, 'rio': 5075, 'rioter': 5076, 'robust': 5077, 'rocki': 5078, 'rodrigo': 5079, 'roger': 5080, 'rollout': 5081, 'romania': 5082, 'ron': 5083, 'rough': 5084, 'rundown': 5085, 'runner': 5086, 'runway': 5087, 'rush': 5088, 'russianmad': 5089, 'saa': 5090, 'saddam': 5091, 'safari': 5092, 'saga': 5093, 'sailor': 5094, 'sassoci': 5095, 'scene': 5096, 'scholefield': 5097, 'sear': 5098, 'seattl': 5099, 'seaworld': 5100, 'secondclass': 5101, 'seemingli': 5102, 'seguidor': 5103, 'sek': 5104, 'self': 5105, 'sensor': 5106, 'sentri': 5107, 'ser': 5108, 'shame': 5109, 'shole': 5110, 'shooter': 5111, 'shortsel': 5112, 'shotspott': 5113, 'should': 5114, 'showdown': 5115, 'shrimp': 5116, 'shun': 5117, 'si': 5118, 'siberian': 5119, 'sidestep': 5120, 'siemen': 5121, 'sinovac': 5122, 'skip': 5123, 'skyrocket': 5124, 'skywest': 5125, 'slack': 5126, 'slip': 5127, 'snake': 5128, 'snooker': 5129, 'snow': 5130, 'somali': 5131, 'song': 5132, 'soro': 5133, 'spacecraft': 5134, 'span': 5135, 'spectacular': 5136, 'spous': 5137, 'sqn': 5138, 'squad': 5139, 'ss21': 5140, 'ssl': 5141, 'stabl': 5142, 'stall': 5143, 'stanley': 5144, 'starv': 5145, 'stereotyp': 5146, 'strand': 5147, 'stranger': 5148, 'strap': 5149, 'string': 5150, 'strongli': 5151, 'stuff': 5152, 'stumbl': 5153, 'stunt': 5154, 'stylish': 5155, 'sub': 5156, 'subpoena': 5157, 'subsid': 5158, 'sudden': 5159, 'supercomput': 5160, 'supplement': 5161, 'surplu': 5162, 'surround': 5163, 'swift': 5164, 'swine': 5165, 'syngenta': 5166, 'tabloid': 5167, 'taco': 5168, 'taiwanes': 5169, 'tanker': 5170, 'tatar': 5171, 'tea': 5172, 'telegraph': 5173, 'telephon': 5174, 'teliasonera': 5175, 'tenant': 5176, 'tent': 5177, 'teradyn': 5178, 'terribl': 5179, 'testifi': 5180, 'theater': 5181, 'they': 5182, 'thiel': 5183, 'throne': 5184, 'thug': 5185, 'thula': 5186, 'ti': 5187, 'tick': 5188, 'till': 5189, 'timelin': 5190, 'titl': 5191, 'tofu': 5192, 'token': 5193, 'toler': 5194, 'torch': 5195, 'toughest': 5196, 'tout': 5197, 'trainer': 5198, 'transplant': 5199, 'trinidad': 5200, 'trio': 5201, 'triu': 5202, 'trong': 5203, 'twitch': 5204, 'ub': 5205, 'uganda': 5206, 'ugandan': 5207, 'ultra': 5208, 'unaccept': 5209, 'unanim': 5210, 'unarm': 5211, 'unavoid': 5212, 'uncontrol': 5213, 'underwat': 5214, 'undocu': 5215, 'uneth': 5216, 'unexpect': 5217, 'ung': 5218, 'unhealthi': 5219, 'unlik': 5220, 'unravel': 5221, 'unreli': 5222, 'upheld': 5223, 'usag': 5224, 'uturn': 5225, 'vagrant': 5226, 'van': 5227, 'vancouv': 5228, 'vega': 5229, 'vegan': 5230, 'vend': 5231, 'vera': 5232, 'verif': 5233, 'viagra': 5234, 'viasat': 5235, 'viciou': 5236, 'virgin': 5237, 'vision': 5238, 'vodafon': 5239, 'volatil': 5240, 'voluntari': 5241, 'voyag': 5242, 'w580i': 5243, 'waiv': 5244, 'walker': 5245, 'wallac': 5246, 'warrant': 5247, 'warren': 5248, 'weekday': 5249, 'weekli': 5250, 'weigh': 5251, 'weight': 5252, 'wen': 5253, 'westerndomin': 5254, 'who': 5255, 'wholesal': 5256, 'will': 5257, 'windfal': 5258, 'wonder': 5259, 'worstev': 5260, 'wow': 5261, 'wsj': 5262, 'ww2': 5263, 'x10': 5264, 'xs': 5265, 'yanke': 5266, 'yellow': 5267, 'yield': 5268, 'zpay': 5269, 'zverev': 5270, '0': 5271, '0317': 5272, '0703': 5273, '100k': 5274, '101': 5275, '112': 5276, '118': 5277, '1200': 5278, '120000': 5279, '12hour': 5280, '12year': 5281, '13000': 5282, '136': 5283, '14500': 5284, '161': 5285, '165': 5286, '17000': 5287, '18000': 5288, '1865': 5289, '190': 5290, '1900': 5291, '1972': 5292, '1985': 5293, '1989': 5294, '2002': 5295, '20bn': 5296, '210': 5297, '2300yearold': 5298, '2469': 5299, '24yearold': 5300, '2500': 5301, '250bc': 5302, '252bn': 5303, '280': 5304, '29500': 5305, '30000': 5306, '3000yearold': 5307, '305': 5308, '31': 5309, '340': 5310, '345': 5311, '3681': 5312, '395': 5313, '3rd': 5314, '3year': 5315, '416': 5316, '4bn': 5317, '62': 5318, '64': 5319, '66': 5320, '68': 5321, '69': 5322, '80th': 5323, '84': 5324, '84000': 5325, '86': 5326, '9000': 5327, '91': 5328, '930': 5329, '94yearold': 5330, 'AAU': 5331, 'ANSS': 5332, 'ATHX': 5333, 'BILI': 5334, 'CGIX': 5335, 'CHCT': 5336, 'DCT': 5337, 'DTEA': 5338, 'EQIX': 5339, 'FIZZ': 5340, 'FNKO': 5341, 'HCAT': 5342, 'INO': 5343, 'IPWR': 5344, 'JACK': 5345, 'KMDA': 5346, 'MDB': 5347, 'MESO': 5348, 'MGI': 5349, 'MLHR': 5350, 'MYFW': 5351, 'NTNX': 5352, 'OPCH': 5353, 'PEGA': 5354, 'RESN': 5355, 'SBLK': 5356, 'SRNE': 5357, 'SSYS': 5358, 'TCX': 5359, 'TXRH': 5360, 'UNH': 5361, 'VEON': 5362, 'VRA': 5363, 'VRM': 5364, 'XRAY': 5365, 'abba': 5366, 'ac': 5367, 'acta': 5368, 'acut': 5369, 'adorn': 5370, 'advic': 5371, 'aero': 5372, 'afraid': 5373, 'agco': 5374, 'agjunct': 5375, 'alarmist': 5376, 'albert': 5377, 'alberta': 5378, 'album': 5379, 'ali': 5380, 'allen': 5381, 'almati': 5382, 'aluminium': 5383, 'amateur': 5384, 'amazonian': 5385, 'amen': 5386, 'ampamp': 5387, 'amplifi': 5388, 'anabol': 5389, 'anbar': 5390, 'anglo': 5391, 'ankara': 5392, 'ansi': 5393, 'ant': 5394, 'antarctica': 5395, 'antelop': 5396, 'anticorrupt': 5397, 'antidemocrat': 5398, 'antidop': 5399, 'antiimmigr': 5400, 'anyth': 5401, 'anywher': 5402, 'ao': 5403, 'apollo': 5404, 'apostroph': 5405, 'appeas': 5406, 'arafat': 5407, 'architect': 5408, 'architectur': 5409, 'argentin': 5410, 'armor': 5411, 'armyworm': 5412, 'arrang': 5413, 'ash': 5414, 'ashor': 5415, 'asiana': 5416, 'aspir': 5417, 'assert': 5418, 'assumpt': 5419, 'astro': 5420, 'asylumseek': 5421, 'atheist': 5422, 'attitud': 5423, 'aug': 5424, 'avgo': 5425, 'axe': 5426, 'axi': 5427, 'azerbaijan': 5428, 'baba': 5429, 'bangladeshi': 5430, 'barak': 5431, 'barbara': 5432, 'barrack': 5433, 'baton': 5434, 'bd': 5435, 'beast': 5436, 'beg': 5437, 'behest': 5438, 'belov': 5439, 'benghazi': 5440, 'bere': 5441, 'bermuda': 5442, 'bestsel': 5443, 'betray': 5444, 'bibl': 5445, 'biggestev': 5446, 'bio': 5447, 'biocept': 5448, 'biodivers': 5449, 'biologist': 5450, 'biontech': 5451, 'biopharma': 5452, 'biopharmaceut': 5453, 'bitch': 5454, 'bitter': 5455, 'bjp': 5456, 'blacklist': 5457, 'blackwat': 5458, 'bladder': 5459, 'blankfein': 5460, 'blatter': 5461, 'blew': 5462, 'bln': 5463, 'bloc': 5464, 'blockad': 5465, 'blueprint': 5466, 'boast': 5467, 'bogu': 5468, 'bold': 5469, 'bolster': 5470, 'bookkeep': 5471, 'boon': 5472, 'bore': 5473, 'bosnia': 5474, 'boson': 5475, 'bra': 5476, 'brag': 5477, 'brasil': 5478, 'breath': 5479, 'breweri': 5480, 'broadband': 5481, 'broader': 5482, 'brooklyn': 5483, 'browser': 5484, 'brunei': 5485, 'bruno': 5486, 'bs': 5487, 'buffett': 5488, 'bullion': 5489, 'bullish': 5490, 'bundl': 5491, 'burberri': 5492, 'bureau': 5493, 'busch': 5494, 'businessman': 5495, 'bustl': 5496, 'c11': 5497, 'c130': 5498, 'cairo': 5499, 'calm': 5500, 'can': 5501, 'caregiv': 5502, 'carmen': 5503, 'carter': 5504, 'cascad': 5505, 'categori': 5506, 'cavalri': 5507, 'cb': 5508, 'cctv': 5509, 'cecil': 5510, 'cellphon': 5511, 'cfo': 5512, 'chanel': 5513, 'char': 5514, 'chariot': 5515, 'checkin': 5516, 'chelsea': 5517, 'chicago': 5518, 'childless': 5519, 'chill': 5520, 'chipmak': 5521, 'chipotl': 5522, 'choru': 5523, 'chronicl': 5524, 'ci': 5525, 'circu': 5526, 'citigroup': 5527, 'civilis': 5528, 'clapper': 5529, 'classic': 5530, 'cleanenergi': 5531, 'cleaner': 5532, 'clip': 5533, 'clog': 5534, 'coalmin': 5535, 'coin': 5536, 'coincid': 5537, 'cole': 5538, 'combo': 5539, 'commemor': 5540, 'commod': 5541, 'commonwealth': 5542, 'compass': 5543, 'complejo': 5544, 'complianc': 5545, 'complicit': 5546, 'comr': 5547, 'concept': 5548, 'concert': 5549, 'concess': 5550, 'conclud': 5551, 'condoleezza': 5552, 'conector': 5553, 'congo': 5554, 'consecut': 5555, 'consent': 5556, 'consolid': 5557, 'constant': 5558, 'construir': 5559, 'consul': 5560, 'contempt': 5561, 'copper': 5562, 'correct': 5563, 'correctli': 5564, 'cosmic': 5565, 'costli': 5566, 'courtroom': 5567, 'coward': 5568, 'cp': 5569, 'crab': 5570, 'craft': 5571, 'craig': 5572, 'creation': 5573, 'creatur': 5574, 'crecimiento': 5575, 'crook': 5576, 'cruelti': 5577, 'crusad': 5578, 'ctv': 5579, 'curios': 5580, 'curs': 5581, 'curso': 5582, 'cyberspac': 5583, 'daesh': 5584, 'danc': 5585, 'dare': 5586, 'datacent': 5587, 'davidstea': 5588, 'davo': 5589, 'dbamidlandfundingllcfdcpa': 5590, 'dealer': 5591, 'dealt': 5592, 'dean': 5593, 'deepli': 5594, 'defraud': 5595, 'degrass': 5596, 'dehydr': 5597, 'deleg': 5598, 'delicaci': 5599, 'dem': 5600, 'demo': 5601, 'denial': 5602, 'dentist': 5603, 'dentspli': 5604, 'depress': 5605, 'deputi': 5606, 'deserv': 5607, 'desktop': 5608, 'despu': 5609, 'detector': 5610, 'dethron': 5611, 'dey': 5612, 'diagnost': 5613, 'diamond': 5614, 'dictatorship': 5615, 'dilut': 5616, 'dine': 5617, 'dirtiest': 5618, 'disagr': 5619, 'disagre': 5620, 'disappoint': 5621, 'discard': 5622, 'discont': 5623, 'discredit': 5624, 'dismantl': 5625, 'disneyland': 5626, 'disparag': 5627, 'dispatch': 5628, 'dive': 5629, 'diver': 5630, 'diversifi': 5631, 'dodg': 5632, 'dominican': 5633, 'doom': 5634, 'doren': 5635, 'dosi': 5636, 'dossier': 5637, 'dot': 5638, 'doug': 5639, 'downtown': 5640, 'dreamlin': 5641, 'drinkdriv': 5642, 'drown': 5643, 'dubiou': 5644, 'dublin': 5645, 'dung': 5646, 'dusssshtbin': 5647, 'dylan': 5648, 'dynam': 5649, 'e7': 5650, 'ecb': 5651, 'eclips': 5652, 'econ': 5653, 'economa': 5654, 'ecosystem': 5655, 'ecpg': 5656, 'edwardsjoseph36': 5657, 'eject': 5658, 'eldeco': 5659, 'electromagnet': 5660, 'eman': 5661, 'embattl': 5662, 'embed': 5663, 'embroil': 5664, 'emoji': 5665, 'emot': 5666, 'empow': 5667, 'encor': 5668, 'encyclopedia': 5669, 'endless': 5670, 'enorm': 5671, 'enslav': 5672, 'enthusiasm': 5673, 'equifax': 5674, 'espaa': 5675, 'exce': 5676, 'excit': 5677, 'exclud': 5678, 'excus': 5679, 'exhaitian': 5680, 'exil': 5681, 'exnazi': 5682, 'expat': 5683, 'expel': 5684, 'explod': 5685, 'fahrenheit': 5686, 'faint': 5687, 'fallen': 5688, 'falsifi': 5689, 'fame': 5690, 'fare': 5691, 'farmland': 5692, 'fascin': 5693, 'fastfood': 5694, 'feb': 5695, 'fedex': 5696, 'fianc': 5697, 'fidel': 5698, 'fiji': 5699, 'fileshar': 5700, 'filmmak': 5701, 'finder': 5702, 'finest': 5703, 'finnish': 5704, 'firstquart': 5705, 'flipboard': 5706, 'flir': 5707, 'flop': 5708, 'flotilla': 5709, 'flown': 5710, 'fluorid': 5711, 'flynn': 5712, 'folder': 5713, 'folha': 5714, 'forbidden': 5715, 'forgotten': 5716, 'formerli': 5717, 'formula': 5718, 'fort': 5719, 'fossilfuel': 5720, 'fourth': 5721, 'fraction': 5722, 'franciscobas': 5723, 'franken': 5724, 'freak': 5725, 'freez': 5726, 'frequenc': 5727, 'friendli': 5728, 'frito': 5729, 'fugit': 5730, 'fujitsu': 5731, 'funder': 5732, 'funko': 5733, 'fusion': 5734, 'gairsoppa': 5735, 'galatian': 5736, 'gb': 5737, 'gchq': 5738, 'geek': 5739, 'gen': 5740, 'genr': 5741, 'gentli': 5742, 'genuin': 5743, 'geodesico': 5744, 'germ': 5745, 'glitch': 5746, 'goheen': 5747, 'goodyear': 5748, 'gove': 5749, 'governmentauthor': 5750, 'governmentmand': 5751, 'gradual': 5752, 'grail': 5753, 'gravit': 5754, 'gray': 5755, 'grohl': 5756, 'groin': 5757, 'gross': 5758, 'gt': 5759, 'guinea': 5760, 'gunmen': 5761, 'gust': 5762, 'gymnast': 5763, 'ha': 5764, 'hadrian': 5765, 'hagu': 5766, 'haiyan': 5767, 'hamburg': 5768, 'han': 5769, 'handbag': 5770, 'handgun': 5771, 'handmad': 5772, 'har': 5773, 'hardest': 5774, 'hassan': 5775, 'haughey': 5776, 'hawaii': 5777, 'headless': 5778, 'headlin': 5779, 'headset': 5780, 'heater': 5781, 'hebdo': 5782, 'hefti': 5783, 'hekla': 5784, 'herd': 5785, 'herman': 5786, 'herodotu': 5787, 'hewlett': 5788, 'higg': 5789, 'highestlevel': 5790, 'highway': 5791, 'hillari': 5792, 'hive': 5793, 'hk': 5794, 'hkmap': 5795, 'hng': 5796, 'hobo': 5797, 'homegrown': 5798, 'homo': 5799, 'homosexu': 5800, 'honey': 5801, 'honeybe': 5802, 'hormon': 5803, 'horni': 5804, 'horoscop': 5805, 'hostil': 5806, 'houroffir': 5807, 'houston': 5808, 'hudson': 5809, 'hugo': 5810, 'humidifi': 5811, 'humili': 5812, 'hungri': 5813, 'hurghada': 5814, 'hydro': 5815, 'hydroxychloroquin': 5816, 'hygien': 5817, 'hypocrisi': 5818, 'hypothermia': 5819, 'i502': 5820, 'iac': 5821, 'iaf': 5822, 'icon': 5823, 'idl': 5824, 'idol': 5825, 'iii': 5826, 'illicit': 5827, 'immin': 5828, 'impress': 5829, 'improp': 5830, 'in': 5831, 'inclus': 5832, 'inconclus': 5833, 'incrimin': 5834, 'inflammatori': 5835, 'influenti': 5836, 'influx': 5837, 'infosi': 5838, 'infuri': 5839, 'ink': 5840, 'inovio': 5841, 'insecticid': 5842, 'insert': 5843, 'intact': 5844, 'interceptor': 5845, 'interestfre': 5846, 'interf': 5847, 'interior': 5848, 'introduct': 5849, 'intrud': 5850, 'inventor': 5851, 'invis': 5852, 'ipod': 5853, 'irhythm': 5854, 'iriv': 5855, 'isp': 5856, 'israelioccupi': 5857, 'istanbul': 5858, 'iteri': 5859, 'ivanka': 5860, 'ivori': 5861, 'j15': 5862, 'jab': 5863, 'jak': 5864, 'jare': 5865, 'jc': 5866, 'jeopardi': 5867, 'jewel': 5868, 'jiangsu': 5869, 'jinp': 5870, 'joey': 5871, 'jpop': 5872, 'junior': 5873, 'jurisdict': 5874, 'justifi': 5875, 'justin': 5876, 'kaesong': 5877, 'kamada': 5878, 'kapsch': 5879, 'karl': 5880, 'kellogg': 5881, 'kent': 5882, 'kenyan': 5883, 'kern': 5884, 'kesh': 5885, 'keyston': 5886, 'kidney': 5887, 'klix': 5888, 'kogan': 5889, 'koran': 5890, 'kosor': 5891, 'kredittkort': 5892, 'kzn': 5893, 'lam': 5894, 'landown': 5895, 'largestev': 5896, 'laser': 5897, 'lavinia': 5898, 'lawless': 5899, 'layoff': 5900, 'leap': 5901, 'leftov': 5902, 'legalis': 5903, 'legitim': 5904, 'leicestershir': 5905, 'lender': 5906, 'lesbian': 5907, 'ley': 5908, 'lhc': 5909, 'libor': 5910, 'libr': 5911, 'lifelin': 5912, 'lightn': 5913, 'lil': 5914, 'linen': 5915, 'lineup': 5916, 'litr': 5917, 'livestream': 5918, 'lizard': 5919, 'lockedin': 5920, 'lodg': 5921, 'loosen': 5922, 'lovelock': 5923, 'lover': 5924, 'loyalist': 5925, 'loyalti': 5926, 'ltima': 5927, 'luggag': 5928, 'lunchbox': 5929, 'lynch': 5930, 'ma': 5931, 'macadamia': 5932, 'madison': 5933, 'mag': 5934, 'malaria': 5935, 'malcolm': 5936, 'manhunt': 5937, 'mankind': 5938, 'manner': 5939, 'manson': 5940, 'manual': 5941, 'marathon': 5942, 'marbl': 5943, 'marcu': 5944, 'mari': 5945, 'mario': 5946, 'marketplac': 5947, 'marvel': 5948, 'matt': 5949, 'md': 5950, 'mediterranean': 5951, 'membership': 5952, 'merciless': 5953, 'merit': 5954, 'metadata': 5955, 'methlik': 5956, 'mhoni': 5957, 'microphon': 5958, 'mid': 5959, 'mighti': 5960, 'miguel': 5961, 'miliband': 5962, 'milki': 5963, 'miller': 5964, 'mimecast': 5965, 'mindboggl': 5966, 'minh': 5967, 'minu': 5968, 'miracl': 5969, 'misl': 5970, 'mit': 5971, 'mo': 5972, 'mongodb': 5973, 'monti': 5974, 'mori': 5975, 'mossack': 5976, 'mover': 5977, 'mp3': 5978, 'muddi': 5979, 'muebl': 5980, 'mujica': 5981, 'multimilliondollar': 5982, 'muslimmajor': 5983, 'mutil': 5984, 'mutual': 5985, 'myth': 5986, 'mythic': 5987, 'nasdaqfb': 5988, 'nash': 5989, 'nationalist': 5990, 'nationst': 5991, 'naval': 5992, 'neanderth': 5993, 'necklac': 5994, 'neocon': 5995, 'nevada': 5996, 'newlyunveil': 5997, 'ngay': 5998, 'nguyn': 5999, 'nicaragua': 6000, 'nile': 6001, 'nio': 6002, 'nissan': 6003, 'nitrogen': 6004, 'nonchal': 6005, 'nonstop': 6006, 'norfolk': 6007, 'notebook': 6008, 'nova': 6009, 'nra': 6010, 'nsw': 6011, 'nuanc': 6012, 'nude': 6013, 'nuestro': 6014, 'nueva': 6015, 'nuevo': 6016, 'numer': 6017, 'nutanix': 6018, 'nvda': 6019, 'nypd': 6020, 'oblig': 6021, 'observatori': 6022, 'obsess': 6023, 'obsolesc': 6024, 'obstruct': 6025, 'oceansurfac': 6026, 'odyssey': 6027, 'ohio': 6028, 'oilextract': 6029, 'oklahoma': 6030, 'olson': 6031, 'oman': 6032, 'onechild': 6033, 'ont': 6034, 'opec': 6035, 'orang': 6036, 'orbi': 6037, 'orca': 6038, 'orchestr': 6039, 'oregon': 6040, 'orion': 6041, 'orphan': 6042, 'osama': 6043, 'osborn': 6044, 'oscil': 6045, 'oslo': 6046, 'ostrich': 6047, 'ot': 6048, 'outdat': 6049, 'outing': 6050, 'outpac': 6051, 'ovarian': 6052, 'overblown': 6053, 'overdos': 6054, 'overhaul': 6055, 'oversight': 6056, 'overview': 6057, 'p3': 6058, 'packard': 6059, 'pad': 6060, 'paedophil': 6061, 'paleontolog': 6062, 'panda': 6063, 'panera': 6064, 'paragraph': 6065, 'paralysi': 6066, 'paramilitari': 6067, 'parker': 6068, 'pasta': 6069, 'pastor': 6070, 'pat': 6071, 'pathologist': 6072, 'patron': 6073, 'paulin': 6074, 'pave': 6075, 'peasant': 6076, 'pegasystem': 6077, 'pell': 6078, 'pelt': 6079, 'pendant': 6080, 'peni': 6081, 'penil': 6082, 'peninsula': 6083, 'pepe': 6084, 'percentag': 6085, 'perfectli': 6086, 'perissodactyla': 6087, 'permafrost': 6088, 'perri': 6089, 'persuad': 6090, 'perth': 6091, 'pervas': 6092, 'petroleumbas': 6093, 'pew': 6094, 'pfa': 6095, 'pfizerbiontech': 6096, 'phng': 6097, 'phonehack': 6098, 'phuzemthonjeni': 6099, 'phytoplankton': 6100, 'pi': 6101, 'pichai': 6102, 'pierr': 6103, 'pineappl': 6104, 'pipe': 6105, 'plate': 6106, 'playbook': 6107, 'plaza': 6108, 'plenti': 6109, 'pluck': 6110, 'po': 6111, 'poitra': 6112, 'pokmon': 6113, 'politico': 6114, 'polonium': 6115, 'pond': 6116, 'postbrexit': 6117, 'postwar': 6118, 'predatori': 6119, 'predominantli': 6120, 'prefectur': 6121, 'preorder': 6122, 'prep': 6123, 'presbyterian': 6124, 'pretend': 6125, 'prioritis': 6126, 'pristin': 6127, 'prizewin': 6128, 'proce': 6129, 'processor': 6130, 'professor': 6131, 'profici': 6132, 'profound': 6133, 'prospect': 6134, 'prosper': 6135, 'provinci': 6136, 'provis': 6137, 'provoc': 6138, 'provok': 6139, 'psycholog': 6140, 'pub': 6141, 'pullback': 6142, 'punch': 6143, 'pune': 6144, 'punjab': 6145, 'purg': 6146, 'pursuit': 6147, 'py': 6148, 'q4': 6149, 'qaeda': 6150, 'qiangdong': 6151, 'qqq': 6152, 'quadripleg': 6153, 'qualifi': 6154, 'quantiti': 6155, 'rabbi': 6156, 'rachel': 6157, 'rack': 6158, 'radar': 6159, 'raf': 6160, 'rahman': 6161, 'railway': 6162, 'rajouri': 6163, 'ramdev': 6164, 'raqqa': 6165, 'raw': 6166, 'razer': 6167, 'realiz': 6168, 'rearrest': 6169, 'reassur': 6170, 'rebound': 6171, 'recep': 6172, 'reciev': 6173, 'reclassif': 6174, 'redesign': 6175, 'rediscov': 6176, 'reduct': 6177, 'reec': 6178, 'refer': 6179, 'referr': 6180, 'regret': 6181, 'reimpos': 6182, 'relax': 6183, 'relay': 6184, 'reloc': 6185, 'remak': 6186, 'remembr': 6187, 'remors': 6188, 'reorganis': 6189, 'republican': 6190, 'reput': 6191, 'rescuer': 6192, 'resolut': 6193, 'restrain': 6194, 'reusabl': 6195, 'reviv': 6196, 'rewrit': 6197, 'rican': 6198, 'ridehail': 6199, 'rihanna': 6200, 'rile': 6201, 'rlegalnew': 6202, 'roadhous': 6203, 'robosign': 6204, 'rooftop': 6205, 'rosetta': 6206, 'roubl': 6207, 'rude': 6208, 'ruel': 6209, 'ruler': 6210, 's100s300': 6211, 's300': 6212, 'sabl': 6213, 'sabotag': 6214, 'sad': 6215, 'salesforcesmartvisca': 6216, 'salmon': 6217, 'salvag': 6218, 'satir': 6219, 'scala': 6220, 'scenario': 6221, 'schindler': 6222, 'scope': 6223, 'scorn': 6224, 'scotia': 6225, 'screw': 6226, 'scurril': 6227, 'sdk': 6228, 'sealevel': 6229, 'secreci': 6230, 'sentiment': 6231, 'sequel': 6232, 'serb': 6233, 'serial': 6234, 'sevilla': 6235, 'shambl': 6236, 'shandong': 6237, 'shang': 6238, 'shanghai': 6239, 'sharapova': 6240, 'shard': 6241, 'she': 6242, 'shele': 6243, 'shenhua': 6244, 'shine': 6245, 'shit': 6246, 'shopper': 6247, 'shore': 6248, 'shutdown': 6249, 'shutter': 6250, 'sieg': 6251, 'significantli': 6252, 'sinclair': 6253, 'sinkhol': 6254, 'sirona': 6255, 'skid': 6256, 'skinni': 6257, 'skirt': 6258, 'skype': 6259, 'skywork': 6260, 'slogan': 6261, 'slowdown': 6262, 'smother': 6263, 'sobr': 6264, 'sochi': 6265, 'sodastream': 6266, 'softbank': 6267, 'soil': 6268, 'solo': 6269, 'sorrento': 6270, 'soul': 6271, 'sovereignti': 6272, 'sovietthem': 6273, 'spa': 6274, 'spam': 6275, 'spartan': 6276, 'specifi': 6277, 'sprawl': 6278, 'sprint': 6279, 'spx': 6280, 'squid': 6281, 'sssshhould': 6282, 'stamp': 6283, 'statecontrol': 6284, 'stateissu': 6285, 'stearn': 6286, 'stimul': 6287, 'stir': 6288, 'strait': 6289, 'straw': 6290, 'strongest': 6291, 'stuck': 6292, 'stuttgart': 6293, 'styrofoam': 6294, 'su27': 6295, 'substitutionari': 6296, 'subway': 6297, 'sugari': 6298, 'sundar': 6299, 'surrend': 6300, 'suspici': 6301, 'swallow': 6302, 'swastika': 6303, 'swaziland': 6304, 'sweet': 6305, 'swimmer': 6306, 'sympathet': 6307, 'synthesi': 6308, 'synthet': 6309, 't': 6310, 'tab': 6311, 'tahrir': 6312, 'tail': 6313, 'tale': 6314, 'tallinn': 6315, 'tamil': 6316, 'tampa': 6317, 'taoiseach': 6318, 'tar': 6319, 'tasti': 6320, 'tattoo': 6321, 'taunt': 6322, 'techdebut': 6323, 'techi': 6324, 'technoloy': 6325, 'teeth': 6326, 'telephoni': 6327, 'telu': 6328, 'testtak': 6329, 'thc': 6330, 'theatr': 6331, 'thermal': 6332, 'thief': 6333, 'thiev': 6334, 'thirdparti': 6335, 'thorn': 6336, 'threeleg': 6337, 'thrive': 6338, 'tibco': 6339, 'tide': 6340, 'tiempo': 6341, 'tieto': 6342, 'tikrit': 6343, 'timberland': 6344, 'tiu': 6345, 'tm': 6346, 'toda': 6347, 'toil': 6348, 'tom': 6349, 'tomato': 6350, 'tone': 6351, 'topic': 6352, 'totoaba': 6353, 'tracker': 6354, 'trailer': 6355, 'traumat': 6356, 'tre': 6357, 'treason': 6358, 'trespass': 6359, 'tripoli': 6360, 'trng': 6361, 'tropic': 6362, 'trove': 6363, 'truthdig': 6364, 'tsunami': 6365, 'tsunggan': 6366, 'tucow': 6367, 'turmoil': 6368, 'turo': 6369, 'tutori': 6370, 'twinki': 6371, 'tycoon': 6372, 'tyson': 6373, 'ultrafast': 6374, 'unannounc': 6375, 'unawar': 6376, 'unclear': 6377, 'unconvent': 6378, 'undergo': 6379, 'underst': 6380, 'unexplod': 6381, 'unfavour': 6382, 'unicef': 6383, 'unimagin': 6384, 'uninhabit': 6385, 'unison': 6386, 'unitedhealth': 6387, 'unman': 6388, 'unparallel': 6389, 'up': 6390, 'upheav': 6391, 'uphold': 6392, 'upland': 6393, 'uproar': 6394, 'uptick': 6395, 'uschina': 6396, 'ussuppli': 6397, 'usuario': 6398, 'v4': 6399, 'va': 6400, 'variant': 6401, 'vastli': 6402, 'veget': 6403, 'veggi': 6404, 'veil': 6405, 'venom': 6406, 'venta': 6407, 'veon': 6408, 'verbal': 6409, 'vicepremi': 6410, 'vid': 6411, 'viet': 6412, 'viewer': 6413, 'vinc': 6414, 'vintag': 6415, 'violationsslam': 6416, 'vj': 6417, 'vkontakt': 6418, 'voip': 6419, 'volum': 6420, 'voraci': 6421, 'w395': 6422, 'w595': 6423, 'waiter': 6424, 'wallenberg': 6425, 'wannacrypt': 6426, 'warmer': 6427, 'warmong': 6428, 'warplan': 6429, 'wash': 6430, 'waterboard': 6431, 'weaponri': 6432, 'webmast': 6433, 'wellknown': 6434, 'wet': 6435, 'whatev': 6436, 'wheel': 6437, 'wiki': 6438, 'wikipedia': 6439, 'wildcat': 6440, 'wing': 6441, 'wiretap': 6442, 'withdrew': 6443, 'withstand': 6444, 'witti': 6445, 'woe': 6446, 'woke': 6447, 'wolf': 6448, 'workout': 6449, 'workplac': 6450, 'wq': 6451, 'wwii': 6452, 'xanh': 6453, 'xbox': 6454, 'xiang': 6455, 'xilinx': 6456, 'xml': 6457, 'yacht': 6458, 'yara': 6459, 'yen': 6460, 'yonhap': 6461, 'you': 6462, 'z': 6463, 'z1': 6464, 'zaki': 6465, 'zte': 6466, '01': 6467, '0800': 6468, '0817': 6469, '0s': 6470, '100d': 6471, '100millioneuro': 6472, '100tn': 6473, '1062': 6474, '1078': 6475, '10week': 6476, '111millionton': 6477, '113': 6478, '115': 6479, '1200yearold': 6480, '1214978': 6481, '1217': 6482, '124': 6483, '12yearold': 6484, '130': 6485, '1300': 6486, '1300gmt': 6487, '1320month': 6488, '137': 6489, '13bn': 6490, '13inch': 6491, '14000': 6492, '140000000': 6493, '1450': 6494, '14811425': 6495, '149': 6496, '1490lmt': 6497, '14th': 6498, '14yearlong': 6499, '1511': 6500, '155': 6501, '15yearold': 6502, '169': 6503, '17th': 6504, '17yo': 6505, '183': 6506, '185': 6507, '185260': 6508, '18882395201': 6509, '18bn': 6510, '191': 6511, '1920': 6512, '1942': 6513, '1950': 6514, '1956': 6515, '19862005': 6516, '19891993': 6517, '1998': 6518, '1mdb': 6519, '1s': 6520, '2003': 6521, '20032006': 6522, '2006': 6523, '2009mel': 6524, '20122013': 6525, '20172023': 6526, '20192026': 6527, '2024': 6528, '2027microsoft': 6529, '20b': 6530, '20page': 6531, '215': 6532, '220': 6533, '2204': 6534, '235': 6535, '238': 6536, '2426': 6537, '250b': 6538, '252': 6539, '25bn': 6540, '260000': 6541, '2612': 6542, '270': 6543, '275': 6544, '27b': 6545, '2800': 6546, '29yearold': 6547, '2c': 6548, '2minut': 6549, '2ndlargest': 6550, '300000yearold': 6551, '30c': 6552, '320u': 6553, '3300': 6554, '33000': 6555, '332': 6556, '335': 6557, '3500yrold': 6558, '361': 6559, '362': 6560, '36year': 6561, '370': 6562, '37000yrold': 6563, '375000': 6564, '37yearold': 6565, '380': 6566, '39409': 6567, '396': 6568, '3day': 6569, '3dprint': 6570, '3s': 6571, '400000': 6572, '40cent': 6573, '40megawatt': 6574, '4429': 6575, '4500yearold': 6576, '45c': 6577, '45million': 6578, '4c': 6579, '4glte': 6580, '4k': 6581, '4khdrhd': 6582, '4th': 6583, '4x': 6584, '501st': 6585, '50yr': 6586, '51': 6587, '510': 6588, '531': 6589, '543933': 6590, '550': 6591, '55000': 6592, '553': 6593, '59': 6594, '59foot': 6595, '5yearold': 6596, '62737': 6597, '640000': 6598, '650': 6599, '66000': 6600, '67': 6601, '67yearold': 6602, '6c': 6603, '6hour': 6604, '71': 6605, '72': 6606, '747': 6607, '761': 6608, '7700': 6609, '777300er': 6610, '78xp': 6611, '7b': 6612, '80000': 6613, '80yearold': 6614, '850': 6615, '870': 6616, '88': 6617, '88year': 6618, '89': 6619, '8bn': 6620, '8hour': 6621, '90000': 6622, '90pc': 6623, '910xt': 6624, '91216': 6625, '914': 6626, '92yearold': 6627, '95yearold': 6628, '96000': 6629, '969': 6630, '97': 6631, '98yearold': 6632, 'AAWW': 6633, 'ACES': 6634, 'ACIW': 6635, 'ALGN': 6636, 'AMBA': 6637, 'AMCX': 6638, 'ANGN': 6639, 'APPS': 6640, 'BGCP': 6641, 'BIOC': 6642, 'BKNG': 6643, 'BLUW': 6644, 'BRP': 6645, 'CEVA': 6646, 'CPRT': 6647, 'CPRX': 6648, 'CSGP': 6649, 'EARS': 6650, 'ECOL': 6651, 'EHTH': 6652, 'EXPE': 6653, 'EYES': 6654, 'FFIV': 6655, 'FLIR': 6656, 'FMBI': 6657, 'GLUU': 6658, 'GROW': 6659, 'GSHD': 6660, 'GWRS': 6661, 'HIBB': 6662, 'HMST': 6663, 'HTBK': 6664, 'IDEX': 6665, 'IMGN': 6666, 'IMV': 6667, 'IOSP': 6668, 'KERN': 6669, 'LESL': 6670, 'LI': 6671, 'MGLN': 6672, 'MIME': 6673, 'MPB': 6674, 'MRCY': 6675, 'MRSN': 6676, 'MTBC': 6677, 'MYGN': 6678, 'NATH': 6679, 'NUAN': 6680, 'OTLK': 6681, 'PDLB': 6682, 'PENN': 6683, 'POLA': 6684, 'PYPL': 6685, 'RDWR': 6686, 'RNWK': 6687, 'RUN': 6688, 'SAIA': 6689, 'SBGI': 6690, 'SCVL': 6691, 'SDC': 6692, 'SFT': 6693, 'SIGI': 6694, 'SNPS': 6695, 'SWIR': 6696, 'SWKS': 6697, 'TELL': 6698, 'TER': 6699, 'TSEM': 6700, 'UPLD': 6701, 'USAT': 6702, 'VRME': 6703, 'VRNT': 6704, 'WMG': 6705, 'WSBC': 6706, 'XENE': 6707, 'XLNX': 6708, 'YTRA': 6709, 'Z': 6710, 'ZEUS': 6711, 'ZUMZ': 6712, '_': 6713, 'a300000': 6714, 'a9': 6715, 'a98000': 6716, 'aamer': 6717, 'abbey': 6718, 'abdic': 6719, 'abengoa': 6720, 'abid': 6721, 'abigail': 6722, 'abnorm': 6723, 'abomb': 6724, 'abort': 6725, 'abrupt': 6726, 'abruptli': 6727, 'absurd': 6728, 'abyss': 6729, 'aca': 6730, 'academi': 6731, 'acasti': 6732, 'accomplic': 6733, 'accomplish': 6734, 'acer': 6735, 'acm': 6736, 'acst': 6737, 'activis': 6738, 'adher': 6739, 'adjac': 6740, 'adjust': 6741, 'administ': 6742, 'admiss': 6743, 'adolesc': 6744, 'adolf': 6745, 'ador': 6746, 'adsens': 6747, 'advent': 6748, 'adyen': 6749, 'afghani': 6750, 'aficionado': 6751, 'afip': 6752, 'afl': 6753, 'afoot': 6754, 'afterburn': 6755, 'afternoon': 6756, 'agenda': 6757, 'aggressor': 6758, 'agm': 6759, 'ahluwalia': 6760, 'ahmadinejad': 6761, 'ahmedabad': 6762, 'aiib': 6763, 'aipac': 6764, 'aipow': 6765, 'airbas': 6766, 'airborn': 6767, 'airtim': 6768, 'ak47': 6769, 'akerna': 6770, 'alamo': 6771, 'aleksandr': 6772, 'alexi': 6773, 'alfa': 6774, 'alguno': 6775, 'alien': 6776, 'alj': 6777, 'allknow': 6778, 'alnusra': 6779, 'alpin': 6780, 'alqaedalink': 6781, 'alqaida': 6782, 'alshabaab': 6783, 'alshabab': 6784, 'alto': 6785, 'alyn': 6786, 'ambarella': 6787, 'ambien': 6788, 'ambul': 6789, 'ambush': 6790, 'amc': 6791, 'ami': 6792, 'amnesia': 6793, 'amobi': 6794, 'amplio': 6795, 'analogu': 6796, 'anatom': 6797, 'anchor': 6798, 'angel': 6799, 'angion': 6800, 'anglodutch': 6801, 'angora': 6802, 'anhang': 6803, 'anil': 6804, 'anish': 6805, 'anna': 6806, 'annonc': 6807, 'anon': 6808, 'antebellum': 6809, 'antichina': 6810, 'anticorpor': 6811, 'anticovid': 6812, 'antifa': 6813, 'antifrack': 6814, 'antigay': 6815, 'antigua': 6816, 'antiisrael': 6817, 'antileft': 6818, 'antinazi': 6819, 'antiobes': 6820, 'antistal': 6821, 'antivir': 6822, 'anybodi': 6823, 'anytimelend': 6824, 'anyway': 6825, 'aplicar': 6826, 'apologis': 6827, 'apprehend': 6828, 'apr': 6829, 'aprovechar': 6830, 'apsens': 6831, 'apuesta': 6832, 'apunta': 6833, 'aquif': 6834, 'arabica': 6835, 'arbitr': 6836, 'archeologist': 6837, 'arcsoft': 6838, 'ariel': 6839, 'arizona': 6840, 'armour': 6841, 'arron': 6842, 'arthriti': 6843, 'arthur': 6844, 'asaaaaaaaasdaaaaaasd': 6845, 'assail': 6846, 'asteroid': 6847, 'astrophysicist': 6848, 'asx': 6849, 'ataca': 6850, 'atari': 6851, 'atencin': 6852, 'athena': 6853, 'atiso': 6854, 'atmar': 6855, 'atta': 6856, 'attach': 6857, 'audi': 6858, 'aung': 6859, 'ausralian': 6860, 'austin': 6861, 'australiabas': 6862, 'autism': 6863, 'autonom': 6864, 'autumn': 6865, 'avago': 6866, 'aviv': 6867, 'avk': 6868, 'aw': 6869, 'await': 6870, 'awdnew': 6871, 'awesom': 6872, 'axogen': 6873, 'azeri': 6874, 'bachelor': 6875, 'bacillu': 6876, 'backer': 6877, 'bacpac': 6878, 'badli': 6879, 'bahama': 6880, 'bahraini': 6881, 'bailey': 6882, 'bajo': 6883, 'bakeri': 6884, 'bald': 6885, 'ballet': 6886, 'balltamp': 6887, 'bampq': 6888, 'bancaria': 6889, 'bancorpor': 6890, 'bancroft': 6891, 'bandwagon': 6892, 'bangalor': 6893, 'banner': 6894, 'bao': 6895, 'barato': 6896, 'barbar': 6897, 'barkley': 6898, 'barnett': 6899, 'barr': 6900, 'barrish': 6901, 'basquiat': 6902, 'bat': 6903, 'bausch': 6904, 'baxter': 6905, 'beacon': 6906, 'beam': 6907, 'becker': 6908, 'beckon': 6909, 'beer': 6910, 'beetox': 6911, 'behead': 6912, 'behemoth': 6913, 'behindcloseddoor': 6914, 'beijingbas': 6915, 'belief': 6916, 'beneficiari': 6917, 'benoit': 6918, 'bent': 6919, 'benz': 6920, 'beret': 6921, 'berlusconi': 6922, 'bernardino': 6923, 'bernstein': 6924, 'besid': 6925, 'bethlehem': 6926, 'bgc': 6927, 'bh': 6928, 'bharathi': 6929, 'bia': 6930, 'biblic': 6931, 'bignos': 6932, 'bikini': 6933, 'bilibili': 6934, 'billionstar': 6935, 'biocryst': 6936, 'biograph': 6937, 'biomass': 6938, 'biomedica': 6939, 'bioscienc': 6940, 'biotechnolog': 6941, 'birdsey': 6942, 'bite': 6943, 'bitten': 6944, 'bjorn': 6945, 'blackflip': 6946, 'blanket': 6947, 'bleach': 6948, 'blend': 6949, 'bless': 6950, 'blige': 6951, 'blitz': 6952, 'blockbust': 6953, 'blogspot': 6954, 'bloodi': 6955, 'bloodstain': 6956, 'blower': 6957, 'bluewat': 6958, 'bluff': 6959, 'bluntforc': 6960, 'bm30': 6961, 'boa': 6962, 'boar': 6963, 'boati': 6964, 'boggl': 6965, 'bogo': 6966, 'bogot': 6967, 'boko': 6968, 'bolden': 6969, 'bolder': 6970, 'bolt': 6971, 'bonn': 6972, 'booksel': 6973, 'borneo': 6974, 'bose': 6975, 'bother': 6976, 'botnet': 6977, 'bounc': 6978, 'boutiqu': 6979, 'boycot': 6980, 'boyfriend': 6981, 'bpo': 6982, 'braincomput': 6983, 'brainspin': 6984, 'brandish': 6985, 'branson': 6986, 'brat': 6987, 'breathalyz': 6988, 'breez': 6989, 'brick': 6990, 'bride': 6991, 'bridgewat': 6992, 'bright': 6993, 'brigitt': 6994, 'bristol': 6995, 'brockovich': 6996, 'bronfman': 6997, 'brooksdav': 6998, 'broth': 6999, 'brp': 7000, 'brubeckgrac': 7001, 'brunner': 7002, 'bsa': 7003, 'bskyb': 7004, 'bucharest': 7005, 'budgam': 7006, 'buggi': 7007, 'bulb': 7008, 'bullfight': 7009, 'bullfrog': 7010, 'bum': 7011, 'bumblebe': 7012, 'bumboy': 7013, 'bumbryrobert': 7014, 'bumwelta': 7015, 'bureaucraci': 7016, 'burnedout': 7017, 'burnel': 7018, 'burqa': 7019, 'burst': 7020, 'bux': 7021, 'buyback': 7022, 'bwindi': 7023, 'byod': 7024, 'c15anhour': 7025, 'c16': 7026, 'c19': 7027, 'cab': 7028, 'cabin': 7029, 'cablesand': 7030, 'cach': 7031, 'cadillac': 7032, 'caesar': 7033, 'cairn': 7034, 'californiabas': 7035, 'cam': 7036, 'campu': 7037, 'cana': 7038, 'canadacantex': 7039, 'canberra': 7040, 'canfit': 7041, 'cantones': 7042, 'cantor': 7043, 'cao': 7044, 'cape': 7045, 'capgemini': 7046, 'capita': 7047, 'capuanopressley': 7048, 'cara': 7049, 'caraca': 7050, 'carat': 7051, 'carbid': 7052, 'carcarri': 7053, 'cardin': 7054, 'careit': 7055, 'caricom': 7056, 'carlo': 7057, 'carnag': 7058, 'carniv': 7059, 'carolina': 7060, 'carpent': 7061, 'carrol': 7062, 'cartoon': 7063, 'casino': 7064, 'castro': 7065, 'cat5': 7066, 'catal': 7067, 'catalogo': 7068, 'cavern': 7069, 'cay': 7070, 'cbse': 7071, 'ce': 7072, 'cenotaph': 7073, 'centauri': 7074, 'cerca': 7075, 'ceva': 7076, 'cf': 7077, 'cfmeu': 7078, 'cfra': 7079, 'champ': 7080, 'chant': 7081, 'chapo': 7082, 'chardham': 7083, 'chater': 7084, 'chattem': 7085, 'che': 7086, 'chemistri': 7087, 'chemotherapi': 7088, 'cheney': 7089, 'cheong': 7090, 'chia': 7091, 'chick': 7092, 'chigueo': 7093, 'chinabas': 7094, 'chinal': 7095, 'chineseback': 7096, 'chinesemad': 7097, 'chkp': 7098, 'chn': 7099, 'choe': 7100, 'chop': 7101, 'chose': 7102, 'chowmeinnoodl': 7103, 'chrisley': 7104, 'chronicmigrain': 7105, 'chuck': 7106, 'cierra': 7107, 'cigu': 7108, 'cindi': 7109, 'cinema': 7110, 'ciobo': 7111, 'circadian': 7112, 'circumcis': 7113, 'circunvalacin': 7114, 'cl': 7115, 'clare': 7116, 'classif': 7117, 'claudia': 7118, 'claymor': 7119, 'cleanup': 7120, 'clearanc': 7121, 'cleat': 7122, 'clemenc': 7123, 'cling': 7124, 'clive': 7125, 'cmo': 7126, 'cnh': 7127, 'coalburn': 7128, 'coalit': 7129, 'coalpow': 7130, 'cobra': 7131, 'coceo': 7132, 'coffer': 7133, 'coffin': 7134, 'cognit': 7135, 'cohn': 7136, 'coloni': 7137, 'colonis': 7138, 'color': 7139, 'columbia': 7140, 'comb': 7141, 'comcast': 7142, 'commando': 7143, 'commercialbond': 7144, 'commiser': 7145, 'commut': 7146, 'comon': 7147, 'comp': 7148, 'companyeastern': 7149, 'complicidad': 7150, 'compos': 7151, 'compressor': 7152, 'compris': 7153, 'comptrol': 7154, 'compuls': 7155, 'compulsori': 7156, 'comsit': 7157, 'conced': 7158, 'concession': 7159, 'condosat': 7160, 'conductor': 7161, 'confeder': 7162, 'confus': 7163, 'congreg': 7164, 'connectfinanci': 7165, 'connot': 7166, 'conocimiento': 7167, 'conquer': 7168, 'conquest': 7169, 'conscienti': 7170, 'conservativerun': 7171, 'construccion': 7172, 'consumerist': 7173, 'continent': 7174, 'converg': 7175, 'coo': 7176, 'cooki': 7177, 'coolest': 7178, 'copart': 7179, 'cordon': 7180, 'corel': 7181, 'corner': 7182, 'corps': 7183, 'correl': 7184, 'correspond': 7185, 'corri': 7186, 'corros': 7187, 'corruptionplagu': 7188, 'corsag': 7189, 'costa': 7190, 'costar': 7191, 'costco': 7192, 'costsso': 7193, 'cottag': 7194, 'cotton': 7195, 'couldnamp8217': 7196, 'counterattack': 7197, 'counterintellig': 7198, 'counterintuit': 7199, 'counterterror': 7200, 'coupa': 7201, 'covertli': 7202, 'cpg': 7203, 'crackpot': 7204, 'craggi': 7205, 'cramer': 7206, 'credenc': 7207, 'creol': 7208, 'cricket': 7209, 'crisistorn': 7210, 'crisp': 7211, 'cropdestroy': 7212, 'crowdsourc': 7213, 'cruel': 7214, 'csection': 7215, 'cti': 7216, 'cummin': 7217, 'cupboard': 7218, 'cupcak': 7219, 'curl': 7220, 'curriculum': 7221, 'curv': 7222, 'cvx': 7223, 'cword': 7224, 'cy': 7225, 'cybercrim': 7226, 'cybercrimin': 7227, 'cycl': 7228, 'cypru': 7229, 'dachau': 7230, 'daddi': 7231, 'dae': 7232, 'dahua': 7233, 'dam': 7234, 'damn': 7235, 'dampg': 7236, 'dana': 7237, 'danah': 7238, 'darkmatt': 7239, 'dart': 7240, 'dash': 7241, 'davidbaker012': 7242, 'dawa': 7243, 'dayz': 7244, 'dear': 7245, 'deathtrap': 7246, 'debaucheri': 7247, 'debbi': 7248, 'debit': 7249, 'debri': 7250, 'debunk': 7251, 'decay': 7252, 'decent': 7253, 'defac': 7254, 'defam': 7255, 'defianc': 7256, 'defiant': 7257, 'defin': 7258, 'deflect': 7259, 'degred': 7260, 'delici': 7261, 'deloitt': 7262, 'delux': 7263, 'demanda': 7264, 'demis': 7265, 'denisovan': 7266, 'denni': 7267, 'denselypopul': 7268, 'dental': 7269, 'departur': 7270, 'deplor': 7271, 'derail': 7272, 'desecr': 7273, 'desemb': 7274, 'desir': 7275, 'detaine': 7276, 'deter': 7277, 'deterg': 7278, 'dev': 7279, 'dexia': 7280, 'dgito': 7281, 'dgp': 7282, 'dh': 7283, 'dhahran': 7284, 'dhaka': 7285, 'diabet': 7286, 'dial': 7287, 'dialog': 7288, 'diamondstud': 7289, 'diari': 7290, 'dice': 7291, 'diego': 7292, 'digg': 7293, 'digitis': 7294, 'digniti': 7295, 'dilemma': 7296, 'diller': 7297, 'disapprov': 7298, 'disarray': 7299, 'disconnect': 7300, 'disenfranchis': 7301, 'disgruntl': 7302, 'dishonest': 7303, 'disingenu': 7304, 'dislodg': 7305, 'dispar': 7306, 'disproport': 7307, 'dissolv': 7308, 'divers': 7309, 'divert': 7310, 'dividend': 7311, 'dmitri': 7312, 'dock': 7313, 'docsend': 7314, 'docusign': 7315, 'doh': 7316, 'dolli': 7317, 'dong': 7318, 'dorian': 7319, 'dorm': 7320, 'doublehead': 7321, 'draghi': 7322, 'drain': 7323, 'drama': 7324, 'dredg': 7325, 'drift': 7326, 'dropboxlik': 7327, 'dsseldorf': 7328, 'duet': 7329, 'duo': 7330, 'dupont': 7331, 'dust': 7332, 'dweller': 7333, 'dwolla': 7334, 'dystopian': 7335, 'dzhokhar': 7336, 'ebadi': 7337, 'ebm': 7338, 'ebrard': 7339, 'ecigarett': 7340, 'ecolog': 7341, 'ecologist': 7342, 'ecovac': 7343, 'edgar': 7344, 'edgi': 7345, 'edi': 7346, 'edinburgh': 7347, 'edouard': 7348, 'edwin': 7349, 'ehealth': 7350, 'ehr': 7351, 'ehud': 7352, 'eid': 7353, 'eighteen': 7354, 'elabor': 7355, 'eleanor': 7356, 'elementari': 7357, 'elig': 7358, 'elizabeth': 7359, 'ellex': 7360, 'elsewher': 7361, 'embark': 7362, 'embodi': 7363, 'emc': 7364, 'emit': 7365, 'emmanuel': 7366, 'emplac': 7367, 'empleo': 7368, 'empresa': 7369, 'empti': 7370, 'emr': 7371, 'encroach': 7372, 'engulf': 7373, 'enliven': 7374, 'enriqu': 7375, 'entenmann': 7376, 'entitl': 7377, 'entrepris': 7378, 'entrust': 7379, 'envi': 7380, 'environmentalist': 7381, 'envis': 7382, 'envisag': 7383, 'enzymat': 7384, 'epic': 7385, 'epilepsi': 7386, 'epstein': 7387, 'erad': 7388, 'erdoan': 7389, 'erect': 7390, 'erich': 7391, 'ericssson': 7392, 'erin': 7393, 'esl': 7394, 'eso': 7395, 'espaol': 7396, 'essay': 7397, 'essilor': 7398, 'establ': 7399, 'estn': 7400, 'etl': 7401, 'eubas': 7402, 'eurotunnel': 7403, 'evan': 7404, 'everest': 7405, 'everett': 7406, 'everybodi': 7407, 'evogen': 7408, 'excav': 7409, 'excellu': 7410, 'excia': 7411, 'exdividend': 7412, 'exert': 7413, 'exibm': 7414, 'exigencia': 7415, 'expectedpoint': 7416, 'expedi': 7417, 'explicitli': 7418, 'exponenti': 7419, 'exposur': 7420, 'exwhit': 7421, 'exwif': 7422, 'f22': 7423, 'f5': 7424, 'fabl': 7425, 'fabricant': 7426, 'faceless': 7427, 'factgath': 7428, 'facto': 7429, 'fade': 7430, 'fahma': 7431, 'fairli': 7432, 'fallon': 7433, 'fantas': 7434, 'fantast': 7435, 'fanuc': 7436, 'fargo': 7437, 'farmacutica': 7438, 'faro': 7439, 'fascist': 7440, 'fastestgrow': 7441, 'fastgrow': 7442, 'fatten': 7443, 'faux': 7444, 'fax': 7445, 'fb': 7446, 'fcn': 7447, 'feloni': 7448, 'fenc': 7449, 'ferdinand': 7450, 'fern': 7451, 'ferrari': 7452, 'fest': 7453, 'festejara': 7454, 'fi': 7455, 'fica': 7456, 'fiduciari': 7457, 'fierc': 7458, 'fifthlargest': 7459, 'fil': 7460, 'fingerprint': 7461, 'firearm': 7462, 'fireey': 7463, 'firsthand': 7464, 'firstperson': 7465, 'fisa': 7466, 'fixedlin': 7467, 'fk': 7468, 'flexibl': 7469, 'fling': 7470, 'flip': 7471, 'flipkart': 7472, 'flout': 7473, 'flower': 7474, 'floyd': 7475, 'flybi': 7476, 'fmi': 7477, 'foldabl': 7478, 'folk': 7479, 'fond': 7480, 'fonseca': 7481, 'foo': 7482, 'fool': 7483, 'foot': 7484, 'foray': 7485, 'foreclos': 7486, 'foreigncurr': 7487, 'foresit': 7488, 'forestburn': 7489, 'forestri': 7490, 'forev': 7491, 'forgeri': 7492, 'fossilfuelus': 7493, 'fossilis': 7494, 'fought': 7495, 'foul': 7496, 'fourcharact': 7497, 'fractal': 7498, 'fragment': 7499, 'frame': 7500, 'franki': 7501, 'fraser': 7502, 'freakout': 7503, 'fred': 7504, 'freelanc': 7505, 'freeli': 7506, 'freerang': 7507, 'fret': 7508, 'friedman': 7509, 'frontpag': 7510, 'fssaiapprov': 7511, 'fubotv': 7512, 'fuck': 7513, 'fuell': 7514, 'fugu': 7515, 'fulfil': 7516, 'fume': 7517, 'fundamentalist': 7518, 'funerari': 7519, 'funnel': 7520, 'furious': 7521, 'furnish': 7522, 'furor': 7523, 'fuss': 7524, 'gab': 7525, 'gaddafi': 7526, 'gag': 7527, 'galoc': 7528, 'galpago': 7529, 'galpern': 7530, 'gamerg': 7531, 'gamida': 7532, 'ganancia': 7533, 'gayl': 7534, 'gcse': 7535, 'gdp': 7536, 'geist': 7537, 'gem': 7538, 'generac': 7539, 'genesi': 7540, 'geneticallymodifi': 7541, 'geniu': 7542, 'gent': 7543, 'geolog': 7544, 'geometri': 7545, 'georgian': 7546, 'gerhard': 7547, 'gett': 7548, 'gian': 7549, 'gibraltar': 7550, 'gim': 7551, 'gin': 7552, 'girlfriend': 7553, 'givat': 7554, 'glad': 7555, 'glanci': 7556, 'glimps': 7557, 'glu': 7558, 'glutam': 7559, 'glutenfre': 7560, 'gmo': 7561, 'gnome': 7562, 'gobierno': 7563, 'golden': 7564, 'goldleaf': 7565, 'goliath': 7566, 'googlepar': 7567, 'gore': 7568, 'gorman': 7569, 'gospel': 7570, 'gothenburg': 7571, 'gourmet': 7572, 'grad': 7573, 'grainfre': 7574, 'granada': 7575, 'grandfath': 7576, 'graphic': 7577, 'grassroot': 7578, 'gratifi': 7579, 'gratuit': 7580, 'greatli': 7581, 'gregg': 7582, 'grey': 7583, 'grim': 7584, 'groceri': 7585, 'groen': 7586, 'groundwat': 7587, 'guangzhou': 7588, 'guantanamo': 7589, 'guantnamo': 7590, 'guilt': 7591, 'gunship': 7592, 'gunshot': 7593, 'gy': 7594, 'gyllenha': 7595, 'h1n1': 7596, 'h2b': 7597, 'hacen': 7598, 'had': 7599, 'hadid': 7600, 'hagibi': 7601, 'haitian': 7602, 'halliburton': 7603, 'hamato': 7604, 'hammer': 7605, 'handheld': 7606, 'handwara': 7607, 'hangout': 7608, 'hanif': 7609, 'hanjin': 7610, 'hanson': 7611, 'happiest': 7612, 'haram': 7613, 'hardli': 7614, 'harington': 7615, 'hariri': 7616, 'harrass': 7617, 'harrod': 7618, 'hart': 7619, 'harvoni': 7620, 'haryana': 7621, 'has': 7622, 'hash': 7623, 'hasta': 7624, 'hat': 7625, 'havana': 7626, 'havoc': 7627, 'haywood': 7628, 'hazard': 7629, 'headteach': 7630, 'heartble': 7631, 'heartland': 7632, 'heaven': 7633, 'hebei': 7634, 'heberprot': 7635, 'hebron': 7636, 'hectar': 7637, 'heir': 7638, 'heiress': 7639, 'helan': 7640, 'helena': 7641, 'helm': 7642, 'helplin': 7643, 'hemispher': 7644, 'henneberri': 7645, 'herald': 7646, 'hero5': 7647, 'hester': 7648, 'hetero': 7649, 'hey': 7650, 'hi': 7651, 'hibbett': 7652, 'hibernia': 7653, 'hiboost': 7654, 'highskil': 7655, 'hiker': 7656, 'hikvis': 7657, 'hilltop': 7658, 'hiltler': 7659, 'himalayan': 7660, 'hindi': 7661, 'hindu': 7662, 'hip': 7663, 'hitch': 7664, 'hivposit': 7665, 'hm': 7666, 'hmi': 7667, 'hn': 7668, 'hoegh': 7669, 'hogar': 7670, 'hogarpara': 7671, 'hoist': 7672, 'hole': 7673, 'holierthanth': 7674, 'holland': 7675, 'homeopathi': 7676, 'homeoptima': 7677, 'homestreet': 7678, 'hoodi': 7679, 'hookup': 7680, 'hora': 7681, 'hors': 7682, 'horsemen': 7683, 'horton': 7684, 'hostagetak': 7685, 'houthi': 7686, 'howi': 7687, 'hp': 7688, 'htc': 7689, 'hubei': 7690, 'hubert': 7691, 'hulu': 7692, 'hung': 7693, 'hurriedli': 7694, 'hut': 7695, 'hy': 7696, 'hyperlink': 7697, 'hyperloop': 7698, 'hyra': 7699, 'hyundai': 7700, 'icbc': 7701, 'iceag': 7702, 'iceberg': 7703, 'ici': 7704, 'ick': 7705, 'identityexpress': 7706, 'ie': 7707, 'illfat': 7708, 'illiteraci': 7709, 'immunogen': 7710, 'impass': 7711, 'impenetr': 7712, 'impermiss': 7713, 'implod': 7714, 'impoverish': 7715, 'impuesto': 7716, 'impur': 7717, 'imu838': 7718, 'imv': 7719, 'inabl': 7720, 'inaugurada': 7721, 'incap': 7722, 'incarcer': 7723, 'incept': 7724, 'inciner': 7725, 'inconsist': 7726, 'indefinit': 7727, 'indexnasdaq': 7728, 'indi': 7729, 'indomi': 7730, 'induc': 7731, 'industryfund': 7732, 'inequ': 7733, 'inexor': 7734, 'infam': 7735, 'infantil': 7736, 'inflict': 7737, 'informacin': 7738, 'informatiqu': 7739, 'ingam': 7740, 'inhal': 7741, 'inlin': 7742, 'inmat': 7743, 'inn': 7744, 'innospec': 7745, 'inr': 7746, 'insolv': 7747, 'instinct': 7748, 'instor': 7749, 'instrument': 7750, 'insuffici': 7751, 'insurg': 7752, 'insurmount': 7753, 'intellectu': 7754, 'intercambio': 7755, 'intercontinent': 7756, 'interna': 7757, 'internetpow': 7758, 'interrog': 7759, 'interrupt': 7760, 'interstellar': 7761, 'interweb': 7762, 'intl': 7763, 'intoler': 7764, 'invers': 7765, 'invert': 7766, 'io': 7767, 'ion': 7768, 'iraqth': 7769, 'ireport': 7770, 'irishcentr': 7771, 'irresist': 7772, 'iskra': 7773, 'israelcarv': 7774, 'j11': 7775, 'jacobi': 7776, 'jaein': 7777, 'jagger': 7778, 'jain': 7779, 'jair': 7780, 'jalert': 7781, 'jamesstraas2015': 7782, 'jamil': 7783, 'jammer': 7784, 'jammu': 7785, 'jannah': 7786, 'jason': 7787, 'jay': 7788, 'jean': 7789, 'jeanpierr': 7790, 'jeffrey': 7791, 'jeh': 7792, 'jericho': 7793, 'jesu': 7794, 'jewelleri': 7795, 'jiabao': 7796, 'jihyun': 7797, 'jobless': 7798, 'jobsbest': 7799, 'jocelyn': 7800, 'joe': 7801, 'jon': 7802, 'jonathan': 7803, 'josh': 7804, 'jot': 7805, 'joul': 7806, 'jour': 7807, 'journey': 7808, 'joy': 7809, 'juan': 7810, 'judgement': 7811, 'judiciari': 7812, 'julia': 7813, 'juno': 7814, 'junta': 7815, 'kaepernick': 7816, 'kajita': 7817, 'kan': 7818, 'kaplan': 7819, 'karma': 7820, 'karmawhor': 7821, 'karnak': 7822, 'karsdashian': 7823, 'kasa': 7824, 'kasasdecoracion': 7825, 'kasperski': 7826, 'kavanaugh': 7827, 'kay': 7828, 'kb': 7829, 'keat': 7830, 'kebab': 7831, 'keen': 7832, 'keidan': 7833, 'keith': 7834, 'ken': 7835, 'kennedi': 7836, 'kerdil': 7837, 'kessler': 7838, 'ketamin': 7839, 'khapa': 7840, 'kharkov': 7841, 'khloe': 7842, 'kidnapp': 7843, 'kindergarten': 7844, 'kingpin': 7845, 'kip': 7846, 'kituo': 7847, 'kj200': 7848, 'klau': 7849, 'knock': 7850, 'ko': 7851, 'kodi': 7852, 'kook': 7853, 'ktre': 7854, 'kumamoto': 7855, 'kumar': 7856, 'kunz': 7857, 'kurdistan': 7858, 'kuwaiti': 7859, 'kyi': 7860, 'kyle': 7861, 'lambast': 7862, 'landfal': 7863, 'landfil': 7864, 'lapan': 7865, 'lara': 7866, 'lastditch': 7867, 'latestag': 7868, 'latino': 7869, 'latter': 7870, 'latvian': 7871, 'lavabit': 7872, 'lawrenc': 7873, 'lawson': 7874, 'lax': 7875, 'lazi': 7876, 'lcd': 7877, 'leaf': 7878, 'leas': 7879, 'lebanes': 7880, 'lebensborn': 7881, 'lebron': 7882, 'ledipasvir': 7883, 'leftist': 7884, 'leftw': 7885, 'legeno': 7886, 'legislador': 7887, 'leicest': 7888, 'leno': 7889, 'leo': 7890, 'leonard': 7891, 'lesli': 7892, 'lesvo': 7893, 'levchin': 7894, 'leverag': 7895, 'levin': 7896, 'levinson': 7897, 'levit': 7898, 'lgbti': 7899, 'liabl': 7900, 'liao': 7901, 'licenc': 7902, 'lifethreaten': 7903, 'liga': 7904, 'limb': 7905, 'limitless': 7906, 'lindblad': 7907, 'lindsey': 7908, 'lionel': 7909, 'liszt': 7910, 'lithium': 7911, 'littleknown': 7912, 'livelihood': 7913, 'liver': 7914, 'livid': 7915, 'liz': 7916, 'lm': 7917, 'lng': 7918, 'loaf': 7919, 'lobbyist': 7920, 'lobster': 7921, 'loc': 7922, 'logger': 7923, 'logic': 7924, 'loneli': 7925, 'longgun': 7926, 'longstand': 7927, 'loop': 7928, 'loos': 7929, 'loui': 7930, 'lowcarbon': 7931, 'lowcost': 7932, 'lowi': 7933, 'lu': 7934, 'lub': 7935, 'luberon': 7936, 'ludicr': 7937, 'lufthansa': 7938, 'lululemon': 7939, 'lulz': 7940, 'lumber': 7941, 'lumen': 7942, 'lunar': 7943, 'lundi': 7944, 'lurk': 7945, 'luxembourg': 7946, 'lykk': 7947, 'lyric': 7948, 'macau': 7949, 'macbook': 7950, 'machet': 7951, 'madhav': 7952, 'madrasah': 7953, 'maduro': 7954, 'magic': 7955, 'magnat': 7956, 'mahinda': 7957, 'mahmud': 7958, 'makeup': 7959, 'malariadrug': 7960, 'malfunct': 7961, 'mali': 7962, 'malici': 7963, 'mallah': 7964, 'malon': 7965, 'mamboleo': 7966, 'mampa': 7967, 'mandarin': 7968, 'manejamo': 7969, 'manga': 7970, 'mangrov': 7971, 'mania': 7972, 'mansion': 7973, 'maquinaria': 7974, 'maralagochina': 7975, 'marash': 7976, 'marcelo': 7977, 'marchioni': 7978, 'marco': 7979, 'marketgrad': 7980, 'markowitz': 7981, 'maroi': 7982, 'marre': 7983, 'martial': 7984, 'martian': 7985, 'marzo': 7986, 'mason': 7987, 'massachusett': 7988, 'massimo': 7989, 'matern': 7990, 'mathcad': 7991, 'mather': 7992, 'matur': 7993, 'mayb': 7994, 'mcboatfac': 7995, 'mcdonough': 7996, 'meadow': 7997, 'medida': 7998, 'mediv': 7999, 'meerkat': 8000, 'megacompani': 8001, 'megamerg': 8002, 'megatsunami': 8003, 'megawatt': 8004, 'meghan': 8005, 'megiddoa': 8006, 'mel': 8007, 'melt': 8008, 'meltthrough': 8009, 'meltzer': 8010, 'memberst': 8011, 'meme': 8012, 'memorandum': 8013, 'mengel': 8014, 'mep': 8015, 'mercer': 8016, 'merg': 8017, 'mesh': 8018, 'meta': 8019, 'metalscissor': 8020, 'meteorit': 8021, 'meth': 8022, 'metro': 8023, 'metroidvania': 8024, 'miami': 8025, 'michezo': 8026, 'mick': 8027, 'micro': 8028, 'microscop': 8029, 'microspher': 8030, 'mideast': 8031, 'midst': 8032, 'midsumm': 8033, 'midway': 8034, 'mientra': 8035, 'miik': 8036, 'mikhail': 8037, 'miki': 8038, 'militar': 8039, 'mill': 8040, 'millionth': 8041, 'millisecond': 8042, 'minden': 8043, 'minim': 8044, 'miscarriag': 8045, 'miser': 8046, 'mismo': 8047, 'misogyni': 8048, 'mississippi': 8049, 'missouri': 8050, 'mistak': 8051, 'mistaken': 8052, 'mitchel': 8053, 'mitig': 8054, 'mitsubishi': 8055, 'mln': 8056, 'mnuchin': 8057, 'mob': 8058, 'mobileiron': 8059, 'mod': 8060, 'modifi': 8061, 'mogharabi': 8062, 'moham': 8063, 'mohammad': 8064, 'moneta': 8065, 'moneylaund': 8066, 'mongolia': 8067, 'monosodium': 8068, 'montana': 8069, 'moor': 8070, 'moratorium': 8071, 'morepork': 8072, 'morneau': 8073, 'motif': 8074, 'motiv': 8075, 'motorcad': 8076, 'motorcyclist': 8077, 'mould': 8078, 'mound': 8079, 'mouthwat': 8080, 'movimiento': 8081, 'mowjow': 8082, 'mrsaid': 8083, 'mss': 8084, 'mtbc': 8085, 'mucha': 8086, 'muchneed': 8087, 'muffin': 8088, 'mufti': 8089, 'mugab': 8090, 'multibillion': 8091, 'multibillionpound': 8092, 'multicultur': 8093, 'multilink': 8094, 'mump': 8095, 'munci': 8096, 'municip': 8097, 'murray': 8098, 'mushroom': 8099, 'musician': 8100, 'mxico': 8101, 'myluxphon': 8102, 'mypillow': 8103, 'nab': 8104, 'nablu': 8105, 'nadu': 8106, 'nafta': 8107, 'nagasaki': 8108, 'nagendra': 8109, 'naidoc': 8110, 'nail': 8111, 'nait': 8112, 'namatjira': 8113, 'nansul': 8114, 'napalm': 8115, 'narrow': 8116, 'nasdaqhtlf': 8117, 'nasdaqlsbk': 8118, 'natasha': 8119, 'nathan': 8120, 'naturalist': 8121, 'nawaz': 8122, 'nazarbayev': 8123, 'nazareth': 8124, 'ncr': 8125, 'ndb': 8126, 'ne': 8127, 'neck': 8128, 'nel': 8129, 'neogaf': 8130, 'neoliber': 8131, 'nervou': 8132, 'neural': 8133, 'newborn': 8134, 'newcom': 8135, 'newlink': 8136, 'newlyelect': 8137, 'newslett': 8138, 'newsnight': 8139, 'nextgen': 8140, 'nextgener': 8141, 'nexu': 8142, 'ngon': 8143, 'nhautamthanh': 8144, 'ni': 8145, 'nicol': 8146, 'nicola': 8147, 'nighthawk': 8148, 'nikkei': 8149, 'nikola': 8150, 'niqab': 8151, 'niro': 8152, 'nk': 8153, 'nkorea': 8154, 'nobelpr': 8155, 'nod': 8156, 'nofli': 8157, 'noida': 8158, 'nomine': 8159, 'noncompli': 8160, 'none': 8161, 'nonexecut': 8162, 'nonfossil': 8163, 'noni': 8164, 'nonrenew': 8165, 'nontechn': 8166, 'noonan': 8167, 'norg': 8168, 'northeastern': 8169, 'nose': 8170, 'notion': 8171, 'notr': 8172, 'novatti': 8173, 'novelturnedmovi': 8174, 'novembr': 8175, 'nowdefunct': 8176, 'nowher': 8177, 'nowpresid': 8178, 'nozawa': 8179, 'nsnbc': 8180, 'ntt': 8181, 'nurseri': 8182, 'nuuvera': 8183, 'nuva': 8184, 'nyse': 8185, 'nyu': 8186, 'o2': 8187, 'objection': 8188, 'occult': 8189, 'oct': 8190, 'odchudzani': 8191, 'oem': 8192, 'offlimit': 8193, 'offload': 8194, 'offspr': 8195, 'ofici': 8196, 'oficial': 8197, 'oftcit': 8198, 'oilgiant': 8199, 'oligarch': 8200, 'olympian': 8201, 'ombudsman': 8202, 'omron': 8203, 'omx': 8204, 'onedr': 8205, 'onepath': 8206, 'onexim': 8207, 'onion': 8208, 'opal': 8209, 'opaqu': 8210, 'openair': 8211, 'opencapi': 8212, 'operationalis': 8213, 'ophthalm': 8214, 'opositor': 8215, 'optimist': 8216, 'orangutan': 8217, 'orban': 8218, 'orphanag': 8219, 'orwel': 8220, 'oscar': 8221, 'ounc': 8222, 'oust': 8223, 'outback': 8224, 'outcri': 8225, 'outpost': 8226, 'outwit': 8227, 'oval': 8228, 'overcrowd': 8229, 'overfish': 8230, 'overhear': 8231, 'oversaw': 8232, 'overse': 8233, 'overstay': 8234, 'overthrow': 8235, 'overwhelm': 8236, 'overwork': 8237, 'ow': 8238, 'ownership': 8239, 'oxid': 8240, 'p800': 8241, 'p8a': 8242, 'pagan': 8243, 'pago': 8244, 'pakodi': 8245, 'palantir': 8246, 'paleo': 8247, 'paleontologist': 8248, 'palmero': 8249, 'palo': 8250, 'pamela': 8251, 'panason': 8252, 'pancak': 8253, 'pandemia': 8254, 'papadopoulo': 8255, 'papua': 8256, 'par': 8257, 'parachut': 8258, 'parali': 8259, 'paralys': 8260, 'parl': 8261, 'participarn': 8262, 'partisan': 8263, 'partli': 8264, 'parton': 8265, 'paso': 8266, 'patagotitan': 8267, 'patriarch': 8268, 'patricia': 8269, 'pavey': 8270, 'pawar': 8271, 'pawn': 8272, 'payback': 8273, 'payload': 8274, 'payout': 8275, 'paysaf': 8276, 'pdf': 8277, 'pdl': 8278, 'peacekeep': 8279, 'peach': 8280, 'peanut': 8281, 'pearl': 8282, 'peculiar': 8283, 'pediatr': 8284, 'pedophilia': 8285, 'pedro': 8286, 'pekn': 8287, 'pend': 8288, 'penni': 8289, 'peppercorn': 8290, 'percept': 8291, 'pero': 8292, 'persecut': 8293, 'persian': 8294, 'peruvian': 8295, 'pervers': 8296, 'pest': 8297, 'pesticidetaint': 8298, 'petersburg': 8299, 'peterson': 8300, 'petrostatea': 8301, 'petti': 8302, 'pg': 8303, 'ph': 8304, 'pharaoh': 8305, 'pharmacist': 8306, 'phenomen': 8307, 'phi': 8308, 'philadelphia': 8309, 'philanthropist': 8310, 'philipp': 8311, 'philosoph': 8312, 'phisher': 8313, 'phm': 8314, 'phonic': 8315, 'phosphat': 8316, 'photoop': 8317, 'photoshoot': 8318, 'pianist': 8319, 'piccadilli': 8320, 'piratean': 8321, 'pistol': 8322, 'pixar': 8323, 'pizza': 8324, 'pla': 8325, 'placard': 8326, 'planetari': 8327, 'plankton': 8328, 'plantat': 8329, 'plaquenil': 8330, 'plasma': 8331, 'playa': 8332, 'playdoh': 8333, 'pliega': 8334, 'plunder': 8335, 'pneumonia': 8336, 'pnk': 8337, 'pnoy': 8338, 'poca': 8339, 'pogo': 8340, 'poker': 8341, 'pole': 8342, 'policeand': 8343, 'policeman': 8344, 'polli': 8345, 'poltica': 8346, 'polygam': 8347, 'pomerantz': 8348, 'poonch': 8349, 'porcelain': 8350, 'pork': 8351, 'pornhub': 8352, 'pornographi': 8353, 'porpois': 8354, 'portal': 8355, 'portion': 8356, 'portland': 8357, 'postpandem': 8358, 'potash': 8359, 'potfocus': 8360, 'potter': 8361, 'poultri': 8362, 'powerpack': 8363, 'powoduj': 8364, 'prediksi': 8365, 'preemptiv': 8366, 'pregnanc': 8367, 'preindustri': 8368, 'prenti': 8369, 'prepaid': 8370, 'prescrib': 8371, 'prescript': 8372, 'pressenc': 8373, 'pretext': 8374, 'preview': 8375, 'pri': 8376, 'priceless': 8377, 'priebk': 8378, 'printer': 8379, 'probando': 8380, 'problemsolv': 8381, 'proclam': 8382, 'progrowth': 8383, 'proindepend': 8384, 'prokhorov': 8385, 'prokremlin': 8386, 'prolong': 8387, 'prongay': 8388, 'pronoun': 8389, 'prop': 8390, 'proprietari': 8391, 'protection': 8392, 'protrump': 8393, 'proxim': 8394, 'proxima': 8395, 'prsident': 8396, 'pruitt': 8397, 'psychopath': 8398, 'publi': 8399, 'pug': 8400, 'pulitz': 8401, 'puls': 8402, 'pundit': 8403, 'punjabindia': 8404, 'puppi': 8405, 'pushi': 8406, 'pussi': 8407, 'putinhitl': 8408, 'pv': 8409, 'pwc': 8410, 'pyeongchang': 8411, 'pypl': 8412, 'pyramid': 8413, 'pyrenean': 8414, 'qa': 8415, 'qanon': 8416, 'qanta': 8417, 'qassem': 8418, 'qcom': 8419, 'quadra': 8420, 'quadrupl': 8421, 'quak': 8422, 'quarantin': 8423, 'quarterli': 8424, 'quash': 8425, 'quest': 8426, 'queu': 8427, 'quick': 8428, 'quickampeasi': 8429, 'quickli': 8430, 'quilt': 8431, 'quinstreet': 8432, 'quiz': 8433, 'quriyat': 8434, 'rabobank': 8435, 'racket': 8436, 'radiohead': 8437, 'radwar': 8438, 'rafsanjani': 8439, 'rainer': 8440, 'rajasthan': 8441, 'ramallah': 8442, 'ranger': 8443, 'raptor': 8444, 'rarest': 8445, 'raspad': 8446, 'raspberri': 8447, 'rat': 8448, 'rater': 8449, 'ratifi': 8450, 'ratio': 8451, 'raven': 8452, 'rb': 8453, 'rcemment': 8454, 'rcmp': 8455, 'readwrit': 8456, 'realicen': 8457, 'realis': 8458, 'realm': 8459, 'realnam': 8460, 'realnetwork': 8461, 'realtim': 8462, 'reanalysi': 8463, 'reassess': 8464, 'rebecca': 8465, 'rebekah': 8466, 'rebelheld': 8467, 'recreat': 8468, 'recur': 8469, 'rede': 8470, 'reflex': 8471, 'refriger': 8472, 'refug': 8473, 'regex': 8474, 'regiment': 8475, 'rein': 8476, 'reinhold': 8477, 'reinstat': 8478, 'reinvent': 8479, 'relev': 8480, 'relianc': 8481, 'reliev': 8482, 'relinquish': 8483, 'reluct': 8484, 'remarri': 8485, 'remitt': 8486, 'remnant': 8487, 'ren': 8488, 'renam': 8489, 'renegoti': 8490, 'renov': 8491, 'rentagirlfriend': 8492, 'repay': 8493, 'replay': 8494, 'replica': 8495, 'repris': 8496, 'rescind': 8497, 'resel': 8498, 'reshuffl': 8499, 'respir': 8500, 'restart': 8501, 'restat': 8502, 'resurg': 8503, 'resurrect': 8504, 'rethink': 8505, 'rettig': 8506, 'reunion': 8507, 'reveng': 8508, 'revengesay': 8509, 'rever': 8510, 'rewritten': 8511, 'rey': 8512, 'rhythm': 8513, 'ria': 8514, 'richli': 8515, 'ricin': 8516, 'riddl': 8517, 'rn': 8518, 'rnew': 8519, 'rnhub': 8520, 'roar': 8521, 'roba': 8522, 'robin': 8523, 'robinet': 8524, 'roch': 8525, 'rockefel': 8526, 'rohingya': 8527, 'roller': 8528, 'ronald': 8529, 'roo': 8530, 'rotten': 8531, 'rover': 8532, 'royalti': 8533, 'royl': 8534, 'rth2300b1012': 8535, 'rubber': 8536, 'rubi': 8537, 'rubl': 8538, 'rudd': 8539, 'runaway': 8540, 'rupe': 8541, 'rusal': 8542, 'russianstyl': 8543, 's4': 8544, 's5': 8545, 's52': 8546, 's6': 8547, 'sacoola': 8548, 'sacr': 8549, 'saddest': 8550, 'sag': 8551, 'saia': 8552, 'salt': 8553, 'saltwat': 8554, 'samaria': 8555, 'sanaa': 8556, 'sancin': 8557, 'sandmann': 8558, 'sandpit': 8559, 'sandstorm': 8560, 'sandwich': 8561, 'saniti': 8562, 'santiago': 8563, 'santo': 8564, 'sao': 8565, 'saputo': 8566, 'saqueo': 8567, 'sarcophagi': 8568, 'sarin': 8569, 'sat': 8570, 'sauc': 8571, 'savag': 8572, 'savannah': 8573, 'scallop': 8574, 'scanner': 8575, 'scarab': 8576, 'scarciti': 8577, 'scath': 8578, 'schall': 8579, 'scholarship': 8580, 'schoolboy': 8581, 'schoolchildren': 8582, 'schulman': 8583, 'sco': 8584, 'scooter': 8585, 'scream': 8586, 'scrutinis': 8587, 'sdf': 8588, 'seasid': 8589, 'seawat': 8590, 'seawe': 8591, 'sebastian': 8592, 'secessionist': 8593, 'securitiesslaught': 8594, 'securityunit': 8595, 'seder': 8596, 'sediment': 8597, 'sedimentari': 8598, 'seifert': 8599, 'selfimmol': 8600, 'selfrepl': 8601, 'selon': 8602, 'semi': 8603, 'sen': 8604, 'sepp': 8605, 'septic': 8606, 'sequoia': 8607, 'sequoiaback': 8608, 'sergeant': 8609, 'sergei': 8610, 'servant': 8611, 'serviceslik': 8612, 'sexi': 8613, 'shaker': 8614, 'shakespear': 8615, 'shaki': 8616, 'shangai': 8617, 'shangpu': 8618, 'sharif': 8619, 'shelter': 8620, 'shenyang': 8621, 'shia': 8622, 'shirin': 8623, 'shishu': 8624, 'shopifi': 8625, 'shoplift': 8626, 'shortfal': 8627, 'shove': 8628, 'shower': 8629, 'shred': 8630, 'shrink': 8631, 'siberia': 8632, 'sichuan': 8633, 'sidney': 8634, 'sief': 8635, 'sigi': 8636, 'silverback': 8637, 'silvio': 8638, 'simonn': 8639, 'singaporebas': 8640, 'singer': 8641, 'sinist': 8642, 'sitesgood': 8643, 'siu': 8644, 'sixteen': 8645, 'skate': 8646, 'ski': 8647, 'skripal': 8648, 'slab': 8649, 'slander': 8650, 'slate': 8651, 'slight': 8652, 'sling': 8653, 'slo': 8654, 'slum': 8655, 'sm': 8656, 'smallest': 8657, 'smarter': 8658, 'smb': 8659, 'smear': 8660, 'smerch': 8661, 'smile': 8662, 'smiledirectclub': 8663, 'snag': 8664, 'snapchat': 8665, 'sneez': 8666, 'snitch': 8667, 'soak': 8668, 'sociallydistanc': 8669, 'sociopath': 8670, 'sodomi': 8671, 'sofa': 8672, 'sohna': 8673, 'soi': 8674, 'soleimani': 8675, 'solomon': 8676, 'solskjaer': 8677, 'somewher': 8678, 'sommer': 8679, 'sonrisa': 8680, 'sopastyl': 8681, 'souk': 8682, 'soup': 8683, 'southeast': 8684, 'southwestern': 8685, 'sovaldi': 8686, 'sovietera': 8687, 'sow': 8688, 'soy': 8689, 'soya': 8690, 'sp': 8691, 'spacesa': 8692, 'spate': 8693, 'specter': 8694, 'spectr': 8695, 'spectrum': 8696, 'spew': 8697, 'spice': 8698, 'spider': 8699, 'spin': 8700, 'spite': 8701, 'spoil': 8702, 'spokesperson': 8703, 'spontan': 8704, 'spook': 8705, 'spooki': 8706, 'sportswear': 8707, 'spree': 8708, 'springsteen': 8709, 'sptzle': 8710, 'spywar': 8711, 'srinagar': 8712, 'ss26': 8713, 'ssd': 8714, 'stabilityobsess': 8715, 'stafford': 8716, 'stag': 8717, 'stagnat': 8718, 'stalker': 8719, 'stark': 8720, 'starter': 8721, 'startl': 8722, 'statisticsal': 8723, 'statutori': 8724, 'steep': 8725, 'steinfeld': 8726, 'stellar': 8727, 'stencil': 8728, 'sterilis': 8729, 'sterl': 8730, 'stew': 8731, 'sti': 8732, 'sticker': 8733, 'stimulu': 8734, 'stockholm': 8735, 'stockpil': 8736, 'strain': 8737, 'straumann': 8738, 'strictli': 8739, 'strikingli': 8740, 'strive': 8741, 'stroke': 8742, 'stronghold': 8743, 'studentl': 8744, 'stutthof': 8745, 'su35': 8746, 'subprim': 8747, 'subsequ': 8748, 'suck': 8749, 'suddenli': 8750, 'sudhir': 8751, 'suffici': 8752, 'sugarcrm': 8753, 'suitor': 8754, 'sukhoi': 8755, 'suliman': 8756, 'sullo': 8757, 'sumerian': 8758, 'sung': 8759, 'sungard': 8760, 'sunk': 8761, 'sunrun': 8762, 'superblood': 8763, 'superbug': 8764, 'superfast': 8765, 'supervisor': 8766, 'support18882395201': 8767, 'suppos': 8768, 'surfer': 8769, 'surgeon': 8770, 'surprisingli': 8771, 'surveyor': 8772, 'sutton': 8773, 'suu': 8774, 'swabian': 8775, 'swath': 8776, 'sway': 8777, 'swedishfinnish': 8778, 'swirl': 8779, 'sylt': 8780, 'symbolis': 8781, 'sympathis': 8782, 'synagogu': 8783, 'synopsi': 8784, 'systemin': 8785, 't34': 8786, 't6': 8787, 'taboo': 8788, 'tactix': 8789, 'taha': 8790, 'tailor': 8791, 'taipei': 8792, 'takaaki': 8793, 'takeda': 8794, 'takeoff': 8795, 'taketwo': 8796, 'tan': 8797, 'tannhaus': 8798, 'tanzania': 8799, 'taquaritinga': 8800, 'tata': 8801, 'taxespresid': 8802, 'tazreen': 8803, 'tb': 8804, 'tc': 8805, 'tdw': 8806, 'tearga': 8807, 'teas': 8808, 'tec': 8809, 'ted': 8810, 'tel': 8811, 'tellurian': 8812, 'temp': 8813, 'temporari': 8814, 'tend': 8815, 'tengizchevroil': 8816, 'tenth': 8817, 'tepco': 8818, 'terrac': 8819, 'terrain': 8820, 'terroristsand': 8821, 'tessan': 8822, 'tetanu': 8823, 'tether': 8824, 'texaco': 8825, 'thaw': 8826, 'theorist': 8827, 'therano': 8828, 'therapi': 8829, 'therefor': 8830, 'thereof': 8831, 'thesi': 8832, 'thi': 8833, 'thinktank': 8834, 'thirst': 8835, 'thoroughfar': 8836, 'threequart': 8837, 'threeyear': 8838, 'threshold': 8839, 'throttl': 8840, 'thrust': 8841, 'thrusttoweight': 8842, 'thuringiensi': 8843, 'thutmos': 8844, 'tianjin': 8845, 'tight': 8846, 'tighten': 8847, 'tiktok': 8848, 'timeless': 8849, 'timer': 8850, 'timet': 8851, 'tinderbox': 8852, 'ting': 8853, 'tiniest': 8854, 'tiremak': 8855, 'tj': 8856, 'tng': 8857, 'toast': 8858, 'tobago': 8859, 'toew': 8860, 'toilet': 8861, 'tolbert': 8862, 'toledo': 8863, 'tooth': 8864, 'top2earn': 8865, 'topaz': 8866, 'toplevel': 8867, 'toppl': 8868, 'tore': 8869, 'torn': 8870, 'tornado': 8871, 'torpedo': 8872, 'torrenti': 8873, 'toss': 8874, 'tpparadigma': 8875, 'tra': 8876, 'trafficmonsoon': 8877, 'tragic': 8878, 'trainin': 8879, 'tran': 8880, 'transatlant': 8881, 'transferencia': 8882, 'transferwis': 8883, 'transgend': 8884, 'transmiss': 8885, 'transpacif': 8886, 'trapdoor': 8887, 'travail': 8888, 'travi': 8889, 'treati': 8890, 'treesj': 8891, 'trek': 8892, 'trevino': 8893, 'tribal': 8894, 'tribun': 8895, 'trickledown': 8896, 'troika': 8897, 'troubleshoot': 8898, 'truli': 8899, 'trumpian': 8900, 'tsarnaev': 8901, 'tsinghua': 8902, 'tue': 8903, 'tugendhat': 8904, 'tuition': 8905, 'tumblr': 8906, 'tune': 8907, 'tunisian': 8908, 'turk': 8909, 'turkishiranian': 8910, 'turnaround': 8911, 'turnbul': 8912, 'turnov': 8913, 'tusk': 8914, 'twist': 8915, 'twotier': 8916, 'tx': 8917, 'tyco': 8918, 'tyhoon': 8919, 'tyrannosauru': 8920, 'tyrant': 8921, 'ubiquit': 8922, 'ud': 8923, 'ue': 8924, 'ufo': 8925, 'ukbas': 8926, 'uktv': 8927, 'ultimatum': 8928, 'ultrafir': 8929, 'unauthor': 8930, 'uncatagorizedarticl': 8931, 'uncertain': 8932, 'uncheck': 8933, 'uncl': 8934, 'unconsci': 8935, 'unconscion': 8936, 'undemocrat': 8937, 'under18': 8938, 'under45': 8939, 'underli': 8940, 'underreport': 8941, 'underrepres': 8942, 'undisclos': 8943, 'undo': 8944, 'une': 8945, 'unexplain': 8946, 'unfair': 8947, 'unfavor': 8948, 'unfit': 8949, 'unflatt': 8950, 'unfortun': 8951, 'unidentifi': 8952, 'uniformbedbath': 8953, 'unigroup': 8954, 'uniqlo': 8955, 'uniqur': 8956, 'uniti': 8957, 'unleash': 8958, 'unprocess': 8959, 'unregul': 8960, 'unreport': 8961, 'unsur': 8962, 'unupport': 8963, 'unwant': 8964, 'upld': 8965, 'upon': 8966, 'upvot': 8967, 'uralkali': 8968, 'urin': 8969, 'us100000': 8970, 'usampamppolit': 8971, 'usat': 8972, 'usci': 8973, 'uso': 8974, 'ustrain': 8975, 'utmost': 8976, 'utterli': 8977, 'uwa': 8978, 'vacanc': 8979, 'vacant': 8980, 'vaid': 8981, 'valeo': 8982, 'vandalis': 8983, 'vanguard': 8984, 'vaquita': 8985, 'vardi': 8986, 'variat': 8987, 'vault': 8988, 'vdeo': 8989, 'verdad': 8990, 'verifi': 8991, 'verifym': 8992, 'verint': 8993, 'vertic': 8994, 'vettel': 8995, 'vibrat': 8996, 'vic': 8997, 'victorian': 8998, 'videop': 8999, 'vienna': 9000, 'vigilant': 9001, 'vile': 9002, 'villa': 9003, 'vim': 9004, 'vindic': 9005, 'vioxx': 9006, 'viron': 9007, 'virus': 9008, 'visibl': 9009, 'visual': 9010, 'vitamin': 9011, 'vivo': 9012, 'vnand': 9013, 'vogu': 9014, 'voicecontrol': 9015, 'volkswagen': 9016, 'voluntarili': 9017, 'voucher': 9018, 'vt': 9019, 'vu': 9020, 'vvoactiv': 9021, 'w5': 9022, 'w705': 9023, 'w850i': 9024, 'w980i': 9025, 'wad': 9026, 'wafer': 9027, 'wag': 9028, 'wagner': 9029, 'wakeup': 9030, 'wallstrom': 9031, 'wang': 9032, 'ware': 9033, 'warez': 9034, 'warhol': 9035, 'warship': 9036, 'wartim': 9037, 'wasiolek': 9038, 'wastewat': 9039, 'watchtv': 9040, 'watermelon': 9041, 'watertown': 9042, 'wayfair': 9043, 'waymo': 9044, 'wdbj': 9045, 'weatherresist': 9046, 'webmail': 9047, 'webpag': 9048, 'weedkil': 9049, 'weiss': 9050, 'wellb': 9051, 'wellthought': 9052, 'were': 9053, 'wesbanco': 9054, 'wesel': 9055, 'wesson': 9056, 'wex': 9057, 'wheelchairfriendli': 9058, 'whitefish': 9059, 'whiz': 9060, 'wick': 9061, 'widen': 9062, 'widow': 9063, 'wifir': 9064, 'wildflow': 9065, 'wildli': 9066, 'winddepend': 9067, 'winner': 9068, 'winwin': 9069, 'wirecard': 9070, 'withheld': 9071, 'withhold': 9072, 'wono': 9073, 'wood': 9074, 'woodi': 9075, 'workrel': 9076, 'worldbank': 9077, 'worldpay': 9078, 'woroch': 9079, 'worship': 9080, 'worstcas': 9081, 'wrap': 9082, 'wrestl': 9083, 'wrif': 9084, 'wrist': 9085, 'wrongli': 9086, 'x1': 9087, 'xauusd': 9088, 'xenon': 9089, 'xenophob': 9090, 'xinhua': 9091, 'xl': 9092, 'xma': 9093, 'xoa': 9094, 'xtl': 9095, 'yaalon': 9096, 'yard': 9097, 'yatra': 9098, 'yazidi': 9099, 'yearli': 9100, 'yellowfac': 9101, 'yemeni': 9102, 'yiddish': 9103, 'yiwu': 9104, 'yong': 9105, 'youp': 9106, 'ypgj': 9107, 'yrc': 9108, 'yrcw': 9109, 'zack': 9110, 'zafk': 9111, 'zaha': 9112, 'zanzibar': 9113, 'zay': 9114, 'zeta': 9115, 'zeu': 9116, 'zika': 9117, 'zil': 9118, 'zimbabwean': 9119, 'zionist': 9120, 'zix': 9121, 'zm': 9122, 'zuist': 9123, 'zuliano': 9124, 'zumiez': 9125, 'zylo': 9126})\n"
     ]
    }
   ],
   "source": [
    "# Vocab\n",
    "print(\"Vocabs:\", HEADLINE.vocab.stoi)"
   ],
   "metadata": {
    "collapsed": false,
    "pycharm": {
     "name": "#%%\n"
    }
   }
  },
  {
   "cell_type": "markdown",
   "source": [
    "### Build Bi-LSTM Model"
   ],
   "metadata": {
    "collapsed": false
   }
  },
  {
   "cell_type": "code",
   "execution_count": 27,
   "outputs": [],
   "source": [
    "# If cuda available\n",
    "device = torch.device('cuda' if torch.cuda.is_available() else 'cpu')\n",
    "\n",
    "# Set Batch Size\n",
    "BATCH_SIZE = 128\n",
    "\n",
    "# Load Iterator\n",
    "train_iterator, valid_iterator = data.BucketIterator.splits(\n",
    "    (train_data, valid_data),\n",
    "    batch_size=BATCH_SIZE,\n",
    "    sort_key=lambda x: len(x.headline),\n",
    "    sort_within_batch=True,\n",
    "    device=device)"
   ],
   "metadata": {
    "collapsed": false,
    "pycharm": {
     "name": "#%%\n"
    }
   }
  },
  {
   "cell_type": "code",
   "execution_count": 28,
   "outputs": [],
   "source": [
    "class LSTMClassifier(nn.Module):\n",
    "    def __init__(self,\n",
    "                 vocab_size,\n",
    "                 embedding_dim,\n",
    "                 hidden_dim,\n",
    "                 output_dim,\n",
    "                 n_layers,\n",
    "                 bidirectional,\n",
    "                 dropout):\n",
    "        # Initialize\n",
    "        super().__init__()\n",
    "        # Embedding\n",
    "        self.embedding = nn.Embedding(vocab_size, embedding_dim)\n",
    "        # LSTM\n",
    "        self.lstm = nn.LSTM(embedding_dim,\n",
    "                            hidden_dim,\n",
    "                            num_layers=n_layers,\n",
    "                            bidirectional=bidirectional,\n",
    "                            dropout=dropout,\n",
    "                            batch_first=True)\n",
    "        # Dense\n",
    "        self.fc = nn.Linear(hidden_dim * 2, output_dim)\n",
    "        # Act\n",
    "        self.act = nn.Sigmoid()\n",
    "\n",
    "    def forward(self, text, text_lengths):\n",
    "        # text = [batch size,sent_length]\n",
    "        embedded = self.embedding(text)\n",
    "        # embedded = [batch size, sent_len, emb dim]\n",
    "        # Pack padded sequence\n",
    "        text_lengths_clamped = text_lengths.clamp(min=1)\n",
    "        packed_embedded = nn.utils.rnn.pack_padded_sequence(embedded, text_lengths_clamped, batch_first=True)\n",
    "        packed_output, (hidden, cell) = self.lstm(packed_embedded)\n",
    "        # hidden = [batch size, num layers * num directions,hid dim]\n",
    "        # cell = [batch size, num layers * num directions,hid dim]\n",
    "        # Concat forward and backward hidden states\n",
    "        hidden = torch.cat((hidden[-2, :, :], hidden[-1, :, :]), dim=1)\n",
    "        # hidden = [batch size, hid dim * num directions]\n",
    "        dense_outputs = self.fc(hidden)\n",
    "        # Act\n",
    "        outputs = self.act(dense_outputs)\n",
    "        return outputs"
   ],
   "metadata": {
    "collapsed": false,
    "pycharm": {
     "name": "#%%\n"
    }
   }
  },
  {
   "cell_type": "code",
   "execution_count": 29,
   "outputs": [],
   "source": [
    "# Hyper-parameters\n",
    "input_dim = len(HEADLINE.vocab)\n",
    "embedding_dim = 100\n",
    "hidden_dim = 32\n",
    "output_dim = len(LABEL.vocab)\n",
    "num_layers = 2\n",
    "bidirectional = True\n",
    "dropout = 0.2\n",
    "\n",
    "# LSTM Model\n",
    "model = LSTMClassifier(input_dim,\n",
    "                       embedding_dim,\n",
    "                       hidden_dim,\n",
    "                       output_dim,\n",
    "                       num_layers,\n",
    "                       bidirectional=bidirectional,\n",
    "                       dropout=dropout)"
   ],
   "metadata": {
    "collapsed": false,
    "pycharm": {
     "name": "#%%\n"
    }
   }
  },
  {
   "cell_type": "code",
   "execution_count": 30,
   "outputs": [
    {
     "name": "stdout",
     "output_type": "stream",
     "text": [
      "LSTMClassifier(\n",
      "  (embedding): Embedding(9127, 100)\n",
      "  (lstm): LSTM(100, 32, num_layers=2, batch_first=True, dropout=0.2, bidirectional=True)\n",
      "  (fc): Linear(in_features=64, out_features=3, bias=True)\n",
      "  (act): Sigmoid()\n",
      ")\n"
     ]
    }
   ],
   "source": [
    "print(model)"
   ],
   "metadata": {
    "collapsed": false,
    "pycharm": {
     "name": "#%%\n"
    }
   }
  },
  {
   "cell_type": "code",
   "execution_count": 31,
   "outputs": [
    {
     "name": "stdout",
     "output_type": "stream",
     "text": [
      "The model has 972,287 trainable parameters\n"
     ]
    }
   ],
   "source": [
    "# Available training parameters\n",
    "def count_parameters(model):\n",
    "    return sum(p.numel() for p in model.parameters() if p.requires_grad)\n",
    "\n",
    "\n",
    "print(f'The model has {count_parameters(model):,} trainable parameters')"
   ],
   "metadata": {
    "collapsed": false,
    "pycharm": {
     "name": "#%%\n"
    }
   }
  },
  {
   "cell_type": "code",
   "execution_count": 32,
   "outputs": [
    {
     "data": {
      "text/plain": "tensor([[-0.7506,  0.4851,  0.2734,  ..., -0.5432, -1.2170, -0.9132],\n        [ 0.6753, -1.2324,  1.5064,  ..., -0.8353, -0.6744, -0.3777],\n        [ 0.9313,  0.6730, -1.6294,  ...,  1.3548, -0.1716,  0.4117],\n        ...,\n        [ 0.0192, -0.3650, -0.3805,  ..., -0.8940,  0.0651,  1.4082],\n        [ 0.1367, -0.1832, -0.0628,  ...,  0.1960,  0.2462,  0.1169],\n        [-0.1404,  0.5372,  0.4209,  ...,  1.7021,  0.1654,  0.5849]])"
     },
     "execution_count": 32,
     "metadata": {},
     "output_type": "execute_result"
    }
   ],
   "source": [
    "# initializing model weights for better convergence\n",
    "def init_weights(m):\n",
    "    for name, param in m.named_parameters():\n",
    "        nn.init.normal_(param.data, std=0.1)\n",
    "\n",
    "\n",
    "model.apply(init_weights)\n",
    "\n",
    "# initializing model embeddings with glove word vectors\n",
    "pretrained_embeddings = HEADLINE.vocab.vectors\n",
    "model.embedding.weight.data.copy_(pretrained_embeddings)"
   ],
   "metadata": {
    "collapsed": false,
    "pycharm": {
     "name": "#%%\n"
    }
   }
  },
  {
   "cell_type": "markdown",
   "source": [
    "### Set Optimizer"
   ],
   "metadata": {
    "collapsed": false
   }
  },
  {
   "cell_type": "code",
   "execution_count": 33,
   "outputs": [],
   "source": [
    "# Optimizer\n",
    "optimizer = optim.Adam(model.parameters())\n",
    "criterion = nn.CrossEntropyLoss()\n",
    "\n",
    "\n",
    "# Define accuracy\n",
    "def categorical_accuracy(preds, y):\n",
    "    # get the index of the max probability\n",
    "    max_preds = preds.argmax(dim=1, keepdim=True)\n",
    "    # correct = (max_preds == y).__float__()\n",
    "    correct = (max_preds == y).float()\n",
    "    acc = correct.sum() / len(correct)\n",
    "    return acc\n",
    "\n",
    "\n",
    "# Convert to cuda if available\n",
    "model = model.to(device)\n",
    "criterion = criterion.to(device)"
   ],
   "metadata": {
    "collapsed": false,
    "pycharm": {
     "name": "#%%\n"
    }
   }
  },
  {
   "cell_type": "markdown",
   "source": [
    "### Training Function"
   ],
   "metadata": {
    "collapsed": false
   }
  },
  {
   "cell_type": "code",
   "execution_count": 34,
   "outputs": [],
   "source": [
    "def train(model, iterator, optimizer, criterion):\n",
    "    # Set model as train\n",
    "    model.train()\n",
    "    # Initialize each epoch\n",
    "    epoch_loss = 0\n",
    "    epoch_acc = 0\n",
    "    for batch in iterator:\n",
    "        # Reset optimizer with zero gradients for each iteration\n",
    "        optimizer.zero_grad()\n",
    "        # Convert to one dim tensor\n",
    "        text, text_lengths = batch.headline\n",
    "        predictions = model(text, text_lengths).squeeze()\n",
    "        # Calculate loss\n",
    "        loss = criterion(predictions, batch.label)\n",
    "        # Calculate accuracy\n",
    "        acc = categorical_accuracy(predictions, batch.label)\n",
    "        # Calculate gradients\n",
    "        loss.backward()\n",
    "        # Update weights\n",
    "        optimizer.step()\n",
    "        # Calculate loss and acc\n",
    "        epoch_loss += loss.item()\n",
    "        epoch_acc += acc.item()\n",
    "    return epoch_loss / len(iterator), epoch_acc / len(iterator)"
   ],
   "metadata": {
    "collapsed": false,
    "pycharm": {
     "name": "#%%\n"
    }
   }
  },
  {
   "cell_type": "markdown",
   "source": [
    "### Evaluating Function"
   ],
   "metadata": {
    "collapsed": false
   }
  },
  {
   "cell_type": "code",
   "execution_count": 35,
   "outputs": [],
   "source": [
    "def evaluate(model, iterator, criterion):\n",
    "    # Stop dropout\n",
    "    model.eval()\n",
    "    # Initialize each epoch\n",
    "    epoch_loss = 0\n",
    "    epoch_acc = 0\n",
    "\n",
    "    with torch.no_grad():\n",
    "        for batch in iterator:\n",
    "            # Convert to one dim tensor\n",
    "            text, text_lengths = batch.headline\n",
    "            predictions = model(text, text_lengths).squeeze()\n",
    "            # Calculate loss and acc\n",
    "            loss = criterion(predictions, batch.label)\n",
    "            acc = categorical_accuracy(predictions, batch.label)\n",
    "\n",
    "            epoch_loss += loss.item()\n",
    "            epoch_acc += acc.item()\n",
    "    return epoch_loss / len(iterator), epoch_acc / len(iterator)"
   ],
   "metadata": {
    "collapsed": false,
    "pycharm": {
     "name": "#%%\n"
    }
   }
  },
  {
   "cell_type": "markdown",
   "source": [
    "### Train Bi-LSTM Model"
   ],
   "metadata": {
    "collapsed": false
   }
  },
  {
   "cell_type": "code",
   "execution_count": 36,
   "outputs": [
    {
     "name": "stdout",
     "output_type": "stream",
     "text": [
      "Epoch: 01\n",
      "\n",
      "\tTrain Loss: 0.920 | Train Acc: 81.50%\n",
      "\t Val. Loss: 0.872 | Val. Acc: 80.65%\n",
      "Epoch: 02\n",
      "\n",
      "\tTrain Loss: 0.864 | Train Acc: 81.52%\n",
      "\t Val. Loss: 0.860 | Val. Acc: 80.65%\n",
      "Epoch: 03\n",
      "\n",
      "\tTrain Loss: 0.844 | Train Acc: 81.52%\n",
      "\t Val. Loss: 0.836 | Val. Acc: 80.65%\n",
      "Epoch: 04\n",
      "\n",
      "\tTrain Loss: 0.817 | Train Acc: 81.52%\n",
      "\t Val. Loss: 0.830 | Val. Acc: 80.65%\n",
      "Epoch: 05\n",
      "\n",
      "\tTrain Loss: 0.798 | Train Acc: 81.51%\n",
      "\t Val. Loss: 0.828 | Val. Acc: 80.65%\n"
     ]
    }
   ],
   "source": [
    "N_EPOCHS = 5\n",
    "best_valid_loss = float('inf')\n",
    "for epoch in range(N_EPOCHS):\n",
    "    print(f'Epoch: {epoch + 1:02}\\n')\n",
    "    # Training\n",
    "    train_loss, train_acc = train(model, train_iterator, optimizer, criterion)\n",
    "    # Evaluating\n",
    "    valid_loss, valid_acc = evaluate(model, valid_iterator, criterion)\n",
    "    # Save Model\n",
    "    if valid_loss < best_valid_loss:\n",
    "        best_valid_loss = valid_loss\n",
    "        torch.save(model.state_dict(), 'saved_weights.pt')\n",
    "    print(f'\\tTrain Loss: {train_loss:.3f} | Train Acc: {train_acc:.2f}%')\n",
    "    print(f'\\t Val. Loss: {valid_loss:.3f} | Val. Acc: {valid_acc:.2f}%')"
   ],
   "metadata": {
    "collapsed": false,
    "pycharm": {
     "name": "#%%\n"
    }
   }
  },
  {
   "cell_type": "markdown",
   "source": [
    "### Predicting Function"
   ],
   "metadata": {
    "collapsed": false
   }
  },
  {
   "cell_type": "code",
   "execution_count": 37,
   "outputs": [],
   "source": [
    "def predict(model, sentence):\n",
    "    # Tokenize\n",
    "    tokens = clean_headline(sentence)\n",
    "    # Word to Vector\n",
    "    vectors = [HEADLINE.vocab.stoi[t] for t in tokens]\n",
    "    # Number of words, and convert it to tensor\n",
    "    length_tensor = torch.LongTensor([len(vectors)])\n",
    "    # Vector to Tensor, and reshape\n",
    "    tensor = torch.LongTensor(vectors).to(device).unsqueeze(1).T\n",
    "    # Predict\n",
    "    prediction = model(tensor, length_tensor)\n",
    "    return prediction"
   ],
   "metadata": {
    "collapsed": false,
    "pycharm": {
     "name": "#%%\n"
    }
   }
  },
  {
   "cell_type": "markdown",
   "source": [
    "### Test Case"
   ],
   "metadata": {
    "collapsed": false
   }
  },
  {
   "cell_type": "code",
   "execution_count": 38,
   "outputs": [],
   "source": [
    "import spacy\n",
    "\n",
    "nlp = spacy.load(\"en_core_web_sm\")"
   ],
   "metadata": {
    "collapsed": false,
    "pycharm": {
     "name": "#%%\n"
    }
   }
  },
  {
   "cell_type": "code",
   "execution_count": 39,
   "outputs": [
    {
     "name": "stdout",
     "output_type": "stream",
     "text": [
      "Predicted category is 0. Which means the stock may go down in the future. (negative)\n"
     ]
    }
   ],
   "source": [
    "# Load weights\n",
    "path = './saved_weights.pt'\n",
    "model.load_state_dict(torch.load(path))\n",
    "model.eval()\n",
    "\n",
    "# Test Headline Case\n",
    "test_headline = \"MMM Trump wants 3M to stop supplying Canada with N95 respirators\"\n",
    "\n",
    "# Make a prediction\n",
    "pred_tensor = predict(model, test_headline)\n",
    "# print(\"Predicted tensor:\", pred_tensor)\n",
    "\n",
    "max_pred = pred_tensor.argmax(dim=1, keepdim=True)\n",
    "\n",
    "if 0 == max_pred:\n",
    "    print(\"Predicted category is 0. Which means the stock may go down in the future. (negative)\")\n",
    "elif 1 == max_pred:\n",
    "    print(\"Predicted category is 1. Which means the stock may go up in the future. (positive)\")\n",
    "else:\n",
    "    print(\"Predicted category is 2. Which means the stock may stay the same in the future. (neutral)\")\n"
   ],
   "metadata": {
    "collapsed": false,
    "pycharm": {
     "name": "#%%\n"
    }
   }
  },
  {
   "cell_type": "code",
   "execution_count": 39,
   "outputs": [],
   "source": [],
   "metadata": {
    "collapsed": false,
    "pycharm": {
     "name": "#%%\n"
    }
   }
  }
 ],
 "metadata": {
  "kernelspec": {
   "display_name": "Python 3",
   "language": "python",
   "name": "python3"
  },
  "language_info": {
   "codemirror_mode": {
    "name": "ipython",
    "version": 2
   },
   "file_extension": ".py",
   "mimetype": "text/x-python",
   "name": "python",
   "nbconvert_exporter": "python",
   "pygments_lexer": "ipython2",
   "version": "2.7.6"
  }
 },
 "nbformat": 4,
 "nbformat_minor": 0
}