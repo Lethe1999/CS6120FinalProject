{
 "cells": [
  {
   "cell_type": "markdown",
   "source": [
    "## Import Data"
   ],
   "metadata": {
    "collapsed": false
   }
  },
  {
   "cell_type": "code",
   "execution_count": 1,
   "metadata": {
    "collapsed": true
   },
   "outputs": [
    {
     "name": "stderr",
     "output_type": "stream",
     "text": [
      "[nltk_data] Downloading package stopwords to\n",
      "[nltk_data]     C:\\Users\\Mandarin\\AppData\\Roaming\\nltk_data...\n",
      "[nltk_data]   Package stopwords is already up-to-date!\n",
      "[nltk_data] Downloading package words to\n",
      "[nltk_data]     C:\\Users\\Mandarin\\AppData\\Roaming\\nltk_data...\n",
      "[nltk_data]   Package words is already up-to-date!\n"
     ]
    },
    {
     "data": {
      "text/plain": "True"
     },
     "execution_count": 1,
     "metadata": {},
     "output_type": "execute_result"
    }
   ],
   "source": [
    "import pandas as pd\n",
    "import numpy as np\n",
    "import string\n",
    "import re\n",
    "import nltk\n",
    "from nltk.corpus import stopwords\n",
    "from sklearn.model_selection import train_test_split\n",
    "\n",
    "nltk.download('stopwords')\n",
    "nltk.download('words')"
   ]
  },
  {
   "cell_type": "code",
   "execution_count": 2,
   "outputs": [
    {
     "data": {
      "text/plain": "       Label Ticker                                           Headline\n0          0      A  @TotesTravel : Airline shares tumble as New Yo...\n1          1      A  @TotesTravel : American United call off Hong K...\n2          0      A  @TotesTravel : U.S. airline stocks hit highest...\n3          1      A  @TotesTravel : American Airlines reaches deal ...\n4          1      A  @TotesTravel : US airlines Treasury Department...\n...      ...    ...                                                ...\n15557      0    WMT  Walmart dumps e-cigarettes: Largest store in U...\n15558      0    WMT  Walmart makes a $16 billion bet on India's boo...\n15559      0    WMT  Walmart raises minimum age to buy tobacco to 2...\n15560      0    WMT  Walmart Took Over Chile In Only Three Years An...\n15561      2    WMT  Carla Cheney: Walmart Fired Me For Reporting D...\n\n[15562 rows x 3 columns]",
      "text/html": "<div>\n<style scoped>\n    .dataframe tbody tr th:only-of-type {\n        vertical-align: middle;\n    }\n\n    .dataframe tbody tr th {\n        vertical-align: top;\n    }\n\n    .dataframe thead th {\n        text-align: right;\n    }\n</style>\n<table border=\"1\" class=\"dataframe\">\n  <thead>\n    <tr style=\"text-align: right;\">\n      <th></th>\n      <th>Label</th>\n      <th>Ticker</th>\n      <th>Headline</th>\n    </tr>\n  </thead>\n  <tbody>\n    <tr>\n      <th>0</th>\n      <td>0</td>\n      <td>A</td>\n      <td>@TotesTravel : Airline shares tumble as New Yo...</td>\n    </tr>\n    <tr>\n      <th>1</th>\n      <td>1</td>\n      <td>A</td>\n      <td>@TotesTravel : American United call off Hong K...</td>\n    </tr>\n    <tr>\n      <th>2</th>\n      <td>0</td>\n      <td>A</td>\n      <td>@TotesTravel : U.S. airline stocks hit highest...</td>\n    </tr>\n    <tr>\n      <th>3</th>\n      <td>1</td>\n      <td>A</td>\n      <td>@TotesTravel : American Airlines reaches deal ...</td>\n    </tr>\n    <tr>\n      <th>4</th>\n      <td>1</td>\n      <td>A</td>\n      <td>@TotesTravel : US airlines Treasury Department...</td>\n    </tr>\n    <tr>\n      <th>...</th>\n      <td>...</td>\n      <td>...</td>\n      <td>...</td>\n    </tr>\n    <tr>\n      <th>15557</th>\n      <td>0</td>\n      <td>WMT</td>\n      <td>Walmart dumps e-cigarettes: Largest store in U...</td>\n    </tr>\n    <tr>\n      <th>15558</th>\n      <td>0</td>\n      <td>WMT</td>\n      <td>Walmart makes a $16 billion bet on India's boo...</td>\n    </tr>\n    <tr>\n      <th>15559</th>\n      <td>0</td>\n      <td>WMT</td>\n      <td>Walmart raises minimum age to buy tobacco to 2...</td>\n    </tr>\n    <tr>\n      <th>15560</th>\n      <td>0</td>\n      <td>WMT</td>\n      <td>Walmart Took Over Chile In Only Three Years An...</td>\n    </tr>\n    <tr>\n      <th>15561</th>\n      <td>2</td>\n      <td>WMT</td>\n      <td>Carla Cheney: Walmart Fired Me For Reporting D...</td>\n    </tr>\n  </tbody>\n</table>\n<p>15562 rows × 3 columns</p>\n</div>"
     },
     "execution_count": 2,
     "metadata": {},
     "output_type": "execute_result"
    }
   ],
   "source": [
    "df = pd.read_csv(\"News Sentiment Analysis for Stock Data by Company.csv\", encoding=\"latin-1\")\n",
    "df"
   ],
   "metadata": {
    "collapsed": false,
    "pycharm": {
     "name": "#%%\n"
    }
   }
  },
  {
   "cell_type": "markdown",
   "source": [
    "### SVM (Support Vector Machine)"
   ],
   "metadata": {
    "collapsed": false
   }
  },
  {
   "cell_type": "markdown",
   "source": [
    "#### SVM Models Preparation"
   ],
   "metadata": {
    "collapsed": false
   }
  },
  {
   "cell_type": "code",
   "execution_count": 3,
   "outputs": [],
   "source": [
    "from nltk.stem import PorterStemmer\n",
    "from nltk.tokenize import word_tokenize\n",
    "from sklearn import model_selection\n",
    "from sklearn.preprocessing import LabelEncoder\n",
    "from sklearn.feature_extraction.text import TfidfVectorizer\n",
    "from sklearn import svm\n",
    "from sklearn.metrics import accuracy_score"
   ],
   "metadata": {
    "collapsed": false,
    "pycharm": {
     "name": "#%%\n"
    }
   }
  },
  {
   "cell_type": "code",
   "execution_count": 4,
   "outputs": [],
   "source": [
    "def clean_message(message):\n",
    "    '''\n",
    "    Input:\n",
    "        message: a string containing a message.\n",
    "    Output:\n",
    "        messages_cleaned: a list of words containing the processed message.\n",
    "    '''\n",
    "    #remove http(s)://+string, replace with nothing\n",
    "    remove_link = re.sub(r'https?://\\S+', '', message)\n",
    "    #remove any non-word and non-space character\n",
    "    remove_punct = re.sub(r'[^\\w\\s]','',remove_link)\n",
    "    lower_message = remove_punct.lower()\n",
    "\n",
    "    #tokenize words, then append the non-stopwords to messages_cleaned\n",
    "    tokenized = word_tokenize(lower_message)\n",
    "    remove_stopwds = [word for word in tokenized if not word in stopwords.words('english')]\n",
    "\n",
    "    #Porter stemming\n",
    "    stemmer = PorterStemmer()\n",
    "    messages_cleaned = [stemmer.stem(word) for word in remove_stopwds]\n",
    "    return messages_cleaned"
   ],
   "metadata": {
    "collapsed": false,
    "pycharm": {
     "name": "#%%\n"
    }
   }
  },
  {
   "cell_type": "code",
   "execution_count": 5,
   "outputs": [],
   "source": [
    "# Use a list to store separate words of cleaned headlines\n",
    "cleaned_headlines = []\n",
    "\n",
    "# Add cleaned headlines to data frame as strings.\n",
    "for i in range(len(df)):\n",
    "    tokens = clean_message(df.loc[i, \"Headline\"])\n",
    "    df.loc[i, 'Cleaned_Headline'] = \" \".join(tokens)\n",
    "    cleaned_headlines.append(tokens)"
   ],
   "metadata": {
    "collapsed": false,
    "pycharm": {
     "name": "#%%\n"
    }
   }
  },
  {
   "cell_type": "code",
   "execution_count": 6,
   "outputs": [
    {
     "data": {
      "text/plain": "       Label Ticker                                           Headline  \\\n0          0      A  @TotesTravel : Airline shares tumble as New Yo...   \n1          1      A  @TotesTravel : American United call off Hong K...   \n2          0      A  @TotesTravel : U.S. airline stocks hit highest...   \n3          1      A  @TotesTravel : American Airlines reaches deal ...   \n4          1      A  @TotesTravel : US airlines Treasury Department...   \n...      ...    ...                                                ...   \n15557      0    WMT  Walmart dumps e-cigarettes: Largest store in U...   \n15558      0    WMT  Walmart makes a $16 billion bet on India's boo...   \n15559      0    WMT  Walmart raises minimum age to buy tobacco to 2...   \n15560      0    WMT  Walmart Took Over Chile In Only Three Years An...   \n15561      2    WMT  Carla Cheney: Walmart Fired Me For Reporting D...   \n\n                                        Cleaned_Headline  \n0      totestravel airlin share tumbl new york impos ...  \n1      totestravel american unit call hong kong fligh...  \n2      totestravel us airlin stock hit highest price ...  \n3      totestravel american airlin reach deal boe 737...  \n4      totestravel us airlin treasuri depart reach ag...  \n...                                                  ...  \n15557  walmart dump ecigarett largest store us longer...  \n15558     walmart make 16 billion bet india boom economi  \n15559  walmart rais minimum age buy tobacco 21 pressu...  \n15560  walmart took chile three year countri terrifi ...  \n15561  carla cheney walmart fire report dog left hot ...  \n\n[15562 rows x 4 columns]",
      "text/html": "<div>\n<style scoped>\n    .dataframe tbody tr th:only-of-type {\n        vertical-align: middle;\n    }\n\n    .dataframe tbody tr th {\n        vertical-align: top;\n    }\n\n    .dataframe thead th {\n        text-align: right;\n    }\n</style>\n<table border=\"1\" class=\"dataframe\">\n  <thead>\n    <tr style=\"text-align: right;\">\n      <th></th>\n      <th>Label</th>\n      <th>Ticker</th>\n      <th>Headline</th>\n      <th>Cleaned_Headline</th>\n    </tr>\n  </thead>\n  <tbody>\n    <tr>\n      <th>0</th>\n      <td>0</td>\n      <td>A</td>\n      <td>@TotesTravel : Airline shares tumble as New Yo...</td>\n      <td>totestravel airlin share tumbl new york impos ...</td>\n    </tr>\n    <tr>\n      <th>1</th>\n      <td>1</td>\n      <td>A</td>\n      <td>@TotesTravel : American United call off Hong K...</td>\n      <td>totestravel american unit call hong kong fligh...</td>\n    </tr>\n    <tr>\n      <th>2</th>\n      <td>0</td>\n      <td>A</td>\n      <td>@TotesTravel : U.S. airline stocks hit highest...</td>\n      <td>totestravel us airlin stock hit highest price ...</td>\n    </tr>\n    <tr>\n      <th>3</th>\n      <td>1</td>\n      <td>A</td>\n      <td>@TotesTravel : American Airlines reaches deal ...</td>\n      <td>totestravel american airlin reach deal boe 737...</td>\n    </tr>\n    <tr>\n      <th>4</th>\n      <td>1</td>\n      <td>A</td>\n      <td>@TotesTravel : US airlines Treasury Department...</td>\n      <td>totestravel us airlin treasuri depart reach ag...</td>\n    </tr>\n    <tr>\n      <th>...</th>\n      <td>...</td>\n      <td>...</td>\n      <td>...</td>\n      <td>...</td>\n    </tr>\n    <tr>\n      <th>15557</th>\n      <td>0</td>\n      <td>WMT</td>\n      <td>Walmart dumps e-cigarettes: Largest store in U...</td>\n      <td>walmart dump ecigarett largest store us longer...</td>\n    </tr>\n    <tr>\n      <th>15558</th>\n      <td>0</td>\n      <td>WMT</td>\n      <td>Walmart makes a $16 billion bet on India's boo...</td>\n      <td>walmart make 16 billion bet india boom economi</td>\n    </tr>\n    <tr>\n      <th>15559</th>\n      <td>0</td>\n      <td>WMT</td>\n      <td>Walmart raises minimum age to buy tobacco to 2...</td>\n      <td>walmart rais minimum age buy tobacco 21 pressu...</td>\n    </tr>\n    <tr>\n      <th>15560</th>\n      <td>0</td>\n      <td>WMT</td>\n      <td>Walmart Took Over Chile In Only Three Years An...</td>\n      <td>walmart took chile three year countri terrifi ...</td>\n    </tr>\n    <tr>\n      <th>15561</th>\n      <td>2</td>\n      <td>WMT</td>\n      <td>Carla Cheney: Walmart Fired Me For Reporting D...</td>\n      <td>carla cheney walmart fire report dog left hot ...</td>\n    </tr>\n  </tbody>\n</table>\n<p>15562 rows × 4 columns</p>\n</div>"
     },
     "execution_count": 6,
     "metadata": {},
     "output_type": "execute_result"
    }
   ],
   "source": [
    "df"
   ],
   "metadata": {
    "collapsed": false,
    "pycharm": {
     "name": "#%%\n"
    }
   }
  },
  {
   "cell_type": "markdown",
   "source": [
    "#### SVM Implementation"
   ],
   "metadata": {
    "collapsed": false
   }
  },
  {
   "cell_type": "code",
   "execution_count": 7,
   "outputs": [],
   "source": [
    "np.random.seed(300)"
   ],
   "metadata": {
    "collapsed": false,
    "pycharm": {
     "name": "#%%\n"
    }
   }
  },
  {
   "cell_type": "code",
   "execution_count": 8,
   "outputs": [],
   "source": [
    "#Split the cleaned data into train and test sets\n",
    "Train_X, Test_X, Train_Y, Test_Y = model_selection.train_test_split(df['Cleaned_Headline'], df['Label'], test_size=0.3)"
   ],
   "metadata": {
    "collapsed": false,
    "pycharm": {
     "name": "#%%\n"
    }
   }
  },
  {
   "cell_type": "code",
   "execution_count": 20,
   "outputs": [
    {
     "data": {
      "text/plain": "pandas.core.series.Series"
     },
     "execution_count": 20,
     "metadata": {},
     "output_type": "execute_result"
    }
   ],
   "source": [
    "type(Train_X)"
   ],
   "metadata": {
    "collapsed": false,
    "pycharm": {
     "name": "#%%\n"
    }
   }
  },
  {
   "cell_type": "code",
   "execution_count": 14,
   "outputs": [],
   "source": [
    "#Vectorize the data using TF-IDF\n",
    "data_vectorizer = TfidfVectorizer(max_features=5000)\n",
    "data_vectorizer.fit(df['Cleaned_Headline'])\n",
    "\n",
    "TrainX_TFIDF = data_vectorizer.transform(Train_X)\n",
    "TestX_TFIDF = data_vectorizer.transform(Test_X)"
   ],
   "metadata": {
    "collapsed": false,
    "pycharm": {
     "name": "#%%\n"
    }
   }
  },
  {
   "cell_type": "code",
   "execution_count": 15,
   "outputs": [
    {
     "name": "stdout",
     "output_type": "stream",
     "text": [
      "{'totestravel': 4534, 'airlin': 323, 'share': 3995, 'tumbl': 4619, 'new': 3057, 'york': 4976, 'impos': 2326, 'quarantin': 3577, 'florida': 1859, 'case': 876, 'spike': 4187, 'american': 375, 'group': 2067, 'inc': 2332, 'plane': 3383, 'prepar': 3468, 'land': 2614, 'airport': 325, 'us': 4720, 'tuesday': 4618, 'april': 443, '18': 40, 'travelnewsinsight': 4576, 'unit': 4689, 'call': 831, 'hong': 2231, 'kong': 2592, 'flight': 1855, 'crew': 1218, 'test': 4444, 'rule': 3839, 'boe': 704, 'co': 1032, 'aircraft': 322, 'sit': 4071, 'intern': 2425, 'china': 961, 'stock': 4259, 'hit': 2205, 'highest': 2186, 'price': 3481, 'sinc': 4061, 'june': 2536, 'travel': 4575, 'hope': 2235, 'airway': 328, 'corp': 1179, 'taxi': 4400, 'next': 3062, 'delta': 1334, 'air': 319, 'line': 2697, 'reach': 3627, 'deal': 1293, '737': 179, 'max': 2816, 'ground': 2064, '30': 114, 'million': 2896, 'employe': 1597, 'mainten': 2765, 'worker': 4933, 'cover': 1198, 'engin': 1613, 'outsid': 3212, 'treasuri': 4578, 'depart': 1345, 'agreement': 311, 'principl': 3487, 'aid': 315, 'appl': 436, 'main': 2761, 'contract': 1150, 'manufactur': 2786, 'foxconn': 1900, 'agre': 310, 'tackl': 4380, 'violat': 4791, 'condit': 1111, 'among': 381, '12': 18, 'assembl': 487, 'iphon': 2450, 'ipad': 2449, 'landmark': 2616, 'decis': 1304, 'could': 1185, 'chang': 925, 'way': 4859, 'western': 4884, 'compani': 1081, 'busi': 807, 'european': 1673, 'union': 4687, 'regul': 3687, 'slap': 4086, '13': 22, 'billion': 647, 'tax': 4399, 'bill': 645, 'examin': 1693, 'alleg': 342, 'ikea': 2307, 'least': 2649, 'euro': 1671, 'past': 3281, 'six': 4074, 'year': 4968, 'eu': 1669, 'must': 3001, 'pay': 3294, 'huge': 2260, 'ireland': 2457, 'clearli': 1007, 'base': 580, 'fact': 1758, 'exist': 1707, 'aim': 317, 'state': 4232, 'commiss': 1071, 'presid': 3472, 'juncker': 2535, 'said': 3863, 'sunday': 4323, 'russia': 3848, 'want': 4839, 'sap': 3885, 'cooper': 1165, 'foreign': 1877, 'spi': 4186, 'propos': 3527, 'hand': 2111, 'govern': 2036, 'access': 234, 'sourc': 4154, 'code': 1042, 'make': 2767, 'sure': 4338, 'wide': 4897, 'use': 4727, 'product': 3507, 'tool': 4526, 'institut': 2403, 'stash': 4231, '21': 89, 'trillion': 4589, 'oversea': 3217, 'avoid': 538, 'microsoft': 2880, 'googl': 2028, 'five': 1842, 'tech': 4410, 'firm': 1832, 'account': 243, 'fifth': 1814, 'profit': 3511, 'hold': 2215, 'top': 4527, 'un': 4655, 'human': 2262, 'right': 3785, 'offici': 3148, 'warn': 4845, 'friday': 1918, 'risk': 3796, 'open': 3168, 'box': 731, 'infring': 2374, 'worldwid': 4936, 'eas': 1531, 'crimin': 1222, 'hacker': 2096, 'form': 1884, 'health': 2147, 'head': 2140, 'chairman': 918, 'art': 470, 'tariff': 4396, 'loom': 2732, 'remain': 3701, 'depend': 1346, 'tap': 4392, 'factori': 1760, 'brazil': 741, 'india': 2350, 'suppli': 4332, 'chain': 916, 'data': 1279, 'show': 4029, 'oper': 3171, 'move': 2974, 'made': 2754, 'corpor': 1180, 'structur': 4288, '2015': 67, 'special': 4176, 'design': 1358, 'preserv': 3471, 'payment': 3296, 'reduc': 3664, 'anywher': 421, 'els': 1581, 'author': 526, 'charg': 931, 'former': 1887, 'steal': 4242, 'trade': 4553, 'secret': 3930, 'monday': 2938, 'accus': 246, 'download': 1478, 'relat': 3692, 'selfdriv': 3947, 'car': 862, 'person': 3331, 'laptop': 2619, 'tri': 4584, 'flee': 1850, 'countri': 1192, 'accord': 242, 'complaint': 1091, 'file': 1819, 'feder': 1799, 'court': 1197, 'billionair': 648, 'founder': 1896, 'urg': 4717, 'plant': 3385, 'largest': 2622, 'supplier': 4333, 'ask': 481, 'part': 3269, 'neighbor': 3036, 'taiwan': 4382, 'chief': 956, 'say': 3894, 'rise': 3794, 'unavoid': 4662, 'world': 4935, 'electron': 1574, 'good': 2026, 'major': 2766, 'steve': 4251, 'job': 2509, 'resign': 3734, 'ceo': 907, 'name': 3011, 'silicon': 4053, 'valley': 4742, 'legend': 2657, 'wednesday': 4870, 'execut': 1702, 'stun': 4295, 'technolog': 4413, 'giant': 1994, 'cofound': 1044, 'student': 4291, 'su': 4300, '1bn': 51, 'claim': 996, 'ai': 314, 'led': 2652, 'arrest': 467, 'give': 2002, 'incent': 2334, 'resist': 3735, 'demand': 1335, 'minist': 2906, 'thursday': 4488, 'delhi': 1328, 'may': 2818, 'except': 1697, 'agent': 306, 'paper': 3254, 'underag': 4668, 'chines': 962, 'labor': 2604, 'document': 1452, 'behalf': 608, 'seek': 3938, 'improv': 2330, 'mac': 2750, 'maker': 2769, 'aapl': 214, 'dell': 1333, 'comput': 1101, 'explos': 1728, 'fire': 1830, 'southwest': 4158, 'provinc': 3542, 'yesterday': 4973, 'kill': 2573, 'two': 4638, 'peopl': 3314, 'injur': 2380, '16': 32, 'facebook': 1755, 'dozen': 1481, 'internet': 2426, 'joint': 2515, 'legal': 2656, 'brief': 756, 'judg': 2529, 'support': 4334, 'encrypt': 1604, 'battl': 588, 'told': 4517, 'juri': 2540, 'softwar': 4130, 'texa': 4447, 'patent': 3284, 'invent': 2439, 'without': 4919, 'permiss': 3325, 'crop': 1230, 'sue': 4312, 'target': 4395, 'media': 2835, 'staterun': 4235, 'step': 4248, 'critic': 1224, 'includ': 2337, 'tension': 4434, 'escal': 1651, 'hack': 2095, 'creat': 1211, 'energi': 1610, 'sell': 3949, 'renew': 3710, 'power': 3450, 'direct': 1399, 'consum': 1140, '93': 202, 'percent': 3318, 'offic': 3147, 'retail': 3750, 'store': 4266, 'center': 903, 'thank': 4454, 'invest': 2441, 'solar': 4132, 'clean': 1005, 'act': 256, 'estim': 1658, '20': 53, 'ton': 4521, 'greenhous': 2053, 'ga': 1948, 'pollut': 3422, 'reli': 3696, '2020': 74, 'that': 4455, 'like': 2692, 'four': 1897, 'fewer': 1808, 'road': 3801, 'report': 3720, 'messag': 2862, 'board': 698, 'news': 3060, 'social': 4124, 'network': 3052, 'allow': 348, 'free': 1910, 'trial': 4585, 'period': 3323, 'app': 430, 'replac': 3719, 'samsung': 3874, 'tim': 4498, 'cook': 1162, 'januari': 2490, 'california': 830, 'list': 2703, 'gap': 1961, 'requir': 3727, 'disclos': 1408, 'take': 4383, 'ensur': 1622, 'partner': 3275, 'forc': 1874, 'less': 2665, 'cash': 877, 'fan': 1773, 'touch': 4535, 'swipe': 4363, 'first': 1833, 'earli': 1526, 'adopt': 278, 'hard': 2119, 'work': 4931, 'custom': 1254, 'intent': 2417, 'owner': 3227, 'class': 1000, 'long': 2725, 'across': 255, 'phone': 3349, 'wireless': 4915, 'system': 4375, 'upgrad': 4708, 'one': 3162, 'highspe': 2191, 'put': 3561, 'increasingli': 2343, 'rival': 3798, 'even': 1680, 'histori': 2203, 'time': 4499, 'surpass': 4343, 'becom': 601, 'valuabl': 4744, 'die': 1388, 'offer': 3146, 'refund': 3673, 'australian': 524, 'fine': 1827, 'yuan': 4985, 'host': 2242, 'thirdparti': 4471, 'applic': 438, 'fast': 1781, 'deliveri': 1332, 'servic': 3974, 'get': 1991, 'conspiraci': 1136, 'increas': 2342, 'develop': 1376, 'devic': 1377, 'mobil': 2925, 'android': 393, 'smartphon': 4101, 'seller': 3950, 'term': 4436, 'revenu': 3762, 'rank': 3618, 'market': 2797, 'comscor': 1102, 'post': 3442, 'kevin': 2563, 'smith': 4105, 'arm': 462, 'central': 905, 'pari': 3263, 'eve': 1679, 'cost': 1183, 'appear': 434, 'order': 3186, 'ltd': 2743, 'found': 1894, 'south': 4155, 'korean': 2595, 'learn': 2648, 'expens': 1717, 'lesson': 2666, 'launch': 2633, 'certifi': 911, 'lightn': 2690, 'usb': 4723, 'cabl': 822, 'uniqu': 4688, 'flat': 1848, 'style': 4299, 'ft': 1926, 'slim': 4093, 'connector': 1128, 'white': 4892, 'extra': 1739, 'amp': 383, 'reportedli': 3721, 'togeth': 4514, 'team': 4408, 'treat': 4579, 'diabet': 1382, 'origin': 3192, 'reject': 3690, 'differ': 1391, 'gadget': 1949, 'deep': 1311, 'privat': 3494, 'manag': 2778, 'larg': 2620, 'consent': 1129, 'fell': 1804, 'per': 3317, 'cent': 902, 'lose': 2735, 'qualcomm': 3572, 'munich': 2993, 'pull': 3551, 'older': 3156, 'german': 1989, 'remov': 3708, 'plagu': 3379, 'illeg': 2309, 'content': 1145, 'global': 2007, 'wearabl': 4866, 'medic': 2836, 'achiev': 247, 'valu': 4743, '251015': 104, '2025': 84, 'fitbit': 1840, 'xiaomi': 4958, 'garmin': 1965, 'huawei': 2257, 'philip': 3347, 'healthcar': 2148, 'worth': 4941, 'cagr': 826, '20192025': 73, 'doubl': 1473, 'smoke': 4107, 'reveal': 3760, 'approv': 441, 'kim': 2575, 'jongun': 2520, 'game': 1956, 'usa': 4721, 'care': 865, 'number': 3112, 'paint': 3239, 'pictur': 3360, 'sale': 3867, 'cast': 879, 'doubt': 1474, 'strength': 4279, 'import': 2325, 'real': 3634, 'hint': 2200, 'black': 667, '10': 1, 'man': 2777, 'challeng': 919, 'face': 1754, 'investig': 2442, 'photo': 3350, 'introduc': 2433, 'break': 745, 'record': 3655, 'biggest': 643, 'ipo': 2451, 'twice': 4634, 'size': 4077, 'week': 4872, 'caught': 888, 'cold': 1049, 'begin': 606, 'local': 2715, '2019': 72, 'familiar': 1771, 'matter': 2814, 'repair': 3715, 'help': 2168, 'protest': 3535, 'track': 4551, 'polic': 3416, 'movement': 2975, 'law': 2637, 'enforc': 1611, 'follow': 1868, 'sharp': 3998, 'newspap': 3061, 'vulner': 4823, 'email': 1585, 'san': 3876, 'cybersecur': 1259, 'detect': 1369, 'uber': 4644, 'rais': 3606, '100': 2, 'focus': 1865, 'display': 1426, 'bloomberg': 690, 'getti': 1992, 'imag': 2312, 'ridehail': 3781, 'digit': 1393, 'advertis': 282, 'industri': 2361, 'analysi': 385, 'growth': 2070, 'trend': 4583, 'forecast': 1876, '2026': 85, 'alibaba': 338, 'amazon': 366, 'alphabet': 355, 'sina': 4060, 'nokia': 3084, 'tencent': 4432, 'twitter': 4637, 'se': 3921, 'plu': 3400, 'ban': 561, 'alex': 335, 'jone': 2518, 'model': 2928, 'push': 3559, 'updat': 4707, 'user': 4728, 'bid': 640, 'resolv': 3736, 'potenti': 3445, 'issu': 2469, 'look': 2731, 'handl': 2112, 'disput': 1428, 'border': 718, 'refer': 3668, 'peninsula': 3310, 'map': 2787, 'weather': 4867, 'russian': 3849, 'reuter': 3759, 'key': 2564, 'player': 3392, 'omron': 3161, 'koninklijk': 2593, 'nv': 3120, 'chip': 964, 'preliminari': 3463, 'sever': 3983, 'due': 1515, 'around': 465, 'featur': 1795, 'though': 4474, 'avail': 535, 'itali': 2471, 'antitrust': 417, 'watchdog': 4856, 'oct': 3141, '24': 96, 'slow': 4095, 'suprem': 4337, 'justic': 2541, 'let': 2667, 'lawsuit': 2639, 'proceed': 3501, 'caus': 889, 'sport': 4195, 'soni': 4145, 'adida': 273, 'ag': 302, 'nike': 3077, 'classact': 1001, 'plan': 3382, 'behind': 610, 'knight': 2586, 'uk': 4649, 'british': 762, 'award': 540, 'paul': 3291, 'citizen': 990, 'deni': 1342, 'gener': 1983, 'amazoncom': 367, 'trademark': 4554, 'word': 4929, 'stand': 4222, 'program': 3512, 'household': 2252, 'better': 632, 'protect': 3533, 'might': 2885, 'reform': 3671, 'latest': 2628, 'shelv': 4005, 'japan': 2491, 'newest': 3058, 'went': 4882, 'ahead': 313, 'debut': 1298, 'later': 2627, 'day': 1287, 'ntt': 3107, 'popular': 3431, 'handset': 2113, 'rare': 3624, 'apolog': 428, 'eye': 1747, 'japanes': 2492, 'xpost': 4962, 'rlegalnew': 3800, 'govt': 2038, 'lead': 2643, 'pc': 3300, 'airbnb': 320, 'would': 4942, 'start': 4227, 'inform': 2371, 'agenc': 305, 'strict': 4282, 'resid': 3733, 'tourist': 4539, 'regist': 3684, 'address': 271, 'arriv': 468, 'stay': 4240, 'hotel': 2247, 'within': 4918, 'hour': 2250, 'raid': 3601, 'last': 2625, 'month': 2947, 'suspicion': 4355, 'suspect': 4352, 'properti': 3525, 'homeshar': 2228, 'platform': 3389, 'netflix': 3049, 'friend': 1919, 'cut': 1255, 'releas': 3695, 'lawmak': 2638, 'fake': 1765, 'jewish': 2502, 'home': 2223, 'rental': 3713, 'religi': 3698, 'discrimin': 1417, '200': 54, 'west': 4883, 'bank': 568, 'aig': 316, 'mortgag': 2961, 'insur': 2407, 'arch': 448, 'capit': 857, '34': 121, 'realestatecoulissecom': 3635, 'pharma': 3342, 'quot': 3588, 'link': 2699, 'previous': 3480, 'unknown': 4691, 'flaw': 1849, 'window': 4911, 'adob': 277, 'flash': 1846, 'infiltr': 2365, 'discuss': 1418, 'sanction': 3878, 'polici': 3417, 'transform': 4566, '20212026': 79, 'ibm': 2285, 'incorpor': 2341, 'accentur': 232, 'plc': 3393, 'oracl': 3183, '3d': 129, 'print': 3488, 'assess': 489, 'factor': 1759, 'upcom': 4706, 'arcam': 447, 'ab': 215, 'royal': 3835, 'dsm': 1509, 'stratasi': 4274, 'autodesk': 529, 'exon': 1709, 'hgan': 2178, 'organovo': 3191, 'mcor': 2825, 'limit': 2696, 'driver': 1499, 'isra': 2467, 'allot': 347, 'commun': 1077, 'iran': 2453, 'bullish': 797, 'runner': 3842, 'steam': 4244, 'radio': 3598, 'advanc': 280, 'micro': 2876, 'elderli': 1569, 'anticip': 413, 'beness': 624, 'amedisi': 373, 'st': 4211, 'luke': 2745, 'eldercar': 1568, 'brookdal': 772, 'senior': 3955, 'live': 2709, 'cancer': 848, 'project': 3516, '46': 141, 'till': 4496, '2023': 82, 'amgen': 376, 'novarti': 3102, 'abbott': 219, 'q2': 3567, '2013': 65, 'earn': 1528, 'transcript': 4564, 'america': 374, 'vs': 4822, 'peru': 3333, 'fight': 1815, 'domain': 1460, 'belong': 618, 'jungl': 2537, 'hundr': 2264, 'germani': 1990, 'strike': 4283, 'set': 3976, 'peak': 3302, 'hire': 2201, '100000': 5, 'effort': 1560, 'meet': 2841, 'crush': 1239, 'place': 3377, 'onlin': 3164, 'essenti': 1655, 'rather': 3626, 'go': 2012, 'crowd': 1232, 'shut': 4035, 'juli': 2532, 'ecommerc': 1543, 'lucr': 2744, 'cloud': 1022, 'popul': 3430, 'nation': 3017, 'suspend': 4353, 'send': 3954, 'warehous': 4841, 'space': 4163, 'shortag': 4024, 'result': 3748, 'coronaviru': 1178, 'outbreak': 3203, 'implement': 2323, 'moratorium': 2953, 'facial': 1756, 'recognit': 3653, 'halt': 2106, 'defend': 1318, 'mani': 2782, 'brutal': 783, 'seiz': 3944, 'via': 4777, 'fail': 1761, 'daili': 1266, 'cite': 988, 'tesla': 4443, 'tsla': 4610, 'walmart': 4836, 'surpris': 4345, 'jump': 2534, 'second': 3928, 'quarter': 3578, 'pipelin': 3371, 'review': 3764, 'idata': 2292, 'insight': 2393, 'cannabi': 850, 'produc': 3506, 'aphria': 426, 'sign': 4048, 'buy': 811, 'expand': 1711, 'robot': 3808, 'current': 1252, 'intuit': 2436, 'surgic': 4342, 'zimmer': 4993, 'biomet': 657, 'mazor': 2820, 'accuray': 245, 'hansen': 2115, 'incauri': 2333, 'stryker': 4290, 'toyota': 4547, 'hitachi': 2206, 'regen': 3678, 'medicin': 2837, '20202026': 75, 'athersi': 501, 'corlin': 1175, 'biomed': 656, 'mesoblast': 2861, 'nuvas': 3118, 'biotech': 660, 'integra': 2410, 'lifesci': 2686, 'organogenesi': 3190, 'osiri': 3196, 'therapeut': 4461, 'recess': 3648, 'fear': 1794, 'overblown': 3215, 'blizzard': 681, 'nasdaq': 3015, 'feed': 1801, 'chipmak': 965, 'broadcom': 767, 'formal': 1885, 'toward': 4542, 'hostil': 2245, 'unveil': 4704, 'sharehold': 3996, 'vote': 4816, 'semiconductor': 3951, 'director': 1401, 'deadlin': 1292, 'announc': 402, 'action': 258, 'encourag': 1603, 'investor': 2443, 'loss': 2736, 'excess': 1698, 'contact': 1142, 'eight': 1564, 'drugmak': 1506, 'pfizer': 3341, 'merck': 2855, 'sanofi': 3882, 'astrazeneca': 495, 'glaxosmithklin': 2004, 'johnson': 2513, 'eli': 1577, 'lilli': 2694, 'liabil': 2674, 'corrupt': 1182, 'numer': 3113, 'korea': 2594, 'purchas': 3555, 'vaccin': 4738, 'candid': 849, 'secur': 3935, 'amid': 377, 'bed': 602, 'bath': 586, 'beyond': 634, 'retreat': 3755, 'trump': 4605, 'brand': 740, 'collect': 1053, 'snap': 4112, 'shirt': 4014, 'coupon': 1195, 'printabl': 3489, 'page': 3236, 'contain': 1143, 'site': 4072, 'attract': 515, 'unusu': 4703, 'play': 3390, 'yahoo': 4965, 'financ': 1824, 'block': 684, 'north': 3092, 'heritag': 2174, 'tabl': 4378, 'distribut': 1435, 'pillow': 3366, 'kohl': 2591, 'discontinu': 1411, 'today': 4511, 'best': 629, 'soap': 4118, 'still': 4255, 'carri': 873, 'save': 3892, 'musthav': 3003, 'depot': 1350, 'spring': 4201, 'isnt': 2464, 'stop': 4264, 'restructur': 3747, 'de': 1289, 'en': 1599, '2021': 77, 'para': 3256, 'premarket': 3464, 'walgreen': 4831, 'curevac': 1249, 'men': 2849, 'ad': 265, 'baidu': 553, 'femal': 1806, 'women': 4924, 'watch': 4855, 'acquir': 251, 'zynga': 4999, 'acquisit': 252, 'medtron': 2840, 'lock': 2717, 'blind': 680, 'woman': 4923, 'guid': 2077, 'dog': 1455, 'rideshar': 3782, 'refus': 3674, 'transport': 4572, 'canaan': 844, 'fabric': 1753, 'bitcoin': 666, 'financi': 1825, 'audit': 520, 'du': 1510, 'catalyst': 882, 'googul': 2029, 'schedul': 3903, 'confer': 1114, 'sn': 4109, 'auto': 527, 'fill': 1820, 'garden': 1963, 'spill': 4188, 'onto': 3167, 'nearbi': 3029, 'pass': 3277, 'democraci': 1336, 'famou': 1772, 'apart': 424, 'rent': 3712, 'district': 1437, 'nam': 3010, 'overview': 3222, 'mckesson': 2824, 'googulxyz': 2030, 'analyt': 387, '2027': 86, 'sa': 3854, 'nonprofit': 3086, '300': 115, 'hepat': 2171, 'cure': 1248, 'effect': 1557, 'altern': 359, 'arctic': 454, '10000': 4, 'studi': 4292, 'sampl': 3872, 'suggest': 4315, 'warmer': 4844, 'previou': 3479, 'high': 2183, 'thousand': 4476, 'ago': 308, 'canada': 845, 'aborigin': 225, '960': 207, 'petrona': 3340, 'along': 353, 'pacif': 3232, 'coast': 1037, 'turn': 4628, 'petroliam': 3339, 'nasion': 3016, 'bhd': 635, 'c319000': 817, '267000': 108, 'member': 2845, 'compens': 1086, 'build': 790, 'natur': 3021, 'export': 1729, 'termin': 4437, 'ancestr': 389, 'canadian': 846, 'gather': 1968, 'oppos': 3178, 'legisl': 2658, 'c51': 819, 'recal': 3645, 'diesel': 1389, 'emiss': 1593, 'cheat': 943, 'bodi': 702, 'temperatur': 4427, 'polish': 3418, 'toddler': 4512, 'rescu': 3728, 'hypothermia': 2280, 'drop': 1501, '127': 20, '55': 157, 'lowest': 2742, 'surviv': 4350, 'ever': 1683, 'drug': 1505, 'clear': 1006, 'treatment': 4581, 'australia': 523, 'provid': 3541, 'patient': 3286, 'scientist': 3910, 'grow': 2069, 'research': 3729, 'dna': 1448, 'molecul': 2933, 'repres': 3722, 'genet': 1984, 'binari': 650, 'antiterror': 416, 'bc': 593, 'premier': 3465, 'christi': 975, 'clark': 997, 'freedom': 1912, 'back': 543, 'c309': 816, 'crime': 1220, 'mask': 2803, 'sentenc': 3960, 'senat': 3953, 'despit': 1362, 'widespread': 4898, 'public': 3547, 'opposit': 3179, 'smash': 4103, 'globe': 2008, 'deadli': 1291, 'heat': 2153, 'wave': 4858, 'saw': 3893, 'continu': 1148, 'blame': 671, 'warm': 4843, 'version': 4771, 'bring': 759, 'standard': 4223, 'cours': 1196, 'sofosbuvir': 4127, '1000': 3, 'compar': 1083, 'europ': 1672, 'need': 3032, 'surveil': 4348, 'warrant': 4848, 'bar': 570, 'associ': 492, 'lawyer': 2640, 'threat': 4477, 'yet': 4974, 'mp': 2977, 'accur': 244, 'acta': 257, 'backdoor': 544, 'speak': 4173, 'campaign': 842, 'websit': 4869, 'blackout': 668, 'highlight': 2189, 'riot': 3791, 'anonym': 404, 'hous': 2251, 'common': 1075, 'hide': 2182, 'saudi': 3890, 'arabia': 446, 'ramadan': 3610, 'almost': 351, '800': 188, 'far': 1776, 'britain': 761, 'sixth': 4076, 'run': 3841, 'video': 4784, 'upset': 4713, 'rick': 3777, 'john': 2512, 'stewart': 4253, 'drove': 1504, 'shout': 4028, 'sing': 4062, 'music': 2998, 'pizza': 3376, 'parent': 3262, 'turkish': 4626, 'custodi': 1253, 'harper': 2124, 'wont': 4926, 'prime': 3485, 'testifi': 4445, 'hear': 2150, 'homeland': 2224, 'nuclear': 3108, 'mark': 2796, 'unlimit': 4695, 'pressur': 3476, 'reactor': 3630, 'breakthrough': 746, 'faster': 1782, 'whole': 4893, 'northeast': 3093, 'danger': 1273, 'rest': 3743, 'planet': 3384, 'known': 2589, 'antarct': 408, 'satellit': 3887, 'indic': 2353, 'float': 1856, 'larsen': 2623, 'ice': 2286, 'calgari': 829, 'zoo': 4996, '25': 101, 'extrem': 1743, 'environ': 1630, 'staff': 4215, 'determin': 1371, 'anim': 399, 'kept': 2561, 'insid': 2392, 'penetr': 3309, 'circl': 983, 'rose': 3824, 'northern': 3094, 'siberia': 4038, 'averag': 536, 'franc': 1903, 'level': 2669, 'red': 3661, 'predict': 3459, 'area': 455, 'seen': 3940, 'mind': 2899, 'control': 1154, 'unless': 4693, 'soon': 4147, 'react': 3628, 'find': 1826, 'slave': 4087, 'polit': 3419, 'domin': 1462, 'singapor': 4063, 'ralli': 3608, 'nationwid': 3018, 'final': 1823, 'controversi': 1156, 'mandatori': 2781, 'jail': 2484, 'marijuana': 2794, 'near': 3028, 'tokyo': 4516, 'terror': 4440, 'he': 2139, 'alway': 362, 'complet': 1093, 'iranian': 2454, 'citi': 989, 'soar': 4119, 'hottest': 2249, 'earth': 1529, 'modern': 2929, 'measur': 2831, 'indian': 2351, 'villag': 4790, 'convert': 1159, 'recogn': 3651, 'minor': 2910, 'christian': 976, 'c45': 818, '99': 210, 'lake': 2612, 'water': 4857, 'bigger': 642, 'respons': 3742, 'massiv': 2806, 'cyberattack': 1258, 'unpreced': 4698, '2016': 68, 'approach': 440, '15': 26, 'cheaper': 941, 'c11': 815, 'reddit': 3662, 'notic': 3099, 'goal': 2013, 'met': 2864, 'winter': 4912, '2050': 88, 'wake': 4829, 'sleep': 4090, 'gase': 1966, 'climat': 1011, 'town': 4544, '120': 19, 'rapid': 3622, 'region': 3683, 'georg': 1987, 'vi': 4776, 'collaps': 1052, 'sea': 3922, '22': 93, 'registri': 3685, 'destroy': 1365, 'abl': 223, 'gun': 2084, 'pose': 3438, 'greatest': 2049, 'antibiot': 411, 'transplant': 4571, 'perform': 3321, 'organis': 3189, '15c': 31, 'infrastructur': 2373, 'built': 791, 'construct': 1138, 'chanc': 923, 'exceed': 1695, 'end': 1605, 'centuri': 906, 'usual': 4730, 'scale': 3896, 'tori': 4530, 'bow': 729, 'audio': 519, 'marin': 2795, 'sergeant': 3967, 'shoot': 4018, 'unarm': 4661, 'insurg': 2408, 'mortal': 2960, 'taxpay': 4401, 'washington': 4852, 'wikileak': 4901, 'publish': 3549, 'interact': 2418, 'expos': 1730, 'contractor': 1151, 'detail': 1367, 'airbu': 321, 'stake': 4218, 'bombardi': 709, 'seri': 3968, 'promis': 3519, 'passport': 3279, 'immigr': 2317, 'deem': 1310, 'deport': 1348, 'never': 3056, 'poor': 3425, 'diet': 1390, 'fresh': 1916, 'fruit': 1923, 'veget': 4758, 'protestor': 3536, 'low': 2740, 'confirm': 1118, 'antarctica': 409, 'floor': 1858, 'what': 4887, 'happen': 2116, 'sopa': 4148, 'equival': 1641, 'normal': 3091, 'alreadi': 356, 'twothird': 4639, 'ocean': 3140, 'shown': 4031, 'occur': 3139, '2100': 90, 'oxygen': 3230, 'disrupt': 1429, 'process': 3502, 'tweet': 4633, 'celebr': 897, 'margaret': 2791, 'alltim': 349, 'pot': 3443, 'pardon': 3261, 'march': 2790, 'individu': 2356, 'convict': 1160, 'possess': 3440, 'fall': 1766, 'appli': 437, 'expedit': 1715, 'partnership': 3276, 'aerospac': 290, 'jet': 2500, 'suffer': 4313, 'lifesav': 2685, 'pharmaceut': 3343, 'innov': 2386, 'card': 864, 'rampd': 3615, 'israel': 2468, 'favor': 1788, 'palestinian': 3244, 'prohibit': 3515, 'gender': 1981, 'pill': 3365, 'debat': 1296, 'observ': 3133, 'nearli': 3030, 'toni': 4522, 'ok': 3153, 'poland': 3414, 'accomplic': 241, 'neighbour': 3038, 'ukrain': 4650, 'expel': 1716, 'enter': 1623, 'democrat': 1337, 'outnumb': 3209, 'conserv': 1131, 'also': 357, 'constitut': 1137, 'superior': 4330, 'ancient': 390, 'asian': 479, 'convent': 1157, 'theori': 4460, 'mix': 2923, 'cultur': 1246, 'came': 836, 'asia': 478, 'trap': 4573, 'keep': 2556, 'oblig': 3130, 'got': 2035, '1500': 28, 'fungu': 1939, 'immun': 2319, 'secretli': 3932, 'sweep': 4361, 'citizenship': 991, 'copyright': 1170, 'expect': 1713, 'fli': 1854, 'committe': 1074, 'minimum': 2905, 'prison': 3491, 'given': 2003, 'liber': 2676, 'hurdl': 2270, 'forward': 1892, 'enact': 1601, 'framework': 1902, 'saturday': 3889, 'wage': 4826, 'negoti': 3035, 'meter': 2866, 'feet': 1803, 'height': 2159, 'radic': 3597, 'reshap': 3732, 'affect': 292, 'surg': 4340, 'dead': 1290, 'februari': 1797, 'eastern': 1536, 'greenland': 2054, 'season': 3925, 'norm': 3090, 'f35': 1749, 'p8': 3231, 'stolen': 4262, 'defenc': 1317, 'terrorist': 4441, 'expert': 1721, 'syria': 4373, 'problem': 3500, 'ignor': 2304, 'pretti': 3477, 'ryan': 3852, 'ambassador': 369, 'lebanon': 2651, 'myriad': 3005, 'gene': 1982, 'breast': 747, 'check': 944, 'point': 3409, 'presidenti': 3474, 'berni': 628, 'sander': 3880, 'signific': 4051, 'concern': 1106, 'charter': 936, 'warner': 4846, 'thwart': 4489, 'competit': 1088, 'robert': 3806, 'allianc': 346, 'profil': 3510, 'conn': 1126, 'foundat': 1895, 'cisco': 987, 'longstand': 2728, 'telecommun': 4419, 'equip': 1639, 'sold': 4134, 'gear': 1977, 'csco': 1241, 'late': 2626, 'morn': 2956, 'beat': 597, 'gaug': 1969, 'blog': 686, 'wifi': 4900, 'zebra': 4988, 'rucku': 3837, 'aruba': 475, 'purpl': 3556, 'cloud4wi': 1023, 'fortinet': 1888, 'yelp': 4971, 'euclid': 1670, 'hugh': 2261, 'smart': 4100, 'traffic': 4558, 'com': 1060, 'iteri': 2474, 'wit': 4916, 'steadi': 4241, '240': 97, '20182024': 71, 'abb': 217, 'acuiti': 264, 'amx': 384, 'llc': 2710, 'assa': 482, 'abloy': 224, 'virtual': 4797, '246': 99, '20212027': 80, 'blue': 692, 'sky': 4082, 'telehealth': 4421, 'honeywel': 2230, 'ob': 3126, 'soc': 4121, 'telem': 4423, 'mdlive': 2826, 'haier': 2097, 'control4': 1155, 'crestron': 1217, 'deutsch': 1374, 'telekom': 4422, 'emerson': 1591, 'electr': 1572, 'equinix': 1638, 'salesforcecom': 3869, 'atampt': 499, 'web': 4868, 'opportun': 3177, 'indepth': 2348, 'strategi': 4276, 'princ': 3486, 'charl': 934, 'spent': 4184, '75': 181, 'minut': 2912, 'longer': 2726, 'convinc': 1161, 'donald': 1464, 'insist': 2394, 'crisi': 1223, 'william': 4906, 'hoax': 2214, 'horrif': 2237, 'ww2': 4951, 'forgotten': 1883, 'irish': 2458, 'mi5': 2873, 'assassin': 485, 'declassifi': 1306, 'darwin': 1278, 'speci': 4175, 'influenti': 2369, 'academ': 230, 'book': 713, 'written': 4946, 'hail': 2098, 'demonstr': 1339, 'think': 4469, 'everyth': 1686, 'row': 3834, 'visit': 4802, 'whale': 4886, 'round': 3829, 'andrew': 392, 'join': 2514, 'church': 980, 'queen': 3581, 'suicid': 4316, 'tell': 4426, 'penc': 3308, 'hell': 2165, 'nba': 3026, 'dont': 1468, 'understand': 4673, 'politician': 3420, 'theyr': 4466, 'worri': 4937, 'transact': 4563, 'snub': 4117, 'see': 3936, 'leav': 2650, 'success': 4311, 'throne': 4482, 'lobbi': 2714, 'alter': 358, 'offshor': 3150, 'benefit': 623, 'paradis': 3258, 'mexican': 2869, 'cartel': 875, 'sec': 3927, 'belgian': 613, 'michel': 2875, 'outspoken': 3214, 'interior': 2424, 'comment': 1068, 'muslim': 3000, 'cheer': 946, 'brussel': 782, 'bomb': 708, 'leak': 2647, 'comparison': 1084, 'anyon': 419, 'know': 2587, 'nazi': 3025, 'famili': 1770, 'schoolchildren': 3907, 'istanbul': 2470, 'receiv': 3646, 'denounc': 1344, 'scientif': 3909, 'figur': 1817, 'evolut': 1690, 'describ': 1355, 'jew': 2501, 'skeptic': 4078, 'tie': 4494, 'journal': 2524, 'role': 3817, 'accept': 233, 'money': 2939, 'exxonmobil': 1746, 'petroleum': 3338, 'koch': 2590, 'southern': 4157, 'util': 4733, 'econom': 1544, 'consequ': 1130, 'criticis': 1225, 'dedic': 1309, 'practic': 3452, 'whose': 4895, 'come': 1064, 'question': 3583, 'nh': 3064, 'materi': 2810, 'univers': 4690, 'cambridg': 835, 'decid': 1302, 'dad': 1265, 'manson': 2785, 'brink': 760, 'fossil': 1893, 'fuel': 1928, 'luxuri': 2748, 'golf': 2024, 'fund': 1935, 'rich': 3774, 'remot': 3707, 'atlant': 503, 'island': 2463, 'well': 4879, 'wildlif': 4905, 'astonish': 494, 'activist': 260, 'vatican': 4754, 'environment': 1631, 'statement': 4233, 'pope': 3428, 'franci': 1905, 'professor': 3509, 'retir': 3754, 'antiimmigr': 414, 'echo': 1541, 'catastroph': 883, 'hurrican': 2271, 'welcom': 4877, 'awar': 539, 'plastic': 3387, 'putin': 3562, 'hitler': 2207, 'mysteri': 3006, 'scandal': 3899, 'prompt': 3522, 'lee': 2653, 'possibl': 3441, 'intrud': 2434, 'club': 1024, 'communist': 1078, 'parti': 3270, 'chase': 937, 'away': 541, 'amazonian': 368, 'rainforest': 3605, 'plain': 3380, 'wale': 4830, 'wrong': 4947, 'nobodi': 3082, 'educ': 1555, 'ginger': 1999, 'extremist': 1744, 'harri': 2125, 'king': 2577, 'detain': 1368, 'discov': 1414, 'danc': 1272, 'involv': 2445, 'age': 303, '44': 139, 'french': 1914, 'invas': 2438, 'ecolog': 1542, 'disast': 1405, 'initi': 2377, 'fish': 1837, 'archaeologist': 450, 'pragu': 3453, 'unearth': 4677, 'boat': 700, 'egypt': 1562, 'volcano': 4813, 'galapago': 1952, 'erupt': 1649, '33': 120, 'threaten': 4478, 'ecosystem': 1547, 'inspir': 2397, 'dunn': 1518, '19': 42, 'crash': 1209, 'wife': 4899, 'diplomat': 1398, 'administr': 275, 'misconduct': 2914, 'coverup': 1201, 'defeat': 1315, 'isi': 2460, 'middl': 2882, 'banker': 569, 'persist': 3330, 'mass': 2804, 'murder': 2994, 'nobel': 3081, 'physicist': 3355, 'kao': 2549, 'dub': 1511, 'father': 1787, 'fibr': 1810, 'optic': 3181, 'alzheim': 363, 'diseas': 1419, 'ill': 2308, 'recognis': 3652, 'children': 958, 'columbia': 1059, 'mistak': 2920, 'doesnt': 1454, 'republican': 3725, 'david': 1284, 'oil': 3152, 'fortun': 1890, 'inventor': 2440, '84': 192, 'letter': 2668, 'unrest': 4699, 'east': 1535, 'journalist': 2525, 'chilean': 960, 'forget': 1881, 'war': 4840, 'ii': 2306, 'physic': 3354, 'laureat': 2636, 'broadband': 765, 'reason': 3638, 'syrian': 4374, '65': 169, 'rout': 3831, 'gaull': 1970, 'street': 4278, 'london': 2723, 'death': 1295, 'alli': 345, 'stealth': 4243, 'fighter': 1816, 'deploy': 1347, 'asiapacif': 480, 'gen': 1980, 'brown': 776, 'command': 1067, 'nasa': 3014, 'civilian': 994, 'taylor': 4402, 'verdict': 4766, 'guilti': 2080, 'histor': 2202, 'closer': 1019, 'homosexu': 2229, 'nuke': 3111, 'turkey': 4625, 'school': 3906, '83': 191, 'prize': 3496, 'nativ': 3019, 'closur': 1020, 'gift': 1995, 'shop': 4020, 'channel': 926, 'chariti': 933, 'donat': 1465, 'vast': 4753, 'amount': 382, 'scheme': 3904, 'repeat': 3717, 'horror': 2238, 'dismiss': 1422, 'talk': 4387, 'gop': 2031, 'happi': 2117, 'monster': 2946, 'warship': 4851, 'sent': 3959, 'hm': 2211, 'j15': 2478, 'warplan': 4847, 'attack': 508, 'copi': 1168, 'half': 2103, 'plot': 3399, 'pm': 3405, 'tip': 4504, 'instead': 2402, 'mccain': 2822, 'consult': 1139, 'underestim': 4670, 'complex': 1094, 'brexit': 750, 'tragedi': 4560, 'heir': 2161, 'disturb': 1438, 'dark': 1277, 'left': 2654, 'ventur': 4764, 'station': 4237, 'tour': 4537, 'bbc': 592, 'scotland': 3912, 'present': 3470, 'theresa': 4463, 'interest': 2421, 'straight': 4269, 'coupl': 1194, 'civil': 993, 'unanim': 4659, 'favour': 1790, 'relationship': 3693, 'islam': 2461, 'potato': 3444, 'shock': 4015, 'dairi': 1267, 'cow': 1204, 'big': 641, 'appetit': 435, 'sheep': 4003, 'mr': 2979, 'commonwealth': 1076, 'leader': 2644, 'liken': 2693, 'vladimir': 4808, 'spend': 4183, 'life': 2683, 'appeal': 433, 'upheld': 4709, 'reaffirm': 3633, 'commit': 1073, 'sierra': 4045, 'leon': 2663, 'undercov': 4669, 'intellig': 2413, 'metropolitan': 2868, 'rel': 3691, 'reel': 3667, 'zealand': 4987, 'hamilton': 2109, 'statu': 4239, 'coloni': 1057, 'militari': 2892, 'bronz': 771, 'captain': 859, 'squar': 4205, 'tank': 4389, 'secretari': 3931, 'steven': 4252, 'commission': 1072, 'return': 3757, 'bu': 785, 'entranc': 1627, 'yemen': 4972, 'airstrik': 327, 'dawn': 1286, 'lure': 2746, 'cri': 1219, 'deton': 1372, 'bomber': 710, 'colleg': 1054, 'smell': 4104, 'dealer': 1294, 'hair': 2099, 'race': 3591, 'carrier': 874, 'milit': 2891, 'iraq': 2455, 'revolt': 3767, 'fcc': 1792, 'net': 3046, 'neutral': 3053, 'deliv': 1331, 'serv': 3972, 'covid19': 1203, 'trust': 4607, 'advic': 283, 'knowledg': 2588, 'spread': 4200, 'basic': 583, 'hygien': 2278, '911': 200, 'hijack': 2194, 'iceland': 2287, 'symptom': 4371, 'archiv': 453, 'teen': 4414, 'commerci': 1070, 'hunt': 2268, 'resum': 3749, 'prefer': 3460, 'meat': 2832, 'roam': 3803, 'throughout': 4483, 'everi': 1684, 'fee': 1800, 'octob': 3142, 'highlevel': 2187, 'lifetim': 2687, 'licens': 2681, 'accid': 236, 'slew': 4091, 'fatal': 1786, 'safeti': 3861, 'automat': 532, 'venezuela': 4762, 'uruguay': 4719, 'repeatedli': 3718, 'evad': 1677, 'prosecutor': 3529, 'seriou': 3970, 'fbi': 1791, 'decad': 1299, 'incom': 2339, 'lower': 2741, 'stress': 4281, 'greater': 2048, 'entir': 1626, 'pension': 3312, 'food': 1869, 'justin': 2542, 'trudeau': 4603, 'thing': 4468, 'birth': 662, 'rail': 3602, 'wealthi': 4863, 'kid': 2571, 'richest': 3776, 'lost': 2737, 'chancellor': 924, 'angela': 395, 'anniversari': 401, 'counter': 1189, 'rightw': 3786, 'full': 1931, 'immedi': 2316, 'porn': 3433, 'uncov': 4667, 'brows': 777, 'habit': 2093, 'three': 4479, 'alon': 352, 'netanyahu': 3047, 'respond': 3741, 'tv': 4631, 'star': 4225, 'arab': 445, 'equal': 1637, 'pump': 3553, 'proxi': 3545, 'declar': 1305, 'evacu': 1676, 'elect': 1570, 'mayor': 2819, 'massacr': 2805, 'finland': 1829, 'unemploy': 4678, 'monthli': 2948, 'pilot': 3367, 'whether': 4889, 'employ': 1596, 'mexico': 2870, 'el': 1566, 'express': 1731, 'condemn': 1110, 'prove': 3539, 'poison': 3411, 'proof': 3523, 'consid': 1133, 'incid': 2335, 'attempt': 510, 'visa': 4799, 'norway': 3095, 'welfar': 4878, 'norwegian': 3096, 'xinjiang': 4959, 'ontario': 3166, '2017': 69, 'afford': 294, 'puerto': 3550, 'rico': 3778, 'governor': 2037, 'slam': 4085, 'relief': 3697, 'held': 2163, 'switzerland': 4366, 'septemb': 3965, 'era': 1642, 'swiss': 4364, 'secreci': 3929, 'embassi': 1587, 'scan': 3898, 'kazakhstan': 2555, 'instal': 2400, 'certif': 910, 'captur': 861, 'password': 3280, 'score': 3911, 'rate': 3625, 'behaviour': 609, 'short': 4023, 'loan': 2713, 'kuwait': 2600, 'prais': 3454, 'stori': 4267, '37': 127, 'mostli': 2965, 'shiit': 4010, 'medal': 2833, 'philippin': 3348, 'tpp': 4548, 'argu': 459, '63': 168, 'couldnt': 1186, 'fellow': 1805, 'sought': 4152, 'meddl': 2834, 'kremlin': 2597, 'gave': 1971, 'old': 3155, 'olymp': 3159, 'ugandan': 4647, 'domest': 1461, 'often': 3151, 'abus': 229, 'band': 565, 'particip': 3271, 'cancel': 847, 'trip': 4592, 'respect': 3740, 'religion': 3699, 'guarante': 2072, 'nsa': 3106, 'nigeria': 3074, 'distress': 1434, 'unaccept': 4658, 'footag': 1871, 'pandem': 3250, 'adult': 279, 's100s300': 3853, 'budget': 788, 'surplu': 4344, 'whistl': 4890, 'settlement': 3979, 'croatia': 1227, 'debt': 1297, 'poorest': 3426, 'lift': 2688, 'imf': 2315, 'wealth': 4862, 'economist': 1546, 'believ': 615, 'recommend': 3654, 'concentr': 1105, 'tini': 4503, '160000': 34, 'embattl': 1588, 'identifi': 2297, 'poll': 3421, 'underwat': 4675, 'here': 2173, 'migrat': 2887, 'digniti': 1394, '6000': 164, 'acr': 253, 'fiji': 1818, 'reloc': 3700, 'furiou': 1942, 'birthday': 663, 'marriag': 2800, 'referendum': 3669, 'green': 2052, 'samesex': 3871, 'smog': 4106, 'beij': 611, 'born': 720, 'ottawa': 3200, 'shadow': 3986, 'moscow': 2962, 'intercept': 2420, 'defector': 1316, 'interview': 2430, 'emerg': 1590, 'coup': 1193, 'perman': 3324, 'mean': 2828, 'speech': 4180, 'rouhani': 3828, 'bodyguard': 703, 'cia': 981, 'mental': 2850, 'win': 4908, 'admit': 276, 'bolivia': 705, 'neglect': 3034, 'maria': 2793, 'tire': 4506, 'tenant': 4431, 'evict': 1687, 'landlord': 2615, 'subject': 4301, 'complain': 1090, 'your': 4979, '1989': 47, 'tiananmen': 4490, 'defi': 1320, 'silenc': 4052, 'truth': 4608, 'crackdown': 1208, 'glenn': 2005, 'greenwald': 2056, 'dotcom': 1472, 'littl': 2707, 'conduct': 1113, 'mcdonald': 2823, 'coca': 1039, 'cola': 1048, 'aggress': 307, '74': 180, 'denmark': 1343, 'briton': 763, 'regardless': 3677, 'faith': 1764, 'regim': 3682, 'absolut': 227, 'pyongyang': 3563, 'iron': 2459, 'grip': 2062, 'ordinari': 3187, 'slip': 4094, 'censorship': 901, 'bear': 596, 'brace': 735, 'obama': 3127, 'close': 1018, 'god': 2015, 'enjoy': 1617, 'nevada': 3055, 'entertain': 1625, 'hospit': 2241, 'weekend': 4873, 'hollywood': 2220, 'resort': 3738, 'casino': 878, 'subscript': 4305, 'attain': 509, '4782': 142, 'dollar': 1458, 'shave': 4000, 'apron': 444, 'beauti': 599, 'discoveri': 1415, 'hello': 2166, 'tree': 4582, 'ebay': 1538, 'uneth': 4680, 'attorney': 514, 'ethic': 1664, 'hot': 2246, 'penni': 3311, 'eagl': 1525, 'bulk': 792, 'ship': 4011, 'gain': 1951, 'weed': 4871, 'killer': 2574, 'imprison': 2329, 'discharg': 1407, 'stream': 4277, 'tobacco': 4510, 'exploit': 1726, 'zone': 4995, 'cigarett': 982, 'publicli': 3548, 'pursu': 3558, 'instabl': 2398, 'african': 300, 'cameron': 839, 'bahrain': 552, 'donor': 1467, 'guardian': 2074, 'establish': 1657, 'pirat': 3373, 'tanker': 4390, 'africa': 299, 'cargo': 867, 'safe': 3860, 'anglo': 397, 'distributor': 1436, 'default': 1314, 'cotton': 1184, 'choic': 969, 'press': 3475, 'harder': 2120, 'farmer': 1778, 'textil': 4450, 'hike': 2195, '70': 173, 'egyptian': 1563, 'afghanistan': 296, 'taliban': 4386, 'gunmen': 2086, '35': 122, 'wound': 4943, 'anoth': 405, 'worst': 4940, 'singl': 4065, '40': 131, 'train': 4561, 'shepherd': 4007, 'pic': 3356, 'cruelti': 1236, 'queensland': 3582, 'agricultur': 312, 'purpos': 3557, 'televis': 4425, 'broadcast': 766, 'actor': 261, 'conflict': 1119, 'volunt': 4815, 'paid': 3237, 'down': 1476, 'malaysia': 2771, 'airspac': 326, 'abandon': 216, 'telecom': 4418, 'swedish': 4360, 'ericsson': 1646, 'estonia': 1659, '5g': 161, 'roll': 3818, '2018': 70, 'pakistan': 3242, 'undersea': 4672, 'privaci': 3492, 'sweden': 4359, 'pleas': 3396, 'object': 3129, 'peac': 3301, 'choos': 971, 'rig': 3784, 'flag': 1845, 'rapidli': 3623, 'momentum': 2936, 'monitor': 2942, 'bell': 617, '110000': 12, 'overtak': 3219, 'opera': 3172, 'merger': 2858, 'sector': 3934, '2012': 64, 'xperia': 4961, 'preorder': 3467, 'summer': 4319, 'hotspot': 2248, '2011': 63, 'walkman': 4834, 'plummet': 3402, 'aino': 318, 'orang': 3184, 'moment': 2935, 'x2': 4955, '115': 16, '2009': 61, '31': 118, 'lay': 2641, 'wtf': 4949, 'everyon': 1685, 'economi': 1545, 'x10': 4954, 'vivaz': 4807, 'add': 268, 'dj': 1446, 'cool': 1164, 'theme': 4459, 'unlock': 4696, 'cell': 898, '32': 119, 'camera': 838, 'memori': 2848, 'warranti': 4849, 'pink': 3368, 'delay': 1326, 'specif': 4177, 'bluetooth': 693, 'headset': 2145, 'mini': 2904, 'pro': 3497, 'excel': 1696, 'motorola': 2969, 'boost': 715, 'total': 4533, 'sobr': 4120, 'tournament': 4540, 'usd': 4726, 'databas': 1280, 'newli': 3059, 'iot': 2447, 'troll': 4598, 'independ': 2347, 'core': 1174, 'asset': 490, 'sack': 3857, 'nigerian': 3075, 'friendli': 1920, '4g': 145, 'mi': 2872, 'th': 4451, 'cha': 915, 'hng': 2212, 'thng': 4472, 'fix': 1844, 'italian': 2472, 'gp': 2039, 'fastest': 1783, 'hardwar': 2121, 'coverag': 1199, 'span': 4168, 'third': 4470, 'ditch': 1439, 'telco': 4417, 'pick': 3358, 'skip': 4080, 'easi': 1532, 'miss': 2917, 'nice': 3070, 'companion': 1082, 'alert': 334, 'recoveri': 3658, 'erii': 1647, 'fox': 1898, 'fraud': 1908, 'microbi': 2878, 'enhanc': 1616, 'great': 2047, 'impact': 2320, 'futur': 1944, '20202027': 76, 'reunit': 3758, 'microbac': 2877, 'ram': 3609, 'biochem': 652, 'recent': 3647, 'strong': 4285, 'fundament': 1936, 'elbit': 1567, 'separ': 3962, 'wall': 4835, 'defens': 1319, 'espionag': 1653, 'ethiopian': 1666, 'dissid': 1430, 'armi': 463, 'pentagon': 3313, 'strengthen': 4280, 'unintent': 4686, 'upload': 4711, 'seem': 3939, 'privacyrel': 3493, 'indonesia': 2357, 'breach': 743, 'indonesian': 2358, 'cabinet': 821, 'evid': 1688, 'harvest': 2126, 'crack': 1207, 'merkel': 2860, 'confront': 1120, 'zuckerberg': 4998, 'progress': 3514, 'racist': 3594, 'wasnt': 4853, 'enough': 1619, 'gone': 2025, 'pledg': 3397, 'hate': 2129, 'combat': 1062, 'draft': 1483, 'signatur': 4050, 'instruct': 2404, 'panel': 3251, 'promot': 3521, 'autom': 530, 'violent': 4793, 'integr': 2409, 'portabl': 3435, 'injuri': 2381, 'vehicl': 4760, 'lo': 2711, 'angel': 394, 'et': 1661, 'al': 329, 'strang': 4271, 'rebut': 3644, 'whatsapp': 4888, '48': 143, 'trace': 4550, 'ministri': 2907, 'misinform': 2915, 'scrutini': 3920, 'influenc': 2368, 'outlet': 3206, 'restor': 3745, 'done': 1466, 'falsehood': 1769, 'incit': 2336, 'violenc': 4792, 'extern': 1736, 'boycott': 733, 'earlier': 1527, '87': 195, 'took': 4525, 'stab': 4212, '23': 94, 'didnt': 1387, '150': 27, 'patriot': 3288, 'spokesman': 4192, 'translat': 4568, 'xi': 4957, 'intend': 2414, 'sustain': 4356, 'bancorp': 564, 'midwest': 2884, 'g20': 1946, 'summit': 4320, '11': 11, 'fiserv': 1836, 'select': 3946, 'solut': 4137, 'outsourc': 3213, 'goe': 2017, 'meridian': 2859, 'prolianc': 3517, 'portfolio': 3436, 'pepsi': 3315, 'nestl': 3045, 'beverag': 633, 'greta': 2059, 'thunberg': 4487, 'pepsico': 3316, '150000': 30, 'varieti': 4751, 'drone': 1500, 'amnesti': 380, 'overus': 3221, 'contribut': 1153, 'implic': 2324, 'brazilian': 742, 'burn': 802, 'paulo': 3293, 'rio': 3790, 'attent': 513, 'fishermen': 1838, 'parliament': 3266, 'boast': 699, 'shell': 4004, 'small': 4098, 'coal': 1034, 'miner': 2902, 'wind': 4909, 'doctor': 1451, 'beaten': 598, 'victim': 4781, 'clash': 999, 'teenag': 4415, 'sunflow': 4324, '41': 136, 'insect': 2391, 'pesticid': 3334, 'wipe': 4913, 'coalit': 1036, 'stanc': 4221, 'stick': 4254, 'subsidi': 4307, 'field': 1812, 'bee': 603, 'bird': 661, 'cuba': 1243, 'alabama': 330, 'tractor': 4552, '400': 132, 'unilev': 4685, 'monsanto': 2945, 'bayer': 590, 'roundup': 3830, 'suit': 4317, 'burger': 800, 'deforest': 1323, 'aerial': 289, 'withdraw': 4917, 'bulli': 796, 'pig': 3363, 'much': 2983, 'pound': 3446, 'cattl': 887, 'gate': 1967, 'focu': 1864, 'rihanna': 3787, 'parrot': 3268, 'poppi': 3429, 'ten': 4430, 'light': 2689, 'destruct': 1366, 'niger': 3073, 'zimbabw': 4992, '90': 198, 'vacat': 4737, 'farm': 1777, 'grab': 2040, 'kingdom': 2578, 'starv': 4229, 'eat': 1537, 'actual': 263, 'directli': 1400, 'cowboy': 1205, 'mine': 2901, 'horseback': 2240, 'sydney': 4368, 'damag': 1269, 'extinct': 1737, 'wild': 4903, 'england': 1614, 'neonicotinoid': 3042, 'heavi': 2154, 'tradit': 4557, 'seed': 3937, 'exchang': 1699, 'litter': 2706, 'tent': 4435, 'standoff': 4224, 'harass': 2118, 'glyphos': 2009, 'phase': 3345, 'egg': 1561, 'fals': 1768, 'label': 2603, 'organ': 3188, '250': 102, 'annual': 403, 'subsid': 4306, 'artifici': 472, 'cocacola': 1040, 'groundwat': 2066, 'dri': 1494, 'spot': 4196, 'kitten': 2581, 'sugar': 4314, 'cat': 881, 'elus': 1583, 'easili': 1534, 'vice': 4780, 'readi': 3632, 'bean': 595, 'milk': 2894, 'mistreat': 2922, 'own': 3226, '62': 167, 'bailout': 555, 'meant': 2829, 'struggl': 4289, 'rice': 3773, 'gm': 2010, 'herbicid': 2172, 'entri': 1629, '1990': 48, 'anger': 396, 'indigen': 2355, 'other': 3198, 'contin': 1147, 'dutch': 1519, 'frack': 1901, 'lend': 2661, 'prevent': 3478, '300000': 117, '1995': 49, 'driven': 1498, 'bt': 784, 'rural': 3846, 'poverti': 3448, 'cliff': 1010, 'edg': 1552, 'programm': 3513, 'spanish': 4169, 'forest': 1880, 'pool': 3424, 'entrepreneur': 1628, 'gaza': 1973, 'cant': 853, 'hill': 2196, '60': 162, 'lifelin': 2684, 'usbas': 4724, 'spell': 4182, 'ruin': 3838, 'strip': 4284, 'beneath': 622, 'extract': 1740, 'corn': 1176, 'uganda': 4646, 'drought': 1503, 'experi': 1718, 'strain': 4270, 'endur': 1608, '25000': 103, 'hang': 2114, 'sens': 3956, 'qualiti': 3574, 'soil': 4131, 'margin': 2792, 'hybrid': 2275, 'haiti': 2100, 'biodivers': 653, 'plung': 3403, 'higher': 2185, 'sperm': 4185, 'supermarket': 4331, 'wast': 4854, 'dump': 1516, 'counterpart': 1191, 'racial': 3592, 'succeed': 4310, 'toxic': 4545, 'yield': 4975, 'tonn': 4524, 'rot': 3826, 'multin': 2989, 'berlin': 627, 'redirect': 3663, 'coffe': 1043, 'cement': 899, 'choke': 970, 'explod': 1725, 'rebellion': 3640, 'began': 605, 'homemad': 2226, 'weapon': 4864, 'mediev': 2838, 'method': 2867, 'risen': 3795, 'gang': 1960, 'prosecut': 3528, 'feel': 1802, 'sting': 4256, 'ecuadorian': 1550, 'chevron': 954, 'mike': 2888, 'pompeo': 3423, 'pack': 3233, 'radioact': 3599, 'hunger': 2266, 'eleph': 1576, 'bp': 734, 'laid': 2611, 'chicken': 955, 'tribe': 4586, 'kiss': 2579, 'camel': 837, 'viru': 4798, 'fasttrack': 1784, '2008': 60, 'meltdown': 2844, 'greek': 2051, '700000': 176, 'thailand': 4453, 'currenc': 1251, 'borrow': 721, 'oldest': 3157, 'becam': 600, 'plead': 3395, 'client': 1009, 'danish': 1275, 'neg': 3033, 'launder': 2634, '2000': 55, 'editor': 1554, 'mastercard': 2808, '57': 158, 'merchant': 2854, 'hidden': 2181, 'bail': 554, 'greec': 2050, '66': 170, 'somalia': 4139, 'appoint': 439, 'blockchain': 685, 'bond': 711, 'syndic': 4372, 'briberi': 753, 'narendra': 3013, 'modi': 2931, 'bric': 754, 'reserv': 3731, 'concret': 1109, 'latin': 2629, 'inclus': 2338, '50': 147, 'oliv': 3158, 'settler': 3980, 'occupi': 3138, 'descript': 1356, 'golan': 2019, 'barclay': 574, 'locat': 2716, 'indict': 2354, 'provoc': 3543, 'hsbc': 2255, 'trigger': 4588, 'palm': 3245, 'privileg': 3495, 'creativ': 1213, 'note': 3097, 'hama': 2107, 'kidnap': 2572, 'jpmorgan': 2527, '77': 184, 'takeov': 4385, 'ecuador': 1548, 'analyst': 386, 'astronaut': 496, 'estrang': 1660, 'spous': 4199, 'textbook': 4449, 'side': 4041, 'posit': 3439, '750': 182, 'firstev': 1834, 'robberi': 3805, 'bruce': 780, 'trick': 4587, 'probe': 3499, 'mosqu': 2963, 'ignit': 2303, 'netherland': 3051, 'deposit': 1349, 'young': 4978, 'feb': 1796, 'abba': 218, 'soccer': 4123, 'gold': 2020, 'batch': 585, 'perhap': 3322, '45': 140, 'credit': 1215, 'machin': 2751, 'goat': 2014, 'downgrad': 1477, 'seal': 3923, 'jerusalem': 2499, 'airplan': 324, 'neighborhood': 3037, '1996': 50, 'ecb': 1540, 'taken': 4384, 'territori': 4439, 'desper': 1361, 'eurozon': 1674, 'jordan': 2521, 'holi': 2218, 'grant': 2044, 'assist': 491, 'packag': 3234, 'bangladesh': 567, 'displac': 1425, 'dictat': 1386, 'english': 1615, 'event': 1681, 'drink': 1496, 'hebron': 2157, 'cfo': 913, 'kenya': 2560, 'loot': 2733, 'atm': 504, 'sovereign': 4159, 'broken': 769, 'casualti': 880, 'immin': 2318, 'mull': 2987, 'exit': 1708, 'zero': 4989, 'inflat': 2366, '07': 0, 'fair': 1763, 'gay': 1972, 'goldman': 2022, 'sach': 3856, 'paypal': 3297, 'jp': 2526, 'morgan': 2954, '1970': 45, 'lie': 2682, 'mn': 2924, 'kind': 2576, 'vow': 4818, 'penalti': 3307, 'permit': 3326, 'activ': 259, 'mileston': 2890, 'emir': 1592, 'kabul': 2545, 'ap': 423, 'stateown': 4234, 'cross': 1231, 'censor': 900, 'isol': 2465, 'login': 2720, 'consol': 1135, 'relax': 3694, 'guidelin': 2079, 'dutert': 1520, 'disney': 1423, 'allegedli': 343, '42': 137, 'devast': 1375, 'girl': 2000, 'charact': 930, 'punish': 3554, 'gamer': 1957, 'addict': 269, 'disord': 1424, 'classifi': 1003, 'chat': 938, 'firewal': 1831, 'curfew': 1250, 'restrict': 3746, 'hr': 2254, 'holiday': 2219, 'exhibit': 1706, 'blood': 688, 'gambl': 1955, 'imperi': 2321, 'oxford': 3229, 'master': 2807, 'tycoon': 4640, 'nutrit': 3117, 'branch': 739, 'fun': 1933, 'bay': 589, 'youtub': 4982, 'solid': 4136, 'cafe': 824, '14yearold': 25, 'yearold': 4969, 'bing': 651, 'mail': 2760, 'elit': 1579, 'ev': 1675, 'covert': 1200, 'elon': 1580, 'musk': 2999, 'spacex': 4165, 'prototyp': 3537, 'carbon': 863, 'insult': 2406, 'michael': 2874, 'carmak': 870, 'argentin': 457, 'transfer': 4565, 'hook': 2234, 'hall': 2104, 'twitch': 4636, 'ideal': 2294, 'chair': 917, 'forum': 1891, 'sexual': 3985, 'propaganda': 3524, 'extent': 1735, 'historian': 2204, 'tripl': 4594, 'screen': 3918, 'malwar': 2775, 'elsewher': 1582, 'overcrowd': 3216, 'youth': 4981, 'intensifi': 2416, 'career': 866, 'centr': 904, 'difficult': 1392, 'scam': 3897, 'thai': 4452, 'fortnit': 1889, 'shouldnt': 4027, 'speed': 4181, 'info': 2370, 'dwarf': 1522, 'la': 2601, 'vega': 4756, 'tshirt': 4609, 'actress': 262, 'belgium': 614, 'blew': 679, 'fifa': 1813, 'rang': 3617, 'effici': 1559, 'hub': 2258, 'edward': 1556, 'snowden': 4116, 'whistleblow': 4891, 'pokemon': 3413, 'cyber': 1257, 'ring': 3789, 'stole': 4261, 'love': 2739, 'probabl': 3498, 'wors': 4938, 'congress': 1124, 'creator': 1214, 'heart': 2152, 'similar': 4055, 'outag': 3202, 'adam': 266, 'spain': 4166, 'wto': 4950, 'leagu': 2646, 'xbox': 4956, 'angri': 398, 'shutter': 4036, 'buyout': 813, 'piec': 3362, 'date': 1281, 'gilead': 1998, 'scienc': 3908, 'chronic': 979, 'highli': 2188, 'infect': 2363, 'rupert': 3845, 'murdoch': 2995, 'acknowledg': 250, 'coordin': 1166, 'necessari': 3031, 'argument': 460, 'hillari': 2197, 'clinton': 1014, 'explain': 1723, 'sometim': 4142, 'warren': 4850, 'charli': 935, 'regret': 3686, 'saa': 3855, 'smaller': 4099, 'pois': 3410, 'crown': 1233, 'boom': 714, 'ambiti': 370, 'groupon': 2068, 'shift': 4009, 'titan': 4507, 'venezuelan': 4763, 'hbomb': 2137, 'hampm': 2110, 'capabl': 855, 'zara': 4986, 'mamp': 2776, 'runoff': 3843, 'viscos': 4801, 'supposedli': 4335, 'river': 3799, 'contamin': 1144, 'fashion': 1780, 'tortur': 4532, 'pain': 3238, 'soften': 4129, 'singleus': 4066, 'maglev': 2758, '600': 163, 'kmh': 2583, 'shanghai': 3991, 'garment': 1964, 'pregnant': 3462, 'theft': 4458, 'drive': 1497, '80': 187, 'hydrogen': 2276, '500': 148, 'cloth': 1021, 'tesco': 4442, 'bad': 549, 'blaze': 674, 'spark': 4171, 'panic': 3253, 'h1b': 2091, 'typhoon': 4642, 'haiyan': 2101, 'realiti': 3636, 'interbr': 2419, 'sapien': 3886, 'neanderth': 3027, 'cambodian': 834, 'exec': 1701, 'signal': 4049, 'ny': 3122, 'ride': 3780, 'mph': 2978, 'sound': 4153, 'mount': 2971, 'bush': 805, 'gulf': 2083, 'simul': 4058, 'admin': 274, 'tweak': 4632, 'discard': 1406, 'storm': 4268, 'puma': 3552, 'pour': 3447, 'chemic': 948, 'cop': 1167, 'bullet': 795, 'furi': 1941, 'monkey': 2943, 'cyclon': 1261, 'rain': 3604, 'labour': 2606, 'renov': 3711, '17': 36, 'cambodia': 833, 'routin': 3833, 'pregnanc': 3461, 'fm': 1863, 'remark': 3702, 'rodrigo': 3813, 'evil': 1689, 'stupid': 4297, 'son': 4143, 'apparel': 432, 'promin': 3518, 'opinion': 3173, 'infosi': 2372, 'skill': 4079, '3m': 130, 'campa': 841, 'jong': 2519, 'missil': 2918, 'honor': 2232, 'rocket': 3811, 'barack': 571, 'thatcher': 4456, 'anthoni': 410, 'blair': 670, 'gordon': 2033, 'brought': 775, 'iraqi': 2456, 'contradict': 1152, 'bust': 810, 'repress': 3723, 'societi': 4125, 'freak': 1909, 'lash': 2624, 'settl': 3978, 'recruit': 3659, 'guest': 2076, 'nurs': 3114, 'inject': 2378, 'toler': 4518, 'ticket': 4493, 'uighur': 4648, 'embargo': 1586, 'vancouv': 4747, '4000': 133, 'qualifi': 3573, 'swastika': 4358, 'pitch': 3375, 'match': 2809, 'child': 957, 'door': 1469, 'boy': 732, 'tehran': 4416, 'observatori': 3134, 'myanmar': 3004, 'allah': 341, 'longest': 2727, 'council': 1187, 'jihad': 2503, 'wait': 4827, 'covid': 1202, 'shot': 4025, 'cap': 854, 'super': 4328, 'tropic': 4600, '82': 190, 'temporarili': 4429, 'premium': 3466, 'petit': 3337, 'abu': 228, 'dhabi': 1379, 'motorway': 2970, '160': 33, '38': 128, 'hamburg': 2108, 'room': 3822, 'accommod': 240, 'dubai': 1512, 'cannon': 851, 'proud': 3538, 'furnitur': 1943, 'restaur': 3744, 'chef': 947, 'intim': 2431, 'exclus': 1700, 'profession': 3508, 'dividend': 1444, 'ideanom': 2295, 'idex': 2299, 'remind': 3705, 'illumina': 2310, 'intel': 2411, 'micron': 2879, 'revolut': 3768, 'siemen': 4044, 'mcafe': 2821, 'antiviru': 418, 'jdcom': 2494, 'richard': 3775, 'liu': 2708, 'minnesota': 2909, 'mention': 2851, 'ongo': 3163, 'inaugur': 2331, 'groundbreak': 2065, 'nz': 3125, 'parkinson': 3265, 'occup': 3137, 'topsecret': 4528, 'obtain': 3135, 'anyth': 420, 'imagin': 2313, 'j31': 2480, 'extradit': 1741, 'joseph': 2523, 'jame': 2487, '1st': 52, 'j10': 2477, 'anderson': 391, 'stamp': 4220, 'simpli': 4057, 'frustrat': 1924, '500000': 151, 'ms': 2980, 'exhaust': 1705, 'j20': 2479, 'lot': 2738, 'someth': 4141, 'chengdu': 950, 'larger': 2621, 'load': 2712, 'sailor': 3865, '92': 201, 'photograph': 3351, 'affair': 291, 'bottl': 726, 'babi': 542, 'powder': 3449, 'bought': 728, 'jampj': 2488, 'plaintiff': 3381, 'rogu': 3815, 'navi': 3023, 'quit': 3587, 'aviat': 537, 'unsaf': 4700, 'cnn': 1031, 'neither': 3040, 'icu': 2290, 'daniel': 1274, 'wellknown': 4880, 'vietnam': 4785, 'refuge': 3672, 'motion': 2967, 'listen': 2704, 'troop': 4599, 'guard': 2073, 'jampk': 2489, 'kashmir': 2551, 'flex': 1852, 'muscl': 2996, 'chemistri': 949, 'sir': 4069, 'reflect': 3670, 'selfi': 3948, 'assault': 486, 'request': 3726, 'asylum': 498, 'revok': 3766, 'articl': 471, 'surfac': 4339, 'laugh': 2632, 'soldier': 4135, 'pakistani': 3243, 'novemb': 3105, 'read': 3631, 'reopen': 3714, 'function': 1934, 'dc': 1288, 'jk': 2506, 'ceasefir': 896, 'maiden': 2759, 'f16': 1748, 'option': 3182, 'russianmad': 3850, 'chinesemad': 963, 'pact': 3235, 'memo': 2847, 'leg': 2655, 'troubl': 4601, 'burnt': 803, 'separatist': 3963, 'pelt': 3305, 'stone': 4263, 'scrap': 3917, 'detent': 1370, 'libyan': 2680, 'retriev': 3756, 'envoy': 1632, 'amateur': 364, 'christoph': 978, 'mission': 2919, 'icon': 2289, 'ford': 1875, 'motor': 2968, 'opioid': 3174, 'pak': 3241, 'reaction': 3629, 'hood': 2233, 'shooter': 4019, 'write': 4944, 'wire': 4914, 'encount': 1602, 'kurdish': 2599, 'jihadist': 2505, 'rifl': 3783, 'colour': 1058, 'bradley': 737, 'libya': 2679, 'staffer': 4216, 'militia': 2893, 'genocid': 1986, 'dr': 1482, 'jack': 2482, 'henri': 2170, 'opt': 3180, 'fsokx': 1925, 'logist': 2721, 'martin': 2802, 'exxon': 1745, 'blast': 673, 'unlaw': 4692, 'levi': 2670, 'transit': 4567, 'august': 521, '6th': 172, 'kraft': 2596, 'heinz': 2160, 'shore': 4022, 'marriott': 2801, 'shampoo': 3990, 'condition': 1112, 'gel': 1978, '7000': 175, 'internship': 2427, 'uae': 4643, 'clue': 1025, 'starwood': 4230, 'sorenson': 4150, 'arn': 464, 'cnbc': 1029, 'squawk': 4206, 'davo': 1285, 'approxim': 442, '52': 153, 'longtim': 2730, 'dave': 1283, 'waiv': 4828, 'extend': 1733, 'mainland': 2762, 'scott': 3913, 'element': 1575, 'regi': 3681, 'morocco': 2958, 'republ': 3724, '2014': 66, 'weak': 4860, 'inn': 2384, 'panama': 3248, 'glimmer': 2006, 'otherwis': 3199, 'bleak': 676, 'footprint': 1873, 'unesco': 4679, 'greenpeac': 2055, 'mattel': 2813, 'headquart': 2144, 'stunt': 4296, 'ant': 407, 'moneygram': 2940, 'highprofil': 2190, 'uncertainti': 4663, 'forgiv': 1882, 'arrang': 466, 'dose': 1470, 'moderna': 2930, 'retain': 3751, '100m': 7, 'skype': 4083, '2010': 62, 'desktop': 1360, 'search': 3924, 'accessori': 235, 'lenovo': 2662, 'storag': 4265, 'enterpris': 1624, 'backup': 547, 'segment': 3942, 'boston': 725, 'ge': 1976, 'salesforc': 3868, 'demolish': 1338, 'homeless': 2225, 'nine': 3079, 'discourag': 1413, 'barcelona': 573, 'item': 2473, 'heist': 2162, 'dan': 1271, 'le': 2642, 'zoom': 4997, 'noodl': 3087, 'threw': 4480, 'attend': 512, 'enrag': 1620, 'swap': 4357, 'cheap': 940, 'discount': 1412, 'ramen': 3613, '50m': 152, 'foodsafeti': 1870, 'scare': 3900, 'maggi': 2757, 'unten': 4702, 'hiv': 2209, 'kit': 2580, 'sex': 3984, 'instant': 2401, 'soft': 4128, 'metal': 2865, 'enorm': 1618, 'lace': 2607, 'opium': 3175, 'recit': 3650, 'sadist': 3858, 'exampl': 1694, 'toilet': 4515, 'bowl': 730, 'depriv': 1351, 'suppress': 4336, 'ball': 558, 'nepal': 3043, 'junk': 2539, 'vital': 4805, 'nutrient': 3116, 'inspector': 2396, 'tea': 4405, 'meal': 2827, 'dish': 1420, 'fri': 1917, 'mumbai': 2991, 'fda': 1793, 'haul': 2130, 'treasur': 4577, 'squalid': 4204, 'artist': 473, 'picasso': 3357, 'matiss': 2812, 'tin': 4501, 'snack': 4110, 'menu': 2852, 'favorit': 1789, 'duck': 1514, 'beef': 604, 'muddi': 2984, 'dirti': 1402, 'backfir': 545, 'outrag': 3211, 'mandat': 2780, 'appar': 431, 'boss': 724, 'comeback': 1065, 'offlin': 3149, 'fed': 1798, 'traffick': 4559, 'wear': 4865, 'distanc': 1431, 'consumpt': 1141, 'rape': 3621, 'expir': 1722, 'ate': 500, 'noth': 3098, 'maldiv': 2773, 'valentin': 4741, '26': 107, 'li': 2673, 'migrant': 2886, 'msg': 2981, 'lab': 2602, 'crunch': 1238, 'railway': 3603, 'crazi': 1210, 'cake': 827, 'juic': 2531, 'rush': 3847, 'fat': 1785, 'bread': 744, 'cooki': 1163, 'foe': 1866, 'umbrella': 4654, 'multipl': 2990, '59': 160, 'laboratori': 2605, 'subscrib': 4304, 'grand': 2042, 'film': 1821, 'yr': 4984, 'biopharma': 659, 'vendor': 4761, '2022': 81, 'nvidia': 3121, 'supercomput': 4329, 'abc': 220, 'alarm': 331, 'intimid': 2432, 'christchurch': 974, 'gunman': 2085, 'fukushima': 1930, 'radiat': 3596, 'headphon': 2143, 'catch': 884, 'melbourn': 2843, 'passeng': 3278, 'offenc': 3143, 'hawk': 2134, 'fit': 1839, 'exercis': 1704, 'climb': 1012, 'cathol': 886, 'archbishop': 451, 'adelaid': 272, 'wilson': 4907, 'dinosaur': 1396, 'beach': 594, 'kangaroo': 2547, 'parad': 3257, '350': 123, 'sick': 4040, 'paulin': 3292, 'islamist': 2462, 'headless': 2141, 'grave': 2045, 'thought': 4475, 'van': 4746, 'assad': 483, 'edit': 1553, 'answer': 406, 'desk': 1359, 'revers': 3763, 'recycl': 3660, 'blow': 691, 'cave': 890, 'afraid': 298, 'rebuk': 3643, 'notori': 3101, 'barrier': 579, 'reef': 3666, 'rage': 3600, 'duti': 1521, 'tibetan': 4492, 'lgbt': 2672, 'leadership': 2645, 'deepen': 1312, 'greg': 2057, 'unabl': 4657, 'venu': 4765, 'sieg': 4043, 'fallout': 1767, 'voter': 4817, 'tower': 4543, 'neil': 3039, 'confid': 1116, 'bob': 701, 'treati': 4580, 'elector': 1571, 'oppon': 3176, 'nodeal': 3083, 'bori': 719, 'inquiri': 2388, 'idea': 2293, 'showdown': 4030, 'ramadi': 3611, '40000': 134, 'parliamentari': 3267, 'extraordinari': 1742, '76': 183, 'split': 4190, 'discredit': 1416, 'interfer': 2423, 'pampg': 3247, 'offend': 3144, 'sampp': 3873, 'aa': 211, 'aaa': 212, 'permutt': 3327, 'brian': 751, 'schmidt': 3905, 'acceler': 231, 'expans': 1712, 'distant': 1432, 'barrel': 577, 'ed': 1551, 'upon': 4712, 'outlook': 3208, 'dow': 1475, 'shake': 3987, 'log': 2719, 'argentina': 458, 'equiti': 1640, 'manchest': 2779, 'lol': 2722, 'salari': 3866, 'cruis': 1237, 'blasphemi': 672, 'satir': 3888, 'magazin': 2756, 'front': 1921, 'enemi': 1609, 'cuban': 1244, 'accident': 237, 'manipul': 2783, 'heard': 2151, 'mh370': 2871, 'sight': 4046, 'bull': 793, 'bbb': 591, 'uschina': 4725, 'combin': 1063, 'provok': 3544, 'wrote': 4948, '14': 23, 'weaken': 4861, 'erdogan': 1644, 'regain': 3675, 'moodi': 2950, 'fitch': 1841, 'stabl': 4214, '95': 205, 'index': 2349, 'weekli': 4874, 'declin': 1307, 'bushfir': 806, 'slump': 4097, 'advisor': 285, 'detroit': 1373, 'hudson': 2259, 'mar': 2788, 'que': 3579, 'sun': 4322, 'jersey': 2498, 'lord': 2734, 'ashcroft': 477, 'mouth': 2973, 'bmx': 695, 'mirra': 2913, 'walker': 4833, 'bare': 575, 'eric': 1645, 'primari': 3484, 'exempt': 1703, 'ttip': 4614, 'athlet': 502, 'duncan': 1517, 'cbc': 891, 'thoma': 4473, 'classic': 1002, 'stereotyp': 4250, 'olympian': 3160, 'virgin': 4795, 'pair': 3240, 'dolphin': 1459, 'barri': 578, 'spirit': 4189, 'chappel': 928, 'failur': 1762, 'biographi': 655, 'genit': 1985, 'manslaught': 2784, 'joke': 2517, 'drunken': 1508, 'swim': 4362, 'chavez': 939, 'unfold': 4682, 'switch': 4365, 'dramat': 1488, 'movi': 2976, 'stage': 4217, 'gunshot': 2087, 'clarkson': 998, 'jazz': 2493, 'brubeck': 779, '91': 199, 'rip': 3793, 'footbal': 1872, 'talli': 4388, 'arizona': 461, 'reward': 3769, 'festiv': 1807, 'techniqu': 4412, 'matthew': 2815, 'compli': 1095, 'ladi': 2609, 'engag': 1612, 'mustain': 3002, 'buck': 787, 'champion': 921, 'amaz': 365, 'tonight': 4523, 'voic': 4810, 'graham': 2041, 'prophet': 3526, 'indiana': 2352, 'ben': 620, 'perspect': 3332, 'hester': 2176, 'aamp': 213, 'decemb': 1301, 'titl': 4508, 'kate': 2552, 'knife': 2585, 'snow': 4115, 'peter': 3336, 'yeah': 4967, 'cho': 967, 'hive': 2210, 'sister': 4070, '101': 8, 'nikki': 3078, 'writer': 4945, 'contest': 1146, 'francisco': 1906, 'jam': 2486, 'drew': 1493, 'del': 1325, 'slide': 4092, 'ptc': 3546, 'startup': 4228, 'fundrais': 1937, 'qampa': 3569, 'tirad': 4505, 'julian': 2533, 'assang': 484, 'night': 3076, 'pedophil': 3303, 'invit': 2444, 'advantag': 281, 'disappear': 1404, 'mode': 2927, 'definit': 1322, 'session': 3975, 'situat': 4073, '23rd': 95, '8pm': 197, 'gmt': 2011, 'she': 4001, 'harm': 2122, 'acid': 249, 'substanc': 4309, 'afghan': 295, 'morrison': 2959, 'kelli': 2557, 'est': 1656, 'regular': 3688, 'slay': 4089, 'zombi': 4994, 'absent': 226, 'languag': 2617, 'utter': 4734, 'kurd': 2598, 'baghdad': 551, 'sunni': 4327, 'facil': 1757, 'stoke': 4260, 'lockdown': 2718, 'episod': 1636, 'spdr': 4172, 'etf': 1663, 'riley': 3788, 'fiscal': 1835, 'submarin': 4302, 'vanish': 4749, 'aliv': 340, 'wildfir': 4904, 'remors': 3706, 'seoul': 3961, 'ballist': 559, 'algorithm': 337, 'attenborough': 511, '4s': 146, 'crocodil': 1229, 'jr': 2528, 'align': 339, 'trumprussia': 4606, 'dossier': 1471, 'liar': 2675, 'garbag': 1962, 'bin': 649, 'filter': 1822, 'bribe': 752, 'knew': 2584, 'co2': 1033, 'infecti': 2364, 'ethiopia': 1665, 'hezbollah': 2177, 'groceri': 2063, 'worsen': 4939, 'moon': 2951, 'predecessor': 3458, 'humanitarian': 2263, 'recipi': 3649, 'grenad': 2058, 'navig': 3024, 'mega': 2842, 'shole': 4017, 'pangolin': 3252, 'seizur': 3945, 'bone': 712, 'crimea': 1221, 'xs': 4963, 'bestsel': 630, 'mile': 2889, 'thula': 4486, 'rhino': 3772, 'savag': 3891, 'vagrant': 4740, '1988': 46, 'veteran': 4775, 'billboard': 646, 'mueller': 2985, 'conceal': 1104, 'crucial': 1234, 'g7': 1947, 'bolsonaro': 707, 'bacon': 548, 'repeal': 3716, 'slaveri': 4088, 'sen': 3952, 'franken': 1907, 'sophist': 4149, 'strateg': 4275, 'maintain': 2764, 'bolivian': 706, 'f52': 1750, 'warfar': 4842, 'cyril': 1262, 'explan': 1724, '192': 43, 'teach': 4406, 'math': 2811, 'jihadi': 2504, '24yearold': 100, 'stuttgart': 4298, 'creation': 1212, 'decapit': 1300, 'task': 4397, 'kaesong': 2546, 'measl': 2830, '98': 209, 'cheong': 951, 'wa': 4824, 'connect': 1127, 'strongli': 4286, 'oust': 3201, 'ransom': 3619, 'businessman': 808, 'strangl': 4273, 'payload': 3295, 'confess': 1115, 'infant': 2362, 'prostitut': 3532, 'insan': 2389, 'bitch': 665, 'destin': 1364, 'yellow': 4970, 'christma': 977, 'laura': 2635, 'poitra': 3412, 'rumor': 3840, 'mercuri': 2856, 'circul': 985, 'fiction': 1811, 'ebola': 1539, '49': 144, 'cage': 825, 'nurseri': 3115, 'johannesburg': 2510, '1078': 9, 'km': 2582, '100d': 6, 'mormon': 2955, 'summon': 4321, 'verif': 4768, 'starbuck': 4226, 'rack': 3595, 'ep': 1634, 'scp': 3915, 'siberian': 4039, 'studio': 4293, 'imposs': 2327, 'advocaci': 288, 'divid': 1443, 'hydroxychloroquin': 2277, 'dengu': 1341, 'regeneron': 3679, 'zika': 4991, 'advisori': 286, 'flu': 1861, 'racism': 3593, 'sanofiaventi': 3883, 'compound': 1098, 'pile': 3364, 'competitor': 1089, 'subsidiari': 4308, 'insulin': 2405, '21b': 92, 'sanofigsk': 3884, 'error': 1648, '60m': 165, 'afp': 297, 'shipment': 4012, 'struck': 4287, '27': 109, 'proven': 3540, 'gsk': 2071, 'particl': 3272, '700': 174, 'conclus': 1108, 'clinic': 1013, 'novel': 3104, 'con': 1103, 'por': 3432, 'vacuna': 4739, 'bless': 677, 'biontech': 658, 'begun': 607, 'setback': 3977, 'downplay': 1479, 'terrifi': 4438, 'perfect': 3319, '93yearold': 203, 'ss': 4208, 'camp': 840, 'complic': 1096, '5000': 149, 'ex': 1691, '96': 206, 'holocaust': 2221, 'count': 1188, 'auschwitz': 522, 'comprehens': 1099, 'mother': 2966, 'ssled': 4210, 'hunter': 2269, 'chest': 953, 'sunken': 4326, 'bottom': 727, 'neonazi': 3041, 'farright': 1779, '94': 204, '86': 194, 'wwii': 4952, '5230': 154, 'spare': 4170, '5232': 155, '170000': 38, '1944': 44, 'survivor': 4351, 'embrac': 1589, 'abduct': 221, 'regard': 3676, '200000': 57, '96yearold': 208, 'collabor': 1051, 'oskar': 3197, 'hing': 2199, 'sank': 3881, 'sri': 4207, 'lanka': 2618, 'saga': 3862, 'diver': 1441, 'chamber': 920, 'experienc': 1719, 'song': 4144, 'antisemit': 415, 'golden': 2021, 'openli': 3169, 'juvenil': 2543, 'exss': 1732, 'brunner': 781, 'damascu': 1270, '2001': 58, 'waffen': 4825, '58': 159, 'tusk': 4630, 'perpetr': 3328, 'throw': 4484, 'ukrainian': 4651, 'mossad': 2964, 'hero': 2175, 'latvia': 2631, 'tape': 4393, 'shipwreck': 4013, 'silver': 4054, 'preciou': 3455, 'helmet': 2167, 'symbol': 4370, 'georgia': 1988, 'salvag': 3870, 'steel': 4245, 'copper': 1169, 'sunk': 4325, 'gi': 1993, 'nick': 3072, 'vet': 4774, 'rome': 3821, 'bia': 638, 'chile': 959, 'devot': 1378, 'bunker': 799, 'wive': 4920, 'marri': 2799, 'invad': 2437, 'brad': 736, 'unstopp': 4701, 'scottish': 3914, 'membership': 2846, 'statesponsor': 4236, 'grandfath': 2043, 'shield': 4008, 'fuck': 1927, 'breath': 748, 'iain': 2282, 'disabl': 1403, 'im': 2311, 'someon': 4140, 'rid': 3779, 'jacqui': 2483, 'liberti': 2677, 'husband': 2273, 'samuel': 3875, 'infuri': 2375, 'viewer': 4788, 'shepard': 4006, 'deliber': 1329, 'artwork': 474, 'dick': 1385, 'seer': 3941, 'id': 2291, 'pop': 3427, 'bet': 631, 'corbyn': 1172, 'chri': 972, 'shale': 3988, 'particularli': 3274, 'tube': 4616, 'freed': 1911, 'collus': 1055, 'chao': 927, 'jeremi': 2497, 'root': 3823, 'mock': 2926, 'deriv': 1354, 'mere': 2857, 'apologis': 429, 'view': 4787, 'mountain': 2972, 'rock': 3810, 'serial': 3969, 'escap': 1652, 'fleet': 1851, 'flood': 1857, 'owen': 3224, 'patti': 3290, 'dylan': 1523, 'ceremoni': 908, 'orphan': 3194, 'overturn': 3220, 'uturn': 4735, 'statist': 4238, 'bubbl': 786, 'park': 3264, 'batteri': 587, 'muhammad': 2986, 'victoria': 4783, 'pr': 3451, 'offens': 3145, 'rebrand': 3641, 'guy': 2089, 'victori': 4782, 'kenneth': 2559, 'basi': 582, 'intrus': 2435, 'tattoo': 4398, 'tucow': 4617, 'bosch': 722, 'tilray': 4497, 'precis': 3456, 'trimbl': 4590, 'deer': 1313, 'ageagl': 304, 'asa': 476, 'clock': 1016, 'finish': 1828, 'decim': 1303, '72': 177, 'regulatori': 3689, 'valuat': 4745, 'brain': 738, 'bmw': 694, 'q1': 3566, 'checkin': 945, 'hedg': 2158, 'drill': 1495, 'explor': 1727, 'nanotech': 3012, 'coat': 1038, 'payrol': 3298, 'toronto': 4531, 'prospect': 3530, '2024': 83, 'vodafon': 4809, 'hungari': 2265, 'gchq': 1975, 'verisign': 4769, 'vanguard': 4748, 'beliz': 616, 'varadkar': 4750, 'incompat': 2340, 'spectacular': 4178, 'coral': 1171, 'tourism': 4538, 'roughli': 3827, '140': 24, 'resourc': 3739, 'macron': 2752, 'sand': 3879, 'frequent': 1915, 'earthquak': 1530, '6m': 171, 'urban': 4716, 'sharpli': 3999, 'path': 3285, 'maximum': 2817, 'unconvent': 4666, 'serious': 3971, 'shame': 3989, 'rebuild': 3642, 'grid': 2061, 'unconstitut': 4664, '85': 193, 'undermin': 4671, 'drama': 1487, 'transmit': 4569, 'variou': 4752, 'baltic': 560, 'lithuania': 2705, 'coalfir': 1035, 'weve': 4885, 'true': 4604, 'dismantl': 1421, 'capac': 856, 'bridg': 755, 'inspect': 2395, 'cocain': 1041, 'assert': 488, 'abil': 222, 'cheapest': 942, 'advis': 284, 'doj': 1456, 'prosper': 3531, 'perri': 3329, 'bloc': 683, 'output': 3210, 'ye': 4966, 'consist': 1134, '15000': 29, '21000': 91, 'advoc': 287, 'plug': 3401, 'messeng': 2863, 'presenc': 3469, 'ultim': 4652, 'heavili': 2155, 'wonder': 4925, 'congression': 1125, 'lack': 2608, 'transpar': 4570, 'em': 1584, 'quietli': 3586, 'pocket': 3407, 'revel': 3761, 'turbin': 4622, 'onshor': 3165, 'windfarm': 4910, 'indoor': 2359, 'outdoor': 3204, 'verg': 4767, 'elimin': 1578, 'eventu': 1682, 'telescop': 4424, 'galaxi': 1953, '17yearold': 39, 'teacher': 4407, 'sword': 4367, 'hostag': 2243, 'phuzemthonjeni': 3353, 'inde': 2346, 'podcast': 3408, 'godx': 2016, 'christ': 973, 'innoc': 2385, 'degre': 1324, 'caleb': 828, 'reed': 3665, 'gamestop': 1958, 'squad': 4203, 'qatar': 3570, 'heal': 2146, 'visitor': 4803, 'sidestep': 4042, 'emoji': 1594, 'io': 2446, 'safari': 3859, 'briefli': 757, 'counterfeit': 1190, 'usag': 4722, 'keyboard': 2565, 'recov': 3657, 'delist': 1330, 'text': 4448, 'crude': 1235, 'spotifi': 4197, 'linkedin': 2700, 'ao': 422, '12hour': 21, 'confidenti': 1117, 'arent': 456, 'clone': 1017, 'server': 3973, 'icloud': 2288, 'bypass': 814, 'tablet': 4379, 'unpaid': 4697, 'telegram': 4420, 'boot': 717, 'vpn': 4820, 'nyt': 3124, 'browser': 778, 'ip': 2448, 'conglomer': 1121, 'sensit': 3957, 'colombia': 1056, 'retali': 3752, 'trash': 4574, '10m': 10, 'charger': 932, 'halloween': 2105, 'tough': 4536, 'although': 360, 'brooklyn': 773, 'homeown': 2227, 'apartheid': 425, 'upwork': 4714, 'workforc': 4934, 'realli': 3637, 'kick': 2570, 'accolad': 239, 'cup': 1247, 'hawaii': 2132, '112': 15, 'circu': 984, 'aci': 248, 'compromis': 1100, 'opensourc': 3170, 'piraci': 3372, 'ransomwar': 3620, '29': 111, 'autocad': 528, 'architectur': 452, '20211': 78, 'ralicap1': 3607, 'revit': 3765, 'exam': 1692, 'trainer': 4562, 'blessedd77': 678, 'ka_kameliatod': 2544, 'shed': 4002, 'afya': 301, 'ya': 4964, 'na': 3008, 't4': 4376, 'hom': 2222, 't50': 4377, 'idf': 2300, 'occasion': 3136, 'ran': 3616, 'kany': 2548, 'drake': 1486, 'pusha': 3560, 'astana': 493, 'almati': 350, 'cnet': 1030, 'fa': 1751, 'conclud': 1107, 'evalu': 1678, 'quota': 3589, 'seat': 3926, 'belt': 619, 'judgment': 2530, 'templ': 4428, 'midday': 2881, 'amd': 371, 'dip': 1397, 'palo': 3246, 'alto': 361, 'delet': 1327, 'jeff': 2495, 'tor': 4529, 'isp': 2466, 'fulli': 1932, 'tout': 4541, 'agora': 309, 'parallel': 3259, 'os': 3195, 'hid': 2180, 'weight': 4876, 'noon': 3088, 'symantec': 4369, 'ca': 820, 'drag': 1485, 'empresa': 1598, '117': 17, 'forese': 1879, 'stmicroelectron': 4258, 'balanc': 557, '28': 110, 'priest': 3483, 'type': 4641, 'tayyip': 4403, 'jennif': 2496, 'suspici': 4354, 'disclosur': 1409, 'atom': 506, 'addit': 270, '2007': 59, 'intervent': 2429, '24000': 98, 'simpl': 4056, 'longterm': 2729, 'molest': 2934, 'survey': 4349, 'spotlight': 4198, 'particular': 3273, 'itv': 2475, 'divis': 1445, 'certain': 909, 'incrimin': 2345, 'youv': 4983, 'dublin': 1513, 'bandwidth': 566, 'socal': 4122, 'roger': 3814, 'inflight': 2367, 'atmospher': 505, 'electromagnet': 1573, 'biogen': 654, 'bag': 550, 'pioneer': 3370, 'novavax': 3103, '20000': 56, 'una': 4656, 'liquid': 2702, 'lag': 2610, 'rethink': 3753, 'bumbl': 798, 'endang': 1606, 'tuna': 4620, 'wanitaxigo': 4838, 'tinder': 4502, 'capitol': 858, 'daughter': 1282, 'ammar': 378, 'johmani': 2511, 'rioter': 3792, 'jab': 2481, 'shapiro': 3993, 'automak': 531, 'vittel': 4806, 'poacher': 3406, 'gorilla': 2034, 'vietnames': 4786, 'dive': 1440, 'bleach': 675, 'shun': 4034, 'shoe': 4016, 'grew': 2060, 'stephen': 4249, 'phd': 3346, 'section': 3933, 'jose': 2522, 'urgent': 4718, 'rt': 3836, 'wikipedian': 4902, '16yearold': 35, 'lion': 2701, 'smuggl': 4108, 'choco': 968, 'pie': 3361, 'pet': 3335, 'spam': 4167, 'dept': 1352, 'circumv': 986, 'stalin': 4219, 'vegetarian': 4759, 'draw': 1489, 'vegan': 4757, 'tofu': 4513, 'dn': 1447, '25yearold': 106, 'discont': 1410, '73': 178, 'lesbian': 2664, 'hurt': 2272, 'shrimp': 4032, 'bloodi': 689, 'turtl': 4629, 'runway': 3844, 'nest': 3044, 'injustic': 2382, 'haley': 2102, 'multilater': 2988, 'thu': 4485, 'mad': 2753, '800000': 189, 'hassan': 2128, 'highend': 2184, 'ramp': 3614, 'banana': 562, 'bosnian': 723, 'spoke': 4191, 'ingredi': 2376, 'breed': 749, 'carpet': 872, 'script': 3919, 'click': 1008, 'seven': 3982, 'blogger': 687, 'lim': 2695, 'howev': 2253, 'resembl': 3730, 'tactic': 4381, 'bit': 664, 'hors': 2239, 'impress': 2328, 'alexa': 336, 'easier': 1533, 'kfc': 2566, 'plantbas': 3386, 'mainstream': 2763, 'healthier': 2149, 'intens': 2415, 'wen': 4881, 'up': 4705, 'quebec': 3580, 'broad': 764, 'pen': 3306, 'hut': 2274, 'ink': 2383, 'peloton': 3304, 'vessel': 4773, 'patrol': 3289, 'captiv': 860, 'uphold': 4710, 'ammo': 379, 'plate': 3388, 'shape': 3992, 'sequenc': 3966, 'cadiz': 823, 'businessmen': 809, 'nhn': 3066, 'ngi': 3063, 'madrid': 2755, 'ceva': 912, 'carlyl': 869, 'specul': 4179, 'volatil': 4812, 'surgeri': 4341, 'cv': 1256, 'prioriti': 3490, 'pharmaci': 3344, 'czech': 1263, 'stabil': 4213, 'moral': 2952, 'etc': 1662, 'dream': 1490, 'nato': 3020, 'shark': 3997, 'compet': 1087, 'ch': 914, 'i502': 2281, 'placement': 3378, 'hyperemesi': 2279, 'snooper': 4114, 'enabl': 1600, 'iea': 2301, 'desert': 1357, 'sail': 3864, '2030': 87, 'divest': 1442, 'recordbreak': 3656, 'nich': 3071, 'diagnost': 1383, 'coher': 1045, 'outlin': 3207, 'compact': 1080, 'audienc': 518, 'ideolog': 2298, 'robust': 3809, 'cowen': 1206, 'fianna': 1809, 'taoiseach': 4391, 'patrick': 3287, 'drunk': 1507, 'hungov': 2267, 'dara': 1276, 'calleari': 832, 'dinner': 1395, 'auction': 517, 'cree': 1216, 'flashlight': 1847, 'ultra': 4653, 'es': 1650, 'hay': 2136, 'como': 1079, 'ha': 2092, 'gan': 1959, 'da': 1264, 'sin': 4059, 'contra': 1149, 'tu': 4615, 'bike': 644, 'automot': 533, 'thrive': 4481, 'croc': 1228, 'there': 4462, 'turf': 4623, 'python': 3565, 'regex': 3680, 'theyv': 4467, 'adapt': 267, 'lineup': 2698, 'bug': 789, 'unifi': 4684, 'voip': 4811, 'pbx': 3299, 'vp': 4819, 'spacecraft': 4164, 'astronom': 497, 'csp': 1242, 'ident': 2296, 'noticia': 3100, 'citrix': 992, 'cuenta': 1245, 'te': 4404, 'banco': 563, 'seguidor': 3943, 'instagram': 2399, 'rendicin': 3709, 'president': 3473, 'cmo': 1027, 'nuevo': 3110, 'affili': 293, 'qu': 3571, 'mercado': 2853, 'si': 4037, 'timelin': 4500, 'usuario': 4731, 'despu': 1363, 'nueva': 3109, 'dropbox': 1502, 'github': 2001, 'unlik': 4694, 'ssl': 4209, 'gb': 1974, 'walk': 4832, 'kendra': 2558, 'compat': 1085, 'tr': 4549, 'goodby': 2027, 'roku': 3816, 'tripadvisor': 4593, 'rememb': 3704, 'cch': 893, 'dng': 1449, 'khng': 2569, 'cc': 892, 'minh': 2903, 'port': 3434, 'expedia': 1714, 'ornat': 3193, 'roman': 3819, 'buri': 801, 'archaeolog': 449, 'flow': 1860, 'suitcas': 4318, 'snake': 4111, 'scrambl': 3916, '43': 138, 'gem': 1979, 'diamond': 1384, '3000': 116, 'either': 1565, 'zhou': 4990, 'dynasti': 1524, 'civilis': 995, 'skull': 4081, 'predat': 3457, 'vike': 4789, 'funer': 1938, 'blob': 682, '3500yearold': 124, 'luxor': 2747, 'tomb': 4520, 'compon': 1097, 'allen': 344, 'chapter': 929, 'neutrino': 3054, 'dispos': 1427, 'monopoli': 2944, 'owl': 3225, 'inscript': 2390, 'pyramid': 3564, 'proclaim': 3504, 'rocki': 3812, 'exoplanet': 1710, 'heavyweight': 2156, 'scari': 3901, 'rex': 3771, 'librari': 2678, 'bark': 576, 'polar': 3415, 'jointli': 2516, 'junip': 2538, 'frozen': 1922, 'antibodi': 412, 'unannounc': 4660, 'theyll': 4465, 'perfectli': 3320, 'arsen': 469, 'distinct': 1433, 'rosetta': 3825, 'comet': 1066, 'rewrit': 3770, 'undertak': 4674, 'trinidad': 4591, 'carniv': 871, 'tapir': 4394, 'stem': 4247, 'quickli': 3585, 'orbit': 3185, 'tsunami': 4611, 'correct': 1181, 'montreal': 2949, 'lightyear': 2691, 'unexpect': 4681, 'alcohol': 333, 'mummi': 2992, 'wooden': 4927, 'hole': 2217, '400yearold': 135, 'portug': 3437, 'pluto': 3404, 'horizon': 2236, 'format': 1886, 'gravit': 2046, 'draftk': 1484, 'fanduel': 1774, 'fantasi': 1775, 'basebal': 581, 'basketbal': 584, 'espn': 1654, 'ufc': 4645, 'accion': 238, 'shopper': 4021, 'stranger': 4272, 'workday': 4932, 'domo': 1463, 'v4': 4736, 'complejo': 1092, 'amdoc': 372, 'lg': 2671, 'jakarta': 2485, 'buyer': 812, 'trader': 4555, 'commerc': 1069, 'marketplac': 2798, '36': 125, 'rebel': 3639, '25m': 105, 'holder': 2216, '50000': 150, 'fugit': 1929, 'soviet': 4161, 'playbook': 3391, 'lone': 2724, 'backlash': 546, 'eon': 1633, 'endors': 1607, 'gw': 2090, 'shrink': 4033, 'nic': 3069, 'robertson': 3807, 'tear': 4409, 'documentari': 1453, 'bn': 696, 'lyft': 2749, 'verizon': 4770, 'tunnel': 4621, 'hightech': 2192, 'buse': 804, 'sensor': 3958, 'etsi': 1668, 'decor': 1308, 'hindu': 2198, 'qualitywpt': 3575, 'wordpress': 4930, 'di': 1380, 'barbi': 572, 'nyc': 3123, 'benchmark': 621, 'vc': 4755, 'extens': 1734, 'guidanc': 2078, 'kern': 2562, 'sodium': 4126, 'analytica': 388, 'broke': 768, 'deputi': 1353, '61': 166, 'romanian': 3820, 'incred': 2344, 'benjamin': 626, 'ceas': 895, 'mislead': 2916, 'mistakenli': 2921, 'headlin': 2142, 'obscen': 3132, 'khan': 2567, 'nake': 3009, 'cycl': 1260, 'pride': 3482, 'sanaa': 3877, 'midnight': 2883, 'helicopt': 2164, 'guinea': 2081, 'steer': 4246, 'ethnic': 1667, '89': 196, 'tiger': 4495, 'submit': 4303, 'malala': 2770, 'yousafzai': 4980, 'nomin': 3085, 'guatemala': 2075, 'solv': 4138, 'pit': 3374, 'hawaiian': 2133, 'cluster': 1026, 'fiveyear': 1843, 'caribbean': 868, 'bibl': 639, '1800': 41, 'freez': 1913, 'cryptocurr': 1240, 'toll': 4519, 'volum': 4814, 'wholesal': 4894, 'sept': 3964, 'iaquinta': 2283, 'fox31': 1899, 'milwauke': 2898, 'wi': 4896, 'wizard': 4922, 'sink': 4067, 'scene': 3902, 'stuff': 4294, '360': 126, 'naval': 3022, 'dalai': 1268, 'lama': 2613, 'iflex': 2302, 'flexcub': 1853, 'promo': 3520, 'tibet': 4491, 'bi': 637, 'fluent': 1862, 'cord': 1173, 'tenni': 4433, 'speaker': 4174, 'legit': 2659, 'coma': 1061, 'blackwat': 669, 'corona': 1177, 'kazakh': 2554, 'funko': 1940, 'toy': 4546, 'conservativel': 1132, 'claw': 1004, 'plea': 3394, 'ownership': 3228, 'franchis': 1904, 'beirut': 612, 'surround': 4347, 'interstellar': 2428, 'gigawatt': 1996, 'solarpow': 4133, '170': 37, 'chernobyl': 952, 'bright': 758, 'museum': 2997, 'uranium': 4715, 'enrich': 1621, 'gaia': 1950, 'milki': 2895, 'technic': 4411, 'medit': 2839, 'mall': 2774, 'au': 516, 'ramat': 3612, 'bnh': 697, 'gii': 1997, 'hiu': 2208, 'trng': 4597, 'mt': 2982, 'nhng': 3067, 'cn': 1028, 'nn': 3080, 'php': 3352, 'sc': 3895, 'khe': 2568, 'tt': 4613, 'nht': 3068, 'thc': 4457, 'nhim': 3065, 'iu': 2476, 'turmoil': 4627, 'ung': 4683, 'chng': 966, 'triu': 4596, 'tsunggan': 4612, 'remdesivir': 3703, 'experiment': 1720, 'hacen': 2094, 'pickup': 3359, 'canoo': 852, 'truck': 4602, 'gogo': 2018, 'faa': 1752, 'southeast': 4156, 'latinbas': 2630, 'sputnik': 4202, 'kazak': 2553, 'brother': 774, 'malaysian': 2772, 'uslist': 4729, 'alongsid': 354, 'eras': 1643, 'gopro': 2032, 'hd': 2138, 'championship': 922, 'tripod': 4595, 'viral': 4794, 'clip': 1015, 'smartwatch': 4102, 'nuvi': 3119, 'forerunn': 1878, 'roadshow': 3802, 'dia': 1381, 'hasbro': 2127, 'paramount': 3260, 'harmon': 2123, 'spa': 4162, 'sort': 4151, 'hawkin': 2135, 'paperwork': 3255, 'weigh': 4875, 'dress': 1492, 'rob': 3804, 'ibex': 2284, 'broker': 770, 'panason': 3249, 'iheartmedia': 2305, 'imara': 2314, 'annex': 400, 'inovio': 2387, 'quickbook': 3584, 'sovereignti': 4160, 'intellectu': 2412, 'ho': 2213, 'iqiyi': 2452, 'kardashian': 2550, 'minneapoli': 2908, 'neteas': 3048, 'joann': 2508, 'patch': 3283, '2nd': 112, 'uncontrol': 4665, 'leisur': 2660, 'htel': 2256, 'den': 1340, 'haut': 2131, 'processor': 3503, 'injunct': 2379, 'coin': 1046, 'downtown': 1480, 'doll': 1457, 'hijab': 2193, 'millionair': 2897, 'surrend': 4346, 'guru': 2088, 'mongodb': 2941, 'mindread': 2900, 'makemytrip': 2768, 'singer': 4064, 'mogo': 2932, 'momo': 2937, 'pastor': 3282, 'congreg': 1123, 'morningstar': 2957, 'jo': 2507, 'efficaci': 1558, 'sponsor': 4193, 'atp': 507, 'hickman': 2179, 'alberta': 332, 'testimoni': 4446, 'fold': 1867, 'qaeda': 3568, 'reson': 3737, 'router': 3832, 'netgear': 3050, 'setup': 3981, 'booster': 716, 'tmobil': 4509, 'oblong': 3131, 'okta': 3154, 'vroom': 4821, 'deficit': 1321, 'austria': 525, 'underway': 4676, 'overstockcom': 3218, 'gujarat': 2082, 'indra': 2360, 'nooyi': 3089, 'obes': 3128, 'coke': 1047, '53': 156, 'wynn': 4953, 'turk': 4624, 'colin': 1050, 'protector': 3534, 'plexu': 3398, 'virginia': 4796, 'bulldoz': 794, 'autopilot': 534, 'thermostat': 4464, 'empir': 1595, 'congo': 1122, 'cdc': 894, 'quotient': 3590, 'epidem': 1635, 'mint': 2911, 'rite': 3797, '111yearold': 14, 'stitch': 4257, 'sigma': 4047, 'skywest': 4084, 'sono': 4146, 'interfac': 2422, 'shotspott': 4026, 'sinovac': 4068, 'implant': 2322, 'convers': 1158, 'apollo': 427, 'marc': 2789, 'hostess': 2244, 'baker': 556, 'twinki': 4635, '2u': 113, 'slum': 4096, 'outfitt': 3205, 'owe': 3223, 'goldu': 2023, 'fxxauusd': 1945, 'tradingview': 4556, 'ecuadorean': 1549, 'vertex': 4772, 'viacomcb': 4778, 'viasat': 4779, 'helpusel': 2169, '787': 186, 'dreamlin': 1491, 'sixhour': 4075, 'wixcom': 4921, 'woodward': 4928, 'utd': 4732, 'xp': 4960, 'rworldpolitics2': 3851, 'vista': 4804, '111': 13, 'youguang': 4977, 'pinyin': 3369, 'n95': 3007, 'sharapova': 3994, '777': 185, 'caterpillar': 885, 'extort': 1738, 'gallon': 1954, 'can': 843, 'sponsorship': 4194, 'walt': 4837, 'bhopal': 636, 'quantum': 3576, 'doc': 1450, 'procter': 3505, 'sneaker': 4113, 'acronym': 254, 'benioff': 625, 'crm': 1226, 'visafre': 4800}\n"
     ]
    }
   ],
   "source": [
    "print(data_vectorizer.vocabulary_)"
   ],
   "metadata": {
    "collapsed": false,
    "pycharm": {
     "name": "#%%\n"
    }
   }
  },
  {
   "cell_type": "code",
   "execution_count": 16,
   "outputs": [
    {
     "name": "stdout",
     "output_type": "stream",
     "text": [
      "  (0, 4738)\t0.25926204086868837\n",
      "  (0, 4025)\t0.33923724864975724\n",
      "  (0, 3894)\t0.19651693995009809\n",
      "  (0, 3882)\t0.29428729043889934\n",
      "  (0, 3506)\t0.3039140292127123\n",
      "  (0, 2633)\t0.26926609543941643\n",
      "  (0, 2168)\t0.2664172886466029\n",
      "  (0, 1326)\t0.3741324211252504\n",
      "  (0, 1203)\t0.2884140660681217\n",
      "  (0, 1185)\t0.2558511004962307\n",
      "  (0, 1089)\t0.40989474213327415\n",
      "  (1, 4943)\t0.26750121142090055\n",
      "  (1, 4940)\t0.21947731430520503\n",
      "  (1, 4386)\t0.2507711991188963\n",
      "  (1, 4065)\t0.23537814494651998\n",
      "  (1, 3721)\t0.21947731430520503\n",
      "  (1, 3542)\t0.24094249576105112\n",
      "  (1, 3314)\t0.15433809542924715\n",
      "  (1, 2947)\t0.18478125900488993\n",
      "  (1, 2649)\t0.2030002061648897\n",
      "  (1, 2573)\t0.16753137981621513\n",
      "  (1, 2086)\t0.29020242357305326\n",
      "  (1, 1536)\t0.22421248345904685\n",
      "  (1, 1138)\t0.24217852645735768\n",
      "  (1, 1081)\t0.13475407089250022\n",
      "  :\t:\n",
      "  (10892, 3645)\t0.32452188717094466\n",
      "  (10892, 3624)\t0.15011262620139404\n",
      "  (10892, 3449)\t0.3625317943626292\n",
      "  (10892, 3381)\t0.18900871022435203\n",
      "  (10892, 3164)\t0.11734708000689091\n",
      "  (10892, 3141)\t0.18355309674136197\n",
      "  (10892, 2639)\t0.12940987534539608\n",
      "  (10892, 2513)\t0.2535734375632342\n",
      "  (10892, 2488)\t0.1861099683137184\n",
      "  (10892, 2036)\t0.09713837186839648\n",
      "  (10892, 1894)\t0.11130285767117841\n",
      "  (10892, 1815)\t0.12626360147314794\n",
      "  (10892, 1064)\t0.12787236088598591\n",
      "  (10892, 996)\t0.11426346430827646\n",
      "  (10892, 889)\t0.13063897629120583\n",
      "  (10892, 848)\t0.2869666085903686\n",
      "  (10892, 728)\t0.16515968549610593\n",
      "  (10892, 726)\t0.3106956975559429\n",
      "  (10892, 542)\t0.30234355718378164\n",
      "  (10892, 405)\t0.14273466742448165\n",
      "  (10892, 383)\t0.09709338052001312\n",
      "  (10892, 382)\t0.15741687245306854\n",
      "  (10892, 72)\t0.13965273187120486\n",
      "  (10892, 40)\t0.14386753234021632\n",
      "  (10892, 3)\t0.15011262620139404\n"
     ]
    }
   ],
   "source": [
    "print(TrainX_TFIDF)"
   ],
   "metadata": {
    "collapsed": false,
    "pycharm": {
     "name": "#%%\n"
    }
   }
  },
  {
   "cell_type": "code",
   "execution_count": 23,
   "outputs": [
    {
     "name": "stdout",
     "output_type": "stream",
     "text": [
      "0.6650246305418719\n"
     ]
    }
   ],
   "source": [
    "#Fit the training dataset on the classifier, using linear kernel\n",
    "svm_clf = svm.SVC(kernel='linear', degree=3)\n",
    "svm_clf.fit(TrainX_TFIDF, Train_Y)\n",
    "\n",
    "svm_predict = svm_clf.predict(TestX_TFIDF)\n",
    "\n",
    "#Print the accuracy score\n",
    "svm_acc = accuracy_score(svm_predict, Test_Y)\n",
    "print(svm_acc)"
   ],
   "metadata": {
    "collapsed": false,
    "pycharm": {
     "name": "#%%\n"
    }
   }
  },
  {
   "cell_type": "code",
   "execution_count": 24,
   "outputs": [
    {
     "name": "stdout",
     "output_type": "stream",
     "text": [
      "0.719640179910045\n"
     ]
    }
   ],
   "source": [
    "#Use Radial Basis Function kernel\n",
    "rbf_clf = svm.SVC(kernel='rbf', gamma=2)\n",
    "rbf_clf.fit(TrainX_TFIDF, Train_Y)\n",
    "\n",
    "rbf_predict = rbf_clf.predict(TestX_TFIDF)\n",
    "\n",
    "#Print accuracy\n",
    "rbf_acc = accuracy_score(rbf_predict, Test_Y)\n",
    "print(rbf_acc)"
   ],
   "metadata": {
    "collapsed": false,
    "pycharm": {
     "name": "#%%\n"
    }
   }
  },
  {
   "cell_type": "code",
   "execution_count": 28,
   "outputs": [
    {
     "name": "stdout",
     "output_type": "stream",
     "text": [
      "[0]\n"
     ]
    }
   ],
   "source": [
    "test_sentence = [\"research unveil artifici leg capabl simul feel real limb abc news australian broadcast corpor\"]\n",
    "test_lab = 0\n",
    "test_vec = data_vectorizer.transform(test_sentence)\n",
    "#print(test_vec)\n",
    "\n",
    "test_predict = rbf_clf.predict(test_vec)\n",
    "print(test_predict)"
   ],
   "metadata": {
    "collapsed": false,
    "pycharm": {
     "name": "#%%\n"
    }
   }
  },
  {
   "cell_type": "markdown",
   "source": [
    "#### SVM Results\n",
    "After tuning the hyperparameters, the RBF kernel function gives a better prediction result of 71.96% accuracy."
   ],
   "metadata": {
    "collapsed": false
   }
  },
  {
   "cell_type": "code",
   "execution_count": null,
   "outputs": [],
   "source": [],
   "metadata": {
    "collapsed": false,
    "pycharm": {
     "name": "#%%\n"
    }
   }
  }
 ],
 "metadata": {
  "kernelspec": {
   "display_name": "Python 3",
   "language": "python",
   "name": "python3"
  },
  "language_info": {
   "codemirror_mode": {
    "name": "ipython",
    "version": 2
   },
   "file_extension": ".py",
   "mimetype": "text/x-python",
   "name": "python",
   "nbconvert_exporter": "python",
   "pygments_lexer": "ipython2",
   "version": "2.7.6"
  }
 },
 "nbformat": 4,
 "nbformat_minor": 0
}